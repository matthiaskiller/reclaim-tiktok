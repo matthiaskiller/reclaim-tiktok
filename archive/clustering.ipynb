{
 "cells": [
  {
   "cell_type": "markdown",
   "metadata": {},
   "source": [
    "\n",
    "Imports"
   ]
  },
  {
   "cell_type": "code",
   "execution_count": 41,
   "metadata": {},
   "outputs": [],
   "source": [
    "import os\n",
    "\n",
    "import hdbscan\n",
    "import pandas as pd\n",
    "import numpy as np\n",
    "from sklearn.cluster import KMeans\n",
    "from sklearn.manifold import TSNE\n",
    "import matplotlib.pyplot as plt\n",
    "\n",
    "from langchain_core.messages import SystemMessage\n",
    "from langchain_core.prompts import (\n",
    "    HumanMessagePromptTemplate,\n",
    "    SystemMessagePromptTemplate,\n",
    "    ChatPromptTemplate\n",
    ")\n",
    "\n",
    "# Import Azure OpenAI\n",
    "from langchain_openai import AzureOpenAIEmbeddings\n",
    "from langchain_openai import AzureChatOpenAI\n",
    "\n",
    "from newsapi import NewsApiClient\n",
    "\n",
    "from dotenv import load_dotenv"
   ]
  },
  {
   "cell_type": "markdown",
   "metadata": {},
   "source": [
    "Load environment variables"
   ]
  },
  {
   "cell_type": "code",
   "execution_count": 25,
   "metadata": {},
   "outputs": [
    {
     "name": "stdout",
     "output_type": "stream",
     "text": [
      "True\n"
     ]
    }
   ],
   "source": [
    "# Construct an absolute path to where your .env file is located\n",
    "dotenv_path = os.path.join(os.getcwd(), '.env')\n",
    "result = load_dotenv(dotenv_path)\n",
    "print(result)  # This should print True if the file is loaded successfully"
   ]
  },
  {
   "cell_type": "markdown",
   "metadata": {},
   "source": [
    "Prepare deployed Azure OpenAI models\n",
    "\n",
    "[Deployed models in Azure Portal](https://oai.azure.com/portal/fdd568fbdff34acfbd92a47db2fa9f36/deployment?tenantid=e23925be-c276-4284-897f-ca99bfbeed44)\n"
   ]
  },
  {
   "cell_type": "code",
   "execution_count": 26,
   "metadata": {},
   "outputs": [],
   "source": [
    "\n",
    "embeddings_client = AzureOpenAIEmbeddings(\n",
    "    azure_deployment=\"text-embedding-3-small-eastus\",\n",
    "    openai_api_version=\"2024-02-01\",\n",
    ")\n",
    "\n",
    "llm_client = AzureChatOpenAI(\n",
    "    openai_api_version=\"2024-02-01\",\n",
    "    azure_deployment=\"gpt-35-turbo-16k\",\n",
    ")"
   ]
  },
  {
   "cell_type": "markdown",
   "metadata": {},
   "source": [
    "# News"
   ]
  },
  {
   "cell_type": "markdown",
   "metadata": {},
   "source": [
    "## Get news article from NewsApiClient"
   ]
  },
  {
   "cell_type": "code",
   "execution_count": 27,
   "metadata": {},
   "outputs": [],
   "source": [
    "newsapi = NewsApiClient(api_key=os.getenv(\"NEWSAPI_API_KEY\"))\n",
    "\n",
    "sources_1 = [\n",
    "    \"the-washington-post\",\n",
    "]\n",
    "sources_2 = [\n",
    "    \"the-wall-street-journal\",\n",
    "]\n",
    "sources_3 = [\n",
    "    \"business-insider\",\n",
    "]\n",
    "sources_4 = [\n",
    "    \"associated-press\",\n",
    "]\n",
    "sources_5 = [\n",
    "    \"bloomberg\",\n",
    "]\n",
    "\n",
    "recent_articles = []\n",
    "\n",
    "for source in [sources_1, sources_2,sources_3, sources_4,sources_5]:\n",
    "    recent_articles.extend(newsapi.get_everything(\n",
    "        sources=\",\".join(source),\n",
    "        language=\"en\",\n",
    "        page_size=100,\n",
    "    )[\"articles\"])"
   ]
  },
  {
   "cell_type": "code",
   "execution_count": 28,
   "metadata": {},
   "outputs": [
    {
     "name": "stdout",
     "output_type": "stream",
     "text": [
      "321\n"
     ]
    }
   ],
   "source": [
    "print(len(recent_articles))"
   ]
  },
  {
   "cell_type": "markdown",
   "metadata": {},
   "source": [
    "Remove none\n"
   ]
  },
  {
   "cell_type": "code",
   "execution_count": 29,
   "metadata": {},
   "outputs": [],
   "source": [
    "recent_articles = [a for a in recent_articles if a[\"title\"] is not None and a[\"description\"] is not None]"
   ]
  },
  {
   "cell_type": "code",
   "execution_count": 30,
   "metadata": {},
   "outputs": [
    {
     "name": "stdout",
     "output_type": "stream",
     "text": [
      "320\n"
     ]
    }
   ],
   "source": [
    "docs = [\n",
    "    a[\"title\"] + \"\\n\\n\" + a[\"description\"]\n",
    "    for a in recent_articles\n",
    "]\n",
    "\n",
    "print(len(docs))"
   ]
  },
  {
   "cell_type": "code",
   "execution_count": 31,
   "metadata": {},
   "outputs": [],
   "source": [
    "embeddings = embeddings_client.embed_documents(docs)"
   ]
  },
  {
   "cell_type": "code",
   "execution_count": 32,
   "metadata": {},
   "outputs": [
    {
     "name": "stdout",
     "output_type": "stream",
     "text": [
      "320\n",
      "1536\n"
     ]
    }
   ],
   "source": [
    "print(len(embeddings))\n",
    "print(len(embeddings[0]))"
   ]
  },
  {
   "cell_type": "markdown",
   "metadata": {},
   "source": [
    "## Clustering News Articles"
   ]
  },
  {
   "cell_type": "code",
   "execution_count": 53,
   "metadata": {},
   "outputs": [],
   "source": [
    "\n",
    "df = pd.DataFrame({\n",
    "    \"title\": [article[\"title\"] for article in recent_articles],\n",
    "    \"description\": [article[\"description\"] for article in recent_articles],\n",
    "})\n"
   ]
  },
  {
   "cell_type": "markdown",
   "metadata": {},
   "source": [
    "### Cluster with k-means"
   ]
  },
  {
   "cell_type": "code",
   "execution_count": 54,
   "metadata": {},
   "outputs": [
    {
     "data": {
      "text/plain": [
       "(320, 1536)"
      ]
     },
     "execution_count": 54,
     "metadata": {},
     "output_type": "execute_result"
    }
   ],
   "source": [
    "matrix = np.vstack(embeddings)\n",
    "matrix.shape"
   ]
  },
  {
   "cell_type": "code",
   "execution_count": 44,
   "metadata": {},
   "outputs": [],
   "source": [
    "n_clusters = 12"
   ]
  },
  {
   "cell_type": "code",
   "execution_count": 45,
   "metadata": {},
   "outputs": [],
   "source": [
    "\n",
    "kmeans = KMeans(n_clusters=n_clusters, init=\"k-means++\", random_state=42)\n",
    "kmeans.fit(matrix)\n",
    "labels = kmeans.labels_\n",
    "\n",
    "#df.groupby(\"cluster\").mean().sort_values()"
   ]
  },
  {
   "cell_type": "markdown",
   "metadata": {},
   "source": [
    "### Cluster with hbdscan"
   ]
  },
  {
   "cell_type": "code",
   "execution_count": 55,
   "metadata": {},
   "outputs": [],
   "source": [
    "hdb = hdbscan.HDBSCAN(min_samples=3, min_cluster_size=3).fit(embeddings)\n",
    "labels = hdb.labels_"
   ]
  },
  {
   "cell_type": "markdown",
   "metadata": {},
   "source": [
    "Add Cluster labels to dataframe"
   ]
  },
  {
   "cell_type": "code",
   "execution_count": 56,
   "metadata": {},
   "outputs": [],
   "source": [
    "df[\"cluster\"] = labels"
   ]
  },
  {
   "cell_type": "code",
   "execution_count": 57,
   "metadata": {},
   "outputs": [
    {
     "name": "stdout",
     "output_type": "stream",
     "text": [
      "Number of articles within cluster:  115\n",
      "Number of articles without assigned cluster:  205\n"
     ]
    }
   ],
   "source": [
    "print(\"Number of articles within cluster: \", df.query(\"cluster != -1\").shape[0])\n",
    "print(\"Number of articles without assigned cluster: \", df.query(\"cluster == -1\").shape[0])"
   ]
  },
  {
   "cell_type": "markdown",
   "metadata": {},
   "source": [
    "Remove documents that are not in a cluster"
   ]
  },
  {
   "cell_type": "code",
   "execution_count": 50,
   "metadata": {},
   "outputs": [],
   "source": [
    "#df = df.query(\"cluster != -1\")"
   ]
  },
  {
   "cell_type": "markdown",
   "metadata": {},
   "source": [
    "Print numbers of cluster entities"
   ]
  },
  {
   "cell_type": "code",
   "execution_count": 58,
   "metadata": {},
   "outputs": [
    {
     "name": "stdout",
     "output_type": "stream",
     "text": [
      "cluster\n",
      "-1     205\n",
      " 13     22\n",
      " 9      12\n",
      " 5      11\n",
      " 14      9\n",
      " 2       8\n",
      " 12      7\n",
      " 11      6\n",
      " 7       6\n",
      " 1       6\n",
      " 10      5\n",
      " 15      4\n",
      " 3       4\n",
      " 4       4\n",
      " 8       4\n",
      " 0       4\n",
      " 6       3\n",
      "Name: count, dtype: int64\n"
     ]
    }
   ],
   "source": [
    "print(df.cluster.value_counts())"
   ]
  },
  {
   "cell_type": "markdown",
   "metadata": {},
   "source": [
    "### t-SNE"
   ]
  },
  {
   "cell_type": "code",
   "execution_count": 63,
   "metadata": {},
   "outputs": [
    {
     "data": {
      "text/plain": [
       "Text(0.5, 1.0, 'Clusters identified visualized in language 2d using t-SNE')"
      ]
     },
     "execution_count": 63,
     "metadata": {},
     "output_type": "execute_result"
    },
    {
     "data": {
      "image/png": "[encoded data removed]",
      "text/plain": [
       "<Figure size 640x480 with 1 Axes>"
      ]
     },
     "metadata": {},
     "output_type": "display_data"
    }
   ],
   "source": [
    "tsne = TSNE(n_components=2, perplexity=15, random_state=42, init=\"random\", learning_rate=200)\n",
    "vis_dims2 = tsne.fit_transform(matrix)\n",
    "\n",
    "x = [x for x, y in vis_dims2]\n",
    "y = [y for x, y in vis_dims2]\n",
    "\n",
    "for category, color in enumerate([\"purple\", \"green\", \"red\", \"blue\"]):\n",
    "    xs = np.array(x)[df.cluster == category]\n",
    "    ys = np.array(y)[df.cluster == category]\n",
    "    plt.scatter(xs, ys, color=color, alpha=0.3)\n",
    "\n",
    "    avg_x = xs.mean()\n",
    "    avg_y = ys.mean()\n",
    "\n",
    "    plt.scatter(avg_x, avg_y, marker=\"x\", color=color, s=100)\n",
    "plt.title(\"Clusters identified visualized in language 2d using t-SNE\")\n"
   ]
  },
  {
   "cell_type": "markdown",
   "metadata": {},
   "source": [
    "## Cluster naming with GPT"
   ]
  },
  {
   "cell_type": "markdown",
   "metadata": {},
   "source": [
    "Prepare prompt"
   ]
  },
  {
   "cell_type": "code",
   "execution_count": null,
   "metadata": {},
   "outputs": [],
   "source": [
    "def get_prompt(articles_str):\n",
    "    system_message = \"You're an expert journalist. You're helping me write a compelling topic title for news articles.\"\n",
    "    human_message = f\"Using the following articles, write a topic title (2-3 sentences) that summarizes them:\\n\\n{articles_str}\"\n",
    "\n",
    "    prompt = ChatPromptTemplate(\n",
    "        messages=[\n",
    "            SystemMessagePromptTemplate(content=system_message),\n",
    "            HumanMessagePromptTemplate(content=human_message)\n",
    "        ]\n",
    "    )\n",
    "    return prompt"
   ]
  },
  {
   "cell_type": "code",
   "execution_count": null,
   "metadata": {},
   "outputs": [],
   "source": [
    "chat_template = ChatPromptTemplate.from_messages(\n",
    "    [\n",
    "        SystemMessage(\n",
    "            content=(\n",
    "                \"You're an expert journalist. You're helping me write a compelling topic title for news articles.\"\n",
    "            )\n",
    "        ),\n",
    "        HumanMessagePromptTemplate.from_template(\"Using the following articles, write a topic title (2-3 sentences) that summarizes them.\\n\\nARTICLES:{articles}\\n\\nTOPIC TITLE:\"),\n",
    "        \n",
    "    ]\n",
    ")"
   ]
  },
  {
   "cell_type": "code",
   "execution_count": null,
   "metadata": {},
   "outputs": [],
   "source": [
    "df = df.query(\"cluster != 4\")"
   ]
  },
  {
   "cell_type": "code",
   "execution_count": null,
   "metadata": {},
   "outputs": [
    {
     "name": "stdout",
     "output_type": "stream",
     "text": [
      "15\n",
      "2\n",
      "3\n",
      "6\n",
      "12\n",
      "1\n",
      "14\n",
      "11\n",
      "9\n",
      "8\n",
      "7\n",
      "0\n",
      "10\n",
      "5\n"
     ]
    }
   ],
   "source": [
    "for c in df.cluster.unique():\n",
    "    #print(c)\n",
    "    # Generate articles string\n",
    "    articles_str = \"\\n\".join(\n",
    "        f\"{article['title']}\\n{article['description']}\\n\"\n",
    "        for article in df.query(f\"cluster == {c}\").to_dict(orient=\"records\")\n",
    "    )\n",
    "    \n",
    "    # Create prompt\n",
    "    #prompt = get_prompt(articles_str)\n",
    "    prompt = chat_template.format_messages(articles=articles_str)\n",
    "    # Invoke the model and pass the generated prompt\n",
    "    result = llm_client.invoke(prompt)\n",
    "    #print(result)\n",
    "\n",
    "    # Assuming result extraction based on your specific response structure\n",
    "    df.loc[df.cluster == c, \"topic_title\"] = result.content"
   ]
  },
  {
   "cell_type": "code",
   "execution_count": null,
   "metadata": {},
   "outputs": [
    {
     "name": "stdout",
     "output_type": "stream",
     "text": [
      "Cluster 15\n",
      "\"Protests on College Campuses: Clashes, Investigations, and Biden's Response\"\n",
      "Cluster 2\n",
      "Navigating Friendship Turmoil, Provocative Dressing, and Postnuptial Considerations: Insights from Carolyn Hax's Advice Column\n",
      "Cluster 3\n",
      "\"Washington Nationals' Offensive Surge, Defensive Resurgence, and Pitching Heroics Propel Team to .500 Record\"\n",
      "Cluster 6\n",
      "\"Tesla's Retreat Raises Concerns for Future of US EV Charging Network, While Chinese Materials Disqualify EVs from Tax Credit\"\n",
      "Cluster 12\n",
      "\"SEC Charges Trump Media's Auditor with Massive Fraud, Bans Accounting Firm\"\n",
      "Cluster 1\n",
      "\"Family-Friendly Dining and Entertainment: Best Restaurants and Shows for Kids in the D.C. Area\"\n",
      "Cluster 14\n",
      "\"The Intriguing Dynamics of the 2024 Electorate: Beyond Biden and Trump\"\n",
      "Cluster 11\n",
      "Mixed Signals: April Jobs Report and Federal Reserve Debates on Rate Cuts\n",
      "Cluster 9\n",
      "\"Latest Developments in Abortion Laws: Texas Man's Legal Action and Arizona's Repeal of a 19th Century Ban\"\n",
      "Cluster 8\n",
      "\"Apple's Struggles and the Future of AI: From Self-Driving Cars to Stock Buybacks, Tim Cook's Leadership Under Scrutiny\"\n",
      "Cluster 7\n",
      "\"Potential Rescheduling of Marijuana Sparks Hope for Legalization and Political Contrasts in the U.S.\"\n",
      "Cluster 0\n",
      "\"New Test Results Confirm Safety of Milk Supply, Veterinarian Plays Key Role in Cracking Bird Flu Mystery in Cows, USDA Launches Ground Beef Testing\"\n",
      "Cluster 10\n",
      "\"India's Economic Rise Under Modi Faces Challenges, IMF Boosts Asia Growth with Caution Amidst US-China Tensions and Middle East Concerns Spark Selloff in Emerging Markets\"\n",
      "Cluster 5\n",
      "Gaza in \"Full-Blown Famine\" as Israel Threatens Invasion: International Concerns Mount\n"
     ]
    }
   ],
   "source": [
    "for c in df.cluster.unique():\n",
    "        \n",
    "    with pd.option_context(\"display.max_colwidth\", None):\n",
    "        #print cluster id\n",
    "        print(f\"Cluster {c}\")\n",
    "        print(df.query(f\"cluster == {c}\").topic_title.values[0])\n",
    "       # display(df.query(f\"cluster == {c}\").drop(columns=[\"topic_title\"]).head())\n",
    "# %%\n"
   ]
  },
  {
   "cell_type": "code",
   "execution_count": null,
   "metadata": {},
   "outputs": [],
   "source": []
  },
  {
   "cell_type": "markdown",
   "metadata": {},
   "source": [
    "# TikTok data"
   ]
  },
  {
   "cell_type": "markdown",
   "metadata": {},
   "source": [
    "## Get test data from csv"
   ]
  },
  {
   "cell_type": "code",
   "execution_count": 94,
   "metadata": {},
   "outputs": [
    {
     "data": {
      "text/html": [
       "<div>\n",
       "<style scoped>\n",
       "    .dataframe tbody tr th:only-of-type {\n",
       "        vertical-align: middle;\n",
       "    }\n",
       "\n",
       "    .dataframe tbody tr th {\n",
       "        vertical-align: top;\n",
       "    }\n",
       "\n",
       "    .dataframe thead th {\n",
       "        text-align: right;\n",
       "    }\n",
       "</style>\n",
       "<table border=\"1\" class=\"dataframe\">\n",
       "  <thead>\n",
       "    <tr style=\"text-align: right;\">\n",
       "      <th></th>\n",
       "      <th>Unnamed: 0</th>\n",
       "      <th>video_id</th>\n",
       "      <th>video_timestamp</th>\n",
       "      <th>video_duration</th>\n",
       "      <th>video_locationcreated</th>\n",
       "      <th>video_diggcount</th>\n",
       "      <th>video_sharecount</th>\n",
       "      <th>video_commentcount</th>\n",
       "      <th>video_playcount</th>\n",
       "      <th>video_description</th>\n",
       "      <th>...</th>\n",
       "      <th>author_followercount</th>\n",
       "      <th>author_followingcount</th>\n",
       "      <th>author_heartcount</th>\n",
       "      <th>author_videocount</th>\n",
       "      <th>author_diggcount</th>\n",
       "      <th>author_verified</th>\n",
       "      <th>suggested_words</th>\n",
       "      <th>url</th>\n",
       "      <th>english_transcript</th>\n",
       "      <th>german_transcript</th>\n",
       "    </tr>\n",
       "  </thead>\n",
       "  <tbody>\n",
       "    <tr>\n",
       "      <th>0</th>\n",
       "      <td>0</td>\n",
       "      <td>7355457627083640096</td>\n",
       "      <td>2024-04-08T13:32:26</td>\n",
       "      <td>43</td>\n",
       "      <td>DE</td>\n",
       "      <td>8456</td>\n",
       "      <td>327</td>\n",
       "      <td>369</td>\n",
       "      <td>64700</td>\n",
       "      <td>Ganzes Interview auf X (@AfD). #fyp</td>\n",
       "      <td>...</td>\n",
       "      <td>NaN</td>\n",
       "      <td>NaN</td>\n",
       "      <td>NaN</td>\n",
       "      <td>NaN</td>\n",
       "      <td>NaN</td>\n",
       "      <td>False</td>\n",
       "      <td>adf / afd frauen / afd abschiebungs kalender</td>\n",
       "      <td>https://www.tiktok.com/@annamarinada/video/735...</td>\n",
       "      <td>that is,  with this membership in the AfD. For...</td>\n",
       "      <td>also mit dieser Mitgliedschaft bei der AfD. Si...</td>\n",
       "    </tr>\n",
       "    <tr>\n",
       "      <th>1</th>\n",
       "      <td>1</td>\n",
       "      <td>7358884167351930145</td>\n",
       "      <td>2024-04-17T19:09:04</td>\n",
       "      <td>7</td>\n",
       "      <td>DE</td>\n",
       "      <td>5187</td>\n",
       "      <td>666</td>\n",
       "      <td>173</td>\n",
       "      <td>79500</td>\n",
       "      <td>AFD 💙🇩🇪#afd #deutschland #stolzerdeutsche #fyp...</td>\n",
       "      <td>...</td>\n",
       "      <td>NaN</td>\n",
       "      <td>NaN</td>\n",
       "      <td>NaN</td>\n",
       "      <td>NaN</td>\n",
       "      <td>NaN</td>\n",
       "      <td>False</td>\n",
       "      <td>deutsche / deutschland / deutsch deutschland d...</td>\n",
       "      <td>https://www.tiktok.com/@arman.sndzk2/video/735...</td>\n",
       "      <td>NaN</td>\n",
       "      <td>NaN</td>\n",
       "    </tr>\n",
       "    <tr>\n",
       "      <th>2</th>\n",
       "      <td>2</td>\n",
       "      <td>7360715244991270176</td>\n",
       "      <td>2024-04-22T17:34:36</td>\n",
       "      <td>13</td>\n",
       "      <td>DE</td>\n",
       "      <td>2660</td>\n",
       "      <td>106</td>\n",
       "      <td>66</td>\n",
       "      <td>12700</td>\n",
       "      <td>#afd #afdverbot #politik #orangensaft #links</td>\n",
       "      <td>...</td>\n",
       "      <td>NaN</td>\n",
       "      <td>NaN</td>\n",
       "      <td>NaN</td>\n",
       "      <td>NaN</td>\n",
       "      <td>NaN</td>\n",
       "      <td>False</td>\n",
       "      <td>NaN</td>\n",
       "      <td>https://www.tiktok.com/@skatch_flp/video/73607...</td>\n",
       "      <td>what is your opinion about blood orange juice?...</td>\n",
       "      <td>wie ist deine Meinung zu Blutorangensaft? ahne...</td>\n",
       "    </tr>\n",
       "    <tr>\n",
       "      <th>3</th>\n",
       "      <td>3</td>\n",
       "      <td>7359691434322070817</td>\n",
       "      <td>2024-04-19T23:21:42</td>\n",
       "      <td>61</td>\n",
       "      <td>DE</td>\n",
       "      <td>1915</td>\n",
       "      <td>92</td>\n",
       "      <td>580</td>\n",
       "      <td>28300</td>\n",
       "      <td>Sollte Björn Höcke (AfD) verurteilt werden?  #...</td>\n",
       "      <td>...</td>\n",
       "      <td>NaN</td>\n",
       "      <td>NaN</td>\n",
       "      <td>NaN</td>\n",
       "      <td>NaN</td>\n",
       "      <td>NaN</td>\n",
       "      <td>False</td>\n",
       "      <td>björn / höcke / afd zum urteil</td>\n",
       "      <td>https://www.tiktok.com/@yunuscelep_/video/7359...</td>\n",
       "      <td>did you know that it is forbidden to say every...</td>\n",
       "      <td>wusstest du dass es verboten ist zu sagen alle...</td>\n",
       "    </tr>\n",
       "    <tr>\n",
       "      <th>4</th>\n",
       "      <td>4</td>\n",
       "      <td>7357689397547945249</td>\n",
       "      <td>2024-04-14T13:52:46</td>\n",
       "      <td>66</td>\n",
       "      <td>DE</td>\n",
       "      <td>1806</td>\n",
       "      <td>22</td>\n",
       "      <td>322</td>\n",
       "      <td>18800</td>\n",
       "      <td>Replying to @Nils  AfD</td>\n",
       "      <td>...</td>\n",
       "      <td>NaN</td>\n",
       "      <td>NaN</td>\n",
       "      <td>NaN</td>\n",
       "      <td>NaN</td>\n",
       "      <td>NaN</td>\n",
       "      <td>False</td>\n",
       "      <td>nils / afd erklärung</td>\n",
       "      <td>https://www.tiktok.com/@recoverwithamelie/vide...</td>\n",
       "      <td>funny has no idea about politics believes ever...</td>\n",
       "      <td>lustigte hat keine Ahnung für Politik glaubt a...</td>\n",
       "    </tr>\n",
       "    <tr>\n",
       "      <th>...</th>\n",
       "      <td>...</td>\n",
       "      <td>...</td>\n",
       "      <td>...</td>\n",
       "      <td>...</td>\n",
       "      <td>...</td>\n",
       "      <td>...</td>\n",
       "      <td>...</td>\n",
       "      <td>...</td>\n",
       "      <td>...</td>\n",
       "      <td>...</td>\n",
       "      <td>...</td>\n",
       "      <td>...</td>\n",
       "      <td>...</td>\n",
       "      <td>...</td>\n",
       "      <td>...</td>\n",
       "      <td>...</td>\n",
       "      <td>...</td>\n",
       "      <td>...</td>\n",
       "      <td>...</td>\n",
       "      <td>...</td>\n",
       "      <td>...</td>\n",
       "    </tr>\n",
       "    <tr>\n",
       "      <th>89</th>\n",
       "      <td>89</td>\n",
       "      <td>7356954044801355041</td>\n",
       "      <td>2024-04-12T14:19:17</td>\n",
       "      <td>8</td>\n",
       "      <td>DE</td>\n",
       "      <td>1127</td>\n",
       "      <td>8</td>\n",
       "      <td>185</td>\n",
       "      <td>13300</td>\n",
       "      <td>Sarah eagenknecht hat sogar tiefer geboxt als ...</td>\n",
       "      <td>...</td>\n",
       "      <td>NaN</td>\n",
       "      <td>NaN</td>\n",
       "      <td>NaN</td>\n",
       "      <td>NaN</td>\n",
       "      <td>NaN</td>\n",
       "      <td>False</td>\n",
       "      <td>NaN</td>\n",
       "      <td>https://www.tiktok.com/@afroginparadise/video/...</td>\n",
       "      <td>NaN</td>\n",
       "      <td>NaN</td>\n",
       "    </tr>\n",
       "    <tr>\n",
       "      <th>90</th>\n",
       "      <td>90</td>\n",
       "      <td>7352787042750762273</td>\n",
       "      <td>2024-04-01T08:49:21</td>\n",
       "      <td>16</td>\n",
       "      <td>DE</td>\n",
       "      <td>4852</td>\n",
       "      <td>616</td>\n",
       "      <td>353</td>\n",
       "      <td>104200</td>\n",
       "      <td>#abschiebekalender #fyp #AfD #deutschlandzuers...</td>\n",
       "      <td>...</td>\n",
       "      <td>NaN</td>\n",
       "      <td>NaN</td>\n",
       "      <td>NaN</td>\n",
       "      <td>NaN</td>\n",
       "      <td>NaN</td>\n",
       "      <td>False</td>\n",
       "      <td>abschieb kalender / abschiebung afd kalender /...</td>\n",
       "      <td>https://www.tiktok.com/@miguelklaussafd/video/...</td>\n",
       "      <td>NaN</td>\n",
       "      <td>NaN</td>\n",
       "    </tr>\n",
       "    <tr>\n",
       "      <th>91</th>\n",
       "      <td>91</td>\n",
       "      <td>7353718946480082209</td>\n",
       "      <td>2024-04-03T21:05:21</td>\n",
       "      <td>28</td>\n",
       "      <td>DE</td>\n",
       "      <td>561</td>\n",
       "      <td>11</td>\n",
       "      <td>661</td>\n",
       "      <td>15600</td>\n",
       "      <td>Tübingen bleibt stabil! Seit heute ist bekannt...</td>\n",
       "      <td>...</td>\n",
       "      <td>NaN</td>\n",
       "      <td>NaN</td>\n",
       "      <td>NaN</td>\n",
       "      <td>NaN</td>\n",
       "      <td>NaN</td>\n",
       "      <td>False</td>\n",
       "      <td>NaN</td>\n",
       "      <td>https://www.tiktok.com/@benedikt_doellmann/vid...</td>\n",
       "      <td>tübing remains stable, the AfD does not come t...</td>\n",
       "      <td>tübing bleibt stabil, die AfD kommt nicht in u...</td>\n",
       "    </tr>\n",
       "    <tr>\n",
       "      <th>92</th>\n",
       "      <td>92</td>\n",
       "      <td>7353162329967611168</td>\n",
       "      <td>2024-04-02T09:05:36</td>\n",
       "      <td>6</td>\n",
       "      <td>DE</td>\n",
       "      <td>462</td>\n",
       "      <td>12</td>\n",
       "      <td>665</td>\n",
       "      <td>13900</td>\n",
       "      <td>Nobody would question my nationality if i was ...</td>\n",
       "      <td>...</td>\n",
       "      <td>NaN</td>\n",
       "      <td>NaN</td>\n",
       "      <td>NaN</td>\n",
       "      <td>NaN</td>\n",
       "      <td>NaN</td>\n",
       "      <td>False</td>\n",
       "      <td>european nationalism</td>\n",
       "      <td>https://www.tiktok.com/@actually4sm44/video/73...</td>\n",
       "      <td>So if you're from Africa, why are you white</td>\n",
       "      <td>Wenn Sie also aus Afrika kommen,  warum sind S...</td>\n",
       "    </tr>\n",
       "    <tr>\n",
       "      <th>93</th>\n",
       "      <td>93</td>\n",
       "      <td>7357512213822770465</td>\n",
       "      <td>2024-04-14T02:25:26</td>\n",
       "      <td>29</td>\n",
       "      <td>DE</td>\n",
       "      <td>4172</td>\n",
       "      <td>406</td>\n",
       "      <td>104</td>\n",
       "      <td>22100</td>\n",
       "      <td>BJÖRN HÖCKE, AfD 💙🇩🇪 #deshalbafd #edit #höcke ...</td>\n",
       "      <td>...</td>\n",
       "      <td>NaN</td>\n",
       "      <td>NaN</td>\n",
       "      <td>NaN</td>\n",
       "      <td>NaN</td>\n",
       "      <td>NaN</td>\n",
       "      <td>False</td>\n",
       "      <td>höcke / björn / politik deutschland</td>\n",
       "      <td>https://www.tiktok.com/@cxrv1n/video/735751221...</td>\n",
       "      <td>I welcome Björn Hacke, theFraktionsvorsitzende...</td>\n",
       "      <td>ich begrüße Björn Hacke, den Fraktionsvorsitze...</td>\n",
       "    </tr>\n",
       "  </tbody>\n",
       "</table>\n",
       "<p>94 rows × 24 columns</p>\n",
       "</div>"
      ],
      "text/plain": [
       "    Unnamed: 0             video_id      video_timestamp  video_duration  \\\n",
       "0            0  7355457627083640096  2024-04-08T13:32:26              43   \n",
       "1            1  7358884167351930145  2024-04-17T19:09:04               7   \n",
       "2            2  7360715244991270176  2024-04-22T17:34:36              13   \n",
       "3            3  7359691434322070817  2024-04-19T23:21:42              61   \n",
       "4            4  7357689397547945249  2024-04-14T13:52:46              66   \n",
       "..         ...                  ...                  ...             ...   \n",
       "89          89  7356954044801355041  2024-04-12T14:19:17               8   \n",
       "90          90  7352787042750762273  2024-04-01T08:49:21              16   \n",
       "91          91  7353718946480082209  2024-04-03T21:05:21              28   \n",
       "92          92  7353162329967611168  2024-04-02T09:05:36               6   \n",
       "93          93  7357512213822770465  2024-04-14T02:25:26              29   \n",
       "\n",
       "   video_locationcreated  video_diggcount  video_sharecount  \\\n",
       "0                     DE             8456               327   \n",
       "1                     DE             5187               666   \n",
       "2                     DE             2660               106   \n",
       "3                     DE             1915                92   \n",
       "4                     DE             1806                22   \n",
       "..                   ...              ...               ...   \n",
       "89                    DE             1127                 8   \n",
       "90                    DE             4852               616   \n",
       "91                    DE              561                11   \n",
       "92                    DE              462                12   \n",
       "93                    DE             4172               406   \n",
       "\n",
       "    video_commentcount  video_playcount  \\\n",
       "0                  369            64700   \n",
       "1                  173            79500   \n",
       "2                   66            12700   \n",
       "3                  580            28300   \n",
       "4                  322            18800   \n",
       "..                 ...              ...   \n",
       "89                 185            13300   \n",
       "90                 353           104200   \n",
       "91                 661            15600   \n",
       "92                 665            13900   \n",
       "93                 104            22100   \n",
       "\n",
       "                                    video_description  ...  \\\n",
       "0                 Ganzes Interview auf X (@AfD). #fyp  ...   \n",
       "1   AFD 💙🇩🇪#afd #deutschland #stolzerdeutsche #fyp...  ...   \n",
       "2       #afd #afdverbot #politik #orangensaft #links   ...   \n",
       "3   Sollte Björn Höcke (AfD) verurteilt werden?  #...  ...   \n",
       "4                             Replying to @Nils  AfD   ...   \n",
       "..                                                ...  ...   \n",
       "89  Sarah eagenknecht hat sogar tiefer geboxt als ...  ...   \n",
       "90  #abschiebekalender #fyp #AfD #deutschlandzuers...  ...   \n",
       "91  Tübingen bleibt stabil! Seit heute ist bekannt...  ...   \n",
       "92  Nobody would question my nationality if i was ...  ...   \n",
       "93  BJÖRN HÖCKE, AfD 💙🇩🇪 #deshalbafd #edit #höcke ...  ...   \n",
       "\n",
       "    author_followercount  author_followingcount author_heartcount  \\\n",
       "0                    NaN                    NaN               NaN   \n",
       "1                    NaN                    NaN               NaN   \n",
       "2                    NaN                    NaN               NaN   \n",
       "3                    NaN                    NaN               NaN   \n",
       "4                    NaN                    NaN               NaN   \n",
       "..                   ...                    ...               ...   \n",
       "89                   NaN                    NaN               NaN   \n",
       "90                   NaN                    NaN               NaN   \n",
       "91                   NaN                    NaN               NaN   \n",
       "92                   NaN                    NaN               NaN   \n",
       "93                   NaN                    NaN               NaN   \n",
       "\n",
       "   author_videocount  author_diggcount  author_verified  \\\n",
       "0                NaN               NaN            False   \n",
       "1                NaN               NaN            False   \n",
       "2                NaN               NaN            False   \n",
       "3                NaN               NaN            False   \n",
       "4                NaN               NaN            False   \n",
       "..               ...               ...              ...   \n",
       "89               NaN               NaN            False   \n",
       "90               NaN               NaN            False   \n",
       "91               NaN               NaN            False   \n",
       "92               NaN               NaN            False   \n",
       "93               NaN               NaN            False   \n",
       "\n",
       "                                      suggested_words  \\\n",
       "0        adf / afd frauen / afd abschiebungs kalender   \n",
       "1   deutsche / deutschland / deutsch deutschland d...   \n",
       "2                                                 NaN   \n",
       "3                      björn / höcke / afd zum urteil   \n",
       "4                                nils / afd erklärung   \n",
       "..                                                ...   \n",
       "89                                                NaN   \n",
       "90  abschieb kalender / abschiebung afd kalender /...   \n",
       "91                                                NaN   \n",
       "92                               european nationalism   \n",
       "93                höcke / björn / politik deutschland   \n",
       "\n",
       "                                                  url  \\\n",
       "0   https://www.tiktok.com/@annamarinada/video/735...   \n",
       "1   https://www.tiktok.com/@arman.sndzk2/video/735...   \n",
       "2   https://www.tiktok.com/@skatch_flp/video/73607...   \n",
       "3   https://www.tiktok.com/@yunuscelep_/video/7359...   \n",
       "4   https://www.tiktok.com/@recoverwithamelie/vide...   \n",
       "..                                                ...   \n",
       "89  https://www.tiktok.com/@afroginparadise/video/...   \n",
       "90  https://www.tiktok.com/@miguelklaussafd/video/...   \n",
       "91  https://www.tiktok.com/@benedikt_doellmann/vid...   \n",
       "92  https://www.tiktok.com/@actually4sm44/video/73...   \n",
       "93  https://www.tiktok.com/@cxrv1n/video/735751221...   \n",
       "\n",
       "                                   english_transcript  \\\n",
       "0   that is,  with this membership in the AfD. For...   \n",
       "1                                                 NaN   \n",
       "2   what is your opinion about blood orange juice?...   \n",
       "3   did you know that it is forbidden to say every...   \n",
       "4   funny has no idea about politics believes ever...   \n",
       "..                                                ...   \n",
       "89                                                NaN   \n",
       "90                                                NaN   \n",
       "91  tübing remains stable, the AfD does not come t...   \n",
       "92       So if you're from Africa, why are you white    \n",
       "93  I welcome Björn Hacke, theFraktionsvorsitzende...   \n",
       "\n",
       "                                    german_transcript  \n",
       "0   also mit dieser Mitgliedschaft bei der AfD. Si...  \n",
       "1                                                 NaN  \n",
       "2   wie ist deine Meinung zu Blutorangensaft? ahne...  \n",
       "3   wusstest du dass es verboten ist zu sagen alle...  \n",
       "4   lustigte hat keine Ahnung für Politik glaubt a...  \n",
       "..                                                ...  \n",
       "89                                                NaN  \n",
       "90                                                NaN  \n",
       "91  tübing bleibt stabil, die AfD kommt nicht in u...  \n",
       "92  Wenn Sie also aus Afrika kommen,  warum sind S...  \n",
       "93  ich begrüße Björn Hacke, den Fraktionsvorsitze...  \n",
       "\n",
       "[94 rows x 24 columns]"
      ]
     },
     "execution_count": 94,
     "metadata": {},
     "output_type": "execute_result"
    }
   ],
   "source": [
    "path_csv= \"data/\"\n",
    "\n",
    "df = pd.read_csv(path_csv+'afd_10000_april.csv')\n",
    "df"
   ]
  },
  {
   "cell_type": "code",
   "execution_count": 95,
   "metadata": {},
   "outputs": [
    {
     "name": "stdout",
     "output_type": "stream",
     "text": [
      "94\n"
     ]
    }
   ],
   "source": [
    "print(len(df))"
   ]
  },
  {
   "cell_type": "markdown",
   "metadata": {},
   "source": [
    "Remove none\n"
   ]
  },
  {
   "cell_type": "code",
   "execution_count": 96,
   "metadata": {},
   "outputs": [
    {
     "name": "stdout",
     "output_type": "stream",
     "text": [
      "94\n"
     ]
    }
   ],
   "source": [
    "docs = [\n",
    "   str(df[\"video_description\"][a]) + \"\\n\\n\" +  str(df[\"suggested_words\"][a]) +\"\\n\\n\" +  str(df[\"german_transcript\"][a])\n",
    "    for a in range(len(df))\n",
    "]\n",
    "\n",
    "print(len(docs))"
   ]
  },
  {
   "cell_type": "code",
   "execution_count": 97,
   "metadata": {},
   "outputs": [],
   "source": [
    "embeddings = embeddings_client.embed_documents(docs)"
   ]
  },
  {
   "cell_type": "code",
   "execution_count": 98,
   "metadata": {},
   "outputs": [
    {
     "name": "stdout",
     "output_type": "stream",
     "text": [
      "94\n",
      "1536\n"
     ]
    }
   ],
   "source": [
    "print(len(embeddings))\n",
    "print(len(embeddings[0]))"
   ]
  },
  {
   "cell_type": "code",
   "execution_count": 8,
   "metadata": {},
   "outputs": [
    {
     "ename": "NameError",
     "evalue": "name 'embeddings' is not defined",
     "output_type": "error",
     "traceback": [
      "\u001b[0;31m---------------------------------------------------------------------------\u001b[0m",
      "\u001b[0;31mNameError\u001b[0m                                 Traceback (most recent call last)",
      "Cell \u001b[0;32mIn[8], line 1\u001b[0m\n\u001b[0;32m----> 1\u001b[0m \u001b[43membeddings\u001b[49m\u001b[38;5;241m.\u001b[39mshape\n",
      "\u001b[0;31mNameError\u001b[0m: name 'embeddings' is not defined"
     ]
    }
   ],
   "source": []
  },
  {
   "cell_type": "markdown",
   "metadata": {},
   "source": [
    "## Clustering posts"
   ]
  },
  {
   "cell_type": "markdown",
   "metadata": {},
   "source": [
    "Cluster with hbdscan"
   ]
  },
  {
   "cell_type": "code",
   "execution_count": 99,
   "metadata": {},
   "outputs": [],
   "source": [
    "hdb = hdbscan.HDBSCAN(min_samples=2, min_cluster_size=3).fit(embeddings)"
   ]
  },
  {
   "cell_type": "code",
   "execution_count": 100,
   "metadata": {},
   "outputs": [
    {
     "data": {
      "text/plain": [
       "array([-1,  1, -1,  0, -1,  0, -1, -1, -1, -1, -1, -1, -1, -1,  0,  0, -1,\n",
       "       -1,  0, -1, -1,  0,  1,  1, -1, -1,  1,  0, -1, -1, -1, -1, -1, -1,\n",
       "        0, -1,  0, -1,  1,  2, -1, -1, -1,  0, -1, -1, -1, -1, -1, -1,  0,\n",
       "       -1, -1, -1, -1,  2, -1,  2,  0, -1, -1, -1,  2, -1,  0, -1, -1, -1,\n",
       "        2, -1, -1, -1,  0, -1,  2,  2,  2, -1,  0,  0, -1, -1,  0, -1, -1,\n",
       "        0, -1, -1, -1, -1,  1, -1, -1, -1])"
      ]
     },
     "execution_count": 100,
     "metadata": {},
     "output_type": "execute_result"
    }
   ],
   "source": [
    "hdb.labels_ #here I see that the clustering didn't work (only one cluster) and stopped"
   ]
  },
  {
   "cell_type": "markdown",
   "metadata": {},
   "source": [
    "Add Cluster labels to dataframe"
   ]
  },
  {
   "cell_type": "code",
   "execution_count": 101,
   "metadata": {},
   "outputs": [
    {
     "name": "stdout",
     "output_type": "stream",
     "text": [
      "Number of articles within cluster:  32\n",
      "Number of articles without assigned cluster:  62\n"
     ]
    }
   ],
   "source": [
    "# add cluster id to dataframe\n",
    "df[\"cluster\"] = hdb.labels_\n",
    "print(\"Number of posts within cluster: \", df.query(\"cluster != -1\").shape[0])\n",
    "\n",
    "print(\"Number of posts without assigned cluster: \", df.query(\"cluster == -1\").shape[0])\n"
   ]
  },
  {
   "cell_type": "markdown",
   "metadata": {},
   "source": [
    "Remove documents that are not in a cluster"
   ]
  },
  {
   "cell_type": "code",
   "execution_count": 102,
   "metadata": {},
   "outputs": [],
   "source": [
    "df = df.query(\"cluster != -1\")"
   ]
  },
  {
   "cell_type": "markdown",
   "metadata": {},
   "source": [
    "Print numbers of cluster entities"
   ]
  },
  {
   "cell_type": "code",
   "execution_count": 103,
   "metadata": {},
   "outputs": [
    {
     "name": "stdout",
     "output_type": "stream",
     "text": [
      "cluster\n",
      "0    18\n",
      "2     8\n",
      "1     6\n",
      "Name: count, dtype: int64\n"
     ]
    }
   ],
   "source": [
    "print(df.cluster.value_counts())\n"
   ]
  },
  {
   "cell_type": "code",
   "execution_count": 104,
   "metadata": {},
   "outputs": [
    {
     "data": {
      "text/html": [
       "<div>\n",
       "<style scoped>\n",
       "    .dataframe tbody tr th:only-of-type {\n",
       "        vertical-align: middle;\n",
       "    }\n",
       "\n",
       "    .dataframe tbody tr th {\n",
       "        vertical-align: top;\n",
       "    }\n",
       "\n",
       "    .dataframe thead th {\n",
       "        text-align: right;\n",
       "    }\n",
       "</style>\n",
       "<table border=\"1\" class=\"dataframe\">\n",
       "  <thead>\n",
       "    <tr style=\"text-align: right;\">\n",
       "      <th></th>\n",
       "      <th>Unnamed: 0</th>\n",
       "      <th>video_id</th>\n",
       "      <th>video_timestamp</th>\n",
       "      <th>video_duration</th>\n",
       "      <th>video_locationcreated</th>\n",
       "      <th>video_diggcount</th>\n",
       "      <th>video_sharecount</th>\n",
       "      <th>video_commentcount</th>\n",
       "      <th>video_playcount</th>\n",
       "      <th>video_description</th>\n",
       "      <th>...</th>\n",
       "      <th>author_followingcount</th>\n",
       "      <th>author_heartcount</th>\n",
       "      <th>author_videocount</th>\n",
       "      <th>author_diggcount</th>\n",
       "      <th>author_verified</th>\n",
       "      <th>suggested_words</th>\n",
       "      <th>url</th>\n",
       "      <th>english_transcript</th>\n",
       "      <th>german_transcript</th>\n",
       "      <th>cluster</th>\n",
       "    </tr>\n",
       "  </thead>\n",
       "  <tbody>\n",
       "    <tr>\n",
       "      <th>3</th>\n",
       "      <td>3</td>\n",
       "      <td>7359691434322070817</td>\n",
       "      <td>2024-04-19T23:21:42</td>\n",
       "      <td>61</td>\n",
       "      <td>DE</td>\n",
       "      <td>1915</td>\n",
       "      <td>92</td>\n",
       "      <td>580</td>\n",
       "      <td>28300</td>\n",
       "      <td>Sollte Björn Höcke (AfD) verurteilt werden?  #...</td>\n",
       "      <td>...</td>\n",
       "      <td>NaN</td>\n",
       "      <td>NaN</td>\n",
       "      <td>NaN</td>\n",
       "      <td>NaN</td>\n",
       "      <td>False</td>\n",
       "      <td>björn / höcke / afd zum urteil</td>\n",
       "      <td>https://www.tiktok.com/@yunuscelep_/video/7359...</td>\n",
       "      <td>did you know that it is forbidden to say every...</td>\n",
       "      <td>wusstest du dass es verboten ist zu sagen alle...</td>\n",
       "      <td>0</td>\n",
       "    </tr>\n",
       "    <tr>\n",
       "      <th>5</th>\n",
       "      <td>5</td>\n",
       "      <td>7359628606286351648</td>\n",
       "      <td>2024-04-19T19:17:50</td>\n",
       "      <td>210</td>\n",
       "      <td>DE</td>\n",
       "      <td>1190</td>\n",
       "      <td>17</td>\n",
       "      <td>920</td>\n",
       "      <td>35300</td>\n",
       "      <td>NaN</td>\n",
       "      <td>...</td>\n",
       "      <td>NaN</td>\n",
       "      <td>NaN</td>\n",
       "      <td>NaN</td>\n",
       "      <td>NaN</td>\n",
       "      <td>False</td>\n",
       "      <td>NaN</td>\n",
       "      <td>https://www.tiktok.com/@gastronomicus2/video/7...</td>\n",
       "      <td>yes, what can I tell you, I kicked out an AFDl...</td>\n",
       "      <td>ja, was soll ich euch sagen, ich hab n AFDler ...</td>\n",
       "      <td>0</td>\n",
       "    </tr>\n",
       "    <tr>\n",
       "      <th>14</th>\n",
       "      <td>14</td>\n",
       "      <td>7361436116064537889</td>\n",
       "      <td>2024-04-24T16:11:57</td>\n",
       "      <td>58</td>\n",
       "      <td>DE</td>\n",
       "      <td>3522</td>\n",
       "      <td>251</td>\n",
       "      <td>130</td>\n",
       "      <td>24100</td>\n",
       "      <td>So stark ist die AfD unter der Generation Z.</td>\n",
       "      <td>...</td>\n",
       "      <td>NaN</td>\n",
       "      <td>NaN</td>\n",
       "      <td>NaN</td>\n",
       "      <td>NaN</td>\n",
       "      <td>False</td>\n",
       "      <td>generation z / genz / gen z moments</td>\n",
       "      <td>https://www.tiktok.com/@jungefreiheit/video/73...</td>\n",
       "      <td>the youth is on the right. yes indeed. the AfD...</td>\n",
       "      <td>die Jugend ist rechts. ja tatsächlich. die AfD...</td>\n",
       "      <td>0</td>\n",
       "    </tr>\n",
       "    <tr>\n",
       "      <th>15</th>\n",
       "      <td>15</td>\n",
       "      <td>7356948863653088544</td>\n",
       "      <td>2024-04-12T13:59:09</td>\n",
       "      <td>61</td>\n",
       "      <td>DE</td>\n",
       "      <td>4975</td>\n",
       "      <td>173</td>\n",
       "      <td>605</td>\n",
       "      <td>63000</td>\n",
       "      <td>#höcke #voigt #cdu #afd #thüringen</td>\n",
       "      <td>...</td>\n",
       "      <td>NaN</td>\n",
       "      <td>NaN</td>\n",
       "      <td>NaN</td>\n",
       "      <td>NaN</td>\n",
       "      <td>False</td>\n",
       "      <td>höcke / cdu / thüringen / yunus celep</td>\n",
       "      <td>https://www.tiktok.com/@yunuscelep_/video/7356...</td>\n",
       "      <td>so what was that TV duel yesterday please Björ...</td>\n",
       "      <td>also was war das bitte gestern für ein TV Duel...</td>\n",
       "      <td>0</td>\n",
       "    </tr>\n",
       "    <tr>\n",
       "      <th>18</th>\n",
       "      <td>18</td>\n",
       "      <td>7357016678846270753</td>\n",
       "      <td>2024-04-12T18:22:16</td>\n",
       "      <td>592</td>\n",
       "      <td>DE</td>\n",
       "      <td>847</td>\n",
       "      <td>53</td>\n",
       "      <td>150</td>\n",
       "      <td>12300</td>\n",
       "      <td>#afd #spd #cdu #csu #grüne #fdp #foryou #viral...</td>\n",
       "      <td>...</td>\n",
       "      <td>NaN</td>\n",
       "      <td>NaN</td>\n",
       "      <td>NaN</td>\n",
       "      <td>NaN</td>\n",
       "      <td>False</td>\n",
       "      <td>NaN</td>\n",
       "      <td>https://www.tiktok.com/@tattootom22/video/7357...</td>\n",
       "      <td>Duel at weltnachrichten.  TV between Höcke AfD...</td>\n",
       "      <td>Duell bei weltnachrichten. TV zwischen Höcke A...</td>\n",
       "      <td>0</td>\n",
       "    </tr>\n",
       "    <tr>\n",
       "      <th>21</th>\n",
       "      <td>21</td>\n",
       "      <td>7356498063088815392</td>\n",
       "      <td>2024-04-11T08:49:51</td>\n",
       "      <td>278</td>\n",
       "      <td>DE</td>\n",
       "      <td>3554</td>\n",
       "      <td>145</td>\n",
       "      <td>693</td>\n",
       "      <td>29800</td>\n",
       "      <td>Antwort auf @Peter #answer #antwort</td>\n",
       "      <td>...</td>\n",
       "      <td>NaN</td>\n",
       "      <td>NaN</td>\n",
       "      <td>NaN</td>\n",
       "      <td>NaN</td>\n",
       "      <td>False</td>\n",
       "      <td>NaN</td>\n",
       "      <td>https://www.tiktok.com/@frieda_friedrich/video...</td>\n",
       "      <td>since the Peter, who was almost the only one w...</td>\n",
       "      <td>da der Peter, der fast der einzige war, der ge...</td>\n",
       "      <td>0</td>\n",
       "    </tr>\n",
       "    <tr>\n",
       "      <th>27</th>\n",
       "      <td>27</td>\n",
       "      <td>7356924156899822880</td>\n",
       "      <td>2024-04-12T12:23:19</td>\n",
       "      <td>122</td>\n",
       "      <td>DE</td>\n",
       "      <td>0</td>\n",
       "      <td>0</td>\n",
       "      <td>817</td>\n",
       "      <td>0</td>\n",
       "      <td>Das TV-Duell zwischen den Spitzenkandidaten Vo...</td>\n",
       "      <td>...</td>\n",
       "      <td>NaN</td>\n",
       "      <td>NaN</td>\n",
       "      <td>NaN</td>\n",
       "      <td>NaN</td>\n",
       "      <td>False</td>\n",
       "      <td>höcke / afd wahlen / thüringen / cdu / cdu vs ...</td>\n",
       "      <td>https://www.tiktok.com/@danoclock/video/735692...</td>\n",
       "      <td>you have the TV duel between CDU Vogt and Bern...</td>\n",
       "      <td>habt ihr das TV Duell zwischen CDU Vogt und Be...</td>\n",
       "      <td>0</td>\n",
       "    </tr>\n",
       "    <tr>\n",
       "      <th>34</th>\n",
       "      <td>34</td>\n",
       "      <td>7362177684341902625</td>\n",
       "      <td>2024-04-26T16:09:39</td>\n",
       "      <td>77</td>\n",
       "      <td>DE</td>\n",
       "      <td>2003</td>\n",
       "      <td>28</td>\n",
       "      <td>83</td>\n",
       "      <td>14400</td>\n",
       "      <td>Was glaubt ihr, woran das liegt? 🫠 #politik #l...</td>\n",
       "      <td>...</td>\n",
       "      <td>NaN</td>\n",
       "      <td>NaN</td>\n",
       "      <td>NaN</td>\n",
       "      <td>NaN</td>\n",
       "      <td>False</td>\n",
       "      <td>ampel regierung / afd wahlen / adf / ampel reg...</td>\n",
       "      <td>https://www.tiktok.com/@thesimondavid/video/73...</td>\n",
       "      <td>22% of young people would say,  according to a...</td>\n",
       "      <td>22 % der jungen Leute würden laut einer Umfrag...</td>\n",
       "      <td>0</td>\n",
       "    </tr>\n",
       "    <tr>\n",
       "      <th>36</th>\n",
       "      <td>36</td>\n",
       "      <td>7359523493836328225</td>\n",
       "      <td>2024-04-19T12:29:59</td>\n",
       "      <td>706</td>\n",
       "      <td>DE</td>\n",
       "      <td>5193</td>\n",
       "      <td>268</td>\n",
       "      <td>462</td>\n",
       "      <td>65900</td>\n",
       "      <td>Alice Weidel muss unsere nächste Kanzlerin wer...</td>\n",
       "      <td>...</td>\n",
       "      <td>NaN</td>\n",
       "      <td>NaN</td>\n",
       "      <td>NaN</td>\n",
       "      <td>NaN</td>\n",
       "      <td>False</td>\n",
       "      <td>aliceweidel / Alice Weidel Edit / aliceweidel_...</td>\n",
       "      <td>https://www.tiktok.com/@afd_bluey/video/735952...</td>\n",
       "      <td>I,  I'm not giving the speech I'm giving right...</td>\n",
       "      <td>ich, ich halte nicht die Rede, die ich gerade....</td>\n",
       "      <td>0</td>\n",
       "    </tr>\n",
       "    <tr>\n",
       "      <th>43</th>\n",
       "      <td>43</td>\n",
       "      <td>7360055806886268192</td>\n",
       "      <td>2024-04-20T22:55:38</td>\n",
       "      <td>79</td>\n",
       "      <td>DE</td>\n",
       "      <td>4138</td>\n",
       "      <td>352</td>\n",
       "      <td>181</td>\n",
       "      <td>42700</td>\n",
       "      <td>#maximiliankrah #krah #afd #cdu #eu #europa #v...</td>\n",
       "      <td>...</td>\n",
       "      <td>NaN</td>\n",
       "      <td>NaN</td>\n",
       "      <td>NaN</td>\n",
       "      <td>NaN</td>\n",
       "      <td>False</td>\n",
       "      <td>Maximilian Krah / Maximilian / cdu / maximilia...</td>\n",
       "      <td>https://www.tiktok.com/@jason.afd/video/736005...</td>\n",
       "      <td>why do you want to see the CDU destroyed? beca...</td>\n",
       "      <td>warum willst du die CDU zerstört sehen? weil w...</td>\n",
       "      <td>0</td>\n",
       "    </tr>\n",
       "    <tr>\n",
       "      <th>50</th>\n",
       "      <td>50</td>\n",
       "      <td>7361089951993318689</td>\n",
       "      <td>2024-04-23T17:48:38</td>\n",
       "      <td>328</td>\n",
       "      <td>DE</td>\n",
       "      <td>2422</td>\n",
       "      <td>167</td>\n",
       "      <td>354</td>\n",
       "      <td>13300</td>\n",
       "      <td>#Duett mit @Deutschland zuerst! #afd</td>\n",
       "      <td>...</td>\n",
       "      <td>NaN</td>\n",
       "      <td>NaN</td>\n",
       "      <td>NaN</td>\n",
       "      <td>NaN</td>\n",
       "      <td>False</td>\n",
       "      <td>deutschland wenn afd gewinnt / afd wahlen</td>\n",
       "      <td>https://www.tiktok.com/@oma_von_2kinds/video/7...</td>\n",
       "      <td>at the 2nd day of the trial it said björthöcke...</td>\n",
       "      <td>beim 2. prozestag stand björthöcke heute wiede...</td>\n",
       "      <td>0</td>\n",
       "    </tr>\n",
       "    <tr>\n",
       "      <th>58</th>\n",
       "      <td>58</td>\n",
       "      <td>7353214182386355489</td>\n",
       "      <td>2024-04-02T12:26:36</td>\n",
       "      <td>156</td>\n",
       "      <td>DE</td>\n",
       "      <td>3116</td>\n",
       "      <td>23</td>\n",
       "      <td>0</td>\n",
       "      <td>30900</td>\n",
       "      <td>Die AfD ist in meine DMs geslided und meinte B...</td>\n",
       "      <td>...</td>\n",
       "      <td>NaN</td>\n",
       "      <td>NaN</td>\n",
       "      <td>NaN</td>\n",
       "      <td>NaN</td>\n",
       "      <td>False</td>\n",
       "      <td>NaN</td>\n",
       "      <td>https://www.tiktok.com/@pechsee/video/73532141...</td>\n",
       "      <td>and we need to talk about it Admittedly it was...</td>\n",
       "      <td>und wir müssen darüber reden Zugegeben war’s z...</td>\n",
       "      <td>0</td>\n",
       "    </tr>\n",
       "    <tr>\n",
       "      <th>64</th>\n",
       "      <td>64</td>\n",
       "      <td>7360717336942251296</td>\n",
       "      <td>2024-04-22T17:42:41</td>\n",
       "      <td>191</td>\n",
       "      <td>DE</td>\n",
       "      <td>1304</td>\n",
       "      <td>154</td>\n",
       "      <td>239</td>\n",
       "      <td>26700</td>\n",
       "      <td>ein was wäre wenn Szenario.  Was wäre wenn die...</td>\n",
       "      <td>...</td>\n",
       "      <td>NaN</td>\n",
       "      <td>NaN</td>\n",
       "      <td>NaN</td>\n",
       "      <td>NaN</td>\n",
       "      <td>False</td>\n",
       "      <td>afd wahlen / wahlen in deutschland</td>\n",
       "      <td>https://www.tiktok.com/@schorso/video/73607173...</td>\n",
       "      <td>I would like to join you times 1. what if scen...</td>\n",
       "      <td>ich möchte mit euch mal 1. was wäre wenn Szena...</td>\n",
       "      <td>0</td>\n",
       "    </tr>\n",
       "    <tr>\n",
       "      <th>72</th>\n",
       "      <td>72</td>\n",
       "      <td>7354696596665224481</td>\n",
       "      <td>2024-04-06T12:19:12</td>\n",
       "      <td>82</td>\n",
       "      <td>DE</td>\n",
       "      <td>1769</td>\n",
       "      <td>6</td>\n",
       "      <td>89</td>\n",
       "      <td>14700</td>\n",
       "      <td>@Miguel Klauß sind doch Anträge der AfD. Sollt...</td>\n",
       "      <td>...</td>\n",
       "      <td>NaN</td>\n",
       "      <td>NaN</td>\n",
       "      <td>NaN</td>\n",
       "      <td>NaN</td>\n",
       "      <td>False</td>\n",
       "      <td>miguel klaus afd / afd wahlen / afd remigration</td>\n",
       "      <td>https://www.tiktok.com/@der_verrueckte_mutmach...</td>\n",
       "      <td>NaN</td>\n",
       "      <td>ich frage mich bei solchen Meldungen immer, wa...</td>\n",
       "      <td>0</td>\n",
       "    </tr>\n",
       "    <tr>\n",
       "      <th>78</th>\n",
       "      <td>78</td>\n",
       "      <td>7360650068518571297</td>\n",
       "      <td>2024-04-22T13:21:42</td>\n",
       "      <td>49</td>\n",
       "      <td>DE</td>\n",
       "      <td>1297</td>\n",
       "      <td>59</td>\n",
       "      <td>371</td>\n",
       "      <td>11100</td>\n",
       "      <td>hört auf mich zu langweilen 😴 #afd #protestwäh...</td>\n",
       "      <td>...</td>\n",
       "      <td>NaN</td>\n",
       "      <td>NaN</td>\n",
       "      <td>NaN</td>\n",
       "      <td>NaN</td>\n",
       "      <td>False</td>\n",
       "      <td>afd wahlen</td>\n",
       "      <td>https://www.tiktok.com/@_._anthony_._._/video/...</td>\n",
       "      <td>hello today n AfD voter told me in my livestre...</td>\n",
       "      <td>hallo heute hat Mir n AfD Wähler in meinem Liv...</td>\n",
       "      <td>0</td>\n",
       "    </tr>\n",
       "    <tr>\n",
       "      <th>79</th>\n",
       "      <td>79</td>\n",
       "      <td>7360992316032650528</td>\n",
       "      <td>2024-04-23T11:29:51</td>\n",
       "      <td>154</td>\n",
       "      <td>DE</td>\n",
       "      <td>3445</td>\n",
       "      <td>212</td>\n",
       "      <td>502</td>\n",
       "      <td>19800</td>\n",
       "      <td>Was innerhalb einer Woche bei der AfD abgeht, ...</td>\n",
       "      <td>...</td>\n",
       "      <td>NaN</td>\n",
       "      <td>NaN</td>\n",
       "      <td>NaN</td>\n",
       "      <td>NaN</td>\n",
       "      <td>False</td>\n",
       "      <td>afd wahlen / afd zum urteil</td>\n",
       "      <td>https://www.tiktok.com/@danoclock/video/736099...</td>\n",
       "      <td>the ignorance of the AfD voters have to explai...</td>\n",
       "      <td>die Ignoranz der AfD wählende muss Mir mal ein...</td>\n",
       "      <td>0</td>\n",
       "    </tr>\n",
       "    <tr>\n",
       "      <th>82</th>\n",
       "      <td>82</td>\n",
       "      <td>7357729384582614304</td>\n",
       "      <td>2024-04-14T16:27:55</td>\n",
       "      <td>449</td>\n",
       "      <td>DE</td>\n",
       "      <td>625</td>\n",
       "      <td>27</td>\n",
       "      <td>121</td>\n",
       "      <td>17700</td>\n",
       "      <td>#iran🇮🇷 #israel🇮🇱 #demokratie#münchen #fdp #gr...</td>\n",
       "      <td>...</td>\n",
       "      <td>NaN</td>\n",
       "      <td>NaN</td>\n",
       "      <td>NaN</td>\n",
       "      <td>NaN</td>\n",
       "      <td>False</td>\n",
       "      <td>NaN</td>\n",
       "      <td>https://www.tiktok.com/@tattootom22/video/7357...</td>\n",
       "      <td>So, the next escalation hammer, each of you wi...</td>\n",
       "      <td>so, die nächste Eskalation Hammer, jeder von e...</td>\n",
       "      <td>0</td>\n",
       "    </tr>\n",
       "    <tr>\n",
       "      <th>85</th>\n",
       "      <td>85</td>\n",
       "      <td>7358915819029482785</td>\n",
       "      <td>2024-04-17T21:11:53</td>\n",
       "      <td>24</td>\n",
       "      <td>DE</td>\n",
       "      <td>378</td>\n",
       "      <td>3</td>\n",
       "      <td>1357</td>\n",
       "      <td>13600</td>\n",
       "      <td>AfD lehnt wählen unter 18 ab. Einige Anhänger ...</td>\n",
       "      <td>...</td>\n",
       "      <td>NaN</td>\n",
       "      <td>NaN</td>\n",
       "      <td>NaN</td>\n",
       "      <td>NaN</td>\n",
       "      <td>False</td>\n",
       "      <td>NaN</td>\n",
       "      <td>https://www.tiktok.com/@larsboettgerhamburg/vi...</td>\n",
       "      <td>People under 18, you should find the AfD total...</td>\n",
       "      <td>Leute unter 18, ihr müsstet die AfD doch total...</td>\n",
       "      <td>0</td>\n",
       "    </tr>\n",
       "  </tbody>\n",
       "</table>\n",
       "<p>18 rows × 25 columns</p>\n",
       "</div>"
      ],
      "text/plain": [
       "    Unnamed: 0             video_id      video_timestamp  video_duration  \\\n",
       "3            3  7359691434322070817  2024-04-19T23:21:42              61   \n",
       "5            5  7359628606286351648  2024-04-19T19:17:50             210   \n",
       "14          14  7361436116064537889  2024-04-24T16:11:57              58   \n",
       "15          15  7356948863653088544  2024-04-12T13:59:09              61   \n",
       "18          18  7357016678846270753  2024-04-12T18:22:16             592   \n",
       "21          21  7356498063088815392  2024-04-11T08:49:51             278   \n",
       "27          27  7356924156899822880  2024-04-12T12:23:19             122   \n",
       "34          34  7362177684341902625  2024-04-26T16:09:39              77   \n",
       "36          36  7359523493836328225  2024-04-19T12:29:59             706   \n",
       "43          43  7360055806886268192  2024-04-20T22:55:38              79   \n",
       "50          50  7361089951993318689  2024-04-23T17:48:38             328   \n",
       "58          58  7353214182386355489  2024-04-02T12:26:36             156   \n",
       "64          64  7360717336942251296  2024-04-22T17:42:41             191   \n",
       "72          72  7354696596665224481  2024-04-06T12:19:12              82   \n",
       "78          78  7360650068518571297  2024-04-22T13:21:42              49   \n",
       "79          79  7360992316032650528  2024-04-23T11:29:51             154   \n",
       "82          82  7357729384582614304  2024-04-14T16:27:55             449   \n",
       "85          85  7358915819029482785  2024-04-17T21:11:53              24   \n",
       "\n",
       "   video_locationcreated  video_diggcount  video_sharecount  \\\n",
       "3                     DE             1915                92   \n",
       "5                     DE             1190                17   \n",
       "14                    DE             3522               251   \n",
       "15                    DE             4975               173   \n",
       "18                    DE              847                53   \n",
       "21                    DE             3554               145   \n",
       "27                    DE                0                 0   \n",
       "34                    DE             2003                28   \n",
       "36                    DE             5193               268   \n",
       "43                    DE             4138               352   \n",
       "50                    DE             2422               167   \n",
       "58                    DE             3116                23   \n",
       "64                    DE             1304               154   \n",
       "72                    DE             1769                 6   \n",
       "78                    DE             1297                59   \n",
       "79                    DE             3445               212   \n",
       "82                    DE              625                27   \n",
       "85                    DE              378                 3   \n",
       "\n",
       "    video_commentcount  video_playcount  \\\n",
       "3                  580            28300   \n",
       "5                  920            35300   \n",
       "14                 130            24100   \n",
       "15                 605            63000   \n",
       "18                 150            12300   \n",
       "21                 693            29800   \n",
       "27                 817                0   \n",
       "34                  83            14400   \n",
       "36                 462            65900   \n",
       "43                 181            42700   \n",
       "50                 354            13300   \n",
       "58                   0            30900   \n",
       "64                 239            26700   \n",
       "72                  89            14700   \n",
       "78                 371            11100   \n",
       "79                 502            19800   \n",
       "82                 121            17700   \n",
       "85                1357            13600   \n",
       "\n",
       "                                    video_description  ...  \\\n",
       "3   Sollte Björn Höcke (AfD) verurteilt werden?  #...  ...   \n",
       "5                                                 NaN  ...   \n",
       "14       So stark ist die AfD unter der Generation Z.  ...   \n",
       "15                #höcke #voigt #cdu #afd #thüringen   ...   \n",
       "18  #afd #spd #cdu #csu #grüne #fdp #foryou #viral...  ...   \n",
       "21               Antwort auf @Peter #answer #antwort   ...   \n",
       "27  Das TV-Duell zwischen den Spitzenkandidaten Vo...  ...   \n",
       "34  Was glaubt ihr, woran das liegt? 🫠 #politik #l...  ...   \n",
       "36  Alice Weidel muss unsere nächste Kanzlerin wer...  ...   \n",
       "43  #maximiliankrah #krah #afd #cdu #eu #europa #v...  ...   \n",
       "50              #Duett mit @Deutschland zuerst! #afd   ...   \n",
       "58  Die AfD ist in meine DMs geslided und meinte B...  ...   \n",
       "64  ein was wäre wenn Szenario.  Was wäre wenn die...  ...   \n",
       "72  @Miguel Klauß sind doch Anträge der AfD. Sollt...  ...   \n",
       "78  hört auf mich zu langweilen 😴 #afd #protestwäh...  ...   \n",
       "79  Was innerhalb einer Woche bei der AfD abgeht, ...  ...   \n",
       "82  #iran🇮🇷 #israel🇮🇱 #demokratie#münchen #fdp #gr...  ...   \n",
       "85  AfD lehnt wählen unter 18 ab. Einige Anhänger ...  ...   \n",
       "\n",
       "    author_followingcount  author_heartcount author_videocount  \\\n",
       "3                     NaN                NaN               NaN   \n",
       "5                     NaN                NaN               NaN   \n",
       "14                    NaN                NaN               NaN   \n",
       "15                    NaN                NaN               NaN   \n",
       "18                    NaN                NaN               NaN   \n",
       "21                    NaN                NaN               NaN   \n",
       "27                    NaN                NaN               NaN   \n",
       "34                    NaN                NaN               NaN   \n",
       "36                    NaN                NaN               NaN   \n",
       "43                    NaN                NaN               NaN   \n",
       "50                    NaN                NaN               NaN   \n",
       "58                    NaN                NaN               NaN   \n",
       "64                    NaN                NaN               NaN   \n",
       "72                    NaN                NaN               NaN   \n",
       "78                    NaN                NaN               NaN   \n",
       "79                    NaN                NaN               NaN   \n",
       "82                    NaN                NaN               NaN   \n",
       "85                    NaN                NaN               NaN   \n",
       "\n",
       "   author_diggcount  author_verified  \\\n",
       "3               NaN            False   \n",
       "5               NaN            False   \n",
       "14              NaN            False   \n",
       "15              NaN            False   \n",
       "18              NaN            False   \n",
       "21              NaN            False   \n",
       "27              NaN            False   \n",
       "34              NaN            False   \n",
       "36              NaN            False   \n",
       "43              NaN            False   \n",
       "50              NaN            False   \n",
       "58              NaN            False   \n",
       "64              NaN            False   \n",
       "72              NaN            False   \n",
       "78              NaN            False   \n",
       "79              NaN            False   \n",
       "82              NaN            False   \n",
       "85              NaN            False   \n",
       "\n",
       "                                      suggested_words  \\\n",
       "3                      björn / höcke / afd zum urteil   \n",
       "5                                                 NaN   \n",
       "14                generation z / genz / gen z moments   \n",
       "15              höcke / cdu / thüringen / yunus celep   \n",
       "18                                                NaN   \n",
       "21                                                NaN   \n",
       "27  höcke / afd wahlen / thüringen / cdu / cdu vs ...   \n",
       "34  ampel regierung / afd wahlen / adf / ampel reg...   \n",
       "36  aliceweidel / Alice Weidel Edit / aliceweidel_...   \n",
       "43  Maximilian Krah / Maximilian / cdu / maximilia...   \n",
       "50          deutschland wenn afd gewinnt / afd wahlen   \n",
       "58                                                NaN   \n",
       "64                 afd wahlen / wahlen in deutschland   \n",
       "72    miguel klaus afd / afd wahlen / afd remigration   \n",
       "78                                         afd wahlen   \n",
       "79                        afd wahlen / afd zum urteil   \n",
       "82                                                NaN   \n",
       "85                                                NaN   \n",
       "\n",
       "                                                  url  \\\n",
       "3   https://www.tiktok.com/@yunuscelep_/video/7359...   \n",
       "5   https://www.tiktok.com/@gastronomicus2/video/7...   \n",
       "14  https://www.tiktok.com/@jungefreiheit/video/73...   \n",
       "15  https://www.tiktok.com/@yunuscelep_/video/7356...   \n",
       "18  https://www.tiktok.com/@tattootom22/video/7357...   \n",
       "21  https://www.tiktok.com/@frieda_friedrich/video...   \n",
       "27  https://www.tiktok.com/@danoclock/video/735692...   \n",
       "34  https://www.tiktok.com/@thesimondavid/video/73...   \n",
       "36  https://www.tiktok.com/@afd_bluey/video/735952...   \n",
       "43  https://www.tiktok.com/@jason.afd/video/736005...   \n",
       "50  https://www.tiktok.com/@oma_von_2kinds/video/7...   \n",
       "58  https://www.tiktok.com/@pechsee/video/73532141...   \n",
       "64  https://www.tiktok.com/@schorso/video/73607173...   \n",
       "72  https://www.tiktok.com/@der_verrueckte_mutmach...   \n",
       "78  https://www.tiktok.com/@_._anthony_._._/video/...   \n",
       "79  https://www.tiktok.com/@danoclock/video/736099...   \n",
       "82  https://www.tiktok.com/@tattootom22/video/7357...   \n",
       "85  https://www.tiktok.com/@larsboettgerhamburg/vi...   \n",
       "\n",
       "                                   english_transcript  \\\n",
       "3   did you know that it is forbidden to say every...   \n",
       "5   yes, what can I tell you, I kicked out an AFDl...   \n",
       "14  the youth is on the right. yes indeed. the AfD...   \n",
       "15  so what was that TV duel yesterday please Björ...   \n",
       "18  Duel at weltnachrichten.  TV between Höcke AfD...   \n",
       "21  since the Peter, who was almost the only one w...   \n",
       "27  you have the TV duel between CDU Vogt and Bern...   \n",
       "34  22% of young people would say,  according to a...   \n",
       "36  I,  I'm not giving the speech I'm giving right...   \n",
       "43  why do you want to see the CDU destroyed? beca...   \n",
       "50  at the 2nd day of the trial it said björthöcke...   \n",
       "58  and we need to talk about it Admittedly it was...   \n",
       "64  I would like to join you times 1. what if scen...   \n",
       "72                                                NaN   \n",
       "78  hello today n AfD voter told me in my livestre...   \n",
       "79  the ignorance of the AfD voters have to explai...   \n",
       "82  So, the next escalation hammer, each of you wi...   \n",
       "85  People under 18, you should find the AfD total...   \n",
       "\n",
       "                                    german_transcript  cluster  \n",
       "3   wusstest du dass es verboten ist zu sagen alle...        0  \n",
       "5   ja, was soll ich euch sagen, ich hab n AFDler ...        0  \n",
       "14  die Jugend ist rechts. ja tatsächlich. die AfD...        0  \n",
       "15  also was war das bitte gestern für ein TV Duel...        0  \n",
       "18  Duell bei weltnachrichten. TV zwischen Höcke A...        0  \n",
       "21  da der Peter, der fast der einzige war, der ge...        0  \n",
       "27  habt ihr das TV Duell zwischen CDU Vogt und Be...        0  \n",
       "34  22 % der jungen Leute würden laut einer Umfrag...        0  \n",
       "36  ich, ich halte nicht die Rede, die ich gerade....        0  \n",
       "43  warum willst du die CDU zerstört sehen? weil w...        0  \n",
       "50  beim 2. prozestag stand björthöcke heute wiede...        0  \n",
       "58  und wir müssen darüber reden Zugegeben war’s z...        0  \n",
       "64  ich möchte mit euch mal 1. was wäre wenn Szena...        0  \n",
       "72  ich frage mich bei solchen Meldungen immer, wa...        0  \n",
       "78  hallo heute hat Mir n AfD Wähler in meinem Liv...        0  \n",
       "79  die Ignoranz der AfD wählende muss Mir mal ein...        0  \n",
       "82  so, die nächste Eskalation Hammer, jeder von e...        0  \n",
       "85  Leute unter 18, ihr müsstet die AfD doch total...        0  \n",
       "\n",
       "[18 rows x 25 columns]"
      ]
     },
     "execution_count": 104,
     "metadata": {},
     "output_type": "execute_result"
    }
   ],
   "source": [
    "# get rows with cluster id 0 and show urls\n",
    "df.query(\"cluster == 0\")"
   ]
  },
  {
   "cell_type": "markdown",
   "metadata": {},
   "source": [
    "## Cluster naming with GPT"
   ]
  },
  {
   "cell_type": "markdown",
   "metadata": {},
   "source": [
    "Prepare prompt"
   ]
  },
  {
   "cell_type": "code",
   "execution_count": 105,
   "metadata": {},
   "outputs": [],
   "source": [
    "chat_template = ChatPromptTemplate.from_messages(\n",
    "    [\n",
    "        SystemMessage(\n",
    "            content=(\n",
    "                \"Du bist ein Experte im Schreiben. Du hilfst mir, einen überzeugenden Titel für mehrere ähnliche TikTok-Beiträge zu schreiben.\"\n",
    "            )\n",
    "        ),\n",
    "        HumanMessagePromptTemplate.from_template(\"Schreibe anhand der folgenden deutschen Transkripte und Beschreibungen von Tiktok-Videos einen Thementitel (2-3 Sätze), der sie zusammenfasst: \\n\\nPOSTS:{posts}\\n\\nTOPIC TITLE:\"),\n",
    "    ]\n",
    ")"
   ]
  },
  {
   "cell_type": "code",
   "execution_count": 106,
   "metadata": {},
   "outputs": [
    {
     "name": "stdout",
     "output_type": "stream",
     "text": [
      "1\n"
     ]
    },
    {
     "name": "stderr",
     "output_type": "stream",
     "text": [
      "/var/folders/ng/bpb66jzj5d59g10n121_hj6h0000gn/T/ipykernel_65391/3150023226.py:19: SettingWithCopyWarning: \n",
      "A value is trying to be set on a copy of a slice from a DataFrame.\n",
      "Try using .loc[row_indexer,col_indexer] = value instead\n",
      "\n",
      "See the caveats in the documentation: https://pandas.pydata.org/pandas-docs/stable/user_guide/indexing.html#returning-a-view-versus-a-copy\n",
      "  df.loc[df.cluster == c, \"topic_title\"] = result.content\n"
     ]
    },
    {
     "name": "stdout",
     "output_type": "stream",
     "text": [
      "0\n",
      "2\n"
     ]
    }
   ],
   "source": [
    "for c in df.cluster.unique():\n",
    "    print(c)\n",
    "    # Generate posts string\n",
    "    posts_str = \"\\n\".join(\n",
    "        f\"{post['video_description']}\\n{post['german_transcript']}\\n\" #\\n{post['suggested_words']}\n",
    "        for post in df.query(f\"cluster == {c}\").to_dict(orient=\"records\")\n",
    "    )\n",
    "\n",
    "    # limit str to maximum token length of model 16384\n",
    "    posts_str = posts_str[:16384]\n",
    "    # Create prompt\n",
    "    #prompt = get_prompt(articles_str)\n",
    "    prompt = chat_template.format_messages(posts=posts_str)\n",
    "    # Invoke the model and pass the generated prompt\n",
    "    result = llm_client.invoke(prompt)\n",
    "    #print(result)\n",
    "\n",
    "    # Assuming result extraction based on your specific response structure\n",
    "    df.loc[df.cluster == c, \"topic_title\"] = result.content"
   ]
  },
  {
   "cell_type": "code",
   "execution_count": 107,
   "metadata": {},
   "outputs": [
    {
     "name": "stdout",
     "output_type": "stream",
     "text": [
      "Cluster 1\n",
      "\"Die AfD in Deutschland: Für einen politischen Wechsel und ein stolzes Deutschland\"\n",
      "Cluster 0\n",
      "Die AfD im Fokus: Von Verurteilungen bis zur Generation Z - Eine Analyse aktueller TikTok-Beiträge #afd #höcke #cdu #generationz\n",
      "Cluster 2\n",
      "\"Die AfD im Wahlkampf: Mut zur Wahrheit für Deutschland!\"\n"
     ]
    }
   ],
   "source": [
    "for c in df.cluster.unique():\n",
    "        \n",
    "    with pd.option_context(\"display.max_colwidth\", None):\n",
    "        #print cluster id\n",
    "        print(f\"Cluster {c}\")\n",
    "        print(df.query(f\"cluster == {c}\").topic_title.values[0])\n",
    "       # display(df.query(f\"cluster == {c}\").drop(columns=[\"topic_title\"]).head())\n",
    "# %%\n"
   ]
  },
  {
   "cell_type": "code",
   "execution_count": 108,
   "metadata": {},
   "outputs": [
    {
     "name": "stderr",
     "output_type": "stream",
     "text": [
      "[nltk_data] Downloading package stopwords to\n",
      "[nltk_data]     /Users/matthiaskiller/nltk_data...\n",
      "[nltk_data]   Package stopwords is already up-to-date!\n",
      "[nltk_data] Downloading package punkt to\n",
      "[nltk_data]     /Users/matthiaskiller/nltk_data...\n",
      "[nltk_data]   Package punkt is already up-to-date!\n"
     ]
    }
   ],
   "source": [
    "import nltk\n",
    "from nltk.corpus import stopwords\n",
    "nltk.download('stopwords')\n",
    "\n",
    "import re\n",
    "import string\n",
    "from nltk.tokenize import word_tokenize\n",
    "nltk.download('punkt')\n",
    "from wordcloud import WordCloud\n",
    "import matplotlib.pyplot as plt\n",
    "\n"
   ]
  },
  {
   "cell_type": "code",
   "execution_count": 109,
   "metadata": {},
   "outputs": [],
   "source": [
    "def preprocess_text(text):\n",
    "    # Checking if the input is a string\n",
    "    if isinstance(text, str):\n",
    "        # Converting to lowercase\n",
    "        text = text.lower()\n",
    "        # Removing punctuation\n",
    "        text = re.sub('[%s]' % re.escape(string.punctuation), '', text)\n",
    "        # Removing non-alphabetic characters\n",
    "        text = re.sub('\\W', ' ', text)\n",
    "        # Removing long strings of whitespace\n",
    "        text = re.sub('\\s+', ' ', text).strip()\n",
    "        # Removing äh\n",
    "        text = re.sub('äh', ' ', text).strip()\n",
    "        # Removing mal\n",
    "        text = re.sub('mal', ' ', text).strip()\n",
    "        # Removing ja\n",
    "        text = re.sub('ja', ' ', text).strip()\n",
    "        # Tokenizing the text\n",
    "        words = word_tokenize(text)\n",
    "        # Removing stopwords\n",
    "        stop_words = set(stopwords.words('german'))\n",
    "        words = [word for word in words if word not in stop_words]\n",
    "        return ' '.join(words)\n",
    "    else:\n",
    "        # Asking to return an empty string if the input is not a string\n",
    "        return ''"
   ]
  },
  {
   "cell_type": "code",
   "execution_count": 110,
   "metadata": {},
   "outputs": [],
   "source": [
    "cleaned_docs = [preprocess_text(docs[i]) for i in range(len(docs))]"
   ]
  },
  {
   "cell_type": "code",
   "execution_count": 111,
   "metadata": {},
   "outputs": [
    {
     "data": {
      "image/png": "[encoded data removed]",
      "text/plain": [
       "<Figure size 1000x1000 with 1 Axes>"
      ]
     },
     "metadata": {},
     "output_type": "display_data"
    }
   ],
   "source": [
    "wordcloud_signature = WordCloud(background_color = 'white', max_words = 100).generate(' '.join(cleaned_docs))\n",
    "\n",
    "# Displaying the word cloud for the signatures\n",
    "plt.figure(figsize = (10, 10))\n",
    "plt.imshow(wordcloud_signature, interpolation = 'bilinear')\n",
    "plt.axis('off')\n",
    "plt.show()"
   ]
  },
  {
   "cell_type": "code",
   "execution_count": null,
   "metadata": {},
   "outputs": [],
   "source": [
    "from sklearn.manifold import TSNE\n",
    "import matplotlib\n",
    "import matplotlib.pyplot as plt\n",
    "\n",
    "tsne = TSNE(n_components=2, perplexity=15, random_state=42, init=\"random\", learning_rate=200)\n",
    "vis_dims2 = tsne.fit_transform(matrix)\n",
    "\n",
    "x = [x for x, y in vis_dims2]\n",
    "y = [y for x, y in vis_dims2]\n",
    "\n",
    "for category, color in enumerate([\"purple\", \"green\", \"red\", \"blue\"]):\n",
    "    xs = np.array(x)[df.Cluster == category]\n",
    "    ys = np.array(y)[df.Cluster == category]\n",
    "    plt.scatter(xs, ys, color=color, alpha=0.3)\n",
    "\n",
    "    avg_x = xs.mean()\n",
    "    avg_y = ys.mean()\n",
    "\n",
    "    plt.scatter(avg_x, avg_y, marker=\"x\", color=color, s=100)\n",
    "plt.title(\"Clusters identified visualized in language 2d using t-SNE\")\n"
   ]
  }
 ],
 "metadata": {
  "kernelspec": {
   "display_name": "embedding_clustering",
   "language": "python",
   "name": "python3"
  },
  "language_info": {
   "codemirror_mode": {
    "name": "ipython",
    "version": 3
   },
   "file_extension": ".py",
   "mimetype": "text/x-python",
   "name": "python",
   "nbconvert_exporter": "python",
   "pygments_lexer": "ipython3",
   "version": "3.10.14"
  }
 },
 "nbformat": 4,
 "nbformat_minor": 2
}
