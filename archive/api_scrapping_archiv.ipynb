{
 "cells": [
  {
   "cell_type": "code",
   "execution_count": 1,
   "metadata": {},
   "outputs": [],
   "source": [
    "import os\n",
    "import asyncio\n",
    "import time\n",
    "import datetime\n",
    "\n",
    "import pandas as pd\n",
    "import pyodbc\n",
    "\n",
    "from reclaim_tiktok.scrapping.scrapper import Scrapper\n",
    "from TikTokApi import TikTokApi\n",
    "\n",
    "import nest_asyncio\n",
    "nest_asyncio.apply()\n",
    "\n",
    "%load_ext autoreload\n",
    "%autoreload 2"
   ]
  },
  {
   "cell_type": "code",
   "execution_count": 2,
   "metadata": {},
   "outputs": [],
   "source": [
    "ms_token = \"K6ycnFewW5yhPmBCFOe1PwyDvkXz_faFA6BMw8MmyxdRMxR2QpwiAZsNdHCps1nvHPJPn5R-PuJtlKImgAo08FYbRYLYBK4fL5YLnTtSd2I=\" #os.environ.get(\"ms_token\", None)\n"
   ]
  },
  {
   "cell_type": "code",
   "execution_count": 3,
   "metadata": {},
   "outputs": [],
   "source": [
    "scrapper = Scrapper(ms_token=ms_token)"
   ]
  },
  {
   "cell_type": "code",
   "execution_count": 159,
   "metadata": {},
   "outputs": [],
   "source": [
    "#load hashtags from csv\n",
    "hashtags = pd.read_csv(\"data/classifier/hashtag_list_curated.csv\")"
   ]
  },
  {
   "cell_type": "code",
   "execution_count": 160,
   "metadata": {},
   "outputs": [
    {
     "data": {
      "text/plain": [
       "0                #afddeutschland\n",
       "1                #mutzurwahrheit\n",
       "2                 #zeitfürdieafd\n",
       "3                #andreazuercher\n",
       "4     #alternativefürdeutschland\n",
       "5                #afdimbundestag\n",
       "6                  #afdimlandtag\n",
       "7                   #afdfraktion\n",
       "8           #deutschlandzuerst🇩🇪\n",
       "9                   #nurnochafd💙\n",
       "10               #politikwechsel\n",
       "11               #wirsinddasvolk\n",
       "12          #afdwählenistnotwehr\n",
       "13               #mutzurwahrheit\n",
       "14                 #ampelmussweg\n",
       "15              #dieampelmussweg\n",
       "16               #wirsinddasvolk\n",
       "17               #grüneneindanke\n",
       "18            #seischlauwählblau\n",
       "19           #regierungsversagen\n",
       "20                #habeckmussweg\n",
       "21                       #fckgrn\n",
       "22             #jungealternative\n",
       "23                  #aliceweidel\n",
       "24         #seischlauwählblau💙💙💙\n",
       "25            #seischlauwählblau\n",
       "26                #scholzmussweg\n",
       "27                   #afdwillwin\n",
       "28                       #weidel\n",
       "29          #dieregierungmussweg\n",
       "30                   #mirreichts\n",
       "31                   #nurdieafd💙\n",
       "32              #neuwahlensofort\n",
       "33                #habeckmussweg\n",
       "34              #baerbockmussweg\n",
       "35                  #lügenpresse\n",
       "Name: Hashtag, dtype: object"
      ]
     },
     "execution_count": 160,
     "metadata": {},
     "output_type": "execute_result"
    }
   ],
   "source": [
    "hashtags[\"Hashtag\"]"
   ]
  },
  {
   "cell_type": "code",
   "execution_count": 4,
   "metadata": {},
   "outputs": [],
   "source": [
    "videos_test = []"
   ]
  },
  {
   "cell_type": "code",
   "execution_count": 5,
   "metadata": {},
   "outputs": [
    {
     "name": "stdout",
     "output_type": "stream",
     "text": [
      "Searching for afd\n"
     ]
    }
   ],
   "source": [
    "videos_test = asyncio.run(scrapper.search_videos_by_hashtags(count=10000, hashtags=[\"afd\"], videos=videos_test))"
   ]
  },
  {
   "cell_type": "code",
   "execution_count": 167,
   "metadata": {},
   "outputs": [],
   "source": [
    "# save to csv \n",
    "df.to_csv(\"data/tiktok_videos_duplicated_dropped.csv\", index=False)"
   ]
  },
  {
   "cell_type": "code",
   "execution_count": 17,
   "metadata": {},
   "outputs": [],
   "source": [
    "# load videos into a pandas dataframe\n",
    "df = pd.DataFrame([video for video in df_raw_dict])\n",
    "# save to csv before adding the columns and fitlering\n",
    "df.to_csv(\"data/tiktok_videos_based_on_hashtags_raw_fetch.csv\", index=False)\n",
    "\n",
    "#drop duplicates\n",
    "df = df.drop_duplicates(subset=\"id\")\n"
   ]
  },
  {
   "cell_type": "code",
   "execution_count": 165,
   "metadata": {},
   "outputs": [],
   "source": [
    "#drop duplicates\n",
    "df = df.drop_duplicates(subset=\"id\")\n"
   ]
  },
  {
   "cell_type": "code",
   "execution_count": 166,
   "metadata": {},
   "outputs": [
    {
     "data": {
      "text/plain": [
       "8206"
      ]
     },
     "execution_count": 166,
     "metadata": {},
     "output_type": "execute_result"
    }
   ],
   "source": [
    "len(df)"
   ]
  },
  {
   "cell_type": "code",
   "execution_count": null,
   "metadata": {},
   "outputs": [],
   "source": [
    "videos_test"
   ]
  },
  {
   "cell_type": "code",
   "execution_count": 234,
   "metadata": {},
   "outputs": [],
   "source": [
    "videos_test.append(videos_test[1])"
   ]
  },
  {
   "cell_type": "code",
   "execution_count": 235,
   "metadata": {},
   "outputs": [
    {
     "data": {
      "text/plain": [
       "392"
      ]
     },
     "execution_count": 235,
     "metadata": {},
     "output_type": "execute_result"
    }
   ],
   "source": [
    "len(videos_test)"
   ]
  },
  {
   "cell_type": "code",
   "execution_count": 236,
   "metadata": {},
   "outputs": [],
   "source": [
    "seen_ids = set()\n",
    "unique_videos = []\n",
    "for video in videos_test:\n",
    "    video = video.as_dict\n",
    "    #print(video.as_dict)\n",
    "    if video[\"id\"] not in seen_ids:\n",
    "        unique_videos.append(video)\n",
    "        seen_ids.add(video[\"id\"])\n"
   ]
  },
  {
   "cell_type": "code",
   "execution_count": 237,
   "metadata": {},
   "outputs": [
    {
     "data": {
      "text/plain": [
       "391"
      ]
     },
     "execution_count": 237,
     "metadata": {},
     "output_type": "execute_result"
    }
   ],
   "source": [
    "len(unique_videos)"
   ]
  },
  {
   "cell_type": "markdown",
   "metadata": {},
   "source": [
    "## Load to pandas dataframe"
   ]
  },
  {
   "cell_type": "code",
   "execution_count": 167,
   "metadata": {},
   "outputs": [],
   "source": [
    "# load videos into a pandas dataframe\n",
    "# df = pd.DataFrame([video for video in df])\n",
    "# # save to csv before adding the columns and fitlering\n",
    "# df.to_csv(\"data/tiktok_videos_based_on_hashtags_raw_fetch_III.csv\", index=False)\n",
    "\n",
    "# #drop duplicates\n",
    "# df = df.drop_duplicates(subset=\"id\")\n",
    "\n",
    "# Define a function to safely extract 'duration' from each dictionary in the 'video' column\n",
    "def extract_duration(video_info):\n",
    "    # Check if 'duration' is a key in the dictionary and return its value if it exists\n",
    "    return video_info.get('duration') if isinstance(video_info, dict) and 'duration' in video_info else None\n",
    "\n",
    "# Apply this function to each element of the 'video' column to create the 'video_duration' column\n",
    "df[\"video_duration\"] = df[\"video\"].apply(extract_duration)\n",
    "\n",
    "# check for none values in video_duration\n",
    "df[\"video_duration\"].isna().sum()\n",
    "\n",
    "\n",
    "# add columns to df\n",
    "df[\"video_id\"] = df[\"id\"]\n",
    "# convert createTime to datetime\n",
    "df[\"video_timestamp\"] = pd.to_datetime(df[\"createTime\"], unit=\"s\")\n",
    "df[\"video_diggcount\"] = df[\"statsV2\"].apply(lambda x: int(x[\"diggCount\"]))\n",
    "df[\"video_sharecount\"] = df[\"statsV2\"].apply(lambda x: int(x[\"shareCount\"]))\n",
    "df[\"video_commentcount\"] = df[\"statsV2\"].apply(lambda x: int(x[\"commentCount\"]))\n",
    "df[\"video_playcount\"] = df[\"statsV2\"].apply(lambda x: int(x[\"playCount\"]))\n",
    "df[\"video_description\"] = df[\"desc\"]\n",
    "df[\"video_is_ad\"] = df[\"isAd\"]\n",
    "df[\"author_username\"] = df[\"author\"].apply(lambda x: x[\"uniqueId\"])\n",
    "df[\"author_name\"] = df[\"author\"].apply(lambda x: x[\"nickname\"])\n",
    "df[\"author_id\"]= df[\"author\"].apply(lambda x: x[\"id\"])\n",
    "df[\"author_followercount\"] = df[\"authorStats\"].apply(lambda x: x[\"followerCount\"])\n",
    "df[\"author_followingcount\"] = df[\"authorStats\"].apply(lambda x: x[\"followingCount\"])\n",
    "df[\"author_heartcount\"] = df[\"authorStats\"].apply(lambda x: x[\"heart\"])\n",
    "df[\"author_videocount\"] = df[\"authorStats\"].apply(lambda x: x[\"videoCount\"])\n",
    "df[\"author_diggcount\"] = df[\"authorStats\"].apply(lambda x: x[\"diggCount\"])\n",
    "df[\"author_verified\"] = df[\"author\"].apply(lambda x: x[\"verified\"])\n",
    "# extract suggested words if they exist -> sometime textExtra is empty and of type float\n",
    "df[\"suggested_words\"] = df[\"textExtra\"].apply(lambda x: [word[\"hashtagName\"] for word in x] if isinstance(x, list) else None)\n",
    "df[\"url\"] = df.apply(lambda x: f\"https://www.tiktok.com/@{x['author']['uniqueId']}/video/{x['id']}\", axis=1)\n",
    "# add music id df[\"music\"].iloc[0][\"id\"]\n",
    "df[\"sound_id\"] = df[\"music\"].apply(lambda x: x[\"id\"] if isinstance(x, dict) else None)\n",
    "\n",
    "# remove all other columns\n",
    "df = df[[\"video_id\", \"video_timestamp\", \"video_duration\", \"video_diggcount\", \"video_sharecount\", \"video_commentcount\", \"video_playcount\", \"video_description\", \"video_is_ad\", \"author_username\", \"author_name\", \"author_id\", \"author_followercount\", \"author_followingcount\", \"author_heartcount\", \"author_videocount\", \"author_diggcount\", \"author_verified\", \"suggested_words\", \"url\", \"sound_id\", \"music\"]]\n",
    "\n"
   ]
  },
  {
   "cell_type": "code",
   "execution_count": 168,
   "metadata": {},
   "outputs": [
    {
     "data": {
      "text/plain": [
       "8206"
      ]
     },
     "execution_count": 168,
     "metadata": {},
     "output_type": "execute_result"
    }
   ],
   "source": [
    "len(df)"
   ]
  },
  {
   "cell_type": "code",
   "execution_count": 262,
   "metadata": {},
   "outputs": [
    {
     "data": {
      "text/plain": [
       "5006"
      ]
     },
     "execution_count": 262,
     "metadata": {},
     "output_type": "execute_result"
    }
   ],
   "source": [
    "['id', 'timestamp_upload', 'timestamp_db', 'duration', 'digg_count', 'share_count', 'comment_count', 'play_count', 'description', 'is_ad', 'author_id', 'suggested_words', 'url', 'transcript_en', 'transcript_de', 'sound_id']"
   ]
  },
  {
   "cell_type": "code",
   "execution_count": 169,
   "metadata": {},
   "outputs": [
    {
     "data": {
      "text/plain": [
       "<Axes: >"
      ]
     },
     "execution_count": 169,
     "metadata": {},
     "output_type": "execute_result"
    },
    {
     "data": {
      "image/png": "[encoded data removed]",
      "text/plain": [
       "<Figure size 640x480 with 1 Axes>"
      ]
     },
     "metadata": {},
     "output_type": "display_data"
    }
   ],
   "source": [
    "# plot time distribution ensure x axis is readable\n",
    "df[\"video_timestamp\"].hist(bins=20)"
   ]
  },
  {
   "cell_type": "code",
   "execution_count": 170,
   "metadata": {},
   "outputs": [
    {
     "data": {
      "text/html": [
       "<div>\n",
       "<style scoped>\n",
       "    .dataframe tbody tr th:only-of-type {\n",
       "        vertical-align: middle;\n",
       "    }\n",
       "\n",
       "    .dataframe tbody tr th {\n",
       "        vertical-align: top;\n",
       "    }\n",
       "\n",
       "    .dataframe thead th {\n",
       "        text-align: right;\n",
       "    }\n",
       "</style>\n",
       "<table border=\"1\" class=\"dataframe\">\n",
       "  <thead>\n",
       "    <tr style=\"text-align: right;\">\n",
       "      <th></th>\n",
       "      <th>video_id</th>\n",
       "      <th>video_timestamp</th>\n",
       "      <th>video_duration</th>\n",
       "      <th>video_diggcount</th>\n",
       "      <th>video_sharecount</th>\n",
       "      <th>video_commentcount</th>\n",
       "      <th>video_playcount</th>\n",
       "      <th>video_description</th>\n",
       "      <th>video_is_ad</th>\n",
       "      <th>author_username</th>\n",
       "      <th>...</th>\n",
       "      <th>author_followercount</th>\n",
       "      <th>author_followingcount</th>\n",
       "      <th>author_heartcount</th>\n",
       "      <th>author_videocount</th>\n",
       "      <th>author_diggcount</th>\n",
       "      <th>author_verified</th>\n",
       "      <th>suggested_words</th>\n",
       "      <th>url</th>\n",
       "      <th>sound_id</th>\n",
       "      <th>music</th>\n",
       "    </tr>\n",
       "  </thead>\n",
       "  <tbody>\n",
       "    <tr>\n",
       "      <th>9291</th>\n",
       "      <td>7261354386880810266</td>\n",
       "      <td>2023-07-29 21:23:42</td>\n",
       "      <td>24</td>\n",
       "      <td>768338</td>\n",
       "      <td>101300</td>\n",
       "      <td>11356</td>\n",
       "      <td>10589842</td>\n",
       "      <td>#weidel #aliceweideledit #scholz #clown #afd</td>\n",
       "      <td>False</td>\n",
       "      <td>mutzudeutschland</td>\n",
       "      <td>...</td>\n",
       "      <td>42700</td>\n",
       "      <td>3</td>\n",
       "      <td>819600</td>\n",
       "      <td>9</td>\n",
       "      <td>7</td>\n",
       "      <td>False</td>\n",
       "      <td>[weidel, aliceweideledit, scholz, clown, afd]</td>\n",
       "      <td>https://www.tiktok.com/@mutzudeutschland/video...</td>\n",
       "      <td>7261354324231850779</td>\n",
       "      <td>{'album': '', 'authorName': 'MutzuDeutschland'...</td>\n",
       "    </tr>\n",
       "    <tr>\n",
       "      <th>8655</th>\n",
       "      <td>7253499104427248923</td>\n",
       "      <td>2023-07-08 17:21:11</td>\n",
       "      <td>85</td>\n",
       "      <td>963602</td>\n",
       "      <td>100531</td>\n",
       "      <td>26455</td>\n",
       "      <td>10292817</td>\n",
       "      <td>Was sagst du dazu? 🧐 #scholzmussweg #diegrünen...</td>\n",
       "      <td>False</td>\n",
       "      <td>tonithielemarketing</td>\n",
       "      <td>...</td>\n",
       "      <td>208500</td>\n",
       "      <td>14</td>\n",
       "      <td>3400000</td>\n",
       "      <td>361</td>\n",
       "      <td>288</td>\n",
       "      <td>False</td>\n",
       "      <td>[scholzmussweg, diegrünenmüssenweg, dieregieru...</td>\n",
       "      <td>https://www.tiktok.com/@tonithielemarketing/vi...</td>\n",
       "      <td>6833934234948732941</td>\n",
       "      <td>{'album': '', 'authorName': 'Kina', 'coverLarg...</td>\n",
       "    </tr>\n",
       "    <tr>\n",
       "      <th>5000</th>\n",
       "      <td>7318212032979864865</td>\n",
       "      <td>2023-12-30 02:43:52</td>\n",
       "      <td>21</td>\n",
       "      <td>259219</td>\n",
       "      <td>11339</td>\n",
       "      <td>6485</td>\n",
       "      <td>7776794</td>\n",
       "      <td>Was haltet ihr davon? #streik 8.1.2024  #gener...</td>\n",
       "      <td>False</td>\n",
       "      <td>derletztepeter</td>\n",
       "      <td>...</td>\n",
       "      <td>43500</td>\n",
       "      <td>4928</td>\n",
       "      <td>825900</td>\n",
       "      <td>654</td>\n",
       "      <td>29200</td>\n",
       "      <td>False</td>\n",
       "      <td>[streik, generalstreik, bauernproteste, dieamp...</td>\n",
       "      <td>https://www.tiktok.com/@derletztepeter/video/7...</td>\n",
       "      <td>6783821122023475202</td>\n",
       "      <td>{'album': 'Ab geht die Post', 'authorName': 'D...</td>\n",
       "    </tr>\n",
       "    <tr>\n",
       "      <th>4617</th>\n",
       "      <td>7320578484609256736</td>\n",
       "      <td>2024-01-05 11:43:28</td>\n",
       "      <td>69</td>\n",
       "      <td>196177</td>\n",
       "      <td>68661</td>\n",
       "      <td>9386</td>\n",
       "      <td>6522257</td>\n",
       "      <td>Seit ihr dabei beim streik #streiken #streik81...</td>\n",
       "      <td>False</td>\n",
       "      <td>zeitzeugengenausdemkrieg</td>\n",
       "      <td>...</td>\n",
       "      <td>57700</td>\n",
       "      <td>49</td>\n",
       "      <td>738600</td>\n",
       "      <td>190</td>\n",
       "      <td>488</td>\n",
       "      <td>False</td>\n",
       "      <td>[streiken, streik8124, bauernstreik, ampelstre...</td>\n",
       "      <td>https://www.tiktok.com/@zeitzeugengenausdemkri...</td>\n",
       "      <td>7320578513001909024</td>\n",
       "      <td>{'album': '', 'authorName': 'zeitzeugengenausd...</td>\n",
       "    </tr>\n",
       "    <tr>\n",
       "      <th>0</th>\n",
       "      <td>7347405572540599584</td>\n",
       "      <td>2024-03-17 18:46:16</td>\n",
       "      <td>14</td>\n",
       "      <td>374911</td>\n",
       "      <td>15695</td>\n",
       "      <td>14908</td>\n",
       "      <td>6246422</td>\n",
       "      <td>#путинвор #путинхуйло #пропаганда #кремль #put...</td>\n",
       "      <td>False</td>\n",
       "      <td>kukla4242</td>\n",
       "      <td>...</td>\n",
       "      <td>40400</td>\n",
       "      <td>413</td>\n",
       "      <td>1100000</td>\n",
       "      <td>196</td>\n",
       "      <td>81</td>\n",
       "      <td>False</td>\n",
       "      <td>[путинвор, путинхуйло, пропаганда, кремль, put...</td>\n",
       "      <td>https://www.tiktok.com/@kukla4242/video/734740...</td>\n",
       "      <td>7347405597551463201</td>\n",
       "      <td>{'album': '', 'authorName': 'kukla 4242', 'cov...</td>\n",
       "    </tr>\n",
       "  </tbody>\n",
       "</table>\n",
       "<p>5 rows × 22 columns</p>\n",
       "</div>"
      ],
      "text/plain": [
       "                 video_id     video_timestamp  video_duration  \\\n",
       "9291  7261354386880810266 2023-07-29 21:23:42              24   \n",
       "8655  7253499104427248923 2023-07-08 17:21:11              85   \n",
       "5000  7318212032979864865 2023-12-30 02:43:52              21   \n",
       "4617  7320578484609256736 2024-01-05 11:43:28              69   \n",
       "0     7347405572540599584 2024-03-17 18:46:16              14   \n",
       "\n",
       "      video_diggcount  video_sharecount  video_commentcount  video_playcount  \\\n",
       "9291           768338            101300               11356         10589842   \n",
       "8655           963602            100531               26455         10292817   \n",
       "5000           259219             11339                6485          7776794   \n",
       "4617           196177             68661                9386          6522257   \n",
       "0              374911             15695               14908          6246422   \n",
       "\n",
       "                                      video_description  video_is_ad  \\\n",
       "9291       #weidel #aliceweideledit #scholz #clown #afd        False   \n",
       "8655  Was sagst du dazu? 🧐 #scholzmussweg #diegrünen...        False   \n",
       "5000  Was haltet ihr davon? #streik 8.1.2024  #gener...        False   \n",
       "4617  Seit ihr dabei beim streik #streiken #streik81...        False   \n",
       "0     #путинвор #путинхуйло #пропаганда #кремль #put...        False   \n",
       "\n",
       "               author_username  ... author_followercount  \\\n",
       "9291          mutzudeutschland  ...                42700   \n",
       "8655       tonithielemarketing  ...               208500   \n",
       "5000            derletztepeter  ...                43500   \n",
       "4617  zeitzeugengenausdemkrieg  ...                57700   \n",
       "0                    kukla4242  ...                40400   \n",
       "\n",
       "     author_followingcount  author_heartcount  author_videocount  \\\n",
       "9291                     3             819600                  9   \n",
       "8655                    14            3400000                361   \n",
       "5000                  4928             825900                654   \n",
       "4617                    49             738600                190   \n",
       "0                      413            1100000                196   \n",
       "\n",
       "      author_diggcount  author_verified  \\\n",
       "9291                 7            False   \n",
       "8655               288            False   \n",
       "5000             29200            False   \n",
       "4617               488            False   \n",
       "0                   81            False   \n",
       "\n",
       "                                        suggested_words  \\\n",
       "9291      [weidel, aliceweideledit, scholz, clown, afd]   \n",
       "8655  [scholzmussweg, diegrünenmüssenweg, dieregieru...   \n",
       "5000  [streik, generalstreik, bauernproteste, dieamp...   \n",
       "4617  [streiken, streik8124, bauernstreik, ampelstre...   \n",
       "0     [путинвор, путинхуйло, пропаганда, кремль, put...   \n",
       "\n",
       "                                                    url             sound_id  \\\n",
       "9291  https://www.tiktok.com/@mutzudeutschland/video...  7261354324231850779   \n",
       "8655  https://www.tiktok.com/@tonithielemarketing/vi...  6833934234948732941   \n",
       "5000  https://www.tiktok.com/@derletztepeter/video/7...  6783821122023475202   \n",
       "4617  https://www.tiktok.com/@zeitzeugengenausdemkri...  7320578513001909024   \n",
       "0     https://www.tiktok.com/@kukla4242/video/734740...  7347405597551463201   \n",
       "\n",
       "                                                  music  \n",
       "9291  {'album': '', 'authorName': 'MutzuDeutschland'...  \n",
       "8655  {'album': '', 'authorName': 'Kina', 'coverLarg...  \n",
       "5000  {'album': 'Ab geht die Post', 'authorName': 'D...  \n",
       "4617  {'album': '', 'authorName': 'zeitzeugengenausd...  \n",
       "0     {'album': '', 'authorName': 'kukla 4242', 'cov...  \n",
       "\n",
       "[5 rows x 22 columns]"
      ]
     },
     "execution_count": 170,
     "metadata": {},
     "output_type": "execute_result"
    }
   ],
   "source": [
    "# sort by playCount\n",
    "df.sort_values(\"video_playcount\", ascending=False, inplace=True)\n",
    "\n",
    "df.head()"
   ]
  },
  {
   "cell_type": "code",
   "execution_count": 171,
   "metadata": {},
   "outputs": [],
   "source": [
    "# save to csv\n",
    "df.to_csv(\"data/tiktok_videos_based_on_hashtags_cleaned_II.csv\", index=False)"
   ]
  },
  {
   "cell_type": "markdown",
   "metadata": {},
   "source": [
    "# Load to DB"
   ]
  },
  {
   "cell_type": "markdown",
   "metadata": {},
   "source": [
    "### Connect to db"
   ]
  },
  {
   "cell_type": "code",
   "execution_count": 240,
   "metadata": {},
   "outputs": [],
   "source": [
    "\n",
    "server = 'tcp:sql-server-tiktok.database.windows.net'\n",
    "database = 'azure-sql-db'\n",
    "username = ''\n",
    "password = ''\n",
    "driver='/opt/homebrew/lib/libmsodbcsql.18.dylib' #'{ODBC Driver 17 for SQL Server}'\n",
    "\n",
    "connection_str = f\"Driver={driver};Server={server},1433;Database={database};Uid={username};Pwd={password};Encrypt=yes;TrustServerCertificate=no;Connection Timeout=30;\"\n"
   ]
  },
  {
   "cell_type": "code",
   "execution_count": 242,
   "metadata": {},
   "outputs": [],
   "source": [
    "cnxn = pyodbc.connect(connection_str)\n",
    "cursor = cnxn.cursor()"
   ]
  },
  {
   "cell_type": "markdown",
   "metadata": {},
   "source": [
    "## Add users to users table"
   ]
  },
  {
   "cell_type": "code",
   "execution_count": null,
   "metadata": {},
   "outputs": [],
   "source": []
  },
  {
   "cell_type": "code",
   "execution_count": null,
   "metadata": {},
   "outputs": [],
   "source": [
    "def add_users_to_db(processed_videos, connection_str):\n",
    "    with pyodbc.connect(connection_str) as cnxn:\n",
    "        cursor = cnxn.cursor()\n",
    "\n",
    "        # Make sure only new users get added to the db\n",
    "        # Get all unique author ids from the processed videos\n",
    "        unique_author_ids = {video[\"author_id\"] for video in processed_videos}\n",
    "        \n",
    "        # Get all unique author ids from the SQL database\n",
    "        cursor.execute(\"SELECT id FROM dbo.Users\")\n",
    "        unique_author_ids_sql = {row[0] for row in cursor.fetchall()}\n",
    "\n",
    "        # Determine which author ids need to be added\n",
    "        unique_author_ids_to_add = unique_author_ids - unique_author_ids_sql\n",
    "        \n",
    "        # Filter authors to add\n",
    "        authors_to_add = [video for video in processed_videos if video[\"author_id\"] in unique_author_ids_to_add]\n",
    "        print(\"Number of new users to be added to database\",len(users_to_add))\n",
    "\n",
    "        # Add authors to SQL database\n",
    "        for author in authors_to_add:\n",
    "            query = \"\"\"\n",
    "            INSERT INTO dbo.Users\n",
    "            (id, unique_name_id, nickname, follower_count, following_count, heart_count, video_count, digg_count, verified)\n",
    "            VALUES (?, ?, ?, ?, ?, ?, ?, ?, ?)\n",
    "            \"\"\"\n",
    "            data = (\n",
    "                int(author['author_id']),\n",
    "                str(author['author_username']),\n",
    "                str(author['author_name']),\n",
    "                int(author['author_followercount']),\n",
    "                int(author['author_followingcount']),\n",
    "                int(author['author_heartcount']),\n",
    "                int(author['author_videocount']),\n",
    "                int(author['author_diggcount']),\n",
    "                bool(author['author_verified']),\n",
    "            )\n",
    "            cursor.execute(query, data)\n",
    "        cnxn.commit()\n",
    "\n",
    "# Call the function to add users\n",
    "add_users_to_db(processed_videos, connection_str)\n"
   ]
  },
  {
   "cell_type": "code",
   "execution_count": 174,
   "metadata": {},
   "outputs": [
    {
     "name": "stdout",
     "output_type": "stream",
     "text": [
      "id\n",
      "follower_count\n",
      "following_count\n",
      "heart_count\n",
      "video_count\n",
      "digg_count\n",
      "verified\n",
      "nickname\n",
      "unique_name_id\n"
     ]
    }
   ],
   "source": [
    "# print all column names of Videos db\n",
    "cursor.execute(\"SELECT COLUMN_NAME FROM INFORMATION_SCHEMA.COLUMNS WHERE TABLE_NAME = N'Users'\")\n",
    "columns = cursor.fetchall()\n",
    "for column in columns:\n",
    "    print(column[0])"
   ]
  },
  {
   "cell_type": "code",
   "execution_count": null,
   "metadata": {},
   "outputs": [],
   "source": [
    "# #  add users to sql database (dbo.Users) with the following schema ['id', 'unique_name_id', 'nickname', 'follower_count', 'following_count', 'heart_count', 'video_count', 'digg_count', 'verified']\n",
    "\n",
    "\n",
    "# with pyodbc.connect(connection_str) as cnxn:\n",
    "#     cursor = cnxn.cursor()\n",
    "\n",
    "#     print(\"len df\", len(df))\n",
    "#     # get all unique author ids\n",
    "#     unique_author_ids = df[\"author_id\"].unique()\n",
    "\n",
    "#     print(\"len unique_author_ids\", unique_author_ids.shape[0])\n",
    "\n",
    "#     # get all unique author ids from sql database\n",
    "\n",
    "#     cursor.execute(\"SELECT id FROM dbo.Users\")\n",
    "#     unique_author_ids_sql = cursor.fetchall()\n",
    "#     unique_author_ids_sql = [id[0] for id in unique_author_ids_sql]\n",
    "\n",
    "#     # convert unique_author_ids_sql to strings instead of ints\n",
    "#     unique_author_ids_sql = [str(id) for id in unique_author_ids_sql]\n",
    "\n",
    "#     print(\"len unique_author_ids_sql\", len(unique_author_ids_sql))\n",
    "\n",
    "#     # get all unique author ids that are not in the sql database\n",
    "#     unique_author_ids_to_add = set(unique_author_ids) - set(unique_author_ids_sql)\n",
    "\n",
    "#     print(\"len unique_author_ids_to_add\", len(unique_author_ids_to_add))\n",
    "\n",
    "#     # get all authors that are not in the sql database based on set object\n",
    "#     authors_to_add = df[df[\"author_id\"].apply(lambda x: x in unique_author_ids_to_add)]\n",
    "\n",
    "#     # remove duplicates by author\n",
    "#     authors_to_add = authors_to_add.drop_duplicates(subset=\"author_id\")\n",
    "\n",
    "#     print(\"len authors_to_add\", len(authors_to_add))\n",
    "\n",
    "    \n",
    "\n",
    "#     # add authors to sql database\n",
    "#     for i in range(0, len(authors_to_add)):\n",
    "#         author = authors_to_add.iloc[i]\n",
    "#         # Prepare the SQL query using placeholders\n",
    "#         query = \"\"\"\n",
    "#         INSERT INTO dbo.Users\n",
    "#         (id, unique_name_id, nickname, follower_count, following_count, heart_count, video_count, digg_count, verified)\n",
    "#         VALUES (?, ?, ?, ?, ?, ?, ?, ?, ?)\n",
    "#         \"\"\"\n",
    "\n",
    "#         data = (\n",
    "#             int(author['author_id']),\n",
    "#             str(author['author_username']),\n",
    "#             str(author['author_name']),\n",
    "#             int(author['author_followercount']),\n",
    "#             int(author['author_followingcount']),\n",
    "#             int(author['author_heartcount']),\n",
    "#             int(author['author_videocount']),\n",
    "#             int(author['author_diggcount']),\n",
    "#             bool(author['author_verified']),\n",
    "#         )\n",
    "        \n",
    "#         print(data)\n",
    "#         # print final query with data \n",
    "#         #print(f\"INSERT INTO dbo.Users (id, unique_name_id, nickname, follower_count, following_count, heart_count, video_count, digg_count, verified) VALUES ({int(author['author_id'])}, {str(author['author_username'])}, {str(author['author_name'])}, {int(author['author_followercount'])}, {int(author['author_followingcount'])}, {int(author['author_heartcount'])}, {int(author['author_videocount'])}, {int(author['author_diggcount'])}, {bool(author['author_verified'])})\")\n",
    "\n",
    "#         cursor.execute(query, data)\n",
    "#         #cnxn.commit()\n"
   ]
  },
  {
   "cell_type": "markdown",
   "metadata": {},
   "source": [
    "## Add sounds to sounds table"
   ]
  },
  {
   "cell_type": "markdown",
   "metadata": {},
   "source": [
    "Get all column names of sounds table"
   ]
  },
  {
   "cell_type": "code",
   "execution_count": 176,
   "metadata": {},
   "outputs": [
    {
     "name": "stdout",
     "output_type": "stream",
     "text": [
      "id\n",
      "title\n",
      "original_sound\n",
      "album\n",
      "author_name\n",
      "url\n"
     ]
    }
   ],
   "source": [
    "# print all column names of Videos db\n",
    "cursor.execute(\"SELECT COLUMN_NAME FROM INFORMATION_SCHEMA.COLUMNS WHERE TABLE_NAME = N'Sounds'\")\n",
    "columns = cursor.fetchall()\n",
    "for column in columns:\n",
    "    print(column[0])"
   ]
  },
  {
   "cell_type": "markdown",
   "metadata": {},
   "source": [
    "Insert Operations"
   ]
  },
  {
   "cell_type": "code",
   "execution_count": 254,
   "metadata": {},
   "outputs": [
    {
     "name": "stdout",
     "output_type": "stream",
     "text": [
      "201\n"
     ]
    }
   ],
   "source": [
    "def add_sounds_to_db(processed_videos, connection_str):\n",
    "    with pyodbc.connect(connection_str) as cnxn:\n",
    "        cursor = cnxn.cursor()\n",
    "\n",
    "        # Get all unique sound ids from the processed videos\n",
    "        unique_sound_ids = {video[\"sound_id\"] for video in processed_videos if video[\"sound_id\"]}\n",
    "\n",
    "        # Get all unique sound ids from the SQL database\n",
    "        cursor.execute(\"SELECT id FROM dbo.Sounds\")\n",
    "        unique_sound_ids_sql = {row[0] for row in cursor.fetchall()}\n",
    "\n",
    "        # Determine which sound ids need to be added\n",
    "        unique_sound_ids_to_add = unique_sound_ids - unique_sound_ids_sql\n",
    "\n",
    "        # Filter sounds to add\n",
    "        sounds_to_add = [video for video in processed_videos if video[\"sound_id\"] in unique_sound_ids_to_add]\n",
    "\n",
    "        print(\"Number of new sounds to be added to database\",len(sounds_to_add))\n",
    "        \n",
    "        # Add sounds to SQL database\n",
    "        for sound in sounds_to_add:\n",
    "            query = \"\"\"\n",
    "            INSERT INTO dbo.Sounds \n",
    "            (id, title, original_sound, album, author_name, url)\n",
    "            VALUES (?, ?, ?, ?, ?, ?)\n",
    "            \"\"\"\n",
    "            title = str(sound['music']['title']).strip().replace(\" \", \"-\")\n",
    "            url = f\"https://www.tiktok.com/music/{title}-{sound['sound_id']}\"\n",
    "            data = (\n",
    "                int(sound['sound_id']), \n",
    "                str(sound['music']['title']),\n",
    "                bool(sound['music']['original']),\n",
    "                str(sound['music']['album']),\n",
    "                str(sound['music']['authorName']),\n",
    "                url,\n",
    "            )\n",
    "            cursor.execute(query, data)\n",
    "        cnxn.commit()\n",
    "\n",
    "# Call the function to add sounds\n",
    "add_sounds_to_db(processed_videos, connection_str)\n"
   ]
  },
  {
   "cell_type": "code",
   "execution_count": 177,
   "metadata": {},
   "outputs": [
    {
     "name": "stdout",
     "output_type": "stream",
     "text": [
      "len unique_sound_ids 6585\n",
      "len unique_sound_ids_sql 4035\n",
      "len sounds_to_add 2855\n",
      "len sounds_to_add 2854\n"
     ]
    }
   ],
   "source": [
    "# # add sounds to sql database (dbo.Sounds) with the following schema ['id', 'title', 'play_url', 'author_name', 'author_id', 'video_count', 'use_count']\n",
    "\n",
    "# with pyodbc.connect(connection_str) as cnxn:\n",
    "#     cursor = cnxn.cursor()\n",
    "\n",
    "#     # get all unique sound ids\n",
    "#     unique_sound_ids = df[\"sound_id\"].unique()\n",
    "\n",
    "#     print(\"len unique_sound_ids\", unique_sound_ids.shape[0])\n",
    "\n",
    "#     # get all unique sound ids from sql database\n",
    "#     cursor.execute(\"SELECT id FROM dbo.Sounds\")\n",
    "#     unique_sound_ids_sql = cursor.fetchall()\n",
    "#     unique_sound_ids_sql = [id[0] for id in unique_sound_ids_sql]\n",
    "\n",
    "#     print(\"len unique_sound_ids_sql\", len(unique_sound_ids_sql))\n",
    "\n",
    "#     # convert unique_sound_ids_sql to strings instead of ints\n",
    "#     unique_sound_ids_sql = [str(id) for id in unique_sound_ids_sql]\n",
    "\n",
    "#     # get all unique sound ids that are not in the sql database\n",
    "#     unique_sound_ids_to_add = set(unique_sound_ids) - set(unique_sound_ids_sql)\n",
    "\n",
    "#     # get all sounds that are not in the sql database based on set object\n",
    "#     sounds_to_add = df[df[\"sound_id\"].apply(lambda x: x in unique_sound_ids_to_add)]\n",
    "    \n",
    "#     # remove duplicates by sound\n",
    "#     sounds_to_add = sounds_to_add.drop_duplicates(subset=\"sound_id\")\n",
    "\n",
    "#     print(\"len sounds_to_add\", len(sounds_to_add))\n",
    "\n",
    "#     # remove rows with empty sound_ids \"\"\n",
    "#     sounds_to_add = sounds_to_add[sounds_to_add[\"sound_id\"] != \"\"]\n",
    "\n",
    "#     print(\"len sounds_to_add\", len(sounds_to_add))\n",
    "\n",
    "\n",
    "#     # add sounds to sql database\n",
    "#     for i in range(0, len(sounds_to_add)):\n",
    "#         sound = sounds_to_add.iloc[i]\n",
    "\n",
    "#         title = str(sound['music']['title']).strip().replace(\" \", \"-\")\n",
    "\n",
    "#         url = f\"https://www.tiktok.com/music/{title}-{sound['sound_id']}\"\n",
    "#         # Prepare the SQL query using placeholders\n",
    "#         query = \"\"\"\n",
    "#         INSERT INTO dbo.Sounds \n",
    "#         (id, title, original_sound, album, author_name, url)\n",
    "#         VALUES (?, ?, ?, ?, ?, ?)\n",
    "#         \"\"\"\n",
    "\n",
    "#         data = (\n",
    "#         int(sound['sound_id']), \n",
    "#         str(sound['music']['title']),\n",
    "#         bool(sound['music']['original']),\n",
    "#         str(sound['music']['album']),\n",
    "#         str(sound['music']['authorName']),\n",
    "#         url,\n",
    "#         )\n",
    "        \n",
    "\n",
    "#         # Execute the query with the data tuple\n",
    "#         cursor.execute(query, data)"
   ]
  },
  {
   "cell_type": "markdown",
   "metadata": {},
   "source": [
    "## Add videos to videos table"
   ]
  },
  {
   "cell_type": "markdown",
   "metadata": {},
   "source": [
    "Get all column names of videos table"
   ]
  },
  {
   "cell_type": "code",
   "execution_count": 179,
   "metadata": {},
   "outputs": [
    {
     "name": "stdout",
     "output_type": "stream",
     "text": [
      "id\n",
      "timestamp_upload\n",
      "timestamp_db\n",
      "duration\n",
      "digg_count\n",
      "share_count\n",
      "comment_count\n",
      "play_count\n",
      "description\n",
      "is_ad\n",
      "author_id\n",
      "suggested_words\n",
      "url\n",
      "transcript_en\n",
      "transcript_de\n",
      "sound_id\n",
      "removed\n",
      "has_transcript\n",
      "no_transcript_reason\n"
     ]
    }
   ],
   "source": [
    "# print all column names of Videos db\n",
    "cursor.execute(\"SELECT COLUMN_NAME FROM INFORMATION_SCHEMA.COLUMNS WHERE TABLE_NAME = N'Videos'\")\n",
    "columns = cursor.fetchall()\n",
    "for column in columns:\n",
    "    print(column[0])"
   ]
  },
  {
   "cell_type": "code",
   "execution_count": 255,
   "metadata": {},
   "outputs": [
    {
     "name": "stdout",
     "output_type": "stream",
     "text": [
      "Number of new videos to be added to database 236\n"
     ]
    }
   ],
   "source": [
    "def add_videos_to_db(processed_videos, connection_str):\n",
    "    with pyodbc.connect(connection_str) as cnxn:\n",
    "        cursor = cnxn.cursor()\n",
    "\n",
    "        # Get all unique video ids from the SQL database\n",
    "        cursor.execute(\"SELECT id FROM dbo.Videos\")\n",
    "        unique_video_ids_sql = {row[0] for row in cursor.fetchall()}\n",
    "\n",
    "        # Determine which video ids need to be added\n",
    "        unique_video_ids_to_add = {video[\"video_id\"] for video in processed_videos} - unique_video_ids_sql\n",
    "\n",
    "        # Filter videos to add\n",
    "        videos_to_add = [video for video in processed_videos if video[\"video_id\"] in unique_video_ids_to_add]\n",
    "        \n",
    "        print(\"Number of new videos to be added to database\",len(videos_to_add))\n",
    "\n",
    "        # Add videos to SQL database\n",
    "        for video in videos_to_add:\n",
    "            query = \"\"\"\n",
    "            INSERT INTO dbo.Videos \n",
    "            (id, timestamp_upload, timestamp_db, duration, digg_count, share_count, comment_count, play_count, description, is_ad, author_id, suggested_words, url, transcript_en, transcript_de, sound_id, removed, has_transcript, no_transcript_reason, core_messages_de) \n",
    "            VALUES (?, ?, ?, ?, ?, ?, ?, ?, ?, ?, ?, ?, ?, ?, ?, ?, ?, ?, ?, ?)\n",
    "            \"\"\"\n",
    "            data = (\n",
    "                int(video['video_id']), \n",
    "                video['video_timestamp'],\n",
    "                datetime.fromtimestamp(time.time()),  # Current time as datetime\n",
    "                float(video['video_duration']),\n",
    "                int(video['video_diggcount']),\n",
    "                int(video['video_sharecount']),\n",
    "                int(video['video_commentcount']),\n",
    "                int(video['video_playcount']),\n",
    "                str(video['video_description']),\n",
    "                bool(video['video_is_ad']),\n",
    "                int(video['author_id']),\n",
    "                str(video['suggested_words']),\n",
    "                str(video['url']),\n",
    "                None,\n",
    "                None,\n",
    "                int(video['sound_id']) if video['sound_id'] else None,\n",
    "                False,\n",
    "                None,\n",
    "                None,\n",
    "                None,\n",
    "            )\n",
    "            cursor.execute(query, data)\n",
    "        cnxn.commit()\n",
    "\n",
    "# Call the function to add videos\n",
    "add_videos_to_db(processed_videos, connection_str)\n"
   ]
  },
  {
   "cell_type": "code",
   "execution_count": 190,
   "metadata": {},
   "outputs": [
    {
     "name": "stdout",
     "output_type": "stream",
     "text": [
      "len df 8206\n",
      "len unique_video_ids_sql 5006\n",
      "len unique_video_ids_to_add 3617\n",
      "len videos_to_add 3617\n",
      "3617\n"
     ]
    }
   ],
   "source": [
    "# with pyodbc.connect(connection_str) as cnxn:\n",
    "#     cursor = cnxn.cursor()\n",
    "\n",
    "#     # remove duplicate videos and do not upload videos twice\n",
    "#     df = df.drop_duplicates(subset=\"video_id\")\n",
    "#     print(\"len df\", len(df))\n",
    "\n",
    "#     # get all unique video ids from sql database\n",
    "#     cursor.execute(\"SELECT id FROM dbo.Videos\")\n",
    "#     unique_video_ids_sql = cursor.fetchall()\n",
    "#     unique_video_ids_sql = [id[0] for id in unique_video_ids_sql]\n",
    "#     print(\"len unique_video_ids_sql\", len(unique_video_ids_sql))\n",
    "\n",
    "#     # convert to string\n",
    "#     unique_video_ids_sql = [str(id) for id in unique_video_ids_sql]\n",
    "    \n",
    "#     # get all unique video ids that are not in the sql database\n",
    "#     unique_video_ids_to_add = set(df[\"video_id\"].unique()) - set(unique_video_ids_sql)\n",
    "#     print(\"len unique_video_ids_to_add\", len(unique_video_ids_to_add))\n",
    "\n",
    "#     # get all videos that are not in the sql database based on set object\n",
    "#     videos_to_add = df[df[\"video_id\"].apply(lambda x: x in unique_video_ids_to_add)]\n",
    "#     print(\"len videos_to_add\", len(videos_to_add))\n",
    "\n",
    "#     print(videos_to_add.shape[0])\n",
    "\n",
    "#     for i in range(0, len(videos_to_add)):\n",
    "#         video = videos_to_add.iloc[i]\n",
    "#         # Prepare the SQL query using placeholders\n",
    "#         query = \"\"\"\n",
    "#         INSERT INTO dbo.Videos \n",
    "#         (id, timestamp_upload, timestamp_db, duration, digg_count, share_count, comment_count, play_count, description, is_ad, author_id, suggested_words, url, transcript_en, transcript_de, sound_id, removed, has_transcript, no_transcript_reason) \n",
    "#         VALUES (?, ?, ?, ?, ?, ?, ?, ?, ?, ?, ?, ?, ?, ?, ?, ?, ?, ?, ?)\n",
    "#         \"\"\"\n",
    "\n",
    "#         data = (\n",
    "#         int(video['video_id']), \n",
    "#         # convert pandas timestamp to datetime\n",
    "#         pd.Timestamp(video['video_timestamp']).to_pydatetime(),\n",
    "#         datetime.datetime.fromtimestamp(time.time()),  # Current time as datetime\n",
    "#         float(video['video_duration']),\n",
    "#         int(video['video_diggcount']),\n",
    "#         int(video['video_sharecount']),\n",
    "#         int(video['video_commentcount']),\n",
    "#         int(video['video_playcount']),\n",
    "#         str(video['video_description']),\n",
    "#         bool(video['video_is_ad']),\n",
    "#         int(video['author_id']),\n",
    "#         str(video['suggested_words']),\n",
    "#         str(video['url']),\n",
    "#         None,\n",
    "#         None,\n",
    "#         int(video['sound_id']) if video['sound_id']!= \"\" else None,\n",
    "#         False,\n",
    "#         None,\n",
    "#         None,\n",
    "#         )\n",
    "        \n",
    "#         #print(data)\n",
    "\n",
    "#         # Execute the query with the data tuple\n",
    "#         cursor.execute(query, data)\n",
    "#     cnxn.commit()\n"
   ]
  },
  {
   "cell_type": "code",
   "execution_count": 191,
   "metadata": {},
   "outputs": [
    {
     "name": "stdout",
     "output_type": "stream",
     "text": [
      "8623\n"
     ]
    }
   ],
   "source": [
    "# get SELECT * FROM [dbo].[Videos] WHERE transcript_en IS NULL;\n",
    "cursor.execute(\"SELECT * FROM [dbo].[Videos] WHERE transcript_en IS NULL\")\n",
    "videos = cursor.fetchall()\n",
    "print(len(videos))"
   ]
  },
  {
   "cell_type": "code",
   "execution_count": null,
   "metadata": {},
   "outputs": [],
   "source": []
  }
 ],
 "metadata": {
  "kernelspec": {
   "display_name": "reclaim-tiktok",
   "language": "python",
   "name": "python3"
  },
  "language_info": {
   "codemirror_mode": {
    "name": "ipython",
    "version": 3
   },
   "file_extension": ".py",
   "mimetype": "text/x-python",
   "name": "python",
   "nbconvert_exporter": "python",
   "pygments_lexer": "ipython3",
   "version": "3.10.14"
  }
 },
 "nbformat": 4,
 "nbformat_minor": 2
}
