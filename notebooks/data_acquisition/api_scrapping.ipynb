{
 "cells": [
  {
   "cell_type": "code",
   "execution_count": 2,
   "metadata": {},
   "outputs": [],
   "source": [
    "import os\n",
    "import asyncio\n",
    "\n",
    "import pandas as pd\n",
    "import pyodbc\n",
    "\n",
    "from reclaim_tiktok.scrapping.scrapper import Scrapper\n",
    "\n",
    "import nest_asyncio\n",
    "nest_asyncio.apply()\n",
    "\n",
    "from dotenv import load_dotenv\n",
    "\n",
    "load_dotenv()\n",
    "%load_ext autoreload\n",
    "%autoreload 2"
   ]
  },
  {
   "cell_type": "code",
   "execution_count": 61,
   "metadata": {},
   "outputs": [],
   "source": [
    "ms_token =[\"K6ycnFewW5yhPmBCFOe1PwyDvkXz_faFA6BMw8MmyxdRMxR2QpwiAZsNdHCps1nvHPJPn5R-PuJtlKImgAo08FYbRYLYBK4fL5YLnTtSd2I=\", \"rX-PrFF0AAPmO2xGm05ms_Kt_kozEvHd7pMM-yqZGhpdTxoF3B_RpNJItWLK6FlGSqLLtzLz1kcw7PmQ6WFNUZeUH-QzV7qHZjZk5E7I3k8cMghLvkAMMkA-0C_W\", \"e1zeZ9T8jeV1yRcyRid_h9z4TqgI-6F5RWJz_zNSUFKVKwyXFDOjj2Zm0JdqR6qLL3MzsI0U-0bfVBxD_ZXfRIOXewE1Hymiq4Nu6ytHg7c=\"] #os.environ.get(\"ms_token\", None)"
   ]
  },
  {
   "cell_type": "markdown",
   "metadata": {},
   "source": [
    "# Retrieve data through API based on hashtas"
   ]
  },
  {
   "cell_type": "code",
   "execution_count": 69,
   "metadata": {},
   "outputs": [],
   "source": [
    "scrapper = Scrapper(ms_token=ms_token[0])"
   ]
  },
  {
   "cell_type": "code",
   "execution_count": 159,
   "metadata": {},
   "outputs": [],
   "source": [
    "#load hashtags from csv\n",
    "hashtags = pd.read_csv(\"data/classifier/hashtag_list_curated.csv\")"
   ]
  },
  {
   "cell_type": "code",
   "execution_count": null,
   "metadata": {},
   "outputs": [],
   "source": [
    "hashtags[\"Hashtag\"]"
   ]
  },
  {
   "cell_type": "code",
   "execution_count": null,
   "metadata": {},
   "outputs": [],
   "source": [
    "videos = []"
   ]
  },
  {
   "cell_type": "code",
   "execution_count": 5,
   "metadata": {},
   "outputs": [
    {
     "name": "stdout",
     "output_type": "stream",
     "text": [
      "Searching for afd\n"
     ]
    }
   ],
   "source": [
    "videos = asyncio.run(scrapper.search_videos_by_hashtags(count=10000, hashtags=hashtags[\"Hashtag\"], videos=videos))"
   ]
  },
  {
   "cell_type": "code",
   "execution_count": 235,
   "metadata": {},
   "outputs": [
    {
     "data": {
      "text/plain": [
       "392"
      ]
     },
     "execution_count": 235,
     "metadata": {},
     "output_type": "execute_result"
    }
   ],
   "source": [
    "len(videos)"
   ]
  },
  {
   "cell_type": "markdown",
   "metadata": {},
   "source": [
    "# Process Data"
   ]
  },
  {
   "cell_type": "code",
   "execution_count": null,
   "metadata": {},
   "outputs": [],
   "source": [
    "\n",
    "# Process each video and collect the processed data\n",
    "processed_videos = [scrapper.process_video(video) for video in scrapper.filter_unique_videos(videos)]\n",
    "\n"
   ]
  },
  {
   "cell_type": "markdown",
   "metadata": {},
   "source": [
    "# Load to DB"
   ]
  },
  {
   "cell_type": "markdown",
   "metadata": {},
   "source": [
    "### Connect to db"
   ]
  },
  {
   "cell_type": "code",
   "execution_count": 3,
   "metadata": {},
   "outputs": [],
   "source": [
    "driver = os.environ[\"DB_DRIVER\"]\n",
    "server = os.environ[\"DB_SERVER\"]\n",
    "database = os.environ[\"DB_DATABASE\"]\n",
    "username = os.environ[\"DB_USERNAME\"]\n",
    "password = os.environ[\"DB_PASSWORD\"]\n",
    "connection_str = f\"Driver={driver};Server={server},1433;Database={database};Uid={username};Pwd={password};Encrypt=yes;TrustServerCertificate=no;Connection Timeout=30;\"\n"
   ]
  },
  {
   "cell_type": "code",
   "execution_count": 68,
   "metadata": {},
   "outputs": [],
   "source": [
    "cnxn = pyodbc.connect(connection_str)\n",
    "cursor = cnxn.cursor()"
   ]
  },
  {
   "cell_type": "markdown",
   "metadata": {},
   "source": [
    "## Add users to users table"
   ]
  },
  {
   "cell_type": "code",
   "execution_count": 7,
   "metadata": {},
   "outputs": [
    {
     "name": "stdout",
     "output_type": "stream",
     "text": [
      "id\n",
      "follower_count\n",
      "following_count\n",
      "heart_count\n",
      "video_count\n",
      "digg_count\n",
      "verified\n",
      "nickname\n",
      "unique_name_id\n"
     ]
    }
   ],
   "source": [
    "# print all column names of Videos db\n",
    "cursor.execute(\"SELECT COLUMN_NAME FROM INFORMATION_SCHEMA.COLUMNS WHERE TABLE_NAME = N'Users'\")\n",
    "columns = cursor.fetchall()\n",
    "for column in columns:\n",
    "    print(column[0])"
   ]
  },
  {
   "cell_type": "code",
   "execution_count": null,
   "metadata": {},
   "outputs": [],
   "source": [
    "scrapper.add_users_to_db(processed_videos, connection_str=connection_str)"
   ]
  },
  {
   "cell_type": "markdown",
   "metadata": {},
   "source": [
    "## Add sounds to sounds table"
   ]
  },
  {
   "cell_type": "markdown",
   "metadata": {},
   "source": [
    "Get all column names of sounds table"
   ]
  },
  {
   "cell_type": "code",
   "execution_count": null,
   "metadata": {},
   "outputs": [],
   "source": [
    "# print all column names of Videos db\n",
    "cursor.execute(\"SELECT COLUMN_NAME FROM INFORMATION_SCHEMA.COLUMNS WHERE TABLE_NAME = N'Sounds'\")\n",
    "columns = cursor.fetchall()\n",
    "for column in columns:\n",
    "    print(column[0])"
   ]
  },
  {
   "cell_type": "code",
   "execution_count": null,
   "metadata": {},
   "outputs": [],
   "source": [
    "scrapper.add_sounds_to_db(processed_videos, connection_str=connection_str)"
   ]
  },
  {
   "cell_type": "markdown",
   "metadata": {},
   "source": [
    "## Add videos to videos table"
   ]
  },
  {
   "cell_type": "markdown",
   "metadata": {},
   "source": [
    "Get all column names of videos table"
   ]
  },
  {
   "cell_type": "code",
   "execution_count": null,
   "metadata": {},
   "outputs": [],
   "source": [
    "# print all column names of Videos db\n",
    "cursor.execute(\"SELECT COLUMN_NAME FROM INFORMATION_SCHEMA.COLUMNS WHERE TABLE_NAME = N'Videos'\")\n",
    "columns = cursor.fetchall()\n",
    "for column in columns:\n",
    "    print(column[0])"
   ]
  },
  {
   "cell_type": "code",
   "execution_count": null,
   "metadata": {},
   "outputs": [],
   "source": [
    "# add users to db\n",
    "scrapper.add_videos_to_db(processed_videos, connection_str=connection_str)"
   ]
  },
  {
   "cell_type": "code",
   "execution_count": 191,
   "metadata": {},
   "outputs": [
    {
     "name": "stdout",
     "output_type": "stream",
     "text": [
      "8623\n"
     ]
    }
   ],
   "source": [
    "# get SELECT * FROM [dbo].[Videos] WHERE transcript_en IS NULL;\n",
    "cursor.execute(\"SELECT * FROM [dbo].[Videos] WHERE transcript_en IS NULL\")\n",
    "videos = cursor.fetchall()\n",
    "print(len(videos))"
   ]
  },
  {
   "cell_type": "markdown",
   "metadata": {},
   "source": [
    "## Get more videos based on users in db"
   ]
  },
  {
   "cell_type": "code",
   "execution_count": 8,
   "metadata": {},
   "outputs": [
    {
     "name": "stdout",
     "output_type": "stream",
     "text": [
      "2524\n"
     ]
    }
   ],
   "source": [
    "# Retrieve all users in the database\n",
    "cursor.execute(\"SELECT * FROM [dbo].[Users]\")\n",
    "users = cursor.fetchall()\n",
    "print(len(users))"
   ]
  },
  {
   "cell_type": "code",
   "execution_count": 9,
   "metadata": {},
   "outputs": [
    {
     "name": "stdout",
     "output_type": "stream",
     "text": [
      "2524\n"
     ]
    }
   ],
   "source": [
    "# get unique_name_id from Users\n",
    "cursor.execute(\"SELECT unique_name_id FROM [dbo].[Users]\")\n",
    "unique_name_ids = cursor.fetchall()\n",
    "print(len(unique_name_ids)) "
   ]
  },
  {
   "cell_type": "code",
   "execution_count": 10,
   "metadata": {},
   "outputs": [],
   "source": [
    "# add the elements as strings to a list \n",
    "unique_name_ids = [x[0] for x in unique_name_ids]"
   ]
  },
  {
   "cell_type": "code",
   "execution_count": 50,
   "metadata": {},
   "outputs": [],
   "source": [
    "videos_by_user = []"
   ]
  },
  {
   "cell_type": "code",
   "execution_count": null,
   "metadata": {},
   "outputs": [],
   "source": [
    "# chunk the unique_name_ids list and loop through them\n",
    "import random\n",
    "\n",
    "\n",
    "for i in range(0, len(unique_name_ids)):\n",
    "    try:\n",
    "        videos_by_user = asyncio.run(scrapper.search_videos_by_users(count=33, users=unique_name_ids[i:i+15], videos=videos_by_user))\n",
    "    except Exception as e:\n",
    "        print(e)\n",
    "        # random select of ms_token in ms_token list without removing the token from the list\n",
    "        while True:\n",
    "            random_idx = random.randint(0, len(ms_token)-1)\n",
    "            new_ms_token = ms_token[random_idx]\n",
    "            if new_ms_token != scrapper.ms_token:\n",
    "                break\n",
    "        scrapper.update_ms_token(ms_token=new_ms_token)\n",
    "        #time.sleep(2)\n",
    "        continue\n",
    "    print(len(videos_by_user))"
   ]
  },
  {
   "cell_type": "code",
   "execution_count": 53,
   "metadata": {},
   "outputs": [
    {
     "data": {
      "text/plain": [
       "11877"
      ]
     },
     "execution_count": 53,
     "metadata": {},
     "output_type": "execute_result"
    }
   ],
   "source": [
    "len(videos_by_user)"
   ]
  },
  {
   "cell_type": "markdown",
   "metadata": {},
   "source": [
    "## Process data"
   ]
  },
  {
   "cell_type": "code",
   "execution_count": 63,
   "metadata": {},
   "outputs": [
    {
     "name": "stdout",
     "output_type": "stream",
     "text": [
      "11069\n",
      "2473\n"
     ]
    }
   ],
   "source": [
    "\n",
    "# Process each video and collect the processed data\n",
    "processed_videos_by_user = [scrapper.process_video(video) for video in scrapper.filter_unique_videos(videos_by_user)]\n",
    "\n",
    "print(len(processed_videos_by_user))\n",
    "\n",
    "# filter processed_videos_by_user for videos that contain \"afd\" in the author_name or author_username\n",
    "afd_videos = [video for video in processed_videos_by_user if \"afd\" in video[\"author_name\"].lower() or \"afd\" in video[\"author_username\"].lower()]\n",
    "print(len(afd_videos))"
   ]
  },
  {
   "cell_type": "markdown",
   "metadata": {},
   "source": [
    "# Add sounds to database"
   ]
  },
  {
   "cell_type": "code",
   "execution_count": 64,
   "metadata": {},
   "outputs": [
    {
     "name": "stdout",
     "output_type": "stream",
     "text": [
      "Number of new sounds to be added to database 1536\n",
      "Sounds added to database successfully\n"
     ]
    }
   ],
   "source": [
    "scrapper.add_sounds_to_db(afd_videos, connection_str=connection_str)"
   ]
  },
  {
   "cell_type": "markdown",
   "metadata": {},
   "source": [
    "# Add videos to database"
   ]
  },
  {
   "cell_type": "code",
   "execution_count": 65,
   "metadata": {},
   "outputs": [
    {
     "name": "stdout",
     "output_type": "stream",
     "text": [
      "Number of new videos to be added to database 2184\n",
      "Videos added to database successfully\n"
     ]
    }
   ],
   "source": [
    "scrapper.add_videos_to_db(afd_videos, connection_str=connection_str)"
   ]
  },
  {
   "cell_type": "code",
   "execution_count": 70,
   "metadata": {},
   "outputs": [
    {
     "name": "stdout",
     "output_type": "stream",
     "text": [
      "[(11673,)]\n"
     ]
    }
   ],
   "source": [
    "# get count of videos in db\n",
    "cursor.execute(\"SELECT COUNT(*) FROM [dbo].[Videos]\")\n",
    "videos_count = cursor.fetchall()\n",
    "print(videos_count)"
   ]
  },
  {
   "cell_type": "code",
   "execution_count": 71,
   "metadata": {},
   "outputs": [
    {
     "name": "stdout",
     "output_type": "stream",
     "text": [
      "11673\n"
     ]
    }
   ],
   "source": [
    "# add transcript to db entry with transcript_en IS NULL\n",
    "cursor.execute(\"SELECT * FROM [dbo].[Videos] WHERE transcript_en IS NULL\")\n",
    "videos_feteched = cursor.fetchall()\n",
    "print(len(videos_feteched))"
   ]
  },
  {
   "cell_type": "code",
   "execution_count": null,
   "metadata": {},
   "outputs": [],
   "source": [
    "# on the first row add the transcript_en\n",
    "# video = videos_feteched[0]\n",
    "# video_id = video[0]\n",
    "# transcript_en = \"This is the english transcript\"\n",
    "# cursor.execute(f\"UPDATE [dbo].[Videos] SET transcript_en = '{transcript_en}' WHERE video_id = {video_id}\")"
   ]
  }
 ],
 "metadata": {
  "kernelspec": {
   "display_name": "reclaim-tiktok",
   "language": "python",
   "name": "python3"
  },
  "language_info": {
   "codemirror_mode": {
    "name": "ipython",
    "version": 3
   },
   "file_extension": ".py",
   "mimetype": "text/x-python",
   "name": "python",
   "nbconvert_exporter": "python",
   "pygments_lexer": "ipython3",
   "version": "3.10.14"
  }
 },
 "nbformat": 4,
 "nbformat_minor": 2
}
