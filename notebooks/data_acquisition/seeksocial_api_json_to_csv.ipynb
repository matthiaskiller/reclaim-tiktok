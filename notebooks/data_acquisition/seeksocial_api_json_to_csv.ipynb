{
 "cells": [
  {
   "cell_type": "code",
   "execution_count": 2,
   "metadata": {},
   "outputs": [],
   "source": [
    "import json\n",
    "import csv"
   ]
  },
  {
   "cell_type": "code",
   "execution_count": 7,
   "metadata": {},
   "outputs": [],
   "source": [
    "#input\n",
    "json_path = \"data/afd_01-01-2024_30-04-2024.json\"\n",
    "#output\n",
    "csv_path = \"data/afd_01-01-2024_30-04-2024.csv\""
   ]
  },
  {
   "cell_type": "code",
   "execution_count": 8,
   "metadata": {},
   "outputs": [],
   "source": [
    "# Load JSON data as a string\n",
    "with open(json_path, 'r') as file:\n",
    "    data = json.load(file)"
   ]
  },
  {
   "cell_type": "code",
   "execution_count": 9,
   "metadata": {},
   "outputs": [],
   "source": [
    "data = data[\"hits\"]"
   ]
  },
  {
   "cell_type": "code",
   "execution_count": 10,
   "metadata": {},
   "outputs": [],
   "source": [
    "# Open a CSV file to write\n",
    "with open(csv_path, 'w', newline='') as file:\n",
    "    fieldnames = ['_id', '_index', '_score', 'captions', 'country', 'create_time', 'creator_follower_count', 'creator_id', 'creator_username', 'desc', 'duration', 'engagement_rate', 'likes', 'video_url', 'views', 'is_ad']\n",
    "    writer = csv.DictWriter(file, fieldnames=fieldnames)\n",
    "\n",
    "    # Write the header\n",
    "    writer.writeheader()\n",
    "\n",
    "    # Iterate over each hit and write to the CSV\n",
    "    for hit in data['hits']:\n",
    "        row = hit['_source']\n",
    "        row.update({\n",
    "            '_id': hit['_id'],\n",
    "            '_index': hit['_index'],\n",
    "            '_score': hit['_score'],\n",
    "        })\n",
    "        # Add is_ad if it's not in the source data\n",
    "        if 'is_ad' not in row:\n",
    "            row['is_ad'] = None\n",
    "        writer.writerow(row)\n"
   ]
  }
 ],
 "metadata": {
  "kernelspec": {
   "display_name": "reclaim-tiktok",
   "language": "python",
   "name": "python3"
  },
  "language_info": {
   "codemirror_mode": {
    "name": "ipython",
    "version": 3
   },
   "file_extension": ".py",
   "mimetype": "text/x-python",
   "name": "python",
   "nbconvert_exporter": "python",
   "pygments_lexer": "ipython3",
   "version": "3.10.14"
  }
 },
 "nbformat": 4,
 "nbformat_minor": 2
}
