{
 "cells": [
  {
   "cell_type": "code",
   "execution_count": 49,
   "metadata": {},
   "outputs": [
    {
     "name": "stdout",
     "output_type": "stream",
     "text": [
      "The autoreload extension is already loaded. To reload it, use:\n",
      "  %reload_ext autoreload\n"
     ]
    }
   ],
   "source": [
    "import os\n",
    "import asyncio\n",
    "\n",
    "import pandas as pd\n",
    "import pyodbc\n",
    "\n",
    "from reclaim_tiktok.scrapping.scrapper import Scrapper\n",
    "\n",
    "import nest_asyncio\n",
    "nest_asyncio.apply()\n",
    "\n",
    "from dotenv import load_dotenv\n",
    "\n",
    "load_dotenv()\n",
    "%load_ext autoreload\n",
    "%autoreload 2"
   ]
  },
  {
   "cell_type": "markdown",
   "metadata": {},
   "source": [
    "## Get usernames of afd politicans from google sheet of martin fuchs"
   ]
  },
  {
   "cell_type": "code",
   "execution_count": 4,
   "metadata": {},
   "outputs": [],
   "source": [
    "sheet_df = pd.read_csv('/Users/matthiaskiller/Downloads/Kopie von Deutsche Politik auf Tik Tok - Eine Sammlung von Martin Fuchs @wahl_beobachter - Deutsche Politik auf Tik Tok .csv')"
   ]
  },
  {
   "cell_type": "code",
   "execution_count": 5,
   "metadata": {},
   "outputs": [
    {
     "data": {
      "text/html": [
       "<div>\n",
       "<style scoped>\n",
       "    .dataframe tbody tr th:only-of-type {\n",
       "        vertical-align: middle;\n",
       "    }\n",
       "\n",
       "    .dataframe tbody tr th {\n",
       "        vertical-align: top;\n",
       "    }\n",
       "\n",
       "    .dataframe thead th {\n",
       "        text-align: right;\n",
       "    }\n",
       "</style>\n",
       "<table border=\"1\" class=\"dataframe\">\n",
       "  <thead>\n",
       "    <tr style=\"text-align: right;\">\n",
       "      <th></th>\n",
       "      <th>Unnamed: 0</th>\n",
       "      <th>Name</th>\n",
       "      <th>Tik Tok-Profil</th>\n",
       "      <th>Partei</th>\n",
       "      <th>aktiv</th>\n",
       "      <th>Anmerkungen</th>\n",
       "      <th>In fanpage karma</th>\n",
       "    </tr>\n",
       "  </thead>\n",
       "  <tbody>\n",
       "    <tr>\n",
       "      <th>0</th>\n",
       "      <td>NaN</td>\n",
       "      <td>AfD</td>\n",
       "      <td>https://www.tiktok.com/@afd.offiziell</td>\n",
       "      <td>AfD</td>\n",
       "      <td>NaN</td>\n",
       "      <td>Aktiv seit 10.05.2021, gelöscht 5/2022 von Tik...</td>\n",
       "      <td>NaN</td>\n",
       "    </tr>\n",
       "    <tr>\n",
       "      <th>1</th>\n",
       "      <td>NaN</td>\n",
       "      <td>AfD NRW</td>\n",
       "      <td>https://www.tiktok.com/@afd.nrw</td>\n",
       "      <td>AfD</td>\n",
       "      <td>x</td>\n",
       "      <td>NaN</td>\n",
       "      <td>NaN</td>\n",
       "    </tr>\n",
       "    <tr>\n",
       "      <th>2</th>\n",
       "      <td>NaN</td>\n",
       "      <td>AfD Hessen</td>\n",
       "      <td>https://www.tiktok.com/@afdhessen</td>\n",
       "      <td>AfD</td>\n",
       "      <td>NaN</td>\n",
       "      <td>Nicht mehr auffindbar</td>\n",
       "      <td>NaN</td>\n",
       "    </tr>\n",
       "    <tr>\n",
       "      <th>3</th>\n",
       "      <td>NaN</td>\n",
       "      <td>AfD Bayern</td>\n",
       "      <td>https://www.tiktok.com/@afd.bayern</td>\n",
       "      <td>AfD</td>\n",
       "      <td>NaN</td>\n",
       "      <td>Alter Account @afd_bayern nicht megr auffindbar</td>\n",
       "      <td>NaN</td>\n",
       "    </tr>\n",
       "    <tr>\n",
       "      <th>4</th>\n",
       "      <td>NaN</td>\n",
       "      <td>AfD Brandenburg</td>\n",
       "      <td>https://www.tiktok.com/@afd_brandenburg</td>\n",
       "      <td>AfD</td>\n",
       "      <td>x</td>\n",
       "      <td>NaN</td>\n",
       "      <td>NaN</td>\n",
       "    </tr>\n",
       "  </tbody>\n",
       "</table>\n",
       "</div>"
      ],
      "text/plain": [
       "  Unnamed: 0             Name                           Tik Tok-Profil Partei  \\\n",
       "0        NaN              AfD    https://www.tiktok.com/@afd.offiziell    AfD   \n",
       "1        NaN         AfD NRW           https://www.tiktok.com/@afd.nrw    AfD   \n",
       "2        NaN       AfD Hessen        https://www.tiktok.com/@afdhessen    AfD   \n",
       "3        NaN       AfD Bayern       https://www.tiktok.com/@afd.bayern    AfD   \n",
       "4        NaN  AfD Brandenburg  https://www.tiktok.com/@afd_brandenburg    AfD   \n",
       "\n",
       "  aktiv                                        Anmerkungen  In fanpage karma  \n",
       "0   NaN  Aktiv seit 10.05.2021, gelöscht 5/2022 von Tik...               NaN  \n",
       "1     x                                                NaN               NaN  \n",
       "2   NaN                              Nicht mehr auffindbar               NaN  \n",
       "3   NaN    Alter Account @afd_bayern nicht megr auffindbar               NaN  \n",
       "4     x                                                NaN               NaN  "
      ]
     },
     "execution_count": 5,
     "metadata": {},
     "output_type": "execute_result"
    }
   ],
   "source": [
    "sheet_df.head()"
   ]
  },
  {
   "cell_type": "code",
   "execution_count": 7,
   "metadata": {},
   "outputs": [],
   "source": [
    "# drop first column\n",
    "sheet_df = sheet_df.drop(sheet_df.columns[0], axis=1)"
   ]
  },
  {
   "cell_type": "code",
   "execution_count": 8,
   "metadata": {},
   "outputs": [
    {
     "data": {
      "text/html": [
       "<div>\n",
       "<style scoped>\n",
       "    .dataframe tbody tr th:only-of-type {\n",
       "        vertical-align: middle;\n",
       "    }\n",
       "\n",
       "    .dataframe tbody tr th {\n",
       "        vertical-align: top;\n",
       "    }\n",
       "\n",
       "    .dataframe thead th {\n",
       "        text-align: right;\n",
       "    }\n",
       "</style>\n",
       "<table border=\"1\" class=\"dataframe\">\n",
       "  <thead>\n",
       "    <tr style=\"text-align: right;\">\n",
       "      <th></th>\n",
       "      <th>Name</th>\n",
       "      <th>Tik Tok-Profil</th>\n",
       "      <th>Partei</th>\n",
       "      <th>aktiv</th>\n",
       "      <th>Anmerkungen</th>\n",
       "      <th>In fanpage karma</th>\n",
       "    </tr>\n",
       "  </thead>\n",
       "  <tbody>\n",
       "    <tr>\n",
       "      <th>0</th>\n",
       "      <td>AfD</td>\n",
       "      <td>https://www.tiktok.com/@afd.offiziell</td>\n",
       "      <td>AfD</td>\n",
       "      <td>NaN</td>\n",
       "      <td>Aktiv seit 10.05.2021, gelöscht 5/2022 von Tik...</td>\n",
       "      <td>NaN</td>\n",
       "    </tr>\n",
       "    <tr>\n",
       "      <th>1</th>\n",
       "      <td>AfD NRW</td>\n",
       "      <td>https://www.tiktok.com/@afd.nrw</td>\n",
       "      <td>AfD</td>\n",
       "      <td>x</td>\n",
       "      <td>NaN</td>\n",
       "      <td>NaN</td>\n",
       "    </tr>\n",
       "    <tr>\n",
       "      <th>2</th>\n",
       "      <td>AfD Hessen</td>\n",
       "      <td>https://www.tiktok.com/@afdhessen</td>\n",
       "      <td>AfD</td>\n",
       "      <td>NaN</td>\n",
       "      <td>Nicht mehr auffindbar</td>\n",
       "      <td>NaN</td>\n",
       "    </tr>\n",
       "    <tr>\n",
       "      <th>3</th>\n",
       "      <td>AfD Bayern</td>\n",
       "      <td>https://www.tiktok.com/@afd.bayern</td>\n",
       "      <td>AfD</td>\n",
       "      <td>NaN</td>\n",
       "      <td>Alter Account @afd_bayern nicht megr auffindbar</td>\n",
       "      <td>NaN</td>\n",
       "    </tr>\n",
       "    <tr>\n",
       "      <th>4</th>\n",
       "      <td>AfD Brandenburg</td>\n",
       "      <td>https://www.tiktok.com/@afd_brandenburg</td>\n",
       "      <td>AfD</td>\n",
       "      <td>x</td>\n",
       "      <td>NaN</td>\n",
       "      <td>NaN</td>\n",
       "    </tr>\n",
       "  </tbody>\n",
       "</table>\n",
       "</div>"
      ],
      "text/plain": [
       "              Name                           Tik Tok-Profil Partei aktiv  \\\n",
       "0              AfD    https://www.tiktok.com/@afd.offiziell    AfD   NaN   \n",
       "1         AfD NRW           https://www.tiktok.com/@afd.nrw    AfD     x   \n",
       "2       AfD Hessen        https://www.tiktok.com/@afdhessen    AfD   NaN   \n",
       "3       AfD Bayern       https://www.tiktok.com/@afd.bayern    AfD   NaN   \n",
       "4  AfD Brandenburg  https://www.tiktok.com/@afd_brandenburg    AfD     x   \n",
       "\n",
       "                                         Anmerkungen  In fanpage karma  \n",
       "0  Aktiv seit 10.05.2021, gelöscht 5/2022 von Tik...               NaN  \n",
       "1                                                NaN               NaN  \n",
       "2                              Nicht mehr auffindbar               NaN  \n",
       "3    Alter Account @afd_bayern nicht megr auffindbar               NaN  \n",
       "4                                                NaN               NaN  "
      ]
     },
     "execution_count": 8,
     "metadata": {},
     "output_type": "execute_result"
    }
   ],
   "source": [
    "sheet_df.head()"
   ]
  },
  {
   "cell_type": "code",
   "execution_count": 9,
   "metadata": {},
   "outputs": [],
   "source": [
    "# filter by \"Partei\" == \"AfD\"\n",
    "afd_df = sheet_df[sheet_df['Partei'] == 'AfD']"
   ]
  },
  {
   "cell_type": "code",
   "execution_count": 12,
   "metadata": {},
   "outputs": [
    {
     "data": {
      "text/plain": [
       "174"
      ]
     },
     "execution_count": 12,
     "metadata": {},
     "output_type": "execute_result"
    }
   ],
   "source": [
    "len(afd_df)"
   ]
  },
  {
   "cell_type": "code",
   "execution_count": 18,
   "metadata": {},
   "outputs": [
    {
     "name": "stderr",
     "output_type": "stream",
     "text": [
      "/var/folders/ng/bpb66jzj5d59g10n121_hj6h0000gn/T/ipykernel_32162/1305649286.py:2: SettingWithCopyWarning: \n",
      "A value is trying to be set on a copy of a slice from a DataFrame.\n",
      "Try using .loc[row_indexer,col_indexer] = value instead\n",
      "\n",
      "See the caveats in the documentation: https://pandas.pydata.org/pandas-docs/stable/user_guide/indexing.html#returning-a-view-versus-a-copy\n",
      "  afd_df['user_name'] = afd_df['Tik Tok-Profil'].str.extract(r'@(.*)')\n",
      "/var/folders/ng/bpb66jzj5d59g10n121_hj6h0000gn/T/ipykernel_32162/1305649286.py:5: SettingWithCopyWarning: \n",
      "A value is trying to be set on a copy of a slice from a DataFrame.\n",
      "Try using .loc[row_indexer,col_indexer] = value instead\n",
      "\n",
      "See the caveats in the documentation: https://pandas.pydata.org/pandas-docs/stable/user_guide/indexing.html#returning-a-view-versus-a-copy\n",
      "  afd_df['user_name'] = afd_df['user_name'].str.strip()\n"
     ]
    }
   ],
   "source": [
    "# get Tiktok user name by \"Tik Tok-Profil\" column - currently a url like \"https://www.tiktok.com/@afd.offiziell\" from which we extract the user name \"afd.offiziell\"\n",
    "afd_df['user_name'] = afd_df['Tik Tok-Profil'].str.extract(r'@(.*)')\n",
    "\n",
    "# remove trailing whitespace\n",
    "afd_df['user_name'] = afd_df['user_name'].str.strip()"
   ]
  },
  {
   "cell_type": "code",
   "execution_count": 20,
   "metadata": {},
   "outputs": [],
   "source": [
    "# drop all but user_name and Name columns\n",
    "afd_df = afd_df[['user_name', 'Name']]"
   ]
  },
  {
   "cell_type": "code",
   "execution_count": 22,
   "metadata": {},
   "outputs": [],
   "source": [
    "# save to csv\n",
    "afd_df.to_csv('../../data/afd_accounts_tiktok.csv', index=False)"
   ]
  },
  {
   "cell_type": "code",
   "execution_count": 50,
   "metadata": {},
   "outputs": [
    {
     "data": {
      "text/html": [
       "<div>\n",
       "<style scoped>\n",
       "    .dataframe tbody tr th:only-of-type {\n",
       "        vertical-align: middle;\n",
       "    }\n",
       "\n",
       "    .dataframe tbody tr th {\n",
       "        vertical-align: top;\n",
       "    }\n",
       "\n",
       "    .dataframe thead th {\n",
       "        text-align: right;\n",
       "    }\n",
       "</style>\n",
       "<table border=\"1\" class=\"dataframe\">\n",
       "  <thead>\n",
       "    <tr style=\"text-align: right;\">\n",
       "      <th></th>\n",
       "      <th>user_name</th>\n",
       "      <th>Name</th>\n",
       "    </tr>\n",
       "  </thead>\n",
       "  <tbody>\n",
       "    <tr>\n",
       "      <th>0</th>\n",
       "      <td>afd.offiziell</td>\n",
       "      <td>AfD</td>\n",
       "    </tr>\n",
       "    <tr>\n",
       "      <th>1</th>\n",
       "      <td>afd.nrw</td>\n",
       "      <td>AfD NRW</td>\n",
       "    </tr>\n",
       "    <tr>\n",
       "      <th>2</th>\n",
       "      <td>afdhessen</td>\n",
       "      <td>AfD Hessen</td>\n",
       "    </tr>\n",
       "    <tr>\n",
       "      <th>3</th>\n",
       "      <td>afd.bayern</td>\n",
       "      <td>AfD Bayern</td>\n",
       "    </tr>\n",
       "    <tr>\n",
       "      <th>4</th>\n",
       "      <td>afd_brandenburg</td>\n",
       "      <td>AfD Brandenburg</td>\n",
       "    </tr>\n",
       "  </tbody>\n",
       "</table>\n",
       "</div>"
      ],
      "text/plain": [
       "         user_name             Name\n",
       "0    afd.offiziell              AfD\n",
       "1          afd.nrw         AfD NRW \n",
       "2        afdhessen       AfD Hessen\n",
       "3       afd.bayern       AfD Bayern\n",
       "4  afd_brandenburg  AfD Brandenburg"
      ]
     },
     "execution_count": 50,
     "metadata": {},
     "output_type": "execute_result"
    }
   ],
   "source": [
    "afd_df.head()"
   ]
  },
  {
   "cell_type": "markdown",
   "metadata": {},
   "source": [
    "## Add AfD users to db"
   ]
  },
  {
   "cell_type": "code",
   "execution_count": 147,
   "metadata": {},
   "outputs": [],
   "source": [
    "ms_tokens =[\"1-XrQyx6olgZKarwDXJ6I6bntG6PB-XY_diAn2nGOyq999caJb_yAezhU0FqpNYUpwyz89J5ydf7F59KnYoT9r7pHZTA6xsrnnZKgXwEG7o=\",\"FH7W9nFjLoz17fqkqP_r01UTd-HusQvh-bERIzbg8yVi3Y01Aw7x2UPW-MGUZuhmo7cdsm1YpNnr1lJSBCFP-SQ70mj1-vVi-MZkyWkWFbA=\", \"d9k9wzoqvU6VocF-BCimm88shwMruwHNhtKfFq5W13n5EdCy3TpOpP2Ui7vRd7Hrr1144ivsBgJP7xvvNRAG21QGFpL81N8QOMxNHATTzNE=\",\"rObrgyunEG5MX-wbESu_yhZz4Rr71w6c-W1ICQTVFbbNfTDwR7SnfYnTIC5OIvPnQpKX2UOtlnfDJLqh0f8qnxxqaD7W2BsaCeurTMT9F9k=\",\"K6ycnFewW5yhPmBCFOe1PwyDvkXz_faFA6BMw8MmyxdRMxR2QpwiAZsNdHCps1nvHPJPn5R-PuJtlKImgAo08FYbRYLYBK4fL5YLnTtSd2I=\", \"rX-PrFF0AAPmO2xGm05ms_Kt_kozEvHd7pMM-yqZGhpdTxoF3B_RpNJItWLK6FlGSqLLtzLz1kcw7PmQ6WFNUZeUH-QzV7qHZjZk5E7I3k8cMghLvkAMMkA-0C_W\", \"eM76KGC4eqJ4E6QusDDIfj7msA293A6XAiArwRJFQfwUestV3quusqoiPiBWIOvY3S53zyhn0bV32m58wSyzTo2mMmZtHN7a3beZu0p7ock=\", \"SffxLpF-XLFk17jGiJoau1o_0NeAWzGBkAL47SeCqqHgs0uqHMvzQj9yYRhwtLzf65fY5BGuW3L9EXabrU7yOp_Xph6TchLMjKmWNr_x4Cg=\", \"Is5WghedY7a3L_-cBailDO3WmLXd94uz8MzHQzCwDj157LMDStwTRitRtP0C4bN05F_mJFwG47B0iNUBsOGyuDf5wqesvShJVMY67xGnKy0=\", \"u_h_df4QyHLarKVsk89WfQJ1te73jhZXwIAncCSPKyvZPqDxNUXRE25UwL3wNPJ3RbeLv_VU_bN0OtgfyVLgDbFtNOGQE642FaqR2U8VCj4=\", \"wW8HNaeovKQTiklnj_u5eGmyEQHlWFDa85rRMrrfkR4TZ3m99MBEPQ_6cY8ZN_CR8YTAXGGlI-igtsjei9U_x8nMdN3b6wonQ9YdaUg8qHM=\"] #os.environ.get(\"ms_token\", None)"
   ]
  },
  {
   "cell_type": "code",
   "execution_count": 148,
   "metadata": {},
   "outputs": [],
   "source": [
    "scrapper = Scrapper(ms_token=ms_tokens[random.randint(0, len(ms_tokens)-1)])"
   ]
  },
  {
   "cell_type": "code",
   "execution_count": 59,
   "metadata": {},
   "outputs": [],
   "source": [
    "# get list of afd usernames:\n",
    "afd_usernames = afd_df['user_name'].tolist()\n"
   ]
  },
  {
   "cell_type": "code",
   "execution_count": null,
   "metadata": {},
   "outputs": [],
   "source": [
    "stats = user_info[\"userInfo\"][\"stats\"]\n",
    "user_id = user_info[\"userInfo\"][\"user\"][\"id\"]\n",
    "user_nickname = user_info[\"userInfo\"][\"user\"][\"nickname\"]\n",
    "user_name_unique = user_info[\"userInfo\"][\"user\"][\"uniqueId\"]\n",
    "verified = user_info[\"userInfo\"][\"user\"][\"verified\"]"
   ]
  },
  {
   "cell_type": "code",
   "execution_count": 106,
   "metadata": {},
   "outputs": [
    {
     "name": "stdout",
     "output_type": "stream",
     "text": [
      "Searching for pascalschleich915\n",
      "Searching for richardgraupner\n",
      "Searching for roland_magerl\n",
      "Searching for udosteinmdl\n",
      "Searching for _dieter_arnold_afd_\n",
      "Searching for renedierkesafd\n",
      "Searching for daniel_halemba_afd\n",
      "Searching for andreasjurca.afd\n",
      "Searching for benjamindnolte\n",
      "Searching for ramona_storm\n",
      "'user'\n",
      "Searching for olgapetersenafd\n",
      "Searching for alexander_wiesner\n",
      "Searching for andre_wendt_afd\n",
      "Searching for volkerdringenberg\n",
      "Searching for frankpeschel_afd\n",
      "Searching for rene_hein\n",
      "Searching for steffenkubitzki\n",
      "Searching for volker.nothing.md\n",
      "Searching for felixhwteichner\n",
      "Searching for hallofraukaiser\n",
      "Searching for janeschulz.deu\n",
      "'user'\n",
      "Searching for dr.robbyschlund\n",
      "Searching for jensahrends711\n",
      "Searching for erichheidkamp\n"
     ]
    }
   ],
   "source": [
    "user_infos = asyncio.run(scrapper.get_user_info_by_username(count=1, user_names=afd_usernames[150:]))"
   ]
  },
  {
   "cell_type": "markdown",
   "metadata": {},
   "source": [
    "## add user to db"
   ]
  },
  {
   "cell_type": "code",
   "execution_count": 52,
   "metadata": {},
   "outputs": [],
   "source": [
    "driver = os.environ[\"DB_DRIVER\"]\n",
    "server = os.environ[\"DB_SERVER\"]\n",
    "database = os.environ[\"DB_DATABASE\"]\n",
    "username = os.environ[\"DB_USERNAME\"]\n",
    "password = os.environ[\"DB_PASSWORD\"]\n",
    "\n",
    "\n",
    "connection_str = (\n",
    "f\"Driver={driver};Server={server},1433;Database={database};\"\n",
    "f\"Uid={username};Pwd={password};Encrypt=yes;\"\n",
    "\"TrustServerCertificate=no;Connection Timeout=30;\"\n",
    ")"
   ]
  },
  {
   "cell_type": "code",
   "execution_count": 107,
   "metadata": {},
   "outputs": [
    {
     "name": "stdout",
     "output_type": "stream",
     "text": [
      "2\n"
     ]
    }
   ],
   "source": [
    "# print number of nones in user_infos\n",
    "print(len([i for i in user_infos if i is None]))"
   ]
  },
  {
   "cell_type": "code",
   "execution_count": 108,
   "metadata": {},
   "outputs": [
    {
     "name": "stdout",
     "output_type": "stream",
     "text": [
      "Number of users to be added to database 22\n",
      "Number of unique user ids to be added to database 22\n",
      "Number of unique user ids in database 2642\n",
      "Number of unique user ids added to database 0\n",
      "Number of new users to be added to database 0\n",
      "Users added to database successfully\n"
     ]
    }
   ],
   "source": [
    "# add user info to database\n",
    "scrapper.add_users_to_db_from_list_of_user_info(users=user_infos, connection_str=connection_str)"
   ]
  },
  {
   "cell_type": "code",
   "execution_count": null,
   "metadata": {},
   "outputs": [],
   "source": [
    "# sql query to get all videos of users in afd_df\n",
    "query = \"\"\"\n",
    "        SELECT * FROM dbo.Videos\n",
    "        WHERE user_id = ?\n",
    "        \"\"\"\n",
    "\n",
    "data = (int(user_id),)\n"
   ]
  },
  {
   "cell_type": "code",
   "execution_count": null,
   "metadata": {},
   "outputs": [],
   "source": [
    "# sql query for retrieving the user_id by unique_name_id for a list of unique_name_ids\n",
    "user_ids = []\n",
    "\n",
    "for user_name_unique in afd_usernames:\n",
    "        query = \"\"\"\n",
    "                SELECT id FROM dbo.Users\n",
    "                WHERE unique_name_id = ?\n",
    "                \"\"\"\n",
    "        \n",
    "        data = (str(user_name_unique),)\n",
    "        \n",
    "        with pyodbc.connect(connection_str) as conn:\n",
    "                with conn.cursor() as cursor:\n",
    "                cursor.execute(query, data)\n",
    "                user_id = cursor.fetchone()\n",
    "        \n",
    "        user_ids.append(user_id)\n",
    "\n",
    "\n",
    "\n"
   ]
  },
  {
   "cell_type": "code",
   "execution_count": 110,
   "metadata": {},
   "outputs": [],
   "source": [
    "# filter nones from afd_usernames\n",
    "afd_usernames_filtered = [i for i in afd_usernames if i is not None]"
   ]
  },
  {
   "cell_type": "code",
   "execution_count": 112,
   "metadata": {},
   "outputs": [
    {
     "data": {
      "text/plain": [
       "174"
      ]
     },
     "execution_count": 112,
     "metadata": {},
     "output_type": "execute_result"
    }
   ],
   "source": []
  },
  {
   "cell_type": "code",
   "execution_count": 134,
   "metadata": {},
   "outputs": [],
   "source": [
    "videos_by_user =[]"
   ]
  },
  {
   "cell_type": "code",
   "execution_count": 173,
   "metadata": {},
   "outputs": [],
   "source": [
    "afd_usernames_filtered_subset = afd_usernames_filtered[:30]"
   ]
  },
  {
   "cell_type": "code",
   "execution_count": 177,
   "metadata": {},
   "outputs": [
    {
     "name": "stdout",
     "output_type": "stream",
     "text": [
      "0\n",
      "SffxLpF-XLFk17jGiJoau1o_0NeAWzGBkAL47SeCqqHgs0uqHMvzQj9yYRhwtLzf65fY5BGuW3L9EXabrU7yOp_Xph6TchLMjKmWNr_x4Cg=\n",
      "Searching for afd.offiziell\n",
      "User afd.offiziell not found\n",
      "Searching for afd.nrw\n",
      "{'extra': {'fatal_item_ids': [], 'logid': '202405161204100E092A96E6F9F822BBE1', 'now': 1715861051000}, 'log_pb': {'impr_id': '202405161204100E092A96E6F9F822BBE1'}, 'shareMeta': {'desc': '@afd.nrw 47.8k Followers, 7 Following, 422.2k Likes - Watch awesome short videos created by AfD.NRW', 'title': 'AfD.NRW on TikTok'}, 'statusCode': 0, 'status_code': 0, 'status_msg': '', 'userInfo': {'stats': {'diggCount': 0, 'followerCount': 47800, 'followingCount': 7, 'friendCount': 3, 'heart': 422200, 'heartCount': 422200, 'videoCount': 62}, 'user': {'avatarLarger': 'https://p16-sign-va.tiktokcdn.com/tos-maliva-avt-0068/64d39670ed9fd285cbb675f1e57853d3~c5_1080x1080.jpeg?lk3s=a5d48078&nonce=58178&refresh_token=e93c11063ff3cb50ee3028e9b37dfaa6&x-expires=1716033600&x-signature=F8BE%2BgeDkjmHEBcSw0s%2FP9x0sVU%3D&shp=a5d48078&shcp=81f88b70', 'avatarMedium': 'https://p16-sign-va.tiktokcdn.com/tos-maliva-avt-0068/64d39670ed9fd285cbb675f1e57853d3~c5_720x720.jpeg?lk3s=a5d48078&nonce=31444&refresh_token=e167d0df205f5d7b0dbb138edb1a7dc6&x-expires=1716033600&x-signature=%2BWVp9tZ2lcCEesuzWVg0tPmLjuM%3D&shp=a5d48078&shcp=81f88b70', 'avatarThumb': 'https://p16-sign-va.tiktokcdn.com/tos-maliva-avt-0068/64d39670ed9fd285cbb675f1e57853d3~c5_100x100.jpeg?lk3s=a5d48078&nonce=70285&refresh_token=47d89f72124f876144922b72156d70b6&x-expires=1716033600&x-signature=M%2BPr2EWoaMyMW7jtbrN1Yo4oaug%3D&shp=a5d48078&shcp=81f88b70', 'canExpPlaylist': True, 'commentSetting': 0, 'commerceUserInfo': {'commerceUser': False}, 'downloadSetting': 0, 'duetSetting': 0, 'followingVisibility': 1, 'ftc': False, 'id': '7073797706678141958', 'isADVirtual': False, 'isEmbedBanned': False, 'nickname': 'AfD.NRW', 'openFavorite': False, 'privateAccount': False, 'profileEmbedPermission': 1, 'profileTab': {'showPlayListTab': False}, 'relation': 0, 'secUid': 'MS4wLjABAAAAJO9B3fqPModM0-O3ofHm22F-k_zT1tTrtlswyFfFeL_ddJqP98bOQiN4xMYbmEk2', 'secret': False, 'signature': 'Offizielles TikTok-Profil der AfD NRW.', 'stitchSetting': 0, 'ttSeller': False, 'uniqueId': 'afd.nrw', 'verified': False}}}\n",
      "Searching for afdhessen\n",
      "{'extra': {'fatal_item_ids': [], 'logid': '202405161204115BEED5DED9A09D1F62E4', 'now': 1715861052000}, 'log_pb': {'impr_id': '202405161204115BEED5DED9A09D1F62E4'}, 'shareMeta': {'desc': '@afdhessen 3 Followers, 2 Following, 0 Likes - Watch awesome short videos created by afdhessen', 'title': 'afdhessen on TikTok'}, 'statusCode': 0, 'status_code': 0, 'status_msg': '', 'userInfo': {'stats': {'diggCount': 0, 'followerCount': 3, 'followingCount': 2, 'friendCount': 0, 'heart': 0, 'heartCount': 0, 'videoCount': 4}, 'user': {'avatarLarger': 'https://p16-sign-useast2a.tiktokcdn.com/tos-useast2a-avt-0068-euttp/8e15b44230ce2f89f9cc5b58a65195df~c5_1080x1080.jpeg?lk3s=a5d48078&nonce=91897&refresh_token=d6318fc6cc0ca97a7a42fcff92596d0d&x-expires=1716033600&x-signature=yGWhV8HMeACQpjXaMOx9uOiS%2B7s%3D&shp=a5d48078&shcp=81f88b70', 'avatarMedium': 'https://p16-sign-useast2a.tiktokcdn.com/tos-useast2a-avt-0068-euttp/8e15b44230ce2f89f9cc5b58a65195df~c5_720x720.jpeg?lk3s=a5d48078&nonce=63419&refresh_token=bf781b2755d855b272a7be2ac680dfe6&x-expires=1716033600&x-signature=2Vi0gP2cmCyzmAXURHafSii%2BONA%3D&shp=a5d48078&shcp=81f88b70', 'avatarThumb': 'https://p16-sign-useast2a.tiktokcdn.com/tos-useast2a-avt-0068-euttp/8e15b44230ce2f89f9cc5b58a65195df~c5_100x100.jpeg?lk3s=a5d48078&nonce=14372&refresh_token=154771b4f2cb83774fa1f26f80975c46&x-expires=1716033600&x-signature=TGi9ZJ0x5EDAwezKDxlco3700Lo%3D&shp=a5d48078&shcp=81f88b70', 'canExpPlaylist': True, 'commentSetting': 0, 'commerceUserInfo': {'commerceUser': False}, 'downloadSetting': 0, 'duetSetting': 0, 'followingVisibility': 1, 'ftc': False, 'id': '7362282646950790176', 'isADVirtual': False, 'isEmbedBanned': False, 'nickNameModifyTime': 1714165234, 'nickname': 'afdhessen', 'openFavorite': False, 'privateAccount': False, 'profileEmbedPermission': 1, 'profileTab': {'showPlayListTab': False}, 'relation': 0, 'secUid': 'MS4wLjABAAAAf6jJPEuUZtpZr8AwiZDT-v1EjxC2LYO34hiDveW72XCEd6CdNQ5Lv5MkM0uJc4eg', 'secret': False, 'signature': '', 'stitchSetting': 0, 'ttSeller': False, 'uniqueId': 'afdhessen', 'verified': False}}}\n",
      "Searching for afd.bayern\n",
      "{'extra': {'fatal_item_ids': [], 'logid': '20240516120411AFB278F9F49A22233CE8', 'now': 1715861052000}, 'log_pb': {'impr_id': '20240516120411AFB278F9F49A22233CE8'}, 'shareMeta': {'desc': '@afd.bayern 1067 Followers, 4 Following, 0 Likes - Watch awesome short videos created by AFD.bayern', 'title': 'AFD.bayern on TikTok'}, 'statusCode': 0, 'status_code': 0, 'status_msg': '', 'userInfo': {'stats': {'diggCount': 0, 'followerCount': 1067, 'followingCount': 4, 'friendCount': 0, 'heart': 0, 'heartCount': 0, 'videoCount': 0}, 'user': {'avatarLarger': 'https://p16-sign-va.tiktokcdn.com/tos-maliva-avt-0068/4a81ac1c9b6be68ea5019f130755afd3~c5_1080x1080.jpeg?lk3s=a5d48078&nonce=68103&refresh_token=eee76a2693e5f877b9bf89ba50d776a5&x-expires=1716033600&x-signature=YI3yasfjfIFtwcD9Gf0GM65IeD0%3D&shp=a5d48078&shcp=81f88b70', 'avatarMedium': 'https://p77-sign-va-lite.tiktokcdn.com/tos-maliva-avt-0068/4a81ac1c9b6be68ea5019f130755afd3~c5_720x720.jpeg?lk3s=a5d48078&nonce=3329&refresh_token=2add013c38de74160dca7f122bd3f155&x-expires=1716033600&x-signature=1G7Rg3KIg1qr5ALRCL7FLyYQ%2BBw%3D&shp=a5d48078&shcp=81f88b70', 'avatarThumb': 'https://p16-sign-va.tiktokcdn.com/tos-maliva-avt-0068/4a81ac1c9b6be68ea5019f130755afd3~c5_100x100.jpeg?lk3s=a5d48078&nonce=26677&refresh_token=430817a710e102853f10d416bdab8022&x-expires=1716033600&x-signature=5Ph7HvHaZBWyHD4GWrY1U0aBmAs%3D&shp=a5d48078&shcp=81f88b70', 'canExpPlaylist': True, 'commentSetting': 0, 'commerceUserInfo': {'commerceUser': False}, 'downloadSetting': 0, 'duetSetting': 0, 'followingVisibility': 1, 'ftc': False, 'id': '6960326828452185093', 'isADVirtual': False, 'isEmbedBanned': False, 'nickname': 'AFD.bayern', 'openFavorite': False, 'privateAccount': False, 'profileEmbedPermission': 1, 'profileTab': {'showPlayListTab': False}, 'relation': 0, 'secUid': 'MS4wLjABAAAAIcpGlmmaMZZx4DiRHwLE9cn605ONDgK0CVnYpI6FkQGVl7AgRGgCtE_QfRY9ugUM', 'secret': False, 'signature': 'Sei schlau wähle Blau. Afd Alternative für Deutschland 🇩🇪 💙💙💙', 'stitchSetting': 0, 'ttSeller': False, 'uniqueId': 'afd.bayern', 'verified': False}}}\n",
      "Searching for afd_brandenburg\n",
      "{'extra': {'fatal_item_ids': [], 'logid': '20240516120412DCA89B225DDF8A1F238D', 'now': 1715861053000}, 'log_pb': {'impr_id': '20240516120412DCA89B225DDF8A1F238D'}, 'shareMeta': {'desc': '@afd_brandenburg 13.7k Followers, 277 Following, 77.6k Likes - Watch awesome short videos created by AfD_Brandenburg', 'title': 'AfD_Brandenburg on TikTok'}, 'statusCode': 0, 'status_code': 0, 'status_msg': '', 'userInfo': {'stats': {'diggCount': 0, 'followerCount': 13700, 'followingCount': 277, 'friendCount': 113, 'heart': 77600, 'heartCount': 77600, 'videoCount': 52}, 'user': {'avatarLarger': 'https://p16-sign-va.tiktokcdn.com/tos-maliva-avt-0068/f4c40441205cb576a01ace5df57ea0df~c5_1080x1080.jpeg?lk3s=a5d48078&nonce=23739&refresh_token=80f93fc2119dfd75107d2aabb9f9d3d0&x-expires=1716033600&x-signature=1N69AxdywHlgO7t3ND1qplCah0w%3D&shp=a5d48078&shcp=81f88b70', 'avatarMedium': 'https://p16-sign-va.tiktokcdn.com/tos-maliva-avt-0068/f4c40441205cb576a01ace5df57ea0df~c5_720x720.jpeg?lk3s=a5d48078&nonce=63895&refresh_token=e2e948d1839481290bc708239a65b5ac&x-expires=1716033600&x-signature=vLwsbnL6bXwYxsqzKotOTil5trQ%3D&shp=a5d48078&shcp=81f88b70', 'avatarThumb': 'https://p16-sign-va.tiktokcdn.com/tos-maliva-avt-0068/f4c40441205cb576a01ace5df57ea0df~c5_100x100.jpeg?lk3s=a5d48078&nonce=21568&refresh_token=9d66e2b428911976eb5889fb932e2763&x-expires=1716033600&x-signature=tUYmY6bN81d7mHicl4F8zuJM6wo%3D&shp=a5d48078&shcp=81f88b70', 'bioLink': {'link': 'AfD-Brandenburg.de', 'risk': 3}, 'canExpPlaylist': True, 'commentSetting': 0, 'commerceUserInfo': {'commerceUser': False}, 'downloadSetting': 0, 'duetSetting': 0, 'followingVisibility': 1, 'ftc': False, 'id': '7011487502805730310', 'isADVirtual': False, 'isEmbedBanned': False, 'nickname': 'AfD_Brandenburg', 'openFavorite': False, 'privateAccount': False, 'profileEmbedPermission': 1, 'profileTab': {'showPlayListTab': False}, 'relation': 0, 'secUid': 'MS4wLjABAAAASHRqtbltIsmpz40XOJGAW_kYnxztoWGVNOnndIsteeXVBR6SVC4QltBEW7Ed15dz', 'secret': False, 'signature': 'Offizieller Account des AfD-Landesverbandes Brandenburg afd-brandenburg.de', 'stitchSetting': 0, 'ttSeller': False, 'uniqueId': 'afd_brandenburg', 'verified': False}}}\n",
      "Searching for afd.niedersachsen\n",
      "{'extra': {'fatal_item_ids': [], 'logid': '20240516120413724A2DB9D9D825213B4D', 'now': 1715861054000}, 'log_pb': {'impr_id': '20240516120413724A2DB9D9D825213B4D'}, 'shareMeta': {'desc': '@afd.niedersachsen 3262 Followers, 10 Following, 16.1k Likes - Watch awesome short videos created by afd.niedersachsen', 'title': 'afd.niedersachsen on TikTok'}, 'statusCode': 0, 'status_code': 0, 'status_msg': '', 'userInfo': {'stats': {'diggCount': 0, 'followerCount': 3262, 'followingCount': 10, 'friendCount': 2, 'heart': 16100, 'heartCount': 16100, 'videoCount': 18}, 'user': {'avatarLarger': 'https://p77-sign-va.tiktokcdn.com/tos-maliva-avt-0068/6b388a600124f2895d9e9bb8f6b9edb5~c5_1080x1080.jpeg?lk3s=a5d48078&nonce=36102&refresh_token=dbb04c8a2d9ea068c21df98adab9152d&x-expires=1716033600&x-signature=em0wWGEniyvo33s%2FSmLiRwCAMEs%3D&shp=a5d48078&shcp=81f88b70', 'avatarMedium': 'https://p16-sign-va.tiktokcdn.com/tos-maliva-avt-0068/6b388a600124f2895d9e9bb8f6b9edb5~c5_720x720.jpeg?lk3s=a5d48078&nonce=10882&refresh_token=569493e48cfd50f9a6f3ffd59267cf8a&x-expires=1716033600&x-signature=dDCZCHtRimymaR3dF3RENSZ6v5o%3D&shp=a5d48078&shcp=81f88b70', 'avatarThumb': 'https://p16-sign-va.tiktokcdn.com/tos-maliva-avt-0068/6b388a600124f2895d9e9bb8f6b9edb5~c5_100x100.jpeg?lk3s=a5d48078&nonce=99376&refresh_token=3fbba3c19592209fd480bbb4999ecd8f&x-expires=1716033600&x-signature=NO3GodXCa1wLFymAffHiD42CtJo%3D&shp=a5d48078&shcp=81f88b70', 'canExpPlaylist': True, 'commentSetting': 0, 'commerceUserInfo': {'commerceUser': False}, 'downloadSetting': 0, 'duetSetting': 0, 'followingVisibility': 1, 'ftc': False, 'id': '7093905459849462790', 'isADVirtual': False, 'isEmbedBanned': False, 'nickname': 'afd.niedersachsen', 'openFavorite': False, 'privateAccount': False, 'profileEmbedPermission': 1, 'profileTab': {'showPlayListTab': False}, 'relation': 0, 'secUid': 'MS4wLjABAAAAWt5zDBmwDWduUMPZmzcCNPPX_yEwQ7TwM7VbUDi4DczT_EF_Qyl96WnHfyi9BPo0', 'secret': False, 'signature': 'Wir sind die Alternative für Deutschland in Niedersachsen.', 'stitchSetting': 0, 'ttSeller': False, 'uniqueId': 'afd.niedersachsen', 'verified': False}}}\n",
      "Searching for afd.thueringen\n",
      "{'extra': {'fatal_item_ids': [], 'logid': '20240516120414302105C4E97365202AA2', 'now': 1715861055000}, 'log_pb': {'impr_id': '20240516120414302105C4E97365202AA2'}, 'shareMeta': {'desc': '@afd.thueringen 3176 Followers, 11 Following, 13.7k Likes - Watch awesome short videos created by AfD Thüringen', 'title': 'AfD Thüringen on TikTok'}, 'statusCode': 0, 'status_code': 0, 'status_msg': '', 'userInfo': {'stats': {'diggCount': 0, 'followerCount': 3176, 'followingCount': 11, 'friendCount': 7, 'heart': 13700, 'heartCount': 13700, 'videoCount': 14}, 'user': {'avatarLarger': 'https://p77-sign-va-lite.tiktokcdn.com/tos-maliva-avt-0068/23546bff915cd68d716d32c4eb019414~c5_1080x1080.jpeg?lk3s=a5d48078&nonce=26844&refresh_token=1c49be4f5a6ca8585a3591c9be6787d0&x-expires=1716033600&x-signature=eEbDrkKX0FwYJKNmxnkdIOcGbyk%3D&shp=a5d48078&shcp=81f88b70', 'avatarMedium': 'https://p16-sign-va.tiktokcdn.com/tos-maliva-avt-0068/23546bff915cd68d716d32c4eb019414~c5_720x720.jpeg?lk3s=a5d48078&nonce=6908&refresh_token=835ab2a4ffd4ccfaa7436144f070dd93&x-expires=1716033600&x-signature=rRajHwg%2FPCF%2BoV17uSUy6t4Yjrw%3D&shp=a5d48078&shcp=81f88b70', 'avatarThumb': 'https://p77-sign-va-lite.tiktokcdn.com/tos-maliva-avt-0068/23546bff915cd68d716d32c4eb019414~c5_100x100.jpeg?lk3s=a5d48078&nonce=19298&refresh_token=2339c10d9d13797859af0f78e85b0dbd&x-expires=1716033600&x-signature=eIc8Q%2BEhEBxfNJDEEg0DSBFDGqg%3D&shp=a5d48078&shcp=81f88b70', 'canExpPlaylist': True, 'commentSetting': 0, 'commerceUserInfo': {'commerceUser': False}, 'downloadSetting': 0, 'duetSetting': 0, 'followingVisibility': 1, 'ftc': False, 'id': '7048986817077838853', 'isADVirtual': False, 'isEmbedBanned': False, 'nickNameModifyTime': 1641220301, 'nickname': 'AfD Thüringen', 'openFavorite': False, 'privateAccount': False, 'profileEmbedPermission': 1, 'profileTab': {'showPlayListTab': False}, 'relation': 0, 'secUid': 'MS4wLjABAAAADWPO54ca2nemk5zNqqfhvoCX3FABveYDu5rBkPTezDcNl-xQSxLeWwxPt8k75FTm', 'secret': False, 'signature': 'Offizieller TikTok Kanal des Landesverbandes der AfD Thüringen', 'stitchSetting': 0, 'ttSeller': False, 'uniqueId': 'afd.thueringen', 'verified': False}}}\n",
      "Searching for afdsaarland\n",
      "{'extra': {'fatal_item_ids': [], 'logid': '2024051612041534BFD1875C0CE921EE98', 'now': 1715861056000}, 'log_pb': {'impr_id': '2024051612041534BFD1875C0CE921EE98'}, 'shareMeta': {'desc': '@afdsaarland 4657 Followers, 3 Following, 20.4k Likes - Watch awesome short videos created by AfD Saarland', 'title': 'AfD Saarland on TikTok'}, 'statusCode': 0, 'status_code': 0, 'status_msg': '', 'userInfo': {'stats': {'diggCount': 0, 'followerCount': 4657, 'followingCount': 3, 'friendCount': 0, 'heart': 20400, 'heartCount': 20400, 'videoCount': 5}, 'user': {'avatarLarger': 'https://p16-sign-va.tiktokcdn.com/tos-maliva-avt-0068/ec874120b3e37e47be653e90f4c2c5b5~c5_1080x1080.jpeg?lk3s=a5d48078&x-expires=1716033600&x-signature=v2rkmVzzRowUvt%2Baia78VayZI3w%3D', 'avatarMedium': 'https://p77-sign-va.tiktokcdn.com/tos-maliva-avt-0068/ec874120b3e37e47be653e90f4c2c5b5~c5_720x720.jpeg?lk3s=a5d48078&x-expires=1716033600&x-signature=LQp362qCXYCTHBAzt%2BLN9FOjaHw%3D', 'avatarThumb': 'https://p16-sign-va.tiktokcdn.com/tos-maliva-avt-0068/ec874120b3e37e47be653e90f4c2c5b5~c5_100x100.jpeg?lk3s=a5d48078&x-expires=1716033600&x-signature=mvVnGqUcgs1rsC3746DklxpP3IM%3D', 'canExpPlaylist': True, 'commentSetting': 0, 'commerceUserInfo': {'commerceUser': False}, 'downloadSetting': 0, 'duetSetting': 0, 'followingVisibility': 1, 'ftc': False, 'id': '7067123121421059078', 'isADVirtual': False, 'isEmbedBanned': False, 'nickNameModifyTime': 1645557328, 'nickname': 'AfD Saarland', 'openFavorite': False, 'privateAccount': False, 'profileEmbedPermission': 1, 'profileTab': {'showPlayListTab': False}, 'relation': 0, 'secUid': 'MS4wLjABAAAARtXiAj5dCsZv5eT0-KCjCNUAcYX2pam1LzjXe9R2no9tVKXugnYgYYlozq1EZE9B', 'secret': False, 'signature': 'Der offizielle Account der AfD Saar. Am 27. März ist Landtagswahl. Blau wählen!', 'stitchSetting': 0, 'ttSeller': False, 'uniqueId': 'afdsaarland', 'verified': False}}}\n",
      "Searching for afdsachsen\n",
      "{'extra': {'fatal_item_ids': [], 'logid': '202405161204157C96BFF0B00009228DAC', 'now': 1715861056000}, 'log_pb': {'impr_id': '202405161204157C96BFF0B00009228DAC'}, 'shareMeta': {'desc': '@afdsachsen 210.8k Followers, 55 Following, 3.3m Likes - Watch awesome short videos created by AfD Sachsen', 'title': 'AfD Sachsen on TikTok'}, 'statusCode': 0, 'status_code': 0, 'status_msg': '', 'userInfo': {'stats': {'diggCount': 0, 'followerCount': 210800, 'followingCount': 55, 'friendCount': 19, 'heart': 3300000, 'heartCount': 3300000, 'videoCount': 300}, 'user': {'avatarLarger': 'https://p16-sign-useast2a.tiktokcdn.com/tos-useast2a-avt-0068-euttp/7bccb120cd98e41a09cde319ceadc588~c5_1080x1080.jpeg?lk3s=a5d48078&nonce=48853&refresh_token=882b23c39cd42b4e3ac3596dfc4bd0f5&x-expires=1716033600&x-signature=%2FvLGu6O7RVo2Uv49RwdNZiFkQLM%3D&shp=a5d48078&shcp=81f88b70', 'avatarMedium': 'https://p16-sign-useast2a.tiktokcdn.com/tos-useast2a-avt-0068-euttp/7bccb120cd98e41a09cde319ceadc588~c5_720x720.jpeg?lk3s=a5d48078&nonce=32543&refresh_token=067aebfbb50fb1000696944845d687eb&x-expires=1716033600&x-signature=ss7s0ofNarRtOJWK5LDGPMx7jkw%3D&shp=a5d48078&shcp=81f88b70', 'avatarThumb': 'https://p16-sign-useast2a.tiktokcdn.com/tos-useast2a-avt-0068-euttp/7bccb120cd98e41a09cde319ceadc588~c5_100x100.jpeg?lk3s=a5d48078&nonce=48046&refresh_token=b15c583f76a76fc9bf2b0951400a74bf&x-expires=1716033600&x-signature=zmaL%2Bb5u6h%2FKX1OEL8wZrKhEmjg%3D&shp=a5d48078&shcp=81f88b70', 'canExpPlaylist': True, 'commentSetting': 0, 'commerceUserInfo': {'category': 'Media & entertainment', 'categoryButton': False, 'commerceUser': True, 'downLoadLink': {'android': '', 'ios': ''}}, 'downloadSetting': 0, 'duetSetting': 0, 'followingVisibility': 1, 'ftc': False, 'id': '7065419187443336197', 'isADVirtual': False, 'isEmbedBanned': False, 'nickNameModifyTime': 1663744562, 'nickname': 'AfD Sachsen', 'openFavorite': False, 'privateAccount': False, 'profileEmbedPermission': 1, 'profileTab': {'showPlayListTab': True}, 'relation': 0, 'secUid': 'MS4wLjABAAAAVGWeCwndwfSWZ6cyxzjYT_iINtnExVRuHvoT2TDkEQ9Azo-DIP-VycEbAUW5RN2h', 'secret': False, 'signature': 'Die stärkste politische Kraft in Sachsen', 'stitchSetting': 0, 'ttSeller': False, 'uniqueId': 'afdsachsen', 'verified': False}}}\n",
      "Searching for afdelmshorn\n",
      "{'extra': {'fatal_item_ids': [], 'logid': '2024051612041673035A7C4261901E8A44', 'now': 1715861058000}, 'log_pb': {'impr_id': '2024051612041673035A7C4261901E8A44'}, 'shareMeta': {'desc': '@afdelmshorn 6583 Followers, 143 Following, 63.6k Likes - Watch awesome short videos created by AfD_Elmshorn', 'title': 'AfD_Elmshorn on TikTok'}, 'statusCode': 0, 'status_code': 0, 'status_msg': '', 'userInfo': {'stats': {'diggCount': 0, 'followerCount': 6583, 'followingCount': 143, 'friendCount': 34, 'heart': 63600, 'heartCount': 63600, 'videoCount': 99}, 'user': {'avatarLarger': 'https://p16-sign-sg.tiktokcdn.com/aweme/1080x1080/tos-alisg-avt-0068/f8f90adb33d7f57735a20b966163306f.jpeg?lk3s=a5d48078&nonce=9143&refresh_token=b298739de6277de7990a1751578f9745&x-expires=1716033600&x-signature=dOsuUMFoJxFfs2i7JrbiqIuysDI%3D&shp=a5d48078&shcp=81f88b70', 'avatarMedium': 'https://p16-sign-sg.tiktokcdn.com/aweme/720x720/tos-alisg-avt-0068/f8f90adb33d7f57735a20b966163306f.jpeg?lk3s=a5d48078&nonce=80102&refresh_token=67220ffdb2188ca5dce40733b98d9d2c&x-expires=1716033600&x-signature=VlWVeW02%2FNndQpZb054s3AT%2BjVA%3D&shp=a5d48078&shcp=81f88b70', 'avatarThumb': 'https://p16-sign-sg.tiktokcdn.com/aweme/100x100/tos-alisg-avt-0068/f8f90adb33d7f57735a20b966163306f.jpeg?lk3s=a5d48078&nonce=84693&refresh_token=0baa798b7c6dd5ff50fdf8adf54a767e&x-expires=1716033600&x-signature=nM6rvbb3gUhC%2Bb8U3LsDrC0dx80%3D&shp=a5d48078&shcp=81f88b70', 'bioLink': {'link': 'www.afd-sh.de/Index.php/pinneberg', 'risk': 3}, 'canExpPlaylist': True, 'commentSetting': 0, 'commerceUserInfo': {'category': 'Others', 'categoryButton': False, 'commerceUser': True}, 'downloadSetting': 0, 'duetSetting': 0, 'followingVisibility': 1, 'ftc': False, 'id': '6913945193462137862', 'isADVirtual': False, 'isEmbedBanned': False, 'nickNameModifyTime': 1609779009, 'nickname': 'AfD_Elmshorn', 'openFavorite': False, 'privateAccount': False, 'profileEmbedPermission': 1, 'profileTab': {'showPlayListTab': False, 'showQuestionTab': True}, 'relation': 0, 'secUid': 'MS4wLjABAAAApm8zcdb9BqkF70qwKSDQsYAMBT1eqd-qFPh8I3uUMNwK4YfU_DoCYm5oBfzeeSg-', 'secret': False, 'signature': 'Ortsverband Elmshorn der Alternative für Deutschland im Kreis Pinneberg 💙💙', 'stitchSetting': 0, 'ttSeller': False, 'uniqueId': 'afdelmshorn', 'verified': False}}}\n",
      "New ms_token: Is5WghedY7a3L_-cBailDO3WmLXd94uz8MzHQzCwDj157LMDStwTRitRtP0C4bN05F_mJFwG47B0iNUBsOGyuDf5wqesvShJVMY67xGnKy0=\n",
      "5813\n",
      "10\n",
      "Is5WghedY7a3L_-cBailDO3WmLXd94uz8MzHQzCwDj157LMDStwTRitRtP0C4bN05F_mJFwG47B0iNUBsOGyuDf5wqesvShJVMY67xGnKy0=\n",
      "Searching for afdkreispinneberg\n",
      "{'extra': {'fatal_item_ids': [], 'logid': '2024051612042016581D1116F60A21A60C', 'now': 1715861061000}, 'log_pb': {'impr_id': '2024051612042016581D1116F60A21A60C'}, 'shareMeta': {'desc': '@afdkreispinneberg 2009 Followers, 78 Following, 344 Likes - Watch awesome short videos created by AfD Kreisverband Pinneberg', 'title': 'AfD Kreisverband Pinneberg on TikTok'}, 'statusCode': 0, 'status_code': 0, 'status_msg': '', 'userInfo': {'stats': {'diggCount': 0, 'followerCount': 2009, 'followingCount': 78, 'friendCount': 5, 'heart': 344, 'heartCount': 344, 'videoCount': 2}, 'user': {'avatarLarger': 'https://p16-sign-va.tiktokcdn.com/tos-maliva-avt-0068/ae52f293a794754ffefb98b6d905f6d9~c5_1080x1080.jpeg?lk3s=a5d48078&nonce=98988&refresh_token=a11acccc7d164dbcb7ed2a62f08fb206&x-expires=1716033600&x-signature=mPChw%2Fk6JWoZ4oWDdgXWDzEKRHc%3D&shp=a5d48078&shcp=81f88b70', 'avatarMedium': 'https://p16-sign-va.tiktokcdn.com/tos-maliva-avt-0068/ae52f293a794754ffefb98b6d905f6d9~c5_720x720.jpeg?lk3s=a5d48078&nonce=74949&refresh_token=0bc237db7e88c4b5ef4de27aa3fe1529&x-expires=1716033600&x-signature=MVRGUL75rScObIN9ShFVjY9jC7k%3D&shp=a5d48078&shcp=81f88b70', 'avatarThumb': 'https://p77-sign-va-lite.tiktokcdn.com/tos-maliva-avt-0068/ae52f293a794754ffefb98b6d905f6d9~c5_100x100.jpeg?lk3s=a5d48078&nonce=68505&refresh_token=90d0fa8911a517efeafbd2b6fb1194a1&x-expires=1716033600&x-signature=Mutlh2z6SuCjnZCoOST4%2F85wX7Y%3D&shp=a5d48078&shcp=81f88b70', 'canExpPlaylist': True, 'commentSetting': 0, 'commerceUserInfo': {'commerceUser': False}, 'downloadSetting': 0, 'duetSetting': 0, 'followingVisibility': 1, 'ftc': False, 'id': '6923552986447315973', 'isADVirtual': False, 'isEmbedBanned': False, 'nickNameModifyTime': 1612021449, 'nickname': 'AfD Kreisverband Pinneberg', 'openFavorite': False, 'privateAccount': False, 'profileEmbedPermission': 1, 'profileTab': {'showPlayListTab': False}, 'relation': 0, 'secUid': 'MS4wLjABAAAAjWN8FhQijxR14MqIRg3kpHx9O5BvtfXdK6Va9XrcMp7CWM9WTDTXhHIdLzX_z2nz', 'secret': False, 'signature': 'Kreisverband Pinneberg der Alternative für Deutschland🇩🇪', 'stitchSetting': 0, 'ttSeller': False, 'uniqueId': 'afdkreispinneberg', 'verified': False}}}\n",
      "Searching for afd.reinickendorf\n",
      "{'extra': {'fatal_item_ids': [], 'logid': '2024051612042129B42470703C0E222880', 'now': 1715861062000}, 'log_pb': {'impr_id': '2024051612042129B42470703C0E222880'}, 'shareMeta': {'desc': '@afd.reinickendorf 1615 Followers, 101 Following, 8631 Likes - Watch awesome short videos created by AfD Reinickendorf', 'title': 'AfD Reinickendorf on TikTok'}, 'statusCode': 0, 'status_code': 0, 'status_msg': '', 'userInfo': {'stats': {'diggCount': 0, 'followerCount': 1615, 'followingCount': 101, 'friendCount': 11, 'heart': 8631, 'heartCount': 8631, 'videoCount': 21}, 'user': {'avatarLarger': 'https://p77-sign-va.tiktokcdn.com/tos-maliva-avt-0068/b04a2ad020592035fa20a80fc2a6910d~c5_1080x1080.jpeg?lk3s=a5d48078&nonce=32789&refresh_token=570c8cd034ba57793a868d5ef77f37b4&x-expires=1716033600&x-signature=ujEudG3NOhVKO8b152JUP6t0sdM%3D&shp=a5d48078&shcp=81f88b70', 'avatarMedium': 'https://p77-sign-va-lite.tiktokcdn.com/tos-maliva-avt-0068/b04a2ad020592035fa20a80fc2a6910d~c5_720x720.jpeg?lk3s=a5d48078&nonce=58217&refresh_token=5d31be2769e0426dd966fb4a5320d8a3&x-expires=1716033600&x-signature=tV8HpRE4Gg4tVJTTvOuZ1jTB7Ps%3D&shp=a5d48078&shcp=81f88b70', 'avatarThumb': 'https://p16-sign-va.tiktokcdn.com/tos-maliva-avt-0068/b04a2ad020592035fa20a80fc2a6910d~c5_100x100.jpeg?lk3s=a5d48078&nonce=76607&refresh_token=a3768f190f6649737326ee99f581df3f&x-expires=1716033600&x-signature=kcBJDhJLhvZPzv%2BSKmG1LB1Z7rw%3D&shp=a5d48078&shcp=81f88b70', 'bioLink': {'link': 'https://linktr.ee/afd.reinickendorf', 'risk': 0}, 'canExpPlaylist': True, 'commentSetting': 0, 'commerceUserInfo': {'commerceUser': False}, 'downloadSetting': 0, 'duetSetting': 0, 'followingVisibility': 1, 'ftc': False, 'id': '6885451963459273729', 'isADVirtual': False, 'isEmbedBanned': False, 'nickNameModifyTime': 1653416102, 'nickname': 'AfD Reinickendorf', 'openFavorite': False, 'privateAccount': False, 'profileEmbedPermission': 1, 'profileTab': {'showPlayListTab': False}, 'relation': 0, 'secUid': 'MS4wLjABAAAAkjJHsSHtCI8zie_OCBRS15cWA0ei-VOUE4OZDNskSEEOu186iO8tHcqK_FsLPVjW', 'secret': False, 'signature': 'Das offizielle TikTok-Profil des AfD-Bezirksverbandes Berlin-Reinickendorf.', 'stitchSetting': 0, 'ttSeller': False, 'uniqueId': 'afd.reinickendorf', 'verified': False}}}\n",
      "Searching for afd_fraktion_bundestag\n",
      "{'extra': {'fatal_item_ids': [], 'logid': '2024051612042277EDE3815257302157FB', 'now': 1715861063000}, 'log_pb': {'impr_id': '2024051612042277EDE3815257302157FB'}, 'shareMeta': {'desc': '@afd_fraktion_bundestag 1080 Followers, 0 Following, 0 Likes - Watch awesome short videos created by AfD_Fraktion_Bundestag', 'title': 'AfD_Fraktion_Bundestag on TikTok'}, 'statusCode': 0, 'status_code': 0, 'status_msg': '', 'userInfo': {'stats': {'diggCount': 0, 'followerCount': 1080, 'followingCount': 0, 'friendCount': 0, 'heart': 0, 'heartCount': 0, 'videoCount': 0}, 'user': {'avatarLarger': 'https://p16-sign-va.tiktokcdn.com/tos-maliva-avt-0068/40dc8e9c3cd8fa664d72a402356b5f9a~c5_1080x1080.jpeg?lk3s=a5d48078&nonce=56002&refresh_token=26f3761f815bb6aea9cce954bbad3570&x-expires=1716033600&x-signature=Wch1OMsfwAVEqGiZmYF8Iddozbg%3D&shp=a5d48078&shcp=81f88b70', 'avatarMedium': 'https://p16-sign-va.tiktokcdn.com/tos-maliva-avt-0068/40dc8e9c3cd8fa664d72a402356b5f9a~c5_720x720.jpeg?lk3s=a5d48078&nonce=25672&refresh_token=0cb523398804a76912bb60dce0cc3569&x-expires=1716033600&x-signature=X%2FZXdoPkZWGmlXiDY7qpaODCt6o%3D&shp=a5d48078&shcp=81f88b70', 'avatarThumb': 'https://p16-sign-va.tiktokcdn.com/tos-maliva-avt-0068/40dc8e9c3cd8fa664d72a402356b5f9a~c5_100x100.jpeg?lk3s=a5d48078&nonce=20907&refresh_token=c74975151718a9b9a72e5ef04b9874e2&x-expires=1716033600&x-signature=YFOryP8HN0r%2FnAEwFawgRQr0mSo%3D&shp=a5d48078&shcp=81f88b70', 'canExpPlaylist': True, 'commentSetting': 0, 'commerceUserInfo': {'commerceUser': False}, 'downloadSetting': 0, 'duetSetting': 0, 'followingVisibility': 1, 'ftc': False, 'id': '7010738640880714758', 'isADVirtual': False, 'isEmbedBanned': False, 'nickname': 'AfD_Fraktion_Bundestag', 'openFavorite': False, 'privateAccount': False, 'profileEmbedPermission': 1, 'profileTab': {'showPlayListTab': False}, 'relation': 0, 'secUid': 'MS4wLjABAAAAax89LTwwX0tmnmM1KlPf-mj4RIp5ulYe5UXB95G6MKH0ckOvZVQjsLssr3VHVN1D', 'secret': False, 'signature': 'Offizieller TikTok-Account der AfD-Fraktion im Deutschen Bundestag.', 'stitchSetting': 0, 'ttSeller': False, 'uniqueId': 'afd_fraktion_bundestag', 'verified': False}}}\n",
      "Searching for afdfraktionimbundestag\n",
      "{'extra': {'fatal_item_ids': [], 'logid': '2024051612042268902ACD27626F20DD74', 'now': 1715861064000}, 'log_pb': {'impr_id': '2024051612042268902ACD27626F20DD74'}, 'shareMeta': {'desc': '@afdfraktionimbundestag 419.8k Followers, 48 Following, 7.1m Likes - Watch awesome short videos created by AfDFraktionimBundestag', 'title': 'AfDFraktionimBundestag on TikTok'}, 'statusCode': 0, 'status_code': 0, 'status_msg': '', 'userInfo': {'stats': {'diggCount': 0, 'followerCount': 419800, 'followingCount': 48, 'friendCount': 27, 'heart': 7100000, 'heartCount': 7100000, 'videoCount': 270}, 'user': {'avatarLarger': 'https://p16-sign-va.tiktokcdn.com/tos-maliva-avt-0068/7310547965037248518~c5_1080x1080.jpeg?lk3s=a5d48078&nonce=77942&refresh_token=3c50c26b0a5410e2f785703bf0616679&x-expires=1716033600&x-signature=gSpZQqvwPlYcK68V3Rvnm6Bm1Vk%3D&shp=a5d48078&shcp=81f88b70', 'avatarMedium': 'https://p16-sign-va.tiktokcdn.com/tos-maliva-avt-0068/7310547965037248518~c5_720x720.jpeg?lk3s=a5d48078&nonce=6285&refresh_token=a24b557ef98e2fd3e9180c1d89e38dfb&x-expires=1716033600&x-signature=pCzjJ2KEXAAeXsaIS%2BdBbU1oOFk%3D&shp=a5d48078&shcp=81f88b70', 'avatarThumb': 'https://p16-sign-va.tiktokcdn.com/tos-maliva-avt-0068/7310547965037248518~c5_100x100.jpeg?lk3s=a5d48078&nonce=5792&refresh_token=295672c608e68676c5f00abcee852b88&x-expires=1716033600&x-signature=4sfuY6a7tgVXE6GKrbymh0dsMtA%3D&shp=a5d48078&shcp=81f88b70', 'bioLink': {'link': 'https://afdbundestag.de/', 'risk': 3}, 'canExpPlaylist': True, 'commentSetting': 0, 'commerceUserInfo': {'category': 'Others', 'categoryButton': False, 'commerceUser': True}, 'downloadSetting': 0, 'duetSetting': 0, 'followingVisibility': 2, 'ftc': False, 'id': '7010741653149352965', 'isADVirtual': False, 'isEmbedBanned': False, 'nickname': 'AfDFraktionimBundestag', 'openFavorite': False, 'privateAccount': False, 'profileEmbedPermission': 1, 'profileTab': {'showPlayListTab': False}, 'relation': 0, 'secUid': 'MS4wLjABAAAAJo38XxAMFcysZc8BgWl1ZKXFnHVWoCFI30lnBs-EiORrZy1ZDoer-MBXBtX6Heck', 'secret': False, 'signature': 'Offizieller Account der AfD-Fraktion im Bundestag www.afdbundestag.de/impressum', 'stitchSetting': 0, 'ttSeller': False, 'uniqueId': 'afdfraktionimbundestag', 'verified': True}}}\n",
      "Searching for hauptstadtfraktion\n",
      "{'extra': {'fatal_item_ids': [], 'logid': '20240516120424FE0803C25B406B201C49', 'now': 1715861065000}, 'log_pb': {'impr_id': '20240516120424FE0803C25B406B201C49'}, 'shareMeta': {'desc': '@hauptstadtfraktion 44.2k Followers, 84 Following, 541.0k Likes - Watch awesome short videos created by Alternative Hauptstadtfraktion', 'title': 'Alternative Hauptstadtfraktion on TikTok'}, 'statusCode': 0, 'status_code': 0, 'status_msg': '', 'userInfo': {'stats': {'diggCount': 0, 'followerCount': 44200, 'followingCount': 84, 'friendCount': 36, 'heart': 541000, 'heartCount': 541000, 'videoCount': 241}, 'user': {'avatarLarger': 'https://p16-sign-va.tiktokcdn.com/tos-maliva-avt-0068/cdeb0b255c5c087219218318a371eaa2~c5_1080x1080.jpeg?lk3s=a5d48078&nonce=23070&refresh_token=3ac33a567a9473605dc8ffb2050c36a3&x-expires=1716033600&x-signature=J8iZj4qPG6rYKJK%2BmNG1ATHIGvk%3D&shp=a5d48078&shcp=81f88b70', 'avatarMedium': 'https://p16-sign-va.tiktokcdn.com/tos-maliva-avt-0068/cdeb0b255c5c087219218318a371eaa2~c5_720x720.jpeg?lk3s=a5d48078&nonce=74069&refresh_token=0b9b1895a658801d01dab3814f18fc09&x-expires=1716033600&x-signature=noIgUCljyC5behRIE4cU3SE8Qmg%3D&shp=a5d48078&shcp=81f88b70', 'avatarThumb': 'https://p16-sign-va.tiktokcdn.com/tos-maliva-avt-0068/cdeb0b255c5c087219218318a371eaa2~c5_100x100.jpeg?lk3s=a5d48078&nonce=99515&refresh_token=cd21bf22a99bd8798ebb241d70fc8d4f&x-expires=1716033600&x-signature=aBRB06EK2gVwDfL2%2BtaIBSSM6Xc%3D&shp=a5d48078&shcp=81f88b70', 'bioLink': {'link': 'www.afd-fraktion.berlin', 'risk': 3}, 'canExpPlaylist': True, 'commentSetting': 0, 'commerceUserInfo': {'category': 'Others', 'categoryButton': False, 'commerceUser': True, 'downLoadLink': {'android': '', 'ios': ''}}, 'downloadSetting': 0, 'duetSetting': 0, 'followingVisibility': 1, 'ftc': False, 'id': '6904959688833418241', 'isADVirtual': False, 'isEmbedBanned': False, 'nickNameModifyTime': 1662483662, 'nickname': 'Alternative Hauptstadtfraktion', 'openFavorite': False, 'privateAccount': False, 'profileEmbedPermission': 1, 'profileTab': {'showPlayListTab': True, 'showQuestionTab': True}, 'relation': 0, 'secUid': 'MS4wLjABAAAAebFJXSoMWQSoJXwklYXYW3wJICuOJgSZUS4znRhy7bNl6WpTFljw5mLHYhfe8Sze', 'secret': False, 'signature': 'Offizieller Account der AfD-Fraktion im Berliner Abgeordnetenhaus 🇩🇪', 'stitchSetting': 0, 'ttSeller': False, 'uniqueId': 'hauptstadtfraktion', 'verified': False}}}\n",
      "Searching for afd.landtag.bayern\n",
      "{'extra': {'fatal_item_ids': [], 'logid': '202405161204258F4349E7FE3EA8223E08', 'now': 1715861066000}, 'log_pb': {'impr_id': '202405161204258F4349E7FE3EA8223E08'}, 'shareMeta': {'desc': '@afd.landtag.bayern 29.2k Followers, 25 Following, 298.2k Likes - Watch awesome short videos created by AfD Bayern Landtag', 'title': 'AfD Bayern Landtag on TikTok'}, 'statusCode': 0, 'status_code': 0, 'status_msg': '', 'userInfo': {'stats': {'diggCount': 0, 'followerCount': 29200, 'followingCount': 25, 'friendCount': 6, 'heart': 298200, 'heartCount': 298200, 'videoCount': 300}, 'user': {'avatarLarger': 'https://p16-sign-va.tiktokcdn.com/tos-maliva-avt-0068/0fa05e15b0d3da8d0749a846509316fa~c5_1080x1080.jpeg?lk3s=a5d48078&nonce=69436&refresh_token=1a18e5b92d25f4eacc3ef5576566dd57&x-expires=1716033600&x-signature=GXcURtTFVGqSl1zqiDrQ5%2BqcI5c%3D&shp=a5d48078&shcp=81f88b70', 'avatarMedium': 'https://p16-sign-va.tiktokcdn.com/tos-maliva-avt-0068/0fa05e15b0d3da8d0749a846509316fa~c5_720x720.jpeg?lk3s=a5d48078&nonce=82904&refresh_token=836b56158592036e7420f45cd82ad016&x-expires=1716033600&x-signature=qciFee0A1CQ9D1FJ8%2BEQnF%2FqHQI%3D&shp=a5d48078&shcp=81f88b70', 'avatarThumb': 'https://p16-sign-va.tiktokcdn.com/tos-maliva-avt-0068/0fa05e15b0d3da8d0749a846509316fa~c5_100x100.jpeg?lk3s=a5d48078&nonce=28141&refresh_token=1d30ae86bc376c4002f0025623909857&x-expires=1716033600&x-signature=Dmg1BtmlaCrmGvcS75R%2FXhlW9%2B8%3D&shp=a5d48078&shcp=81f88b70', 'canExpPlaylist': True, 'commentSetting': 0, 'commerceUserInfo': {'category': 'Others', 'categoryButton': False, 'commerceUser': True}, 'downloadSetting': 3, 'duetSetting': 3, 'followingVisibility': 1, 'ftc': False, 'id': '7072621101449790469', 'isADVirtual': False, 'isEmbedBanned': False, 'nickNameModifyTime': 1646740581, 'nickname': 'AfD Bayern Landtag', 'openFavorite': False, 'privateAccount': False, 'profileEmbedPermission': 1, 'profileTab': {'showPlayListTab': False}, 'relation': 0, 'secUid': 'MS4wLjABAAAAg9AEWL6BU4RCAh7tXknGvenSEc-itHXVUfusGuiQ3B11_q9gBx9yO8CJAw03Cc2p', 'secret': False, 'signature': 'Gute Politik macht man nicht mit Links #AfD #Bayern #Landtag', 'stitchSetting': 3, 'ttSeller': False, 'uniqueId': 'afd.landtag.bayern', 'verified': False}}}\n",
      "Searching for afdfraktion.bw\n",
      "{'extra': {'fatal_item_ids': [], 'logid': '202405161204262A6EAB1E2790371E9AEB', 'now': 1715861067000}, 'log_pb': {'impr_id': '202405161204262A6EAB1E2790371E9AEB'}, 'shareMeta': {'desc': '@afdfraktion.bw 25.0k Followers, 41 Following, 211.9k Likes - Watch awesome short videos created by AfD-Landtagsfraktion BaWü', 'title': 'AfD-Landtagsfraktion BaWü on TikTok'}, 'statusCode': 0, 'status_code': 0, 'status_msg': '', 'userInfo': {'stats': {'diggCount': 0, 'followerCount': 25000, 'followingCount': 41, 'friendCount': 21, 'heart': 211900, 'heartCount': 211900, 'videoCount': 116}, 'user': {'avatarLarger': 'https://p16-sign-useast2a.tiktokcdn.com/tos-useast2a-avt-0068-euttp/cea372e543bcb88606986db4e1591941~c5_1080x1080.jpeg?lk3s=a5d48078&nonce=35807&refresh_token=3a3efacb20dc2f7ea29c38a290ada1a6&x-expires=1716033600&x-signature=hqSeZwF%2FFwUe0i1n%2BaIID6XVGJo%3D&shp=a5d48078&shcp=81f88b70', 'avatarMedium': 'https://p16-sign-useast2a.tiktokcdn.com/tos-useast2a-avt-0068-euttp/cea372e543bcb88606986db4e1591941~c5_720x720.jpeg?lk3s=a5d48078&nonce=10912&refresh_token=6e56eacc5aae35872675b956d4e99af2&x-expires=1716033600&x-signature=iuyBZRpBckf24rlgthuh3e%2BWhXg%3D&shp=a5d48078&shcp=81f88b70', 'avatarThumb': 'https://p16-sign-useast2a.tiktokcdn.com/tos-useast2a-avt-0068-euttp/cea372e543bcb88606986db4e1591941~c5_100x100.jpeg?lk3s=a5d48078&nonce=64680&refresh_token=6a3e242487122dc58d067780cac61e86&x-expires=1716033600&x-signature=KaZzMtbLbbZe1NB9IuRaiGK6gNA%3D&shp=a5d48078&shcp=81f88b70', 'bioLink': {'link': 'https://afd-fraktion-bw.de/', 'risk': 3}, 'canExpPlaylist': True, 'commentSetting': 0, 'commerceUserInfo': {'category': 'Others', 'categoryButton': False, 'commerceUser': True}, 'downloadSetting': 0, 'duetSetting': 0, 'followingVisibility': 1, 'ftc': False, 'id': '7067065634975187973', 'isADVirtual': False, 'isEmbedBanned': False, 'nickNameModifyTime': 1683216435, 'nickname': 'AfD-Landtagsfraktion BaWü', 'openFavorite': False, 'privateAccount': False, 'profileEmbedPermission': 1, 'profileTab': {'showPlayListTab': True}, 'relation': 0, 'secUid': 'MS4wLjABAAAA-JANIYwHoo8vtDZmrUtVobD37fSWiZIBxm99vUTN6koGhy0c5XHVNwZcN6YYhQ4e', 'secret': False, 'signature': 'AfD-Fraktion BW\\n💙 Die konservative Kraft im Südwesten 💙', 'stitchSetting': 0, 'ttSeller': False, 'uniqueId': 'afdfraktion.bw', 'verified': False}}}\n",
      "Searching for afd.fraktion.nrw\n",
      "{'extra': {'fatal_item_ids': [], 'logid': '2024051612042769721C07B5E95220CDEB', 'now': 1715861068000}, 'log_pb': {'impr_id': '2024051612042769721C07B5E95220CDEB'}, 'shareMeta': {'desc': '@afd.fraktion.nrw 108.4k Followers, 19 Following, 1.3m Likes - Watch awesome short videos created by AfD Fraktion', 'title': 'AfD Fraktion on TikTok'}, 'statusCode': 0, 'status_code': 0, 'status_msg': '', 'userInfo': {'stats': {'diggCount': 0, 'followerCount': 108400, 'followingCount': 19, 'friendCount': 12, 'heart': 1300000, 'heartCount': 1300000, 'videoCount': 453}, 'user': {'avatarLarger': 'https://p16-sign-va.tiktokcdn.com/tos-maliva-avt-0068/d05c5509562873f72052bf250979d942~c5_1080x1080.jpeg?lk3s=a5d48078&nonce=75949&refresh_token=4045dd82ad4af4d84e9de559b9b616fe&x-expires=1716033600&x-signature=nvtcxl8rCgcwzTICKvmkiK85bR0%3D&shp=a5d48078&shcp=81f88b70', 'avatarMedium': 'https://p16-sign-va.tiktokcdn.com/tos-maliva-avt-0068/d05c5509562873f72052bf250979d942~c5_720x720.jpeg?lk3s=a5d48078&nonce=6906&refresh_token=1b44df4ceb11600fafa4fe6e0de77c1c&x-expires=1716033600&x-signature=nEV5vgEbowB3wi4M8014jlq8544%3D&shp=a5d48078&shcp=81f88b70', 'avatarThumb': 'https://p16-sign-va.tiktokcdn.com/tos-maliva-avt-0068/d05c5509562873f72052bf250979d942~c5_100x100.jpeg?lk3s=a5d48078&nonce=27167&refresh_token=6ed758a4db42566265e6d8cd1f4cf085&x-expires=1716033600&x-signature=hP8wYyrdfAn4zvya8HAjsm3nKDY%3D&shp=a5d48078&shcp=81f88b70', 'bioLink': {'link': 'www.afd-fraktion.nrw', 'risk': 3}, 'canExpPlaylist': True, 'commentSetting': 3, 'commerceUserInfo': {'category': 'Public administration', 'categoryButton': False, 'commerceUser': True, 'downLoadLink': {'android': '', 'ios': ''}}, 'downloadSetting': 0, 'duetSetting': 0, 'followingVisibility': 1, 'ftc': False, 'id': '6917262926928937990', 'isADVirtual': False, 'isEmbedBanned': False, 'nickname': 'AfD Fraktion', 'openFavorite': False, 'privateAccount': False, 'profileEmbedPermission': 1, 'profileTab': {'showPlayListTab': False}, 'relation': 0, 'secUid': 'MS4wLjABAAAAni5GsEp0pR3o3QLX3Ri3lMTBAI4OWwN1RgnIXs7TAy3Rr84v2BW6j7MM3vA0IBwK', 'secret': False, 'signature': 'Offizielles TikTok-Profil der AfD-Fraktion NRW.', 'stitchSetting': 0, 'ttSeller': False, 'uniqueId': 'afd.fraktion.nrw', 'verified': False}}}\n",
      "Searching for afd_thl\n",
      "{'extra': {'fatal_item_ids': [], 'logid': '2024051612042897B0DC1FBEE42920CAF0', 'now': 1715861070000}, 'log_pb': {'impr_id': '2024051612042897B0DC1FBEE42920CAF0'}, 'shareMeta': {'desc': '@afd_thl 8086 Followers, 6 Following, 33.9k Likes - Watch awesome short videos created by AfD-Fraktion im Thür. Landtag', 'title': 'AfD-Fraktion im Thür. Landtag on TikTok'}, 'statusCode': 0, 'status_code': 0, 'status_msg': '', 'userInfo': {'stats': {'diggCount': 0, 'followerCount': 8086, 'followingCount': 6, 'friendCount': 5, 'heart': 33900, 'heartCount': 33900, 'videoCount': 20}, 'user': {'avatarLarger': 'https://p16-sign-va.tiktokcdn.com/tos-maliva-avt-0068/f5b389162a3c1ca5e025cfae4c8feddf~c5_1080x1080.jpeg?lk3s=a5d48078&nonce=41943&refresh_token=3fe3082de2025be790547dacefa7ca25&x-expires=1716033600&x-signature=RJYeK8rTClgr4t5omlLHS77beIA%3D&shp=a5d48078&shcp=81f88b70', 'avatarMedium': 'https://p16-sign-va.tiktokcdn.com/tos-maliva-avt-0068/f5b389162a3c1ca5e025cfae4c8feddf~c5_720x720.jpeg?lk3s=a5d48078&nonce=89760&refresh_token=c39cdcc303c660d10d348644b7455f84&x-expires=1716033600&x-signature=FwGXRSlyS%2BF443SSgBQfjzz%2B964%3D&shp=a5d48078&shcp=81f88b70', 'avatarThumb': 'https://p16-sign-va.tiktokcdn.com/tos-maliva-avt-0068/f5b389162a3c1ca5e025cfae4c8feddf~c5_100x100.jpeg?lk3s=a5d48078&nonce=67302&refresh_token=1b3924b725faa55369f3887b266d1020&x-expires=1716033600&x-signature=z%2FG70tqiZxlLc3FXzNmkdbubVjI%3D&shp=a5d48078&shcp=81f88b70', 'canExpPlaylist': True, 'commentSetting': 0, 'commerceUserInfo': {'category': 'Public administration', 'categoryButton': False, 'commerceUser': True}, 'downloadSetting': 0, 'duetSetting': 0, 'followingVisibility': 1, 'ftc': False, 'id': '6923654133254521862', 'isADVirtual': False, 'isEmbedBanned': False, 'nickNameModifyTime': 1637326982, 'nickname': 'AfD-Fraktion im Thür. Landtag', 'openFavorite': False, 'privateAccount': False, 'profileEmbedPermission': 1, 'profileTab': {'showPlayListTab': False}, 'relation': 0, 'secUid': 'MS4wLjABAAAAo-ACizT2Bw2SL44SFy1E8Ql4LkqoR3aJDE3QFiEsmlUJ2WJK7fOm_49_4FFhqJL-', 'secret': False, 'signature': 'Dies ist der offizielle Account der AfD-Fraktion im Thüringer Landtag.', 'stitchSetting': 0, 'ttSeller': False, 'uniqueId': 'afd_thl', 'verified': False}}}\n",
      "Searching for afdfraktionhamburg\n",
      "{'extra': {'fatal_item_ids': [], 'logid': '20240516120429240BED6A67870E2063CA', 'now': 1715861070000}, 'log_pb': {'impr_id': '20240516120429240BED6A67870E2063CA'}, 'shareMeta': {'desc': '@afdfraktionhamburg 25.3k Followers, 14 Following, 280.9k Likes - Watch awesome short videos created by AfD Fraktion Hamburg', 'title': 'AfD Fraktion Hamburg on TikTok'}, 'statusCode': 0, 'status_code': 0, 'status_msg': '', 'userInfo': {'stats': {'diggCount': 0, 'followerCount': 25300, 'followingCount': 14, 'friendCount': 2, 'heart': 280900, 'heartCount': 280900, 'videoCount': 126}, 'user': {'avatarLarger': 'https://p16-sign-va.tiktokcdn.com/tos-maliva-avt-0068/78cd27c92ac6b400fc46fa55df5f9a2c~c5_1080x1080.jpeg?lk3s=a5d48078&nonce=5763&refresh_token=357b1a1199c945f9cbf8f7af2ecc1e7b&x-expires=1716033600&x-signature=ZEE1qXZvHcaZnbkA%2BShCb9FWDRo%3D&shp=a5d48078&shcp=81f88b70', 'avatarMedium': 'https://p16-sign-va.tiktokcdn.com/tos-maliva-avt-0068/78cd27c92ac6b400fc46fa55df5f9a2c~c5_720x720.jpeg?lk3s=a5d48078&nonce=50954&refresh_token=ebc7345967b3b1c16fa5841af911f32d&x-expires=1716033600&x-signature=0BPel5qpDpHuKpKu%2FWqGPktlkGM%3D&shp=a5d48078&shcp=81f88b70', 'avatarThumb': 'https://p16-sign-va.tiktokcdn.com/tos-maliva-avt-0068/78cd27c92ac6b400fc46fa55df5f9a2c~c5_100x100.jpeg?lk3s=a5d48078&nonce=63766&refresh_token=730f4cccc355ab047300e04c2ccff7d9&x-expires=1716033600&x-signature=y3yB7OlwGAU8N0FkhiaNtoWNeKs%3D&shp=a5d48078&shcp=81f88b70', 'canExpPlaylist': True, 'commentSetting': 0, 'commerceUserInfo': {'commerceUser': False}, 'downloadSetting': 0, 'duetSetting': 0, 'followingVisibility': 1, 'ftc': False, 'id': '7028158370713650181', 'isADVirtual': False, 'isEmbedBanned': False, 'nickNameModifyTime': 1659369542, 'nickname': 'AfD Fraktion Hamburg', 'openFavorite': False, 'privateAccount': False, 'profileEmbedPermission': 1, 'profileTab': {'showPlayListTab': False}, 'relation': 0, 'secUid': 'MS4wLjABAAAA_vkVReClGDjFX_aWrGpa_n9HqeqrDv94paJpUVDiLcaI_ewC_xGCp5wi-14lkhec', 'secret': False, 'signature': 'Offizieller Kanal der AfD-Fraktion Hamburg\\n🎥 📱🇩🇪\\nWir für euch im Parlament!', 'stitchSetting': 0, 'ttSeller': False, 'uniqueId': 'afdfraktionhamburg', 'verified': False}}}\n",
      "New ms_token: e1zeZ9T8jeV1yRcyRid_h9z4TqgI-6F5RWJz_zNSUFKVKwyXFDOjj2Zm0JdqR6qLL3MzsI0U-0bfVBxD_ZXfRIOXewE1Hymiq4Nu6ytHg7c=\n",
      "6029\n",
      "20\n",
      "e1zeZ9T8jeV1yRcyRid_h9z4TqgI-6F5RWJz_zNSUFKVKwyXFDOjj2Zm0JdqR6qLL3MzsI0U-0bfVBxD_ZXfRIOXewE1Hymiq4Nu6ytHg7c=\n",
      "Searching for afd.fraktion.mv\n",
      "{'extra': {'fatal_item_ids': [], 'logid': '2024051612043375AE9DF6B30D5522DC3B', 'now': 1715861074000}, 'log_pb': {'impr_id': '2024051612043375AE9DF6B30D5522DC3B'}, 'shareMeta': {'desc': '@afd.fraktion.mv 15.0k Followers, 15 Following, 114.1k Likes - Watch awesome short videos created by AfD-Fraktion im Landtag MV', 'title': 'AfD-Fraktion im Landtag MV on TikTok'}, 'statusCode': 0, 'status_code': 0, 'status_msg': '', 'userInfo': {'stats': {'diggCount': 0, 'followerCount': 15000, 'followingCount': 15, 'friendCount': 6, 'heart': 114100, 'heartCount': 114100, 'videoCount': 89}, 'user': {'avatarLarger': 'https://p16-sign-va.tiktokcdn.com/tos-maliva-avt-0068/0b056372b03fdf61248619d83d275ee9~c5_1080x1080.jpeg?lk3s=a5d48078&nonce=70389&refresh_token=8412e7a7cd8e932ea146c626db0ecbb3&x-expires=1716033600&x-signature=MyGw%2FqtybtpppHekFYEI62JrXjs%3D&shp=a5d48078&shcp=81f88b70', 'avatarMedium': 'https://p16-sign-va.tiktokcdn.com/tos-maliva-avt-0068/0b056372b03fdf61248619d83d275ee9~c5_720x720.jpeg?lk3s=a5d48078&nonce=88551&refresh_token=ec6d252ce64c529dc27e713056fd65de&x-expires=1716033600&x-signature=uFySLs4ZPXzaYYL11APdLeA1vHI%3D&shp=a5d48078&shcp=81f88b70', 'avatarThumb': 'https://p16-sign-va.tiktokcdn.com/tos-maliva-avt-0068/0b056372b03fdf61248619d83d275ee9~c5_100x100.jpeg?lk3s=a5d48078&nonce=71313&refresh_token=e4d52e53c1e013baa45671c7b40791ac&x-expires=1716033600&x-signature=2P10CHU%2Bgm5YAXlN%2FxwnTMoV%2Fkg%3D&shp=a5d48078&shcp=81f88b70', 'bioLink': {'link': 'www.afd-fraktion-mv.de', 'risk': 3}, 'canExpPlaylist': True, 'commentSetting': 0, 'commerceUserInfo': {'category': 'Public administration', 'categoryButton': False, 'commerceUser': True}, 'downloadSetting': 0, 'duetSetting': 0, 'followingVisibility': 1, 'ftc': False, 'id': '6922761045375828998', 'isADVirtual': False, 'isEmbedBanned': False, 'nickNameModifyTime': 1611837099, 'nickname': 'AfD-Fraktion im Landtag MV', 'openFavorite': False, 'privateAccount': False, 'profileEmbedPermission': 1, 'profileTab': {'showPlayListTab': False}, 'relation': 0, 'secUid': 'MS4wLjABAAAA8ii4MlnpvtTHllXvB6jFs8v2hqPRNTBBjotAXWayCClPs7hLySlhHEdYyuJAYHqn', 'secret': False, 'signature': 'Offizieller Account der AfD-Fraktion im Landtag von Mecklenburg-Vorpommern', 'stitchSetting': 0, 'ttSeller': False, 'uniqueId': 'afd.fraktion.mv', 'verified': False}}}\n",
      "Searching for afd_fraktionbb\n",
      "{'extra': {'fatal_item_ids': [], 'logid': '20240516120434AA56374903FC8121533E', 'now': 1715861075000}, 'log_pb': {'impr_id': '20240516120434AA56374903FC8121533E'}, 'shareMeta': {'desc': '@afd_fraktionbb 16.4k Followers, 34 Following, 109.3k Likes - Watch awesome short videos created by AfD_Fraktion_Brandenburg', 'title': 'AfD_Fraktion_Brandenburg on TikTok'}, 'statusCode': 0, 'status_code': 0, 'status_msg': '', 'userInfo': {'stats': {'diggCount': 30, 'followerCount': 16400, 'followingCount': 34, 'friendCount': 9, 'heart': 109300, 'heartCount': 109300, 'videoCount': 28}, 'user': {'avatarLarger': 'https://p16-sign-va.tiktokcdn.com/tos-maliva-avt-0068/4da0ce61ab89c83ac3a026545ccd6c70~c5_1080x1080.jpeg?lk3s=a5d48078&nonce=39222&refresh_token=9dbed7ad879b9d8b0b038e06e73ab401&x-expires=1716033600&x-signature=OCdu3VoyDxejhyavI8hP70rFqYA%3D&shp=a5d48078&shcp=81f88b70', 'avatarMedium': 'https://p16-sign-va.tiktokcdn.com/tos-maliva-avt-0068/4da0ce61ab89c83ac3a026545ccd6c70~c5_720x720.jpeg?lk3s=a5d48078&nonce=60227&refresh_token=74e03a9d23186b30aef0745618edc058&x-expires=1716033600&x-signature=XdbWp4vsYwKdZFo8u3WZ2Se3x6k%3D&shp=a5d48078&shcp=81f88b70', 'avatarThumb': 'https://p16-sign-va.tiktokcdn.com/tos-maliva-avt-0068/4da0ce61ab89c83ac3a026545ccd6c70~c5_100x100.jpeg?lk3s=a5d48078&nonce=1256&refresh_token=e6da35cc645e070955d8a8217622a910&x-expires=1716033600&x-signature=MfuWZ1oYcu%2Fqz%2B6QT5Q3Dln3J8I%3D&shp=a5d48078&shcp=81f88b70', 'canExpPlaylist': True, 'commentSetting': 0, 'commerceUserInfo': {'commerceUser': False}, 'downloadSetting': 3, 'duetSetting': 0, 'followingVisibility': 1, 'ftc': False, 'id': '6963206593564115974', 'isADVirtual': False, 'isEmbedBanned': False, 'nickname': 'AfD_Fraktion_Brandenburg', 'openFavorite': True, 'privateAccount': False, 'profileEmbedPermission': 1, 'profileTab': {'showPlayListTab': False}, 'relation': 0, 'secUid': 'MS4wLjABAAAASuCfbFmA1fBDIKn9cw5g9z1engehuS8jqTcsb5INX2IXeIIoshQ_64YfufNUVan_', 'secret': False, 'signature': 'AfD-Fraktion im Landtag Brandenburg', 'stitchSetting': 0, 'ttSeller': False, 'uniqueId': 'afd_fraktionbb', 'verified': False}}}\n",
      "Searching for afd.fraktion.nds\n",
      "{'extra': {'fatal_item_ids': [], 'logid': '202405161204368418BD43BED8E321C406', 'now': 1715861077000}, 'log_pb': {'impr_id': '202405161204368418BD43BED8E321C406'}, 'shareMeta': {'desc': '@afd.fraktion.nds 41.3k Followers, 8 Following, 442.1k Likes - Watch awesome short videos created by afd.fraktion.nds', 'title': 'afd.fraktion.nds on TikTok'}, 'statusCode': 0, 'status_code': 0, 'status_msg': '', 'userInfo': {'stats': {'diggCount': 0, 'followerCount': 41300, 'followingCount': 8, 'friendCount': 5, 'heart': 442100, 'heartCount': 442100, 'videoCount': 130}, 'user': {'avatarLarger': 'https://p16-sign-va.tiktokcdn.com/tos-maliva-avt-0068/c66b7af2594a92cdfb8387f0206b0cdb~c5_1080x1080.jpeg?lk3s=a5d48078&nonce=12848&refresh_token=969a588293f033764697946803204bd5&x-expires=1716033600&x-signature=P7%2FmTCHiJqbWfBpgl38%2B93BmCzE%3D&shp=a5d48078&shcp=81f88b70', 'avatarMedium': 'https://p16-sign-va.tiktokcdn.com/tos-maliva-avt-0068/c66b7af2594a92cdfb8387f0206b0cdb~c5_720x720.jpeg?lk3s=a5d48078&nonce=48026&refresh_token=23a893951489597a8c43d11074c68610&x-expires=1716033600&x-signature=6cVIbVkJS1uyMWJcQiD5srgKgaM%3D&shp=a5d48078&shcp=81f88b70', 'avatarThumb': 'https://p16-sign-va.tiktokcdn.com/tos-maliva-avt-0068/c66b7af2594a92cdfb8387f0206b0cdb~c5_100x100.jpeg?lk3s=a5d48078&nonce=19355&refresh_token=c1ee0941604be07d46b1149585d12ebd&x-expires=1716033600&x-signature=0stjzOZPWvoy9lQaHRcaYTugj9o%3D&shp=a5d48078&shcp=81f88b70', 'canExpPlaylist': True, 'commentSetting': 0, 'commerceUserInfo': {'category': 'Public administration', 'categoryButton': False, 'commerceUser': True}, 'downloadSetting': 0, 'duetSetting': 0, 'followingVisibility': 1, 'ftc': False, 'id': '6802506859812832261', 'isADVirtual': False, 'isEmbedBanned': False, 'nickname': 'afd.fraktion.nds', 'openFavorite': False, 'privateAccount': False, 'profileEmbedPermission': 1, 'profileTab': {'showPlayListTab': False}, 'relation': 0, 'secUid': 'MS4wLjABAAAAdl1pCoHMPYfswQePGveCL4JsCUPy6pFu3XbE0iwXC6C3xiT5WglRdy3UA9-yQNlx', 'secret': False, 'signature': 'Offizielles TikTok-Profil der AfD-Fraktion Niedersachsen.', 'stitchSetting': 0, 'ttSeller': False, 'uniqueId': 'afd.fraktion.nds', 'verified': False}}}\n",
      "Searching for afdfraktionsachsenanhalt\n",
      "{'extra': {'fatal_item_ids': [], 'logid': '202405161204374AC2C8DFCA19641F1620', 'now': 1715861078000}, 'log_pb': {'impr_id': '202405161204374AC2C8DFCA19641F1620'}, 'shareMeta': {'desc': '@afdfraktionsachsenanhalt 30.7k Followers, 43 Following, 189.2k Likes - Watch awesome short videos created by afdfraktionlsa', 'title': 'afdfraktionlsa on TikTok'}, 'statusCode': 0, 'status_code': 0, 'status_msg': '', 'userInfo': {'stats': {'diggCount': 0, 'followerCount': 30700, 'followingCount': 43, 'friendCount': 20, 'heart': 189200, 'heartCount': 189200, 'videoCount': 47}, 'user': {'avatarLarger': 'https://p16-sign-va.tiktokcdn.com/tos-maliva-avt-0068/7177017157308383238~c5_1080x1080.jpeg?lk3s=a5d48078&nonce=58682&refresh_token=992e1d4e5ace33e9798826b416f5fada&x-expires=1716033600&x-signature=dWXKKzo0lj1fBweAJxvqOYYUJz0%3D&shp=a5d48078&shcp=81f88b70', 'avatarMedium': 'https://p16-sign-va.tiktokcdn.com/tos-maliva-avt-0068/7177017157308383238~c5_720x720.jpeg?lk3s=a5d48078&nonce=55759&refresh_token=a0df40c14d1d09dd97b782d50088c4cf&x-expires=1716033600&x-signature=TNEY3Y4%2FoL1mXy1P3vQfvkVGnaU%3D&shp=a5d48078&shcp=81f88b70', 'avatarThumb': 'https://p16-sign-va.tiktokcdn.com/tos-maliva-avt-0068/7177017157308383238~c5_100x100.jpeg?lk3s=a5d48078&nonce=44687&refresh_token=1803f2b85c76d4b3c6f0add030885174&x-expires=1716033600&x-signature=bU9J2FNRyi3B9xwS6I3NCjBpM9M%3D&shp=a5d48078&shcp=81f88b70', 'bioLink': {'link': 'www.afdfraktion-lsa.de', 'risk': 3}, 'canExpPlaylist': True, 'commentSetting': 0, 'commerceUserInfo': {'commerceUser': False}, 'downloadSetting': 0, 'duetSetting': 0, 'followingVisibility': 2, 'ftc': False, 'id': '7177017015755195397', 'isADVirtual': False, 'isEmbedBanned': False, 'nickNameModifyTime': 1671029553, 'nickname': 'afdfraktionlsa', 'openFavorite': False, 'privateAccount': False, 'profileEmbedPermission': 1, 'profileTab': {'showPlayListTab': False}, 'relation': 0, 'secUid': 'MS4wLjABAAAAvB7dcmy1YyNXCpmXZoJUQwI5WabS4S0ctI6MHWe5-5ViaOR37lrIu9p9NEWKRYbo', 'secret': False, 'signature': '', 'stitchSetting': 0, 'ttSeller': False, 'uniqueId': 'afdfraktionsachsenanhalt', 'verified': False}}}\n",
      "Searching for afdfraktion.rlp\n",
      "{'extra': {'fatal_item_ids': [], 'logid': '202405161204388418BD43BED8E321C55D', 'now': 1715861079000}, 'log_pb': {'impr_id': '202405161204388418BD43BED8E321C55D'}, 'shareMeta': {'desc': '@afdfraktion.rlp 2123 Followers, 0 Following, 6139 Likes - Watch awesome short videos created by AfD-Fraktion Rheinland-Pfalz', 'title': 'AfD-Fraktion Rheinland-Pfalz on TikTok'}, 'statusCode': 0, 'status_code': 0, 'status_msg': '', 'userInfo': {'stats': {'diggCount': 0, 'followerCount': 2123, 'followingCount': 0, 'friendCount': 0, 'heart': 6139, 'heartCount': 6139, 'videoCount': 11}, 'user': {'avatarLarger': 'https://p16-sign-useast2a.tiktokcdn.com/tos-useast2a-avt-0068-euttp/47cc883943f2cc549a6a0690b802ef15~c5_1080x1080.jpeg?lk3s=a5d48078&nonce=49397&refresh_token=fdbe42a4d2561cc8dd1b6ce7173eb325&x-expires=1716033600&x-signature=6z3gRru51c%2BKVFsfX0sUh158rSk%3D&shp=a5d48078&shcp=81f88b70', 'avatarMedium': 'https://p16-sign-useast2a.tiktokcdn.com/tos-useast2a-avt-0068-euttp/47cc883943f2cc549a6a0690b802ef15~c5_720x720.jpeg?lk3s=a5d48078&nonce=20825&refresh_token=bee21fa9b8cc0278f175ebca92a2e136&x-expires=1716033600&x-signature=Day4AuUHjcIo1bhJs3J5FSvyikQ%3D&shp=a5d48078&shcp=81f88b70', 'avatarThumb': 'https://p16-sign-useast2a.tiktokcdn.com/tos-useast2a-avt-0068-euttp/47cc883943f2cc549a6a0690b802ef15~c5_100x100.jpeg?lk3s=a5d48078&nonce=93860&refresh_token=40f82841903c8e8f5242541e7b8bcf4b&x-expires=1716033600&x-signature=8ZgAfU5dzJ5s3tCSoSv0hYZd2xk%3D&shp=a5d48078&shcp=81f88b70', 'canExpPlaylist': True, 'commentSetting': 0, 'commerceUserInfo': {'category': 'Public administration', 'categoryButton': False, 'commerceUser': True}, 'downloadSetting': 0, 'duetSetting': 0, 'followingVisibility': 1, 'ftc': False, 'id': '7280536695727047713', 'isADVirtual': False, 'isEmbedBanned': False, 'nickNameModifyTime': 1695132186, 'nickname': 'AfD-Fraktion Rheinland-Pfalz', 'openFavorite': False, 'privateAccount': False, 'profileEmbedPermission': 1, 'profileTab': {'showPlayListTab': False}, 'relation': 0, 'secUid': 'MS4wLjABAAAA-dF9CZ38Qrd-uEbFlyHWTVoD05tU3J8uDz856h-wN0x6ARddYrKlXCdZsIA94_Ne', 'secret': False, 'signature': '#AfD-Fraktion im Landtag von Rheinland-Pfalz #RLP\\n\\nwww.afd-rlp-fraktion.de', 'stitchSetting': 0, 'ttSeller': False, 'uniqueId': 'afdfraktion.rlp', 'verified': False}}}\n",
      "Searching for afdfraktion.hesse\n",
      "{'extra': {'fatal_item_ids': [], 'logid': '202405161204399B332A8A0E9EE121A358', 'now': 1715861080000}, 'log_pb': {'impr_id': '202405161204399B332A8A0E9EE121A358'}, 'shareMeta': {'desc': '@afdfraktion.hesse 2792 Followers, 0 Following, 8319 Likes - Watch awesome short videos created by AfD-Fraktion Hessen', 'title': 'AfD-Fraktion Hessen on TikTok'}, 'statusCode': 0, 'status_code': 0, 'status_msg': '', 'userInfo': {'stats': {'diggCount': 0, 'followerCount': 2792, 'followingCount': 0, 'friendCount': 0, 'heart': 8319, 'heartCount': 8319, 'videoCount': 33}, 'user': {'avatarLarger': 'https://p16-sign-useast2a.tiktokcdn.com/tos-useast2a-avt-0068-euttp/b4c6cf7e4f2efc57308c5304507f63af~c5_1080x1080.jpeg?lk3s=a5d48078&nonce=43657&refresh_token=48674b1300dbd34a0c6fd188ca9da2d7&x-expires=1716033600&x-signature=0vrqB%2BN3LwpzMzYdIrY55cv54bk%3D&shp=a5d48078&shcp=81f88b70', 'avatarMedium': 'https://p16-sign-useast2a.tiktokcdn.com/tos-useast2a-avt-0068-euttp/b4c6cf7e4f2efc57308c5304507f63af~c5_720x720.jpeg?lk3s=a5d48078&nonce=38683&refresh_token=2187573e7b3b18c46a1ad34a58abf056&x-expires=1716033600&x-signature=%2Ft12VSgbwfWDIZCcZRioYFomh8o%3D&shp=a5d48078&shcp=81f88b70', 'avatarThumb': 'https://p16-sign-useast2a.tiktokcdn.com/tos-useast2a-avt-0068-euttp/b4c6cf7e4f2efc57308c5304507f63af~c5_100x100.jpeg?lk3s=a5d48078&nonce=76168&refresh_token=57898d49ff68a55edf38c9e2355f6dea&x-expires=1716033600&x-signature=rOGPrJtekuNAGaFH69%2FspNrIItQ%3D&shp=a5d48078&shcp=81f88b70', 'canExpPlaylist': True, 'commentSetting': 0, 'commerceUserInfo': {'commerceUser': False}, 'downloadSetting': 0, 'duetSetting': 0, 'followingVisibility': 1, 'ftc': False, 'id': '7273793549669205024', 'isADVirtual': False, 'isEmbedBanned': False, 'nickNameModifyTime': 1693562142, 'nickname': 'AfD-Fraktion Hessen', 'openFavorite': False, 'privateAccount': False, 'profileEmbedPermission': 1, 'profileTab': {'showPlayListTab': False}, 'relation': 0, 'secUid': 'MS4wLjABAAAAAXLvwArXjSl_7mUubr_CXpMPTiFeVI5rbvFaOc6pzs93aX04lNYPadezbQ0ezqwv', 'secret': False, 'signature': 'Offizielles TikTok-Profil der AfD-Fraktion im Hessischen Landtag', 'stitchSetting': 0, 'ttSeller': False, 'uniqueId': 'afdfraktion.hesse', 'verified': False}}}\n",
      "Searching for afd_im_landtag_saarland\n",
      "{'extra': {'fatal_item_ids': [], 'logid': '20240516120440E7CAB40843F3472280B6', 'now': 1715861081000}, 'log_pb': {'impr_id': '20240516120440E7CAB40843F3472280B6'}, 'shareMeta': {'desc': '@afd_im_landtag_saarland 1990 Followers, 0 Following, 524 Likes - Watch awesome short videos created by AfD_im_Landtag_Saarland', 'title': 'AfD_im_Landtag_Saarland on TikTok'}, 'statusCode': 0, 'status_code': 0, 'status_msg': '', 'userInfo': {'stats': {'diggCount': 0, 'followerCount': 1990, 'followingCount': 0, 'friendCount': 0, 'heart': 524, 'heartCount': 524, 'videoCount': 7}, 'user': {'avatarLarger': 'https://p16-sign-va.tiktokcdn.com/tos-maliva-avt-0068/5c7c8eb08997cbec7287114307291226~c5_1080x1080.jpeg?lk3s=a5d48078&nonce=72824&refresh_token=16d35217504177d74bdc3d0a77fe3292&x-expires=1716033600&x-signature=o3PZHq1wc8prvD5suqrfdrg8D7Y%3D&shp=a5d48078&shcp=81f88b70', 'avatarMedium': 'https://p16-sign-va.tiktokcdn.com/tos-maliva-avt-0068/5c7c8eb08997cbec7287114307291226~c5_720x720.jpeg?lk3s=a5d48078&nonce=48382&refresh_token=0a54052c3f6405db88894a1eceb77647&x-expires=1716033600&x-signature=bg%2BYcGndV5%2BuxEPOLIM%2F%2FBnnaXQ%3D&shp=a5d48078&shcp=81f88b70', 'avatarThumb': 'https://p16-sign-va.tiktokcdn.com/tos-maliva-avt-0068/5c7c8eb08997cbec7287114307291226~c5_100x100.jpeg?lk3s=a5d48078&nonce=36623&refresh_token=a48aec0498fd16d2ae95dfc39bc50f07&x-expires=1716033600&x-signature=05Cta48VfGQI8SoAy8YPbZS%2F%2FvI%3D&shp=a5d48078&shcp=81f88b70', 'canExpPlaylist': True, 'commentSetting': 0, 'commerceUserInfo': {'commerceUser': False}, 'downloadSetting': 0, 'duetSetting': 0, 'followingVisibility': 1, 'ftc': False, 'id': '7138361124202497030', 'isADVirtual': False, 'isEmbedBanned': False, 'nickname': 'AfD_im_Landtag_Saarland', 'openFavorite': False, 'privateAccount': False, 'profileEmbedPermission': 1, 'profileTab': {'showPlayListTab': False}, 'relation': 0, 'secUid': 'MS4wLjABAAAAKcd80pM_8TIcD5V1sT3XC2oRokgClYeIuZjPhPaRfKQYPz264J9lQ0XEkpM3WYAj', 'secret': False, 'signature': 'Die einzige Opposition im saarländischen Landtag', 'stitchSetting': 0, 'ttSeller': False, 'uniqueId': 'afd_im_landtag_saarland', 'verified': False}}}\n",
      "Searching for afd.eu\n",
      "{'extra': {'fatal_item_ids': [], 'logid': '2024051612044175AE9DF6B30D5522E0E9', 'now': 1715861082000}, 'log_pb': {'impr_id': '2024051612044175AE9DF6B30D5522E0E9'}, 'shareMeta': {'desc': '@afd.eu 27.7k Followers, 167 Following, 306.4k Likes - Watch awesome short videos created by AfD im EU-Parlament', 'title': 'AfD im EU-Parlament on TikTok'}, 'statusCode': 0, 'status_code': 0, 'status_msg': '', 'userInfo': {'stats': {'diggCount': 0, 'followerCount': 27700, 'followingCount': 167, 'friendCount': 74, 'heart': 306400, 'heartCount': 306400, 'videoCount': 260}, 'user': {'avatarLarger': 'https://p16-sign-va.tiktokcdn.com/tos-maliva-avt-0068/a89fb9e02cd5152529fda891262134f1~c5_1080x1080.jpeg?lk3s=a5d48078&nonce=44382&refresh_token=0d7ef98b9643a379c3a591240e2c1f61&x-expires=1716033600&x-signature=zUZDGEphgqDYnk6FT5OVQS0IGXQ%3D&shp=a5d48078&shcp=81f88b70', 'avatarMedium': 'https://p16-sign-va.tiktokcdn.com/tos-maliva-avt-0068/a89fb9e02cd5152529fda891262134f1~c5_720x720.jpeg?lk3s=a5d48078&nonce=94756&refresh_token=a1cddd21f8d5064b60c5d71212afdcfd&x-expires=1716033600&x-signature=I%2BUx6kVUvg8EVR%2BUoAh%2B9vD1ccg%3D&shp=a5d48078&shcp=81f88b70', 'avatarThumb': 'https://p16-sign-va.tiktokcdn.com/tos-maliva-avt-0068/a89fb9e02cd5152529fda891262134f1~c5_100x100.jpeg?lk3s=a5d48078&nonce=60115&refresh_token=013d4affabb578bcf6500555fbab79a4&x-expires=1716033600&x-signature=nsTatpeoaL0Np0IVnb1Z0pMRNCI%3D&shp=a5d48078&shcp=81f88b70', 'bioLink': {'link': 'https://youtu.be/H0Ds-N0HcNM', 'risk': 0}, 'canExpPlaylist': True, 'commentSetting': 0, 'commerceUserInfo': {'category': 'Media & entertainment', 'categoryButton': False, 'commerceUser': True}, 'downloadSetting': 0, 'duetSetting': 0, 'followingVisibility': 1, 'ftc': False, 'id': '6970389903196947462', 'isADVirtual': False, 'isEmbedBanned': False, 'nickNameModifyTime': 1669425354, 'nickname': 'AfD im EU-Parlament', 'openFavorite': False, 'privateAccount': False, 'profileEmbedPermission': 1, 'profileTab': {'showPlayListTab': False}, 'relation': 0, 'secUid': 'MS4wLjABAAAAd_sfgaeh72O3fhKBjEd7neFRzxqV04gJ5cuAwZ0f8-sav7tusA-O4RrJH_HRl3e8', 'secret': False, 'signature': 'Ihre AfD. In Europa. Für Deutschland.', 'stitchSetting': 0, 'ttSeller': False, 'uniqueId': 'afd.eu', 'verified': False}}}\n",
      "Searching for guidoreil\n",
      "{'extra': {'fatal_item_ids': [], 'logid': '20240516120442D442BFCDC4A5CF207103', 'now': 1715861083000}, 'log_pb': {'impr_id': '20240516120442D442BFCDC4A5CF207103'}, 'shareMeta': {'desc': '@guidoreil 8513 Followers, 184 Following, 86.4k Likes - Watch awesome short videos created by Alternativ.Sozial', 'title': 'Alternativ.Sozial on TikTok'}, 'statusCode': 0, 'status_code': 0, 'status_msg': '', 'userInfo': {'stats': {'diggCount': 0, 'followerCount': 8513, 'followingCount': 184, 'friendCount': 84, 'heart': 86400, 'heartCount': 86400, 'videoCount': 112}, 'user': {'avatarLarger': 'https://p77-sign-va.tiktokcdn.com/tos-maliva-avt-0068/a6a19b5b46df0db1ab63abdd66b7c346~c5_1080x1080.jpeg?lk3s=a5d48078&nonce=96827&refresh_token=cb60e33e8c81f30ce0e2fa8137700bda&x-expires=1716033600&x-signature=bJ7C2Y9o1wfXyCWOK013I68RqV8%3D&shp=a5d48078&shcp=81f88b70', 'avatarMedium': 'https://p16-sign-va.tiktokcdn.com/tos-maliva-avt-0068/a6a19b5b46df0db1ab63abdd66b7c346~c5_720x720.jpeg?lk3s=a5d48078&nonce=788&refresh_token=a604b0f874b39934a428cff539958efe&x-expires=1716033600&x-signature=sva%2FA2efaOkYCLCuDZ97fGofr%2BE%3D&shp=a5d48078&shcp=81f88b70', 'avatarThumb': 'https://p16-sign-va.tiktokcdn.com/tos-maliva-avt-0068/a6a19b5b46df0db1ab63abdd66b7c346~c5_100x100.jpeg?lk3s=a5d48078&nonce=29500&refresh_token=dbb6c747c8a70fd411588438c5e87498&x-expires=1716033600&x-signature=v0IjleT8Ow8BQTJ9jqDeX%2B4PRaA%3D&shp=a5d48078&shcp=81f88b70', 'bioLink': {'link': 'https://GuidoReil.de', 'risk': 3}, 'canExpPlaylist': True, 'commentSetting': 0, 'commerceUserInfo': {'category': 'Others', 'categoryButton': False, 'commerceUser': True}, 'downloadSetting': 0, 'duetSetting': 0, 'followingVisibility': 2, 'ftc': False, 'id': '6996302120694776837', 'isADVirtual': False, 'isEmbedBanned': False, 'nickNameModifyTime': 1647578414, 'nickname': 'Alternativ.Sozial', 'openFavorite': False, 'privateAccount': False, 'profileEmbedPermission': 1, 'profileTab': {'showPlayListTab': False}, 'relation': 0, 'secUid': 'MS4wLjABAAAAIX1emUuTq4F1h33gVKZW_VQ_6UkT-2Itesgz2iJK8EZhvcbTUel_8VZ_6HCIhgYF', 'secret': False, 'signature': 'Aktuelle News & Infos zu meiner Arbeit & sozialen Projekten #herzamrechtenfleck', 'stitchSetting': 1, 'ttSeller': False, 'uniqueId': 'guidoreil', 'verified': False}}}\n",
      "Searching for nicolaus.fest\n",
      "User nicolaus.fest not found\n",
      "New ms_token: u_h_df4QyHLarKVsk89WfQJ1te73jhZXwIAncCSPKyvZPqDxNUXRE25UwL3wNPJ3RbeLv_VU_bN0OtgfyVLgDbFtNOGQE642FaqR2U8VCj4=\n",
      "6249\n"
     ]
    }
   ],
   "source": [
    "# chunk the unique_name_ids list and loop through them\n",
    "import random\n",
    "\n",
    "def get_new_ms_token(scrapper, ms_tokens):\n",
    "    # random select of ms_token in ms_token list without removing the token from the list\n",
    "    while True:\n",
    "        random_idx = random.randint(0, len(ms_token)-1)\n",
    "        new_ms_token = ms_token[random_idx]\n",
    "        if new_ms_token != scrapper.ms_token:\n",
    "            print(f\"New ms_token: {new_ms_token}\")\n",
    "            return new_ms_token\n",
    "\n",
    "chunk_size = 10\n",
    "\n",
    "for i in range(0, len(afd_usernames_filtered_subset), chunk_size):\n",
    "    print(i)\n",
    "    print(scrapper.ms_token)\n",
    "    try:\n",
    "        videos_by_user = asyncio.run(scrapper.search_videos_by_users(count=29, users=afd_usernames_filtered_subset[i:i+chunk_size], videos=videos_by_user))\n",
    "    except Exception as e:\n",
    "        print(e)\n",
    "        new_ms_token = get_new_ms_token(scrapper, ms_tokens)\n",
    "        scrapper.update_ms_token(ms_token=new_ms_token)\n",
    "        #time.sleep(2)\n",
    "        continue\n",
    "    new_ms_token = get_new_ms_token(scrapper, ms_tokens)\n",
    "    scrapper.update_ms_token(ms_token=new_ms_token)\n",
    "    print(len(videos_by_user))"
   ]
  },
  {
   "cell_type": "code",
   "execution_count": 178,
   "metadata": {},
   "outputs": [
    {
     "data": {
      "text/plain": [
       "6249"
      ]
     },
     "execution_count": 178,
     "metadata": {},
     "output_type": "execute_result"
    }
   ],
   "source": [
    "len(videos_by_user)"
   ]
  },
  {
   "cell_type": "code",
   "execution_count": 179,
   "metadata": {},
   "outputs": [
    {
     "name": "stdout",
     "output_type": "stream",
     "text": [
      "3428\n"
     ]
    }
   ],
   "source": [
    "\n",
    "# Process each video and collect the processed data\n",
    "processed_videos_by_user = [scrapper.process_video(video) for video in scrapper.filter_unique_videos(videos_by_user)]\n",
    "\n",
    "print(len(processed_videos_by_user))\n"
   ]
  },
  {
   "cell_type": "code",
   "execution_count": 171,
   "metadata": {},
   "outputs": [
    {
     "name": "stdout",
     "output_type": "stream",
     "text": [
      "Number of new sounds to be added to database 0\n",
      "Sounds added to database successfully\n"
     ]
    }
   ],
   "source": [
    "scrapper.add_sounds_to_db(processed_videos_by_user, connection_str=connection_str)"
   ]
  },
  {
   "cell_type": "code",
   "execution_count": 172,
   "metadata": {},
   "outputs": [
    {
     "name": "stdout",
     "output_type": "stream",
     "text": [
      "Number of new videos to be added to database 0\n",
      "Videos added to database successfully\n"
     ]
    }
   ],
   "source": [
    "scrapper.add_videos_to_db(processed_videos_by_user, connection_str=connection_str)"
   ]
  },
  {
   "cell_type": "code",
   "execution_count": 186,
   "metadata": {},
   "outputs": [
    {
     "name": "stdout",
     "output_type": "stream",
     "text": [
      "3833\n"
     ]
    }
   ],
   "source": [
    "# query database and filter for videos which are NULL in has_transcript column\n",
    "with pyodbc.connect(connection_str) as cnxn:\n",
    "    cursor = cnxn.cursor()\n",
    "    query = \"\"\"\n",
    "    SELECT * FROM dbo.Videos\n",
    "    WHERE has_transcript = 0\n",
    "    \"\"\"\n",
    "    cursor.execute(query)\n",
    "    rows = cursor.fetchall()\n",
    "    print(len(rows))"
   ]
  },
  {
   "cell_type": "code",
   "execution_count": null,
   "metadata": {},
   "outputs": [],
   "source": []
  }
 ],
 "metadata": {
  "kernelspec": {
   "display_name": "reclaim-tiktok",
   "language": "python",
   "name": "python3"
  },
  "language_info": {
   "codemirror_mode": {
    "name": "ipython",
    "version": 3
   },
   "file_extension": ".py",
   "mimetype": "text/x-python",
   "name": "python",
   "nbconvert_exporter": "python",
   "pygments_lexer": "ipython3",
   "version": "3.10.14"
  }
 },
 "nbformat": 4,
 "nbformat_minor": 2
}
