{
 "cells": [
  {
   "cell_type": "code",
   "execution_count": null,
   "id": "c7c5a3ae",
   "metadata": {},
   "outputs": [
    {
     "name": "stdout",
     "output_type": "stream",
     "text": [
      "We strongly recommend you run 'specify_browser' first, which will allow you to run pyktok's functions without using the browser_name parameter every time. 'specify_browser' takes as its sole argument a string representing a browser installed on your system, e.g. \"chrome,\" \"firefox,\" \"edge,\" etc.\n"
     ]
    }
   ],
   "source": [
    "import pyperclip\n",
    "import pyautogui\n",
    "import time\n",
    "import sys\n",
    "import io,os\n",
    "import browser_cookie3\n",
    "import requests\n",
    "import numpy as np\n",
    "import pandas as pd\n",
    "import webvtt\n",
    "import pyktok as pyk\n",
    "import random\n",
    "from PIL import Image\n",
    "\n",
    "# TODO: remove absoulte paths\n",
    "sys.path.append(\"C:/Users/swade/reclaim-tiktok\")\n",
    "sys.path.append(\"C:/Users/swade/transcriber\")"
   ]
  },
  {
   "cell_type": "code",
   "execution_count": 2,
   "id": "13e7b6f5",
   "metadata": {},
   "outputs": [],
   "source": [
    "pyk.specify_browser(\"firefox\")"
   ]
  },
  {
   "cell_type": "markdown",
   "id": "715fb233",
   "metadata": {},
   "source": []
  },
  {
   "cell_type": "code",
   "execution_count": 3,
   "id": "afeb1e01",
   "metadata": {},
   "outputs": [],
   "source": [
    "from dotenv import load_dotenv\n",
    "load_dotenv()\n",
    "\n",
    "from langchain_openai import AzureOpenAIEmbeddings\n",
    "\n",
    "from reclaim_tiktok.classifier.classifier import Classifier"
   ]
  },
  {
   "cell_type": "code",
   "execution_count": 6,
   "id": "62e55202",
   "metadata": {},
   "outputs": [],
   "source": [
    "from transcriber.tiktok_video_details import  TiktokVideoDetails"
   ]
  },
  {
   "cell_type": "markdown",
   "id": "b20a9a75",
   "metadata": {},
   "source": [
    "### API keys"
   ]
  },
  {
   "cell_type": "markdown",
   "id": "50e526dc",
   "metadata": {},
   "source": [
    "# removed for github -> TODO: use .env file "
   ]
  },
  {
   "cell_type": "code",
   "execution_count": 4,
   "id": "aa3d0cef",
   "metadata": {},
   "outputs": [],
   "source": [
    "# os.environ[\"OPENAI_API_KEY\"]= \n",
    "# os.environ[\"NEWSAPI_API_KEY\"]= \n",
    "# os.environ[\"AZURE_OPENAI_ENDPOINT\"]=\n",
    "# os.environ[\"AZURE_OPENAI_API_KEY\"]= "
   ]
  },
  {
   "cell_type": "code",
   "execution_count": 5,
   "id": "06e0ead5",
   "metadata": {},
   "outputs": [],
   "source": [
    "# os.environ[\"AZURE_SPEECH_KEY\"]= \n",
    "# os.environ[\"AZURE_SPEECH_REGION\"]= \n",
    "# os.environ[\"AZURE_SUBSCRIPTION_ID\"]= \n",
    "# os.environ[\"AZURE_SPEECH_ENDPOINT\"]= \n",
    "# os.environ[\"RECLAIM_TIKTOK_ACCOUNT_ID\"]= \n",
    "\n",
    "# os.environ[\"RESOURCE_GROUP\"]= \n",
    "# os.environ[\"AZURE_SUBSCRIPTION_KEY\"]= \n",
    "# os.environ[\"OBJECT_ID\"]=\n",
    "# os.environ[\"AZURE_VIDEO_ACCESS_TOKEN\"]= \"\""
   ]
  },
  {
   "cell_type": "code",
   "execution_count": null,
   "id": "75ba3a67",
   "metadata": {},
   "outputs": [],
   "source": []
  },
  {
   "cell_type": "code",
   "execution_count": 8,
   "id": "2161851e",
   "metadata": {},
   "outputs": [],
   "source": [
    "# Move mouse to specific coordinates and click\n",
    "def click(x):\n",
    "    pyautogui.moveTo(x[0], x[1], duration=0.5)  # Move to the specified coordinates\n",
    "    pyautogui.click()  # Perform a mouse click\n",
    "    \n",
    "    \n",
    "def get_clipboard():\n",
    "    content= pyperclip.paste()\n",
    "    return content\n",
    "\n",
    "\n",
    "# Function to perform a random click within a given range\n",
    "def random_click(cords):\n",
    "    x = random.randint(cords[\"x\"][0], cords[\"x\"][1])\n",
    "    y = random.randint(cords[\"y\"][0], cords[\"y\"][1])\n",
    "    pyautogui.moveTo(x, y, duration=0.5)\n",
    "    pyautogui.click()\n",
    "\n",
    "def move_to_location(x, y):\n",
    "    pyautogui.moveTo(x, y, duration=0.5)"
   ]
  },
  {
   "cell_type": "code",
   "execution_count": 7,
   "id": "6367121a",
   "metadata": {},
   "outputs": [],
   "source": [
    "play_cords= {\"x\":[1280, 1550],\"y\":[450, 630]}"
   ]
  },
  {
   "cell_type": "markdown",
   "id": "3355221c",
   "metadata": {},
   "source": [
    "### CLASSIFIER"
   ]
  },
  {
   "cell_type": "code",
   "execution_count": 9,
   "id": "3270229b",
   "metadata": {},
   "outputs": [],
   "source": [
    "embeddings_client = AzureOpenAIEmbeddings(\n",
    "    azure_deployment=\"text-embedding-3-small-eastus\",\n",
    "    openai_api_version=\"2024-02-01\",\n",
    ")\n",
    "\n",
    "right_classifier = Classifier(classifier_path=\"C:/Users/swade/reclaim-tiktok/data/classifier/\")"
   ]
  },
  {
   "cell_type": "markdown",
   "id": "af759a09",
   "metadata": {},
   "source": [
    "### FUNCTION TO DETECT BUTTONS"
   ]
  },
  {
   "cell_type": "code",
   "execution_count": 11,
   "id": "4651f08e",
   "metadata": {},
   "outputs": [],
   "source": [
    "copy_img= 'C:/Users/swade/Downloads/copy_link_mobile_app.png'\n",
    "share_img= 'C:/Users/swade/Downloads/share_img.png'"
   ]
  },
  {
   "cell_type": "code",
   "execution_count": 14,
   "id": "4a4eedda",
   "metadata": {},
   "outputs": [],
   "source": [
    "def detect_button_position_updated(button_image_path, button_type):\n",
    "    retry_count = 0\n",
    "    max_retries = 3\n",
    "    \n",
    "    while retry_count < max_retries:\n",
    "        try:\n",
    "            # Locate the button on the screen\n",
    "            if button_type == \"share\":\n",
    "                time.sleep(2)\n",
    "                button_position = pyautogui.locateOnScreen(button_image_path, confidence=0.8, region=(1590, 470, 70, 400))\n",
    "            else:\n",
    "                time.sleep(2)\n",
    "                button_position = pyautogui.locateOnScreen(button_image_path, confidence=0.85)\n",
    "            \n",
    "            # If button is found, return its position\n",
    "            button_x, button_y = pyautogui.center(button_position)\n",
    "            return [button_x, button_y]\n",
    "        \n",
    "        except pyautogui.ImageNotFoundException:\n",
    "            retry_count += 1\n",
    "            print(\"Button image not found. Retrying... ({} Attempt {}/{})\".format(button_type, retry_count, max_retries))\n",
    "            time.sleep(1)  # Wait for 1 second before retrying\n",
    "    \n",
    "    # If button is not found after all retries, print a message and return None\n",
    "    print(\"Button not found after {} retries.\".format(max_retries))\n",
    "    return None"
   ]
  },
  {
   "cell_type": "code",
   "execution_count": 14,
   "id": "7566b9c6",
   "metadata": {},
   "outputs": [],
   "source": [
    "file_name= \"OneDrive/update.csv\""
   ]
  },
  {
   "cell_type": "code",
   "execution_count": 34,
   "id": "81887473",
   "metadata": {},
   "outputs": [
    {
     "name": "stdout",
     "output_type": "stream",
     "text": [
      "Decision of the classifier is: right. Watching the video\n",
      "Decision of the classifier is: right. Watching the video\n",
      "Decision of the classifier is: pluralistic. Skipping the video\n",
      "Decision of the classifier is: right. Watching the video\n",
      "Time taken for the while loop: 3.8561462998390197 minutes\n"
     ]
    }
   ],
   "source": [
    "count= 0\n",
    "api_errors=0\n",
    "start_time = time.time()\n",
    "clipboard_content= \"empty\"\n",
    "while count< 500:\n",
    "    \n",
    "    random_click(play_cords) #pause\n",
    "    \n",
    "    # find and click share\n",
    "    share_cords= detect_button_position_updated(share_img,\"share\")\n",
    "    time.sleep(1)\n",
    "    \n",
    "    if share_cords is None:\n",
    "        pyautogui.scroll(-10)\n",
    "        continue\n",
    "        \n",
    "    click(share_cords)\n",
    "\n",
    "    # find and click copy\n",
    "    copy_cords= detect_button_position_updated(copy_img,\"copy\")\n",
    "    \n",
    "    if copy_cords is None:\n",
    "        random_click(play_cords) #tap to go back\n",
    "        pyautogui.scroll(-10)\n",
    "        continue\n",
    "        \n",
    "    click(copy_cords)\n",
    "    time.sleep(2)\n",
    "    \n",
    "    # get clipboard content\n",
    "    clipboard_content = get_clipboard()\n",
    "    \n",
    "    if clipboard_content == \"empty\":\n",
    "        \n",
    "        pyautogui.scroll(-10)\n",
    "        print(\"none link\")\n",
    "        continue\n",
    "           \n",
    "    # API call to fetch video metadata\n",
    "    try:\n",
    "        video_info= TiktokVideoDetails(clipboard_content)\n",
    "        time.sleep(1)\n",
    "        ## transcript\n",
    "        transcripts= video_info.get_transcriptions()\n",
    "        time.sleep(1)\n",
    "        de_transcript= transcripts[\"deu-DE\"]\n",
    "        \n",
    "    except Exception as e:\n",
    "        \n",
    "        print(\"error in fetching video data\")\n",
    "        api_errors+= 1\n",
    "        pyautogui.scroll(-10)\n",
    "        continue\n",
    "    \n",
    "    # suggested words\n",
    "    \n",
    "    suggested_words= video_info.suggested_words\n",
    "    \n",
    "    suggested_words_string= ' '.join(suggested_words)\n",
    "    \n",
    "    # final concatenated text\n",
    "    text= str(video_info.description) + \" \" +  str(suggested_words_string) +\" \" +  str(de_transcript)\n",
    "    \n",
    "    # classifier \n",
    "    classifier_decision = right_classifier.right_wing_classifier(text, embeddings_client)\n",
    " \n",
    "\n",
    "    \n",
    "    if classifier_decision == \"right\":\n",
    "        \n",
    "        print(f\"Decision of the classifier is: {classifier_decision}. Watching the video\")\n",
    "              \n",
    "        random_click(play_cords)\n",
    "\n",
    "        video_info.save_data_to_csv_file(file_name)\n",
    "        \n",
    "        time.sleep(min(video_info.duration,60))\n",
    "\n",
    "        move_to_location(1400, 500)\n",
    "        pyautogui.scroll(-10)\n",
    "        \n",
    "        count += 1\n",
    "        \n",
    "    elif classifier_decision == \"pluralistic\":\n",
    "        \n",
    "        print(f\"Decision of the classifier is: {classifier_decision}. Skipping the video\")\n",
    "        \n",
    "        #random_click(play_cords)\n",
    "        time.sleep(1)\n",
    "        move_to_location(1400, 500)\n",
    "        pyautogui.scroll(-10)\n",
    "        \n",
    "    \n",
    "    \n",
    "    clipboard_content = pyperclip.copy(\"empty\")\n",
    "    \n",
    "end_time = time.time()\n",
    "\n",
    "elapsed_time = end_time - start_time\n",
    "\n",
    "elapsed_time_minutes = elapsed_time / 60\n",
    "\n",
    "print(\"Time taken for the while loop:\", elapsed_time_minutes, \"minutes\")\n",
    "\n"
   ]
  },
  {
   "cell_type": "code",
   "execution_count": null,
   "id": "dc1a0586",
   "metadata": {},
   "outputs": [],
   "source": []
  },
  {
   "cell_type": "code",
   "execution_count": null,
   "id": "47552152",
   "metadata": {},
   "outputs": [],
   "source": []
  },
  {
   "cell_type": "code",
   "execution_count": null,
   "id": "5e745c2e",
   "metadata": {},
   "outputs": [],
   "source": []
  }
 ],
 "metadata": {
  "kernelspec": {
   "display_name": "Python 3 (ipykernel)",
   "language": "python",
   "name": "python3"
  },
  "language_info": {
   "codemirror_mode": {
    "name": "ipython",
    "version": 3
   },
   "file_extension": ".py",
   "mimetype": "text/x-python",
   "name": "python",
   "nbconvert_exporter": "python",
   "pygments_lexer": "ipython3",
   "version": "3.9.10"
  }
 },
 "nbformat": 4,
 "nbformat_minor": 5
}
