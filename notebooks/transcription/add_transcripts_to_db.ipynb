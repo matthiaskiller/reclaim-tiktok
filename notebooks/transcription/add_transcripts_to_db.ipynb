{
 "cells": [
  {
   "cell_type": "markdown",
   "metadata": {},
   "source": [
    "### Imports"
   ]
  },
  {
   "cell_type": "code",
   "execution_count": 21,
   "metadata": {},
   "outputs": [
    {
     "name": "stdout",
     "output_type": "stream",
     "text": [
      "The autoreload extension is already loaded. To reload it, use:\n",
      "  %reload_ext autoreload\n"
     ]
    }
   ],
   "source": [
    "import pandas as pd\n",
    "import pyodbc\n",
    "import os\n",
    "from dotenv import load_dotenv\n",
    "\n",
    "load_dotenv()\n",
    "%load_ext autoreload\n",
    "%autoreload 2"
   ]
  },
  {
   "cell_type": "markdown",
   "metadata": {},
   "source": [
    "### Connection String"
   ]
  },
  {
   "cell_type": "code",
   "execution_count": 2,
   "metadata": {},
   "outputs": [],
   "source": [
    "\n",
    "driver = os.environ[\"DB_DRIVER\"]\n",
    "server = os.environ[\"DB_SERVER\"]\n",
    "database = os.environ[\"DB_DATABASE\"]\n",
    "username = os.environ[\"DB_USERNAME\"]\n",
    "password = os.environ[\"DB_PASSWORD\"]\n",
    "\n",
    "connection_str = f\"Driver={driver};Server={server},1433;Database={database};Uid={username};Pwd={password};Encrypt=yes;TrustServerCertificate=no;Connection Timeout=30;\""
   ]
  },
  {
   "cell_type": "markdown",
   "metadata": {},
   "source": [
    "# Load from csv"
   ]
  },
  {
   "cell_type": "markdown",
   "metadata": {},
   "source": [
    "### Load df with transcripts from csv"
   ]
  },
  {
   "cell_type": "code",
   "execution_count": 10,
   "metadata": {},
   "outputs": [],
   "source": [
    "videos_transcript = pd.read_csv(\"../../data/1405_data_with_clusters.csv\")"
   ]
  },
  {
   "cell_type": "code",
   "execution_count": 11,
   "metadata": {},
   "outputs": [
    {
     "data": {
      "text/html": [
       "<div>\n",
       "<style scoped>\n",
       "    .dataframe tbody tr th:only-of-type {\n",
       "        vertical-align: middle;\n",
       "    }\n",
       "\n",
       "    .dataframe tbody tr th {\n",
       "        vertical-align: top;\n",
       "    }\n",
       "\n",
       "    .dataframe thead th {\n",
       "        text-align: right;\n",
       "    }\n",
       "</style>\n",
       "<table border=\"1\" class=\"dataframe\">\n",
       "  <thead>\n",
       "    <tr style=\"text-align: right;\">\n",
       "      <th></th>\n",
       "      <th>Unnamed: 0.1</th>\n",
       "      <th>Unnamed: 0</th>\n",
       "      <th>video_id</th>\n",
       "      <th>cluster</th>\n",
       "      <th>core_message</th>\n",
       "      <th>video_playcount</th>\n",
       "      <th>video_timestamp</th>\n",
       "      <th>english_transcript</th>\n",
       "      <th>german_transcript</th>\n",
       "    </tr>\n",
       "  </thead>\n",
       "  <tbody>\n",
       "    <tr>\n",
       "      <th>0</th>\n",
       "      <td>0</td>\n",
       "      <td>0</td>\n",
       "      <td>7005858788343319813</td>\n",
       "      <td>23</td>\n",
       "      <td>Mach so bisschen Übergang deine Haare kürzer d...</td>\n",
       "      <td>613338</td>\n",
       "      <td>1631178624</td>\n",
       "      <td>NaN</td>\n",
       "      <td>Mach so bisschen Übergang deine Haare kürzer d...</td>\n",
       "    </tr>\n",
       "    <tr>\n",
       "      <th>1</th>\n",
       "      <td>1</td>\n",
       "      <td>1</td>\n",
       "      <td>7040421798785125638</td>\n",
       "      <td>1;22;15</td>\n",
       "      <td>Kritik an ungeimpftem Personal in der Pflege;...</td>\n",
       "      <td>30603</td>\n",
       "      <td>1639225941</td>\n",
       "      <td>NaN</td>\n",
       "      <td>nötigerweise Menschen sterben weil Ungeimpfte ...</td>\n",
       "    </tr>\n",
       "    <tr>\n",
       "      <th>2</th>\n",
       "      <td>2</td>\n",
       "      <td>2</td>\n",
       "      <td>7052592640344329477</td>\n",
       "      <td>13</td>\n",
       "      <td>7 Millionen sozialgeldempfänger davon gut die ...</td>\n",
       "      <td>27175</td>\n",
       "      <td>1642059688</td>\n",
       "      <td>NaN</td>\n",
       "      <td>7 Millionen sozialgeldempfänger davon gut die ...</td>\n",
       "    </tr>\n",
       "    <tr>\n",
       "      <th>3</th>\n",
       "      <td>3</td>\n",
       "      <td>3</td>\n",
       "      <td>7069273153373097221</td>\n",
       "      <td>22;17;17</td>\n",
       "      <td>- Hohe Anzahl von Arztbesuchen aufgrund von Im...</td>\n",
       "      <td>235154</td>\n",
       "      <td>1645943422</td>\n",
       "      <td>NaN</td>\n",
       "      <td>und zu den Nebenwirkungen das äh Nebenwirkunge...</td>\n",
       "    </tr>\n",
       "    <tr>\n",
       "      <th>4</th>\n",
       "      <td>4</td>\n",
       "      <td>4</td>\n",
       "      <td>7080134745832557830</td>\n",
       "      <td>16;1;0</td>\n",
       "      <td>Unterschied zwischen Gesundheitspolitik und p...</td>\n",
       "      <td>7439</td>\n",
       "      <td>1648472331</td>\n",
       "      <td>NaN</td>\n",
       "      <td>sehr geehrte frau präsidentin kolleginnen und ...</td>\n",
       "    </tr>\n",
       "  </tbody>\n",
       "</table>\n",
       "</div>"
      ],
      "text/plain": [
       "   Unnamed: 0.1  Unnamed: 0             video_id   cluster  \\\n",
       "0             0           0  7005858788343319813        23   \n",
       "1             1           1  7040421798785125638   1;22;15   \n",
       "2             2           2  7052592640344329477        13   \n",
       "3             3           3  7069273153373097221  22;17;17   \n",
       "4             4           4  7080134745832557830    16;1;0   \n",
       "\n",
       "                                        core_message  video_playcount  \\\n",
       "0  Mach so bisschen Übergang deine Haare kürzer d...           613338   \n",
       "1   Kritik an ungeimpftem Personal in der Pflege;...            30603   \n",
       "2  7 Millionen sozialgeldempfänger davon gut die ...            27175   \n",
       "3  - Hohe Anzahl von Arztbesuchen aufgrund von Im...           235154   \n",
       "4   Unterschied zwischen Gesundheitspolitik und p...             7439   \n",
       "\n",
       "   video_timestamp english_transcript  \\\n",
       "0       1631178624                NaN   \n",
       "1       1639225941                NaN   \n",
       "2       1642059688                NaN   \n",
       "3       1645943422                NaN   \n",
       "4       1648472331                NaN   \n",
       "\n",
       "                                   german_transcript  \n",
       "0  Mach so bisschen Übergang deine Haare kürzer d...  \n",
       "1  nötigerweise Menschen sterben weil Ungeimpfte ...  \n",
       "2  7 Millionen sozialgeldempfänger davon gut die ...  \n",
       "3  und zu den Nebenwirkungen das äh Nebenwirkunge...  \n",
       "4  sehr geehrte frau präsidentin kolleginnen und ...  "
      ]
     },
     "execution_count": 11,
     "metadata": {},
     "output_type": "execute_result"
    }
   ],
   "source": [
    "videos_transcript.head()"
   ]
  },
  {
   "cell_type": "code",
   "execution_count": null,
   "metadata": {},
   "outputs": [
    {
     "name": "stdout",
     "output_type": "stream",
     "text": [
      "Videos updated successfully\n"
     ]
    }
   ],
   "source": [
    "def update_videos_in_db(update_df, connection_str):\n",
    "    \"\"\"\n",
    "    Update existing entries in the Videos table based on video_id.\n",
    "    Args:\n",
    "        update_df: DataFrame with video_id, english_transcript, and german_transcript.\n",
    "        connection_str: Connection string to the SQL database.\n",
    "    \"\"\"\n",
    "    \n",
    "    with pyodbc.connect(connection_str) as cnxn:\n",
    "        cursor = cnxn.cursor()\n",
    "        \n",
    "        for _, row in update_df.iterrows():\n",
    "            query = \"\"\"\n",
    "            UPDATE dbo.Videos\n",
    "            SET transcript_en = ?, transcript_de = ?\n",
    "            WHERE id = ?\n",
    "            \"\"\"\n",
    "            data = (\n",
    "                str(row['english_transcript']),\n",
    "                str(row['german_transcript']),\n",
    "                int(row['video_id'])\n",
    "            )\n",
    "            cursor.execute(query, data)\n",
    "        \n",
    "        cnxn.commit()\n",
    "        print(\"Videos updated successfully\")"
   ]
  },
  {
   "cell_type": "code",
   "execution_count": null,
   "metadata": {},
   "outputs": [],
   "source": [
    "# Example usage\n",
    "update_videos_in_db(videos_transcript, connection_str)"
   ]
  },
  {
   "cell_type": "markdown",
   "metadata": {},
   "source": [
    "# Get videos without transcript in db and add transcripts from api requests without speech2text"
   ]
  },
  {
   "cell_type": "code",
   "execution_count": null,
   "metadata": {},
   "outputs": [],
   "source": [
    "from reclaim_tiktok.transcriber.db_connector import DBConnector\n",
    "from reclaim_tiktok.transcriber.tiktok_video_details import TiktokVideoDetails\n",
    "from reclaim_tiktok.transcriber.main_transcriber import StatCollector\n",
    "from reclaim_tiktok.transcriber.main_transcriber import print_progress_bar\n"
   ]
  },
  {
   "cell_type": "code",
   "execution_count": null,
   "metadata": {},
   "outputs": [],
   "source": [
    "db_connector = DBConnector()"
   ]
  },
  {
   "cell_type": "markdown",
   "metadata": {},
   "source": [
    "## Get videos without transcript in db\n",
    "returns pyodbc.rows"
   ]
  },
  {
   "cell_type": "code",
   "execution_count": null,
   "metadata": {},
   "outputs": [],
   "source": [
    "rows = db_connector.get_urls_without_transcription()\n",
    "#rows = db_connector.get_urls_with_transcription()"
   ]
  },
  {
   "cell_type": "code",
   "execution_count": null,
   "metadata": {},
   "outputs": [
    {
     "name": "stdout",
     "output_type": "stream",
     "text": [
      "9603\n"
     ]
    }
   ],
   "source": [
    "print(len(rows))"
   ]
  },
  {
   "cell_type": "markdown",
   "metadata": {},
   "source": [
    "## Retrieve transcripts available via API and add if successful to db"
   ]
  },
  {
   "cell_type": "code",
   "execution_count": null,
   "metadata": {},
   "outputs": [],
   "source": [
    "db_connector.update_transcript_multiple(rows=rows)"
   ]
  },
  {
   "cell_type": "code",
   "execution_count": null,
   "metadata": {},
   "outputs": [],
   "source": [
    "\n",
    "def batch_add_transcripts_to_db(rows: list) -> None:\n",
    "    \"\"\"\n",
    "    Gets a list of rows from the database with entries without transcript.\n",
    "    It retrieves the transcripts and adds the transcripts to the database.\n",
    "    Also collects and prints the statistics of the run.\n",
    "\n",
    "    Args:\n",
    "        list[pyodbc.row]: A list of rows from the database with entries without transcript.\n",
    "    \"\"\"\n",
    "\n",
    "\n",
    "    total_rows = len(rows)\n",
    "    errors = {}\n",
    "    stats = StatCollector()\n",
    "\n",
    "    try:\n",
    "        index = 0\n",
    "        for row in rows:\n",
    "            completion_percentage = (index / total_rows) * 100\n",
    "            print_progress_bar(completion_percentage)\n",
    "            url = row[12]\n",
    "            index += 1\n",
    "            try:\n",
    "                tt_obj = TiktokVideoDetails(url=url)\n",
    "            except VideoIsPrivateError as error:\n",
    "                stats.add_private_video(url)\n",
    "                print(\"\\n\", error)\n",
    "                db_connector.update_transcript(video_id=row[0], transcript_en=None, transcript_de=None, no_transcript_reason=str(error))\n",
    "                continue\n",
    "            except (RequestReturnedNoneError, HTTPRequestError) as error:\n",
    "                stats.add_failed_request(url)\n",
    "                print(\"\\n\", error)\n",
    "                db_connector.update_transcript(video_id=row[0], transcript_en=None, transcript_de=None, no_transcript_reason=str(error))\n",
    "                continue\n",
    "            except Exception as error:\n",
    "                stats.add_failed_request(url)\n",
    "                print(\"\\nUnexpected Exception occured:\", error)\n",
    "                db_connector.update_transcript(video_id=row[0], transcript_en=None, transcript_de=None, no_transcript_reason=str(error))\n",
    "                continue\n",
    "\n",
    "            try:\n",
    "                transcriptions = tt_obj.get_transcriptions(disable_azure=True)\n",
    "                if transcriptions:\n",
    "                    db_connector.update_transcript(video_id=row[0], transcript_en=transcriptions.get(\"eng-US\"), transcript_de=transcriptions.get(\"deu-DE\"), no_transcript_reason=None)\n",
    "                    stats.add_success()\n",
    "                else:\n",
    "                    pass\n",
    "                    #errors[index] = \"No transcription provided by Tiktok\"\n",
    "      \n",
    "            except Exception as error:\n",
    "                print(\"\\n\", error)\n",
    "                transcriptions = {}\n",
    "                #errors[index] = error\n",
    "            \n",
    "\n",
    "    except KeyboardInterrupt:\n",
    "        print(\"\\nKeyboard Interrupt detected. Stopping...\")\n",
    "    except Exception as error:\n",
    "        print(\"\\nUnexpected Exception occurred:\", error)\n",
    "    finally:\n",
    "        stats.print_stats()\n"
   ]
  },
  {
   "cell_type": "code",
   "execution_count": null,
   "metadata": {},
   "outputs": [
    {
     "name": "stdout",
     "output_type": "stream",
     "text": [
      "[                   ] 0.77%%\n",
      " \n",
      "Video details could not be parsed. Video is private or has been removed.\n",
      "[                   ] 0.81%\n",
      " \n",
      "Video details could not be parsed. Video is private or has been removed.\n",
      "[                   ] 1.94%\n",
      " \n",
      "Video details could not be parsed. Video is private or has been removed.\n",
      "[                   ] 4.13%"
     ]
    }
   ],
   "source": [
    "# Example usage\n",
    "batch_add_transcripts_to_db(rows[1000:])"
   ]
  },
  {
   "cell_type": "code",
   "execution_count": null,
   "metadata": {},
   "outputs": [],
   "source": []
  }
 ],
 "metadata": {
  "kernelspec": {
   "display_name": "reclaim-tiktok",
   "language": "python",
   "name": "python3"
  },
  "language_info": {
   "codemirror_mode": {
    "name": "ipython",
    "version": 3
   },
   "file_extension": ".py",
   "mimetype": "text/x-python",
   "name": "python",
   "nbconvert_exporter": "python",
   "pygments_lexer": "ipython3",
   "version": "3.10.14"
  }
 },
 "nbformat": 4,
 "nbformat_minor": 2
}
