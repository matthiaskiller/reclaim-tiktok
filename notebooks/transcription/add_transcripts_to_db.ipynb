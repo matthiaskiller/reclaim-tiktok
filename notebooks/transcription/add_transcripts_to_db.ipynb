{
 "cells": [
  {
   "cell_type": "markdown",
   "metadata": {},
   "source": [
    "### Imports"
   ]
  },
  {
   "cell_type": "code",
   "execution_count": 21,
   "metadata": {},
   "outputs": [
    {
     "name": "stdout",
     "output_type": "stream",
     "text": [
      "The autoreload extension is already loaded. To reload it, use:\n",
      "  %reload_ext autoreload\n"
     ]
    }
   ],
   "source": [
    "import pandas as pd\n",
    "import pyodbc\n",
    "import os\n",
    "from dotenv import load_dotenv\n",
    "\n",
    "load_dotenv()\n",
    "%load_ext autoreload\n",
    "%autoreload 2"
   ]
  },
  {
   "cell_type": "markdown",
   "metadata": {},
   "source": [
    "### Connection String"
   ]
  },
  {
   "cell_type": "code",
   "execution_count": 2,
   "metadata": {},
   "outputs": [],
   "source": [
    "\n",
    "driver = os.environ[\"DB_DRIVER\"]\n",
    "server = os.environ[\"DB_SERVER\"]\n",
    "database = os.environ[\"DB_DATABASE\"]\n",
    "username = os.environ[\"DB_USERNAME\"]\n",
    "password = os.environ[\"DB_PASSWORD\"]\n",
    "\n",
    "connection_str = f\"Driver={driver};Server={server},1433;Database={database};Uid={username};Pwd={password};Encrypt=yes;TrustServerCertificate=no;Connection Timeout=30;\""
   ]
  },
  {
   "cell_type": "markdown",
   "metadata": {},
   "source": [
    "# Load from csv"
   ]
  },
  {
   "cell_type": "markdown",
   "metadata": {},
   "source": [
    "### Load df with transcripts from csv"
   ]
  },
  {
   "cell_type": "code",
   "execution_count": 10,
   "metadata": {},
   "outputs": [],
   "source": [
    "videos_transcript = pd.read_csv(\"../../data/1405_data_with_clusters.csv\")"
   ]
  },
  {
   "cell_type": "code",
   "execution_count": 11,
   "metadata": {},
   "outputs": [
    {
     "data": {
      "text/html": [
       "<div>\n",
       "<style scoped>\n",
       "    .dataframe tbody tr th:only-of-type {\n",
       "        vertical-align: middle;\n",
       "    }\n",
       "\n",
       "    .dataframe tbody tr th {\n",
       "        vertical-align: top;\n",
       "    }\n",
       "\n",
       "    .dataframe thead th {\n",
       "        text-align: right;\n",
       "    }\n",
       "</style>\n",
       "<table border=\"1\" class=\"dataframe\">\n",
       "  <thead>\n",
       "    <tr style=\"text-align: right;\">\n",
       "      <th></th>\n",
       "      <th>Unnamed: 0.1</th>\n",
       "      <th>Unnamed: 0</th>\n",
       "      <th>video_id</th>\n",
       "      <th>cluster</th>\n",
       "      <th>core_message</th>\n",
       "      <th>video_playcount</th>\n",
       "      <th>video_timestamp</th>\n",
       "      <th>english_transcript</th>\n",
       "      <th>german_transcript</th>\n",
       "    </tr>\n",
       "  </thead>\n",
       "  <tbody>\n",
       "    <tr>\n",
       "      <th>0</th>\n",
       "      <td>0</td>\n",
       "      <td>0</td>\n",
       "      <td>7005858788343319813</td>\n",
       "      <td>23</td>\n",
       "      <td>Mach so bisschen Übergang deine Haare kürzer d...</td>\n",
       "      <td>613338</td>\n",
       "      <td>1631178624</td>\n",
       "      <td>NaN</td>\n",
       "      <td>Mach so bisschen Übergang deine Haare kürzer d...</td>\n",
       "    </tr>\n",
       "    <tr>\n",
       "      <th>1</th>\n",
       "      <td>1</td>\n",
       "      <td>1</td>\n",
       "      <td>7040421798785125638</td>\n",
       "      <td>1;22;15</td>\n",
       "      <td>Kritik an ungeimpftem Personal in der Pflege;...</td>\n",
       "      <td>30603</td>\n",
       "      <td>1639225941</td>\n",
       "      <td>NaN</td>\n",
       "      <td>nötigerweise Menschen sterben weil Ungeimpfte ...</td>\n",
       "    </tr>\n",
       "    <tr>\n",
       "      <th>2</th>\n",
       "      <td>2</td>\n",
       "      <td>2</td>\n",
       "      <td>7052592640344329477</td>\n",
       "      <td>13</td>\n",
       "      <td>7 Millionen sozialgeldempfänger davon gut die ...</td>\n",
       "      <td>27175</td>\n",
       "      <td>1642059688</td>\n",
       "      <td>NaN</td>\n",
       "      <td>7 Millionen sozialgeldempfänger davon gut die ...</td>\n",
       "    </tr>\n",
       "    <tr>\n",
       "      <th>3</th>\n",
       "      <td>3</td>\n",
       "      <td>3</td>\n",
       "      <td>7069273153373097221</td>\n",
       "      <td>22;17;17</td>\n",
       "      <td>- Hohe Anzahl von Arztbesuchen aufgrund von Im...</td>\n",
       "      <td>235154</td>\n",
       "      <td>1645943422</td>\n",
       "      <td>NaN</td>\n",
       "      <td>und zu den Nebenwirkungen das äh Nebenwirkunge...</td>\n",
       "    </tr>\n",
       "    <tr>\n",
       "      <th>4</th>\n",
       "      <td>4</td>\n",
       "      <td>4</td>\n",
       "      <td>7080134745832557830</td>\n",
       "      <td>16;1;0</td>\n",
       "      <td>Unterschied zwischen Gesundheitspolitik und p...</td>\n",
       "      <td>7439</td>\n",
       "      <td>1648472331</td>\n",
       "      <td>NaN</td>\n",
       "      <td>sehr geehrte frau präsidentin kolleginnen und ...</td>\n",
       "    </tr>\n",
       "  </tbody>\n",
       "</table>\n",
       "</div>"
      ],
      "text/plain": [
       "   Unnamed: 0.1  Unnamed: 0             video_id   cluster  \\\n",
       "0             0           0  7005858788343319813        23   \n",
       "1             1           1  7040421798785125638   1;22;15   \n",
       "2             2           2  7052592640344329477        13   \n",
       "3             3           3  7069273153373097221  22;17;17   \n",
       "4             4           4  7080134745832557830    16;1;0   \n",
       "\n",
       "                                        core_message  video_playcount  \\\n",
       "0  Mach so bisschen Übergang deine Haare kürzer d...           613338   \n",
       "1   Kritik an ungeimpftem Personal in der Pflege;...            30603   \n",
       "2  7 Millionen sozialgeldempfänger davon gut die ...            27175   \n",
       "3  - Hohe Anzahl von Arztbesuchen aufgrund von Im...           235154   \n",
       "4   Unterschied zwischen Gesundheitspolitik und p...             7439   \n",
       "\n",
       "   video_timestamp english_transcript  \\\n",
       "0       1631178624                NaN   \n",
       "1       1639225941                NaN   \n",
       "2       1642059688                NaN   \n",
       "3       1645943422                NaN   \n",
       "4       1648472331                NaN   \n",
       "\n",
       "                                   german_transcript  \n",
       "0  Mach so bisschen Übergang deine Haare kürzer d...  \n",
       "1  nötigerweise Menschen sterben weil Ungeimpfte ...  \n",
       "2  7 Millionen sozialgeldempfänger davon gut die ...  \n",
       "3  und zu den Nebenwirkungen das äh Nebenwirkunge...  \n",
       "4  sehr geehrte frau präsidentin kolleginnen und ...  "
      ]
     },
     "execution_count": 11,
     "metadata": {},
     "output_type": "execute_result"
    }
   ],
   "source": [
    "videos_transcript.head()"
   ]
  },
  {
   "cell_type": "code",
   "execution_count": null,
   "metadata": {},
   "outputs": [
    {
     "name": "stdout",
     "output_type": "stream",
     "text": [
      "Videos updated successfully\n"
     ]
    }
   ],
   "source": [
    "def update_videos_in_db(update_df, connection_str):\n",
    "    \"\"\"\n",
    "    Update existing entries in the Videos table based on video_id.\n",
    "    Args:\n",
    "        update_df: DataFrame with video_id, english_transcript, and german_transcript.\n",
    "        connection_str: Connection string to the SQL database.\n",
    "    \"\"\"\n",
    "    \n",
    "    with pyodbc.connect(connection_str) as cnxn:\n",
    "        cursor = cnxn.cursor()\n",
    "        \n",
    "        for _, row in update_df.iterrows():\n",
    "            query = \"\"\"\n",
    "            UPDATE dbo.Videos\n",
    "            SET transcript_en = ?, transcript_de = ?\n",
    "            WHERE id = ?\n",
    "            \"\"\"\n",
    "            data = (\n",
    "                str(row['english_transcript']),\n",
    "                str(row['german_transcript']),\n",
    "                int(row['video_id'])\n",
    "            )\n",
    "            cursor.execute(query, data)\n",
    "        \n",
    "        cnxn.commit()\n",
    "        print(\"Videos updated successfully\")"
   ]
  },
  {
   "cell_type": "code",
   "execution_count": null,
   "metadata": {},
   "outputs": [],
   "source": [
    "# Example usage\n",
    "update_videos_in_db(videos_transcript, connection_str)"
   ]
  },
  {
   "cell_type": "markdown",
   "metadata": {},
   "source": [
    "# Get videos without transcript in db and add transcripts from api requests without speech2text"
   ]
  },
  {
   "cell_type": "code",
   "execution_count": 22,
   "metadata": {},
   "outputs": [],
   "source": [
    "from reclaim_tiktok.transcriber.db_connector import DBConnector\n",
    "from reclaim_tiktok.transcriber.tiktok_video_details import TiktokVideoDetails\n"
   ]
  },
  {
   "cell_type": "code",
   "execution_count": 23,
   "metadata": {},
   "outputs": [],
   "source": [
    "db_connector = DBConnector()"
   ]
  },
  {
   "cell_type": "markdown",
   "metadata": {},
   "source": [
    "## Get videos without transcript in db\n",
    "returns pyodbc.rows"
   ]
  },
  {
   "cell_type": "code",
   "execution_count": 91,
   "metadata": {},
   "outputs": [],
   "source": [
    "rows = db_connector.get_urls_without_transcription()\n",
    "#rows = db_connector.get_urls_with_transcription()"
   ]
  },
  {
   "cell_type": "code",
   "execution_count": 92,
   "metadata": {},
   "outputs": [
    {
     "name": "stdout",
     "output_type": "stream",
     "text": [
      "9603\n"
     ]
    }
   ],
   "source": [
    "print(len(rows))"
   ]
  },
  {
   "cell_type": "code",
   "execution_count": 93,
   "metadata": {},
   "outputs": [],
   "source": [
    "import os\n",
    "import time\n",
    "\n",
    "import numpy as np\n",
    "import pandas as pd\n",
    "\n",
    "from reclaim_tiktok.transcriber.tiktok_video_details import (\n",
    "    HTTPRequestError,\n",
    "    RequestReturnedNoneError,\n",
    "    TiktokVideoDetails,\n",
    "    VideoIsPrivateError,\n",
    ")\n",
    "\n",
    "\n",
    "class StatCollector:\n",
    "    \"\"\"Provides an easy method of collecting and printing statistics\n",
    "    for tiktok video data collection\n",
    "    \"\"\"\n",
    "\n",
    "    def __init__(self) -> None:\n",
    "        self.start_time = time.time()\n",
    "        self.successes = 0\n",
    "        self.private_videos = []\n",
    "        self.failed_requests = []\n",
    "\n",
    "    def add_success(self) -> None:\n",
    "        \"\"\"Adds 1 to the success counter\"\"\"\n",
    "        self.successes += 1\n",
    "\n",
    "    def add_private_video(self, url: str) -> None:\n",
    "        \"\"\"Appends the ``url`` to the list of private videos to be\n",
    "        returned when ``print_stats()`` is called.\n",
    "\n",
    "        Params\n",
    "        ---\n",
    "        :param url: A string representing the url that links to a private video\n",
    "        \"\"\"\n",
    "        self.private_videos.append(url)\n",
    "\n",
    "    def add_failed_request(self, url: str) -> None:\n",
    "        \"\"\"Appends the ``url`` to the list of failed requests to be\n",
    "        returned when ``print_stats()`` is called.\n",
    "\n",
    "        Params\n",
    "        ---\n",
    "        :param url: A string representing the url that links to a failed video\n",
    "        \"\"\"\n",
    "        self.failed_requests.append(url)\n",
    "\n",
    "    def print_stats(self) -> None:\n",
    "        \"\"\"Prints the collected statistics\n",
    "\n",
    "        Prints:\n",
    "        - the list of collected private videos\n",
    "        - the list of failed requests\n",
    "        - Total successes\n",
    "        - Total Private\n",
    "        - Total Failed\n",
    "        - Total elapsed time in H M S.\n",
    "        \"\"\"\n",
    "        end_time = time.time()\n",
    "        print(\"\\n\")\n",
    "        print(\"Private: \\n\\t\", \"\\n\\t\".join(self.private_videos))\n",
    "        print(\"Failed: \\n\\t\", \"\\n\\t\".join(self.failed_requests))\n",
    "        print(\"Successes: \", self.successes)\n",
    "        print(\"Private: \", len(self.private_videos))\n",
    "        print(\"Failed: \", len(self.failed_requests))\n",
    "        total_time = end_time - self.start_time\n",
    "        hours = total_time // 3600\n",
    "        minutes = (total_time % 3600) // 60\n",
    "        seconds = total_time - 3600 * hours - 60 * minutes\n",
    "        print(\"Total elapsed time: %dh %dm %.2fs\" % (hours, minutes, seconds))\n",
    "\n",
    "\n",
    "def print_progress_bar(percentage: float, bar_length: int = 20) -> None:\n",
    "    \"\"\"Prints a simple progress bar based on an updated percentage\n",
    "\n",
    "    Params\n",
    "    ---\n",
    "    :param percentage: The percentage to be displayed\n",
    "    :param bar_length: The desired length of the bar, defaulted to 20 ``'='``\n",
    "    \"\"\"\n",
    "    normalizer = int(100 / bar_length)\n",
    "    progress = \"\\r[%s%s] %.2f%%\" % (\n",
    "        \"=\" * int(percentage / normalizer),\n",
    "        \" \" * int(bar_length - percentage / normalizer),\n",
    "        percentage,\n",
    "    )\n",
    "    print(progress, end=\"\", flush=True)\n",
    "\n"
   ]
  },
  {
   "cell_type": "markdown",
   "metadata": {},
   "source": [
    "## Retrieve transcripts available via API"
   ]
  },
  {
   "cell_type": "code",
   "execution_count": 41,
   "metadata": {},
   "outputs": [
    {
     "name": "stdout",
     "output_type": "stream",
     "text": [
      "{'deu-DE': 'Mach so bisschen Übergang deine Haare kürzer dann siehst du automatisch bisschen frischer Aus in der umweltschutzpartei die sind wie man weiß nicht der heiße Scheiß vorbei in der umweltschutzbank in der umweltschutzpartei Merkel ihr seid überall auf dem Sofa wer hat versteckt Robert Habeck wird nicht Spitzenkandidat der grünen autolobby ist n Grätsche kriecht gern in den Arsch vom zettsche er hat tierisch Bock aufs Maul doch alle drehen am Rad denn der grenzblock AB dann sagt er nein ja die umweltschutzpartei nein nein scheiße scheiße scheiße scheiße '}\n",
      "{'deu-DE': 'nötigerweise Menschen sterben weil Ungeimpfte dort gearbeitet haben also ganz ehrlich so langsam schwillt Mir richtig der Kamm nicht nur dass man so 1 Hampelmann zum Gesundheitsminister gemacht hat der von Anbeginn der Pandemie nur gehetzt hat Scheiße erzählt hat selber nicht mal wer weiß was er überhaupt für Müll verzapft und und und so warte mal ähm Punkt 1 seit Jahren und das nicht erst seit Beginn der Pandemie ist es bekannt dass wir 1 Pflegemangel haben dass wir 1 Personalmangel haben Krankenhäuser wurden während der Pandemie geschlossen stellen wurden gestrichen es wurde nichts dafür getan dass überhaupt man überhaupt irgendwie Aus dieser Pandemie rauskommt und jetzt kommt hier mit so ner Scheiße ihr macht im Prinzip Pflegepersonal was ungeimpftes dafür verantwortlich dass Menschen auf den Intensivstation sterben warte mal habt wart ihr nicht diejenige die diese Menschen noch vor 2 Jahren gefeiert haben weil sie sich den Arsch aufgerissen haben ey sag mal wat stimmt denn eigentlich in eurem verkackten Hirn da oben nich sorry Leute aber ich habe so eine Krawatte am liebsten möcht ich wenn ich so n Video sehe oder so so ne Reportage sehe möcht ich am liebsten reingreifen ich sage nicht weiter was ich dazu was ich dann gerne tun möchte ähm ich meine Fakt ist doch 1 das Ungeimpfte Personal lässt sich doch jeden Tag testen oder nicht sind wir doch mittlerweile dazu verpflichtet wie kann es dann also sein dass genau diese Menschen dieses Ungeimpfte Personal Schuld daran sein soll dass die Menschen auf der Intensivstation sterben lasst euch diese Aussage von diesem Hampelmann mal so richtig auf der Zunge zergehen und guckt euch von Mir Aus gerne dieses gesamte Video davon dazu noch mal an aber ich glaube so so langsam sollte wohl dem letzten aufgefallen sein dass da irgendwas nicht ganz hinhaut oder ich meine wer 1 und 1 zusammenrechnen kann der sollte wohl auf 2 kommen und nicht auf 3 soviel zu diesem Thema also Mein Rat an euch alle egal OB Geimpfte oder Ungeimpfte für mich ist Mensch ist Mensch ist Mensch aber macht endlich die Augen auf und macht diesen Wahnsinn 1 Ende 1 schönes Wochenende '}\n",
      "{'deu-DE': '7 Millionen sozialgeldempfänger davon gut die Hälfte erwerbsfähig genau dort werden übrigens auch viele der asylsuchenen landen die die Ampel ins Land holen will schon heute beziehen 2 Millionen Ausländer Hartz 4 Leistung dem gegenüber stehen gerade einmal 15 Millionen nettosteuerzahler die nicht nur die Hartz 4 Leistung finanzieren sondern unsere gesamten staatsausgaben '}\n",
      "{'deu-DE': 'und zu den Nebenwirkungen das äh Nebenwirkungen das wurde ja grad gesagt gibt es jetzt endlich mal vernünftige Zahlen nämlich seit gestern eine Analyse von Millionen versicherten Dateien der BKK bringt nämlich Licht ins Dunkeln und es gab nämlich allein unter den BKK versicherten 400.000 Arztbesuche wegen impfkomplikation hochgerechnet aufs ganze Land würde das eine Größenordnung von 3 Millionen arztbedachtsbesuchen nur wegen impfkomplikation bedeuten und das sind Zahlen die sprechen eine ganz andere Sprache als diejenigen die uns die diesem Land seit 2 Jahren ja offiziell vom Paul ehrlich Institut verkauft werden sie sind um 1 dutzendfaches so hoch und wissen sie woran das liegen könnte Ärzte bekommen viel Geld für eine Impfung sie bekommen aber kein Geld für die Meldung einer Impfnebenwirkung einer impfkomplikation und dieser Vorgang ist zeitintensiv die Dunkelziffer ist also Mein Vielfaches so hoch und diese Umstände erklären vielleicht auch warum sich so viel medizinisches Personal nicht impfen lassen möchte die das nämlich vor Ort sehen welche Auswirkungen hier bestehen und das sind Zahlen die kann man nicht leugnen weil das sind Zahlen das sind abrechnungszahlen das ist etwas ganz Anders es ist schwarz auf weiß belegt das sind Größenordnung die hier in diesem politischen Diskurs gar nicht erwünscht sind das sagt auch alles und wissen sie wissen sie wie viele Menschen sich da draußen jeden Tag fragen warum sie trotz eines Boosters schon wieder mit Corona infiziert sind warum sie trotz ihres Boosters schon wieder in Quarantäne müssen wissen sie wie viele Menschen massive Impf Komplikationen entweder bei sich selbst oder in ihrem Umfeld festgestellt haben und jetzt endlich mal merken dass das was ihnen der Fernseher und die Zeitung und das Radio seit 2 Jahren erzählt nicht zu dem passt was sie in dem eigenen Umfeld merken das ist der richtige weg weil endlich fangen diese Menschen auch an die richtigen Fragen zu stellen dann noch 1 Blick in die Vergangenheit im 12.2020 beantragten hier in diesem Raum beantragten hier genau das gleiche impfen muss freiwillig bleiben und es gibt einen landtagsbeschluss von ihnen selbst der das sagt halten sie sich bitte an ihre eigenen Beschlüsse und auch damals wurde unsere Warnung natürlich als Verschwörungstheorie bezahlt und ich möchte vor Doktor Pene von SPD Fraktion zitieren Aus dem 12.20 20 Zitat schon ihr Antrag hat eine fatale Tendenz weil er den Eindruck erweckt es gäbe geheime Pläne für eine Impfpflicht jetzt jetzt warte geht noch weiter geht noch weiter geht noch weiter jetzt einmal abgesehen von ihren Fake News die sie hier verbreitet haben Zitat weiter all das führt tief tief in den Sumpf der Verschwörungstheorien das ist der verantwortungslose Umgang der AfD mit der Pandemie sehr geehrte Frau Doktor Pele sie setzen aktuell eine Impfpflicht selbst um sie haben das vor 2 Jahren als Verschwörungstheorie und als Fake News bezeichnet ich würde es toll finden Frau Doktor Pele wenn sie mal den schneid hätten sich dafür auch mal zu entschuldigen '}\n",
      "{'deu-DE': 'sehr geehrte frau präsidentin kolleginnen und kollegen es ist ein unterschied ob man politik für die gesundheit macht oder ob man mit krankheit politik macht es ist ein unterschied ob man im angesicht neuartiger gesundheitsgefahr über das richtige verhalten aufklärt und das nötige organisiert oder ob man den menschen angst macht um sich anschließend als der große retter in szene zu setzen es ist ein unterschied ob man gegen neue erreger impfstoffe entwickelt diese gut testet und sie den menschen anbietet oder ob man sie den menschen aufzwingt ohne rücksicht auf deren persönlichen entscheidung und deren grundrecht dieser unterschied macht sich auch im haushalt bemerkbar andere länder wie schweden wo sich keine regierung als retter aus hoch gepushter angst aufgespielt hat sind wirtschaftlich viel besser durch die krise gekommen das ist freilich ein thema für andere einzelpläne dieses bundeshaushalts aber auch der einzelplan 15 zeigt eine deutliche aufblähung der haushalt des gesundheitsministeriums ist mit über 52 milliarden euro so groß wie nie zuvor und das obwohl der höhepunkt der coronakrise hinter uns liegt die gründe dafür liegen in der völlig verfehlten impfkampagne so hatte die bundesregierung bereits vor einigen wochen sechshundertsiebenundsiebzig millionen impfstoffdosen bestellt teilt man das durch die anzahl der bundesbürger rund dreiundachtzig millionen so ergibt das mehr als acht impfstoffdosen pro kopf vom säugling bis zum kreis bei einer impfquote von hundert prozent auch wenn viel impfstoff an entwicklungsländer verschenkt wird zeigt das klar diese bundesregierung rechnet mit einem dauer booster zwangsabo für alle deutschen kurz vor weihnachten hatte der einkauf von covid impfstoffen bereits rund vier milliarden euro verschlungen und für dieses jahr sind nun über sechs milliarden angesetzt millionen bundesbürger haben sich aber in ihrer persönlichen nutzen risikoabwägung gegen die impfung entschieden das hat ganz offensichtlich mit den teils massiven nebenwirkungen der impfstoffe zu tun auch wenn diese offiziell immer noch geleugnet werden die regierung inszeniert deshalb eine regelrechte werbematerialschlacht der haushaltsansatz für öffentlichkeitsarbeit beträgt nun zweihundertfünfzehn millionen euro nach gut fünf millionen euro im letzten jahr das ist das vierzigfache wir alle wissen dass es auch mit der werbeschlacht nicht gelungen ist die menschen in unserem land zu überzeugen deshalb wird ja jetzt über den zwang wir impfpflicht debattiert und damit das vertrauen vieler bürger in den staat für jahrzehnte aufs spiel gesetzt weitere zwei komma acht milliarden euro sollen in den kommenden jahren in sogenannte pandemie bereitschaftsverträge fließen pharmaunternehmen bekommen dieses geld damit sie kapazitäten vorhalten und innerhalb von drei monaten die produktion von impfstoffen hochfahren können nur welches vakzin meine damen und herren ist innerhalb von drei monaten entwickelt und getestet natürlich kann man experimentelle impfstoffe anbieten aber eins muss dabei ein für alle mal tabu sein nämlich ein impfpflicht diese und weitere ausgabeposten werden in den nächsten wochen gelegenheit intensiver diskussionen sein auf eins können sich die deutschen verlassen die afd wird nie mit krankheit politik machen und die afd wird immer auf der seite der freiheit stehen '}\n",
      "{'deu-DE': 'immer mehr deutsche verlassen das land der gerade fertig gestellte migrationsbericht der bundesregierung bringt es an den tag allein 2016-2018 haben rund 300000 landsleute deutschland den rücken gekehrt seit neunzehnhundertdreiundneunzig übersteigt die zahl der deutschen fortgezogenen wie der rückkehrer in jedem jahr die ungesteuerte zuwanderung geht derweil munter weiter für alice weidel fraktionsvorsitzender der afd fraktion ist diese entwicklung das ergebnis einer völlig verfehlten politik frau merkel hat eingeladen und viele kommen allerdings nicht die angekündigten fachkräfte sondern vor allem ungelernte migranten steuern abgaben und mieten steigen für die bürger immer mehr was folgerichtig zu einer unzufriedenheit führt die deutschen müssen endlich entlastet und die grenzen effektiv geschützt werden '}\n",
      "{'deu-DE': \"manchmal wenn mein papa kein geld das hat nimmt er es mir aus der spardose kauft es dann aber wenn er wieder geld hat tut es mir halt wieder da rein kinderarmut in deutschland knapp zweieinhalb millionen kinder leben in einer armen familie also wenn ich groß bin möchte ich viel geld verdienen damit ich mir n haus kaufen kann und ich auf der straße wohne das ist doof kein taschengeld nicht mal einen euro ich lass meine mama den dann auch lieber so für lebensmittel kein urlaub mit den eltern weil die nich so viel geld haben stattdessen existenzängster wenn mama dann nicht alles bezahlen könnte von miete oder so dann hab ich immer so angst dass wir rausfliegen so n finanzieller engpass kinderarmut das kann ganz schnell gehen manchmal kommen solche tage wo musst du überlegen kaufen wir ein oder tanken wir ins auto passiert passiert menschen die nicht wegsehen sondern helfen wie viele kinder haben wir mittags hier stehen die sagen ich hab heute noch nichts gegessen wer arm ist ist einfach nicht existent für die gesellschaft den gibt's nicht das logi gibt's nicht düsseldorf düsseldorf bekannt für seinen prachtpolivar die königsallee in aller munde als messe und modemetropole zugleich aber auch das zentrum eines regierungsbezirks in dem die kinderarmut rasant wächst jedes vierte kind hier ist davon betroffen vor allem kinder von erwerbslosen und alleinerziehenden andrea lenzen ist beides in ihrem haushalt leben fünf kinder der teenager wollte nicht ins fernsehen nach abzug der fixkosten bleiben von hartz vier und kindergeld nicht mal 1200 euro für lebensmittel kleidung freizeit bei sechs personen jeden tag eine herausforderung auch heute abend die neunjährige mathilda muss ihre mama um geld fragen aber das konto ist ende des monats schon fast leer zum abendessen gibt es überbackenen toast mit ei arme ritter so und 10 euro für die klassenkasse äh ja müssen wir wohl mal gucken ob ich das nächste woche mache oder ob ich das danach die woche machen kann ne andrea hat einzelhandelskauffrau gelernt alleinerziehend mit fünf kindern ist es unmöglich einen passenden job zu finden sie muss ihre tochter vertrösten unangenehm weil es einfach peinlich is ist das peinlich wenn man sagen muss wir haben das geld im moment nicht ja und das noch von der ganzen klasse ja vielleicht passt du dann am besten moment ab wo du die frau voka alleine siehst ne ich mach das auch nicht vor ja aber ich muss es doch direkt sagen ja aber dann könnt ich ja sagen ich würde gerne mit ihnen nach dem unterricht mal kurz sprechen mach ich auch immer bei meinen lehrern ja ne manchmal ist das eben so das ist doof aber davon geht die welt nicht unter ne es ist nur geld ich mach mir natürlich täglich gedanken ob ich als mama das alles so richtig mache ob das die richtige entscheidung war so viele kinder auch zu haben ähm finanziell und auch zeitlich gesehen ähm ich stell mich eigentlich jeden tag in frage nach den letzten ferien haben henrys klassenkameraden von ihren reisen erzählt zum beispiel die waren ähm keine ahnung ich weiß nicht wie das heißt irgendwie new york glaub ich und dann ähm da gibt's ja auch glaub ich ein strand und manche waren auch zelten ich glaube manche waren in diesen ferien auch schon bei der nordsee und sonst weiß ich nix und was erzählst du dann so ich war draußen spielen und so und hier drin auch henry und seine schwestern waren noch nie im urlaub keines der kinder beschwert sich in düsseldorf fingern unterstützt der verein froschkönige kinder von einkommensschwachen familien liebe frau fahnenburg danke für die schönen sachen unterwäsche liebe frau alzer ha ha ha elbers albers danke für die tollen sachen seit 10 jahren helfen irene elbers und gabriele von den burg finanziert aus spendengeldern verteilen sie kleidung oder lebensmittelgutscheine an arme kinder in einer stadt die eigentlich als mode und messemetropole bekannt ist ich denke nicht dass düsseldorf ne reiche stadt is ähm gehen sie über die königsallee okay aber fahren sie doch mit äh nem ganz normalen zug an der arbeit der stadthallen vorbei da sehen sie dass düsseldorf nicht so reich is das paket heute geht an eine familie mit sechs kindern das siebte ist unterwegs diese familie war sehr bescheiden und wir haben äh beim bestellen dann n bisschen was dazu getan wie zum beispiel für die kleinen mädchen die eisprinzessin ich denke da wird sich freuen weil das haben sie nicht bestellt das kriegst du so ne weil das finde ich äh auch arme kinder müssen mal was außer der reihe haben ne und nicht nur immer zurückstecken ja oder die können ja noch nicht mal n eis essen gehen im sommer weil's geld einfach nicht da ist oder mal mit den kindern in zoo gehen oder ins kino alleine alleine ins kino was kostet n kinobesuch was n armes kind auch gerne möchte ja die ansprüche die müssen ja eh schon zurückstecken ja ja mh wer haram ist ist einfach nicht existent für die gesellschaft den gibt's nicht den gibt's nicht den gibt's nicht \"}\n",
      "{'deu-DE': \"und diese ganzen maßnahmen die wir da treffen ne weil die bösen russen von denen wollen wir kein gas mehr und äh wegen der ukraine und überhaupt und deswegen äh sanktionieren wir die das haben sie jetzt davon ja aber das stellen wir fest bei neurin sind genau das was wir hier von anfang an gesagt haben als die ersten verkündigung dieser art kam dass wir dresdend einen feuchten kehrich interessieren im gegenteil das äh ich erinnere mich jetzt noch mal ganz früh in in das in russland und ukraine konflikt haben und das hier thematisiert mit n paar grafiken russland wird dieses jahr rekordeinnahmen haben warum weil die mit vielen niedrigeren öl und gaspreisen gerechnet haben durch diese situation durch die boykottok gehen an den weltmärkten die preise dramatisch nach oben ja okay wir kaufen es ihnen nicht nur noch kaufen is indianer aber auch selbst wenn nich ne ähm die anderen weltstaaten die interessiert's einen feuchten gierig was in der ukraine los is das interessiert die nich das würd ich nich mal thema ne die sagen ey klasse da gibt's russisches gas äh zu dumplingpreisen das gibt's ja dreißig dollar billiger äh als es beispielsweise ähm ähm amerikanisches öl oder oder anderes öl gibt das ist dumping äh preis das nehmen wir doch gerne entgegen herzlichen dank das heißt china freut sich indien freut sich äh pakistan freut sich wer immer afrika überall freuen sich übers billige russische gas und das diese dreißig äh dollar abschlag die sind immer noch das was übrig bleibt is immer noch deutlich mehr als das was russland in den letzten fürslege gibt für dieses jahr eingeplant hat an gasverkäufen und öl und ölverkäufen weil ähm der preis so extrem gestiegen ist und natürlich herzlichen dank das nehmen wir doch gerne an ob ihr uns das abkauft und so vollkommen hupe und na ja und jetzt haben sie ja gesagt sie nehmen das nur noch gesehen wir nehmen nur noch rubel aber ja dann sagte deutschland und äh ne ne europa ne ne machen die will mit ne rubel zahlen wir nicht und russin sagt ne warte mal ihr zahlt die rubel und macht jetzt n raffinierten schachzug zu sagen okay die gastprobenbank ähm also die bank die zu gastproben gehört ähm die ist nicht in neuss sanktioniert übrigens ist interessant ne wir haben hier ganz viele russen paar fünf einige große russische banken sanktioniert aber nich alle äh so n paar die braucht man halt noch ne weil sonst kann man den russen ja nich zahlen die hat man also noch nich sanktioniert weil sonst geht's dann nich und dann sagt der rostock ne dann mach ich die halt so zentralbank wisst ihr was dann überweist ihr die euro an die gastprombank dann is das meine neue zentralbank und die tauscht das an den rubel und ich als staat kriege mein rubel weil der schussstaat zahlt ja eigentlich nahezu alles was er brauch äh an seine leute im land und zwar in rubel ne der der zahlt ja bei russischen rüstungsfirmen zahlt ja nicht in dollar sondern in rubel und wo kauft n der russische staat seine panzer äh nich in amerika richtig sondern bei russischen rüstungskonzernen und in was zahlt der russische staat russische rüstungskonzerne in rubel richtig also ähm wir zahlen da in euro oder dollar wie auch immer an gasbronn bank äh die wechseln dann um in rubel überweisen das einen russischen staat als neuzentrale sozusagen und der russische staat kann damit dann alles seine ausgaben tätigen zu denen eben auch panzer und andere dinge gehören also und für die außengeschäfte na ja da haben sie ja noch ihre geschäfte mit mit mit china und äh mit mit äh mit arabischen staaten im übrigen äh ja und wir wollten jetzt auch aussteigen ja wir wollten jetzt erinnern sich noch an dieses ich hab's leider nicht mehr nicht heute nicht dabei dieses schöne bild äh von robert harbeck äh weil vereinigten am raab arabischen emiraten wo so demütiger in demütiger haltung vor dem scheich äh ich hätt fast gesagt kniet also sieht's aus aber nein genüge haltung mit dem scheich ja weil wir sind ja jetzt so für menschenrechte wollen jetzt nur menschenrechtskonformes gas kaufen so kaufen wir dann äh lieber in katar oder in freien einigen arabischen piraten bei den bei den äh halsabschneider äh sorry bei den bei den scheichs ähm und ähm das is viel menschenfreundlicher und äh viel demokratischer als das irusland je war äh deswegen und die führen auch keine kriege oder sowas ne wir haben auch keine äh konflikte ne deshalb kaufen wir dann lieber bei denen oder würden es gerne kaufen weil äh der shy wir wir aberg haben so jawohl wir haben uns super verstanden und ja wir werden hier dann gas aus äh katar und äh der scheich der auch ers katar der sagt äh äh wie moment äh mh tschuldigung da habt ihr was verstanden in deutschland äh äh ich ne wir haben kein vertrag wir haben uns net unterhalten ne du traviks netter kerl war ganz rollig aber äh hassvertrag ne warum sollten wir wir haben auf die nächsten jahre überhaupt bis zweitausendfünfundzwanzig äh haben wir äh feste liefertermine für all das was wir so äh raubfördern können derzeit zweitausendsechsundzwanzig können wir mal drüber nachdenken ob wir euch da was abgeben von oder nich müssen wir mal reden aber wir sind weit davon entfernt also bis zweitausendfünfundzwanzig sechsundzwanzig das sind nur n paar jahre hin ne n paar kalte winter konnt das noch geben ne hab ick also hm so ganz erfolgreich war das wohl dann doch nicht wenn man da äh mal hört was die arabische seite dazu sagt mh sagen wir mal ob sollen wir dem helfen der russe der sagt freunde der nacht kommt äh kommt mal redet doch mal mit mir \"}\n",
      "{'deu-DE': 'über 3 trassen kommt russisches gas nach deutschland sajus ist die älteste sie verläuft durch die ukraine jamal führt durch belarus und polen nord stream 1 liegt in der ostsee nord stream 2 soll sie demnächst ergänzen und genau um sie gibt es politischen streit die usa hatten sanktionen verhängt und den bau vorübergehend gestoppt vergeblich anfang september 1 historischer moment für das projekt das letzte rohr wird angeschweißt und in der ostsee versenkt die pipeline ist starrklar doch es fehlt die betriebserlaubnis die verzögert sich gerade erneut aus formellen gründen der russland könnte die gaslieferungen absichtlich drosseln um das verfahren zu beschleunigen ', 'eng-US': 'Russian gas comes to Germany via 3 routes.  Sajus is the oldest, it runs through Ukraine,  jamal leads through belarus and Poland.  Nord stream 1 is located in the Baltic Sea,  nord stream 2 will soon complement it.  And it is precisely about them that there is political dispute.  The usa had imposed sanctions and temporarily stopped construction,  in vain at the beginning of September.  1. Historical moment for the project,  the last pipe is welded on and sunk in the Baltic Sea.  The pipeline is rigid, but the operating permit is missing.  This is just being delayed again for formal reasons.  The Russian could deliberately cut gas  supplies in order to speed up the process. '}\n",
      "{'deu-DE': 'wir haben auch du hast bereiche wo wir sagen da müssten wir etwas mehr ausgeben das is beispielsweise im bereich äh landwirtschaft sie wissen ja dass unsere landwirtschaft äh sehr gebeutelt ist durch die äh doch unhaltbare politik von frau kanniber und der csu ähm die bereichbauungen und wohnen wollen wir gern mehr unterstützen und hätten hier sogar hundertsiebenunddreißig millionen mehr angeschlagen sie wüssten das graz ähm ja menschen mit geringerem einkommen sich sehr schwer tun mittlerweile ne wohnung zu finden und insgesamt kommen wir halt mit drei komma vier milliarden weniger raus als die staatsregierung von dem her war er deutlich besser unterwegs und im detail erklärt ihm das jetzt mein kollege verdiener mitmachen ja gerne also wie gesagt wie es der kollege schon gesagt wir haben eigentlich viel zu kritisieren gehabt wie nie zuvor das spiegelt sich auch in den änderungsanträgen wieder also wir halten diesmal auch das ähm haushaltsgesetz insgesamt für aus auch aus vermälden gründen verfassungswidrig wir haben den corona sonder froh und der ähm erlaubte eine verschuldung ähm entgegen der schuldenbremse und das ist eben das besondere daran dass eben hier das eben nur zulässig ist wenn man eben hier das nutzt diese mittel nutzt um eben hier die direkte folgen der corona pandemie und die notlage zu beseitigen und jetzt verwendet der herr söder diese möglichkeit um jetzt hier eineinhalb milliarden euro aus diesen formen für klima für den sogenannten klimaschutz zu verwenden und das ist n ganz klarer verfassungsbruch weil der klimaschutz hat nichts mit dieser notlage der pandemie zu tun '}\n"
     ]
    }
   ],
   "source": [
    "# loop through the rows and get the transcription for each video \n",
    "for row in rows[:10]:\n",
    "    video_details = TiktokVideoDetails(url=row[12])\n",
    "    transcripts = video_details.get_transcriptions(disable_azure=True)\n",
    "    if transcripts:\n",
    "        #db_connector.update_transcript(video_id=video_details.video_id, transcript_en=transcripts.get(\"eng-US\"), transcript_de=transcripts.get(\"deu-DE\"))"
   ]
  },
  {
   "cell_type": "code",
   "execution_count": 100,
   "metadata": {},
   "outputs": [],
   "source": [
    "\n",
    "def batch_add_transcripts_to_db(rows: list) -> None:\n",
    "    \"\"\"\n",
    "    Gets a list of rows from the database with entries without transcript.\n",
    "    It retrieves the transcripts and adds the transcripts to the database.\n",
    "    Also collects and prints the statistics of the run.\n",
    "\n",
    "    Args:\n",
    "        list[pyodbc.row]: A list of rows from the database with entries without transcript.\n",
    "    \"\"\"\n",
    "\n",
    "\n",
    "    total_rows = len(rows)\n",
    "    errors = {}\n",
    "    stats = StatCollector()\n",
    "\n",
    "    try:\n",
    "        index = 0\n",
    "        for row in rows:\n",
    "            completion_percentage = (index / total_rows) * 100\n",
    "            print_progress_bar(completion_percentage)\n",
    "            url = row[12]\n",
    "            index += 1\n",
    "            try:\n",
    "                tt_obj = TiktokVideoDetails(url=url)\n",
    "            except VideoIsPrivateError as error:\n",
    "                stats.add_private_video(url)\n",
    "                print(\"\\n\", error)\n",
    "                db_connector.update_transcript(video_id=row[0], transcript_en=None, transcript_de=None, no_transcript_reason=str(error))\n",
    "                continue\n",
    "            except (RequestReturnedNoneError, HTTPRequestError) as error:\n",
    "                stats.add_failed_request(url)\n",
    "                print(\"\\n\", error)\n",
    "                db_connector.update_transcript(video_id=row[0], transcript_en=None, transcript_de=None, no_transcript_reason=str(error))\n",
    "                continue\n",
    "            except Exception as error:\n",
    "                stats.add_failed_request(url)\n",
    "                print(\"\\nUnexpected Exception occured:\", error)\n",
    "                db_connector.update_transcript(video_id=row[0], transcript_en=None, transcript_de=None, no_transcript_reason=str(error))\n",
    "                continue\n",
    "\n",
    "            try:\n",
    "                transcriptions = tt_obj.get_transcriptions(disable_azure=True)\n",
    "                if transcriptions:\n",
    "                    db_connector.update_transcript(video_id=row[0], transcript_en=transcripts.get(\"eng-US\"), transcript_de=transcripts.get(\"deu-DE\"), no_transcript_reason=None)\n",
    "                    stats.add_success()\n",
    "                else:\n",
    "                    pass\n",
    "                    #errors[index] = \"No transcription provided by Tiktok\"\n",
    "      \n",
    "            except Exception as error:\n",
    "                print(\"\\n\", error)\n",
    "                transcriptions = {}\n",
    "                #errors[index] = error\n",
    "            \n",
    "\n",
    "    except KeyboardInterrupt:\n",
    "        print(\"\\nKeyboard Interrupt detected. Stopping...\")\n",
    "    except Exception as error:\n",
    "        print(\"\\nUnexpected Exception occurred:\", error)\n",
    "    finally:\n",
    "        stats.print_stats()\n"
   ]
  },
  {
   "cell_type": "code",
   "execution_count": 102,
   "metadata": {},
   "outputs": [
    {
     "name": "stdout",
     "output_type": "stream",
     "text": [
      "[                   ] 0.70%%"
     ]
    }
   ],
   "source": [
    "# Example usage\n",
    "batch_add_transcripts_to_db(rows[1000:])"
   ]
  },
  {
   "cell_type": "code",
   "execution_count": null,
   "metadata": {},
   "outputs": [],
   "source": []
  }
 ],
 "metadata": {
  "kernelspec": {
   "display_name": "reclaim-tiktok",
   "language": "python",
   "name": "python3"
  },
  "language_info": {
   "codemirror_mode": {
    "name": "ipython",
    "version": 3
   },
   "file_extension": ".py",
   "mimetype": "text/x-python",
   "name": "python",
   "nbconvert_exporter": "python",
   "pygments_lexer": "ipython3",
   "version": "3.10.14"
  }
 },
 "nbformat": 4,
 "nbformat_minor": 2
}
