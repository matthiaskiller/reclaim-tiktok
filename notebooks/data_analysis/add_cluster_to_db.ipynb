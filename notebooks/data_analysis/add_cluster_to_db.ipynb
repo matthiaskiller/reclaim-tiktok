{
 "cells": [
  {
   "cell_type": "markdown",
   "metadata": {},
   "source": [
    "### Imports"
   ]
  },
  {
   "cell_type": "code",
   "execution_count": 2,
   "metadata": {},
   "outputs": [],
   "source": [
    "import datetime\n",
    "\n",
    "import pandas as pd\n",
    "import pyodbc"
   ]
  },
  {
   "cell_type": "markdown",
   "metadata": {},
   "source": [
    "### Connection String"
   ]
  },
  {
   "cell_type": "code",
   "execution_count": 3,
   "metadata": {},
   "outputs": [],
   "source": [
    "\n",
    "driver = os.environ[\"DB_DRIVER\"]\n",
    "server = os.environ[\"DB_SERVER\"]\n",
    "database = os.environ[\"DB_DATABASE\"]\n",
    "username = os.environ[\"DB_USERNAME\"]\n",
    "password = os.environ[\"DB_PASSWORD\"]\n",
    "connection_str = f\"Driver={driver};Server={server},1433;Database={database};Uid={username};Pwd={password};Encrypt=yes;TrustServerCertificate=no;Connection Timeout=30;\"\n"
   ]
  },
  {
   "cell_type": "markdown",
   "metadata": {},
   "source": [
    "##  Load clusters from csv"
   ]
  },
  {
   "cell_type": "code",
   "execution_count": 13,
   "metadata": {},
   "outputs": [],
   "source": [
    "clusters_with_title = pd.read_csv('../../data/1405_data_topic_title.csv')"
   ]
  },
  {
   "cell_type": "code",
   "execution_count": 15,
   "metadata": {},
   "outputs": [
    {
     "data": {
      "text/html": [
       "<div>\n",
       "<style scoped>\n",
       "    .dataframe tbody tr th:only-of-type {\n",
       "        vertical-align: middle;\n",
       "    }\n",
       "\n",
       "    .dataframe tbody tr th {\n",
       "        vertical-align: top;\n",
       "    }\n",
       "\n",
       "    .dataframe thead th {\n",
       "        text-align: right;\n",
       "    }\n",
       "</style>\n",
       "<table border=\"1\" class=\"dataframe\">\n",
       "  <thead>\n",
       "    <tr style=\"text-align: right;\">\n",
       "      <th></th>\n",
       "      <th>Unnamed: 0</th>\n",
       "      <th>topic_title</th>\n",
       "      <th>cluster_number</th>\n",
       "    </tr>\n",
       "  </thead>\n",
       "  <tbody>\n",
       "    <tr>\n",
       "      <th>0</th>\n",
       "      <td>0</td>\n",
       "      <td>AfD: Protest gegen das politische Establishmen...</td>\n",
       "      <td>0</td>\n",
       "    </tr>\n",
       "    <tr>\n",
       "      <th>1</th>\n",
       "      <td>1</td>\n",
       "      <td>Kritik an der aktuellen deutschen Regierung: F...</td>\n",
       "      <td>1</td>\n",
       "    </tr>\n",
       "    <tr>\n",
       "      <th>2</th>\n",
       "      <td>2</td>\n",
       "      <td>Kritik an politischer Korrektheit und Meinungs...</td>\n",
       "      <td>2</td>\n",
       "    </tr>\n",
       "    <tr>\n",
       "      <th>3</th>\n",
       "      <td>3</td>\n",
       "      <td>Herausforderungen der Einwanderungspolitik: Id...</td>\n",
       "      <td>3</td>\n",
       "    </tr>\n",
       "    <tr>\n",
       "      <th>4</th>\n",
       "      <td>4</td>\n",
       "      <td>Hohe Energiepreise und steigende Kosten: Belas...</td>\n",
       "      <td>4</td>\n",
       "    </tr>\n",
       "  </tbody>\n",
       "</table>\n",
       "</div>"
      ],
      "text/plain": [
       "   Unnamed: 0                                        topic_title  \\\n",
       "0           0  AfD: Protest gegen das politische Establishmen...   \n",
       "1           1  Kritik an der aktuellen deutschen Regierung: F...   \n",
       "2           2  Kritik an politischer Korrektheit und Meinungs...   \n",
       "3           3  Herausforderungen der Einwanderungspolitik: Id...   \n",
       "4           4  Hohe Energiepreise und steigende Kosten: Belas...   \n",
       "\n",
       "   cluster_number  \n",
       "0               0  \n",
       "1               1  \n",
       "2               2  \n",
       "3               3  \n",
       "4               4  "
      ]
     },
     "execution_count": 15,
     "metadata": {},
     "output_type": "execute_result"
    }
   ],
   "source": [
    "clusters_with_title.head()"
   ]
  },
  {
   "cell_type": "markdown",
   "metadata": {},
   "source": [
    "##  Load cluster assignments from csv"
   ]
  },
  {
   "cell_type": "code",
   "execution_count": 5,
   "metadata": {},
   "outputs": [],
   "source": [
    "cluster_assignments = pd.read_csv(\"../../data/1405_data_with_clusters.csv\")"
   ]
  },
  {
   "cell_type": "code",
   "execution_count": 10,
   "metadata": {},
   "outputs": [
    {
     "data": {
      "text/html": [
       "<div>\n",
       "<style scoped>\n",
       "    .dataframe tbody tr th:only-of-type {\n",
       "        vertical-align: middle;\n",
       "    }\n",
       "\n",
       "    .dataframe tbody tr th {\n",
       "        vertical-align: top;\n",
       "    }\n",
       "\n",
       "    .dataframe thead th {\n",
       "        text-align: right;\n",
       "    }\n",
       "</style>\n",
       "<table border=\"1\" class=\"dataframe\">\n",
       "  <thead>\n",
       "    <tr style=\"text-align: right;\">\n",
       "      <th></th>\n",
       "      <th>Unnamed: 0</th>\n",
       "      <th>video_id</th>\n",
       "      <th>cluster</th>\n",
       "      <th>core_message</th>\n",
       "      <th>video_playcount</th>\n",
       "      <th>video_timestamp</th>\n",
       "    </tr>\n",
       "  </thead>\n",
       "  <tbody>\n",
       "    <tr>\n",
       "      <th>0</th>\n",
       "      <td>0</td>\n",
       "      <td>7005858788343319813</td>\n",
       "      <td>23</td>\n",
       "      <td>Mach so bisschen Übergang deine Haare kürzer d...</td>\n",
       "      <td>613338</td>\n",
       "      <td>1631178624</td>\n",
       "    </tr>\n",
       "    <tr>\n",
       "      <th>1</th>\n",
       "      <td>1</td>\n",
       "      <td>7040421798785125638</td>\n",
       "      <td>1;22;15</td>\n",
       "      <td>Kritik an ungeimpftem Personal in der Pflege;...</td>\n",
       "      <td>30603</td>\n",
       "      <td>1639225941</td>\n",
       "    </tr>\n",
       "    <tr>\n",
       "      <th>2</th>\n",
       "      <td>2</td>\n",
       "      <td>7052592640344329477</td>\n",
       "      <td>13</td>\n",
       "      <td>7 Millionen sozialgeldempfänger davon gut die ...</td>\n",
       "      <td>27175</td>\n",
       "      <td>1642059688</td>\n",
       "    </tr>\n",
       "    <tr>\n",
       "      <th>3</th>\n",
       "      <td>3</td>\n",
       "      <td>7069273153373097221</td>\n",
       "      <td>22;17;17</td>\n",
       "      <td>- Hohe Anzahl von Arztbesuchen aufgrund von Im...</td>\n",
       "      <td>235154</td>\n",
       "      <td>1645943422</td>\n",
       "    </tr>\n",
       "    <tr>\n",
       "      <th>4</th>\n",
       "      <td>4</td>\n",
       "      <td>7080134745832557830</td>\n",
       "      <td>16;1;0</td>\n",
       "      <td>Unterschied zwischen Gesundheitspolitik und p...</td>\n",
       "      <td>7439</td>\n",
       "      <td>1648472331</td>\n",
       "    </tr>\n",
       "  </tbody>\n",
       "</table>\n",
       "</div>"
      ],
      "text/plain": [
       "   Unnamed: 0             video_id   cluster  \\\n",
       "0           0  7005858788343319813        23   \n",
       "1           1  7040421798785125638   1;22;15   \n",
       "2           2  7052592640344329477        13   \n",
       "3           3  7069273153373097221  22;17;17   \n",
       "4           4  7080134745832557830    16;1;0   \n",
       "\n",
       "                                        core_message  video_playcount  \\\n",
       "0  Mach so bisschen Übergang deine Haare kürzer d...           613338   \n",
       "1   Kritik an ungeimpftem Personal in der Pflege;...            30603   \n",
       "2  7 Millionen sozialgeldempfänger davon gut die ...            27175   \n",
       "3  - Hohe Anzahl von Arztbesuchen aufgrund von Im...           235154   \n",
       "4   Unterschied zwischen Gesundheitspolitik und p...             7439   \n",
       "\n",
       "   video_timestamp  \n",
       "0       1631178624  \n",
       "1       1639225941  \n",
       "2       1642059688  \n",
       "3       1645943422  \n",
       "4       1648472331  "
      ]
     },
     "execution_count": 10,
     "metadata": {},
     "output_type": "execute_result"
    }
   ],
   "source": [
    "cluster_assignments.head()"
   ]
  },
  {
   "cell_type": "markdown",
   "metadata": {},
   "source": [
    "## Add Clusters and Video2Cluster link to database"
   ]
  },
  {
   "cell_type": "code",
   "execution_count": 20,
   "metadata": {},
   "outputs": [
    {
     "name": "stdout",
     "output_type": "stream",
     "text": [
      "Clusters and relationships added to database successfully\n"
     ]
    }
   ],
   "source": [
    "def add_clusters_and_links_to_db(cluster_assignments, clusters_with_title, connection_str):\n",
    "    \"\"\"\n",
    "    Add clusters and their links to videos in the SQL database.\n",
    "    Args:\n",
    "        cluster_assignments: DataFrame with video_id and cluster data.\n",
    "        clusters_with_title: DataFrame with cluster_number and topic_title.\n",
    "        connection_str: Connection string to the SQL database.\n",
    "    \"\"\"\n",
    "    \n",
    "    with pyodbc.connect(connection_str) as cnxn:\n",
    "        cursor = cnxn.cursor()\n",
    "        \n",
    "        # Get all unique cluster ids already in the SQL database\n",
    "        cursor.execute(\"SELECT id FROM dbo.Clusters\")\n",
    "        existing_cluster_ids = {row[0] for row in cursor.fetchall()}\n",
    "        \n",
    "        # Extract unique cluster ids and their descriptions from the DataFrame\n",
    "        clusters_to_add = clusters_with_title[['cluster_number', 'topic_title']].drop_duplicates()\n",
    "        \n",
    "        # Determine which cluster ids need to be added\n",
    "        clusters_to_add = clusters_to_add[~clusters_to_add['cluster_number'].isin(existing_cluster_ids)]\n",
    "        \n",
    "\n",
    "        # Add new cluster ids to the Clusters table\n",
    "        for _, row in clusters_to_add.iterrows():\n",
    "            cluster_id = int(row['cluster_number'])\n",
    "            description = str(row['topic_title'])\n",
    "            cursor.execute(\"INSERT INTO dbo.Clusters (id, description, timestamp) VALUES (?, ?, ?)\", cluster_id, description, datetime.datetime.now())\n",
    "        \n",
    "        # Commit the new clusters\n",
    "        cnxn.commit()\n",
    "        \n",
    "        # Insert cluster-video relationships into VideoClusters table\n",
    "        for _, row in cluster_assignments.iterrows():\n",
    "            video_id = int(row['video_id'])\n",
    "            clusters = map(int, row['cluster'].split(';'))\n",
    "            \n",
    "            for cluster_id in clusters:\n",
    "                # Generate a new unique id for the VideoClusters table\n",
    "                cursor.execute(\"SELECT ISNULL(MAX(id), 0) + 1 FROM dbo.VideoClusters\")\n",
    "                new_id = cursor.fetchone()[0]\n",
    "                \n",
    "                cursor.execute(\"INSERT INTO dbo.VideoClusters (id, cluster_id, video_id) VALUES (?, ?, ?)\", new_id, cluster_id, video_id)\n",
    "\n",
    "        #Commit the relationships\n",
    "        cnxn.commit()\n",
    "        print(\"Clusters and relationships added to database successfully\")\n"
   ]
  },
  {
   "cell_type": "code",
   "execution_count": null,
   "metadata": {},
   "outputs": [],
   "source": [
    "# Example usage\n",
    "add_clusters_and_links_to_db(cluster_assignments, clusters_with_title, connection_str)"
   ]
  },
  {
   "cell_type": "markdown",
   "metadata": {},
   "source": [
    "## Add core message to db video entries"
   ]
  },
  {
   "cell_type": "code",
   "execution_count": null,
   "metadata": {},
   "outputs": [
    {
     "name": "stdout",
     "output_type": "stream",
     "text": [
      "Videos updated successfully\n"
     ]
    }
   ],
   "source": [
    "def update_videos_in_db(update_df, connection_str):\n",
    "    \"\"\"\n",
    "    Update existing entries in the Videos table based on video_id.\n",
    "    Args:\n",
    "        update_df: DataFrame with video_id, core_message.\n",
    "        connection_str: Connection string to the SQL database.\n",
    "    \"\"\"\n",
    "    \n",
    "    with pyodbc.connect(connection_str) as cnxn:\n",
    "        cursor = cnxn.cursor()\n",
    "        \n",
    "        for _, row in update_df.iterrows():\n",
    "            query = \"\"\"\n",
    "            UPDATE dbo.Videos\n",
    "            SET core_messages_de = ?\n",
    "            WHERE id = ?\n",
    "            \"\"\"\n",
    "            data = (\n",
    "                str(row['core_message']),\n",
    "                int(row['video_id'])\n",
    "            )\n",
    "            cursor.execute(query, data)\n",
    "        \n",
    "        cnxn.commit()\n",
    "        print(\"Videos updated successfully\")"
   ]
  },
  {
   "cell_type": "code",
   "execution_count": null,
   "metadata": {},
   "outputs": [],
   "source": [
    "# Example usage\n",
    "update_videos_in_db(cluster_assignments, connection_str)"
   ]
  },
  {
   "cell_type": "markdown",
   "metadata": {},
   "source": [
    "## Get videos by cluster id"
   ]
  },
  {
   "cell_type": "code",
   "execution_count": null,
   "metadata": {},
   "outputs": [],
   "source": [
    "def get_videos_by_cluster(cluster_id, connection_str):\n",
    "    \"\"\"\n",
    "    Retrieve all videos based on a given cluster_id.\n",
    "    Args:\n",
    "        cluster_id: The cluster_id to filter videos by.\n",
    "        connection_str: Connection string to the SQL database.\n",
    "    Returns:\n",
    "        A list of videos matching the cluster_id.\n",
    "    \"\"\"\n",
    "    query = \"\"\"\n",
    "    SELECT v.*\n",
    "    FROM Videos v\n",
    "    JOIN VideoClusters vc ON v.id = vc.video_id\n",
    "    WHERE vc.cluster_id = ?\n",
    "    \"\"\"\n",
    "\n",
    "    with pyodbc.connect(connection_str) as cnxn:\n",
    "        cursor = cnxn.cursor()\n",
    "        cursor.execute(query, cluster_id)\n",
    "        videos = cursor.fetchall()\n",
    "    \n",
    "    return videos\n"
   ]
  },
  {
   "cell_type": "code",
   "execution_count": null,
   "metadata": {},
   "outputs": [],
   "source": [
    "# Example usage\n",
    "cluster_id = 1  # Replace with your desired cluster_id\n",
    "videos = get_videos_by_cluster(cluster_id, connection_str)\n",
    "\n",
    "for video in videos:\n",
    "    print(video)"
   ]
  },
  {
   "cell_type": "markdown",
   "metadata": {},
   "source": [
    "## Get cluster ids for video_id"
   ]
  },
  {
   "cell_type": "code",
   "execution_count": 4,
   "metadata": {},
   "outputs": [],
   "source": [
    "## Get cluster ids for video_id\n",
    "def get_clusters_by_video(video_id, connection_str):\n",
    "    \"\"\"\n",
    "    Retrieve all clusters based on a given video_id.\n",
    "    Args:\n",
    "        video_id: The video_id to filter clusters by.\n",
    "        connection_str: Connection string to the SQL database.\n",
    "    Returns:\n",
    "        A list of clusters matching the video_id.\n",
    "    \"\"\"\n",
    "    query = \"\"\"\n",
    "    SELECT c.*\n",
    "    FROM Clusters c\n",
    "    JOIN VideoClusters vc ON c.id = vc.cluster_id\n",
    "    WHERE vc.video_id = ?\n",
    "    \"\"\"\n",
    "\n",
    "    with pyodbc.connect(connection_str) as cnxn:\n",
    "        cursor = cnxn.cursor()\n",
    "        cursor.execute(query, video_id)\n",
    "        clusters = cursor.fetchall()\n",
    "    \n",
    "    return clusters"
   ]
  },
  {
   "cell_type": "code",
   "execution_count": 6,
   "metadata": {},
   "outputs": [
    {
     "name": "stdout",
     "output_type": "stream",
     "text": [
      "[(1, 'Kritik an der aktuellen deutschen Regierung: Fehlende Kompetenz, fehlerhafte Gesetzgebung und Missmanagement', datetime.datetime(2024, 5, 14, 19, 29, 5, 150000)), (22, 'Wirtschaftliche Unsicherheit und gesellschaftliche Herausforderungen: Probleme in der Arbeitswelt, fehlende Fachkräfte und finanzielle Belastungen', datetime.datetime(2024, 5, 14, 19, 29, 6, 143000)), (15, 'Forderung nach politischem Wandel und Regierungsrücktritt: Kritik an der aktuellen Regierung und Forderung nach Veränderung', datetime.datetime(2024, 5, 14, 19, 29, 5, 810000))]\n"
     ]
    }
   ],
   "source": [
    "clusters = get_clusters_by_video(7040421798785125638, connection_str)\n",
    "print(clusters)"
   ]
  },
  {
   "cell_type": "code",
   "execution_count": null,
   "metadata": {},
   "outputs": [],
   "source": []
  }
 ],
 "metadata": {
  "kernelspec": {
   "display_name": "reclaim-tiktok",
   "language": "python",
   "name": "python3"
  },
  "language_info": {
   "codemirror_mode": {
    "name": "ipython",
    "version": 3
   },
   "file_extension": ".py",
   "mimetype": "text/x-python",
   "name": "python",
   "nbconvert_exporter": "python",
   "pygments_lexer": "ipython3",
   "version": "3.10.14"
  }
 },
 "nbformat": 4,
 "nbformat_minor": 2
}
