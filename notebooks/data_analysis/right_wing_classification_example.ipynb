{
 "cells": [
  {
   "cell_type": "code",
   "execution_count": 2,
   "id": "705dd408-8ee9-4553-9e09-d183a222e33c",
   "metadata": {},
   "outputs": [],
   "source": [
    "\n",
    "from dotenv import load_dotenv\n",
    "load_dotenv()\n",
    "\n",
    "from langchain_openai import AzureOpenAIEmbeddings\n",
    "\n",
    "from reclaim_tiktok.classifier.classifier import Classifier\n"
   ]
  },
  {
   "cell_type": "code",
   "execution_count": 3,
   "id": "095e8c96-1763-478f-b5cb-e470318ef948",
   "metadata": {},
   "outputs": [],
   "source": [
    "embeddings_client = AzureOpenAIEmbeddings(\n",
    "    azure_deployment=\"text-embedding-3-small-eastus\",\n",
    "    openai_api_version=\"2024-02-01\",\n",
    ")"
   ]
  },
  {
   "cell_type": "code",
   "execution_count": 4,
   "id": "ee5f167e-98f0-45aa-8776-56477809b9ec",
   "metadata": {},
   "outputs": [
    {
     "name": "stdout",
     "output_type": "stream",
     "text": [
      "Ganzes Interview auf X (@AfD). #fyp adf / afd frauen / afd abschiebungs kalender also mit dieser Mitgliedschaft bei der AfD. Sie nennt zum Beispiel die AfD ihr safepace und meint oder fühlst sich dort sehr gut aufgehoben und fühlst sich dort wohl. Aber wenn linke das erfahren dann wird sie regelmäßig beschimpft. zum Beispiel auch als dummer Affe also sie werden quasi richtig sauer auf sie keine Ahnung warum vielleicht weil sie sie nicht mehr benutzen können für ihre linksgrüne Antirassismus Agenda keine Ahnung aber ich weiß 1 die Linken die Kennen sich so gut Aus mit Moral besonders mit der DOPPELMORAL.  \n"
     ]
    }
   ],
   "source": [
    "\n",
    "#I am taking video_description, suggested_words and german_transcript from the video object. \n",
    "#if df is my dataframe, than: \n",
    "#example = [str(df[\"video_description\"][a]) + \" \" +  str(df[\"suggested_words\"][a]) +\" \" +  str(df[\"german_transcript\"][a])\n",
    "#    for a in range(0,1)]\n",
    "\n",
    "example=\"Ganzes Interview auf X (@AfD). #fyp adf / afd frauen / afd abschiebungs kalender also mit dieser Mitgliedschaft bei der AfD. Sie nennt zum Beispiel die AfD ihr safepace und meint oder fühlst sich dort sehr gut aufgehoben und fühlst sich dort wohl. Aber wenn linke das erfahren dann wird sie regelmäßig beschimpft. zum Beispiel auch als dummer Affe also sie werden quasi richtig sauer auf sie keine Ahnung warum vielleicht weil sie sie nicht mehr benutzen können für ihre linksgrüne Antirassismus Agenda keine Ahnung aber ich weiß 1 die Linken die Kennen sich so gut Aus mit Moral besonders mit der DOPPELMORAL.  \"\n",
    "print(example)"
   ]
  },
  {
   "cell_type": "code",
   "execution_count": 7,
   "id": "d9bed669-905f-4ff4-b9d1-d8b55e4926ec",
   "metadata": {},
   "outputs": [
    {
     "data": {
      "text/plain": [
       "'right'"
      ]
     },
     "execution_count": 7,
     "metadata": {},
     "output_type": "execute_result"
    }
   ],
   "source": [
    "right_classifier = Classifier(classifier_path=\"data/classifier/\")\n",
    "right_classifier.right_wing_classifier(example, embeddings_client)"
   ]
  }
 ],
 "metadata": {
  "kernelspec": {
   "display_name": "Python 3 (ipykernel)",
   "language": "python",
   "name": "python3"
  },
  "language_info": {
   "codemirror_mode": {
    "name": "ipython",
    "version": 3
   },
   "file_extension": ".py",
   "mimetype": "text/x-python",
   "name": "python",
   "nbconvert_exporter": "python",
   "pygments_lexer": "ipython3",
   "version": "3.10.11"
  }
 },
 "nbformat": 4,
 "nbformat_minor": 5
}
