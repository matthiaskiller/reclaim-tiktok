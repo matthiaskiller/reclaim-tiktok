{
 "cells": [
  {
   "cell_type": "code",
   "execution_count": 450,
   "metadata": {},
   "outputs": [
    {
     "name": "stdout",
     "output_type": "stream",
     "text": [
      "The autoreload extension is already loaded. To reload it, use:\n",
      "  %reload_ext autoreload\n"
     ]
    }
   ],
   "source": [
    "import os\n",
    "\n",
    "from sklearn.cluster import HDBSCAN\n",
    "import pandas as pd\n",
    "import numpy as np\n",
    "from sklearn.cluster import KMeans\n",
    "from sklearn.manifold import TSNE\n",
    "import matplotlib.pyplot as plt\n",
    "from sklearn.metrics.pairwise import cosine_similarity\n",
    "import textwrap\n",
    "\n",
    "from langchain_core.messages import SystemMessage\n",
    "from langchain_core.prompts import (\n",
    "    HumanMessagePromptTemplate,\n",
    "    SystemMessagePromptTemplate,\n",
    "    ChatPromptTemplate\n",
    ")\n",
    "\n",
    "# Import Azure OpenAI\n",
    "from langchain_openai import AzureOpenAIEmbeddings\n",
    "from langchain_openai import AzureChatOpenAI\n",
    "\n",
    "\n",
    "\n",
    "from dotenv import load_dotenv\n",
    "\n",
    "from collections import Counter\n",
    "\n",
    "from reclaim_tiktok.transcriber.db_connector import DBConnector\n",
    "from reclaim_tiktok.classifier.classifier import Classifier\n",
    "\n",
    "%load_ext autoreload\n",
    "%autoreload 2"
   ]
  },
  {
   "cell_type": "code",
   "execution_count": 481,
   "metadata": {},
   "outputs": [
    {
     "name": "stdout",
     "output_type": "stream",
     "text": [
      "True\n"
     ]
    },
    {
     "data": {
      "text/plain": [
       "True"
      ]
     },
     "execution_count": 481,
     "metadata": {},
     "output_type": "execute_result"
    }
   ],
   "source": [
    "result = load_dotenv()\n",
    "print(result)  # This should print True if the file is loaded successfully\n",
    "# load dot env from .env file\n",
    "load_dotenv(override=True)"
   ]
  },
  {
   "cell_type": "code",
   "execution_count": null,
   "metadata": {},
   "outputs": [],
   "source": [
    "# get env variables\n",
    "os.environ.get(\"AZURE_OPENAI_API_KEY\")"
   ]
  },
  {
   "cell_type": "code",
   "execution_count": 475,
   "metadata": {},
   "outputs": [],
   "source": [
    "embeddings_client = AzureOpenAIEmbeddings(\n",
    "    azure_deployment=\"text-embedding-3-small-eastus\",\n",
    "    openai_api_version=\"2024-02-01\",\n",
    ")\n",
    "\n",
    "llm_client = AzureChatOpenAI(\n",
    "    openai_api_version=\"2024-02-01\",\n",
    "    azure_deployment=\"gpt-35-turbo-16k\",\n",
    ")"
   ]
  },
  {
   "cell_type": "markdown",
   "metadata": {},
   "source": [
    "## Get data and embed"
   ]
  },
  {
   "cell_type": "code",
   "execution_count": 219,
   "metadata": {},
   "outputs": [],
   "source": [
    "db_connector = DBConnector()"
   ]
  },
  {
   "cell_type": "code",
   "execution_count": 220,
   "metadata": {},
   "outputs": [],
   "source": [
    "rows = db_connector.get_videos_with_german_transcription_with_core_message()"
   ]
  },
  {
   "cell_type": "code",
   "execution_count": 221,
   "metadata": {},
   "outputs": [
    {
     "data": {
      "text/plain": [
       "6857"
      ]
     },
     "execution_count": 221,
     "metadata": {},
     "output_type": "execute_result"
    }
   ],
   "source": [
    "len(rows)"
   ]
  },
  {
   "cell_type": "code",
   "execution_count": null,
   "metadata": {},
   "outputs": [],
   "source": [
    "print(rows[0])"
   ]
  },
  {
   "cell_type": "code",
   "execution_count": 250,
   "metadata": {},
   "outputs": [],
   "source": [
    "\n",
    "# we have a list of pyodbc.Row objects  - hence we need to access the columns by index\n",
    "# idx=8 is description, idx=11 is suggested words, idx=14 is german transcript\n",
    "\n",
    "docs_classifier = [\n",
    "    str(row[8]) + \"\\n\\n\" + str(row[11]) + \"\\n\\n\" + str(row[14]) for row in rows\n",
    "]\n"
   ]
  },
  {
   "cell_type": "code",
   "execution_count": 223,
   "metadata": {},
   "outputs": [
    {
     "data": {
      "text/plain": [
       "6857"
      ]
     },
     "execution_count": 223,
     "metadata": {},
     "output_type": "execute_result"
    }
   ],
   "source": [
    "len(docs_classifier)"
   ]
  },
  {
   "cell_type": "code",
   "execution_count": 224,
   "metadata": {},
   "outputs": [
    {
     "data": {
      "text/plain": [
       "str"
      ]
     },
     "execution_count": 224,
     "metadata": {},
     "output_type": "execute_result"
    }
   ],
   "source": [
    "type(docs_classifier[0])"
   ]
  },
  {
   "cell_type": "code",
   "execution_count": 225,
   "metadata": {},
   "outputs": [
    {
     "data": {
      "text/plain": [
       "6857"
      ]
     },
     "execution_count": 225,
     "metadata": {},
     "output_type": "execute_result"
    }
   ],
   "source": [
    "len(rows)"
   ]
  },
  {
   "cell_type": "code",
   "execution_count": 226,
   "metadata": {},
   "outputs": [],
   "source": [
    "embeddedings_desc_hashtags_transcripts = []"
   ]
  },
  {
   "cell_type": "code",
   "execution_count": 235,
   "metadata": {},
   "outputs": [
    {
     "data": {
      "text/plain": [
       "2000"
      ]
     },
     "execution_count": 235,
     "metadata": {},
     "output_type": "execute_result"
    }
   ],
   "source": [
    "len(embeddedings_desc_hashtags_transcripts)"
   ]
  },
  {
   "cell_type": "code",
   "execution_count": 236,
   "metadata": {},
   "outputs": [],
   "source": [
    "docs_classifier_ar = docs_classifier"
   ]
  },
  {
   "cell_type": "code",
   "execution_count": 241,
   "metadata": {},
   "outputs": [
    {
     "data": {
      "text/plain": [
       "1000"
      ]
     },
     "execution_count": 241,
     "metadata": {},
     "output_type": "execute_result"
    }
   ],
   "source": [
    "docs_classifier_ar = docs_classifier_ar[1000:]\n",
    "len(docs_classifier)"
   ]
  },
  {
   "cell_type": "code",
   "execution_count": 239,
   "metadata": {},
   "outputs": [
    {
     "data": {
      "text/plain": [
       "2000"
      ]
     },
     "execution_count": 239,
     "metadata": {},
     "output_type": "execute_result"
    }
   ],
   "source": [
    "len(embeddedings_desc_hashtags_transcripts)"
   ]
  },
  {
   "cell_type": "code",
   "execution_count": 243,
   "metadata": {},
   "outputs": [],
   "source": [
    "docs_classifier = docs_classifier_ar"
   ]
  },
  {
   "cell_type": "code",
   "execution_count": 244,
   "metadata": {},
   "outputs": [
    {
     "name": "stdout",
     "output_type": "stream",
     "text": [
      "0\n",
      "500\n",
      "1000\n",
      "1500\n",
      "2000\n",
      "2500\n",
      "3000\n",
      "3500\n",
      "4000\n",
      "4500\n"
     ]
    }
   ],
   "source": [
    "# loop over chunks of the documents list for robustness and to avoid api errors.\n",
    "import time\n",
    "\n",
    "for i in range(0, len(docs_classifier), 500):\n",
    "    print(i)\n",
    "    embeddings = embeddings_client.embed_documents(docs_classifier[i : i + 500])\n",
    "    embeddedings_desc_hashtags_transcripts.extend(embeddings)\n",
    "    # sleep for 1 minute to avoid api rate limits\n",
    "    time.sleep(65)\n"
   ]
  },
  {
   "cell_type": "code",
   "execution_count": 245,
   "metadata": {},
   "outputs": [
    {
     "data": {
      "text/plain": [
       "6857"
      ]
     },
     "execution_count": 245,
     "metadata": {},
     "output_type": "execute_result"
    }
   ],
   "source": [
    "len(embeddedings_desc_hashtags_transcripts)\n"
   ]
  },
  {
   "cell_type": "code",
   "execution_count": 246,
   "metadata": {},
   "outputs": [],
   "source": [
    "# convert to numpy array\n",
    "embeddedings_desc_hashtags_transcripts = np.array(embeddedings_desc_hashtags_transcripts)"
   ]
  },
  {
   "cell_type": "code",
   "execution_count": 247,
   "metadata": {},
   "outputs": [
    {
     "name": "stdout",
     "output_type": "stream",
     "text": [
      "shape (video_ids) (6857,)\n",
      "shape (embeddedings_desc_hashtags_transcripts) (6857, 1536)\n"
     ]
    }
   ],
   "source": [
    "# add the video ids from row[0] to the array to be able to map embeddings to video ids\n",
    "video_ids = [row[0] for row in rows]\n",
    "video_ids=np.array(video_ids)\n",
    "print(\"shape (video_ids)\", video_ids.shape)\n",
    "print(\"shape (embeddedings_desc_hashtags_transcripts)\", embeddedings_desc_hashtags_transcripts.shape)\n",
    "\n",
    "# stack the video ids and the embeddings to be able to map them later\n",
    "embeddings_to_save = np.column_stack((video_ids, embeddedings_desc_hashtags_transcripts)) \n",
    "np.save(\"../../data/embeddings/video_string_desc_hashtags_transcripts.npy\", embeddings_to_save)\n",
    "\n",
    "\n",
    "#np.save(path_csv+\"/clustering/tiktok_videos_based_on_hashtags_cleaned_transcribed_classifier.npy\", embeddings_classifier)\n",
    "#embeddings_classifier=np.load(\"../../data/clustering/tiktok_videos_based_on_hashtags_cleaned_transcribed_classifier.npy\")"
   ]
  },
  {
   "cell_type": "code",
   "execution_count": 248,
   "metadata": {},
   "outputs": [
    {
     "data": {
      "text/plain": [
       "(6857, 1536)"
      ]
     },
     "execution_count": 248,
     "metadata": {},
     "output_type": "execute_result"
    }
   ],
   "source": [
    "embeddedings_desc_hashtags_transcripts.shape"
   ]
  },
  {
   "cell_type": "markdown",
   "metadata": {},
   "source": [
    "## Clean the data"
   ]
  },
  {
   "cell_type": "markdown",
   "metadata": {},
   "source": [
    "Take only those classified right"
   ]
  },
  {
   "cell_type": "code",
   "execution_count": 251,
   "metadata": {},
   "outputs": [
    {
     "name": "stdout",
     "output_type": "stream",
     "text": [
      "6373\n"
     ]
    }
   ],
   "source": [
    "right_classifier = Classifier(classifier_path=\"../../data/classifier/\")\n",
    "result= right_classifier.right_wing_classifier_f_embeddings(docs_classifier, embeddedings_desc_hashtags_transcripts, embeddings_client)\n",
    "condition=result==\"right\"\n",
    "# print number of True in the condition array\n",
    "print(np.sum(condition))"
   ]
  },
  {
   "cell_type": "code",
   "execution_count": null,
   "metadata": {},
   "outputs": [],
   "source": []
  },
  {
   "cell_type": "code",
   "execution_count": 252,
   "metadata": {},
   "outputs": [
    {
     "data": {
      "text/plain": [
       "6373"
      ]
     },
     "execution_count": 252,
     "metadata": {},
     "output_type": "execute_result"
    }
   ],
   "source": [
    "\n",
    "#df_clean=df[:][condition]\n",
    "# now only keep rows where the classifier is right but not on df but in the original rows (list of pyodbc.Row objects)\n",
    "rows_clean=[row for row, cond in zip(rows, condition) if cond]\n",
    "len(rows_clean)\n",
    " "
   ]
  },
  {
   "cell_type": "markdown",
   "metadata": {},
   "source": [
    "Filter out the videos with the same text/audio "
   ]
  },
  {
   "cell_type": "code",
   "execution_count": 253,
   "metadata": {},
   "outputs": [],
   "source": [
    "transcripts_clean = [\n",
    "    str(row[14]) for row in rows_clean\n",
    "]"
   ]
  },
  {
   "cell_type": "code",
   "execution_count": null,
   "metadata": {},
   "outputs": [],
   "source": [
    "transcripts_clean"
   ]
  },
  {
   "cell_type": "code",
   "execution_count": 255,
   "metadata": {},
   "outputs": [],
   "source": [
    "embeddings_transcripts_clean = []"
   ]
  },
  {
   "cell_type": "code",
   "execution_count": 256,
   "metadata": {},
   "outputs": [
    {
     "name": "stdout",
     "output_type": "stream",
     "text": [
      "0\n",
      "500\n",
      "1000\n",
      "1500\n",
      "2000\n",
      "2500\n",
      "3000\n",
      "3500\n",
      "4000\n",
      "4500\n",
      "5000\n",
      "5500\n",
      "6000\n"
     ]
    }
   ],
   "source": [
    "#embeddings_transcripts_clean = embeddings_client.embed_documents(np.array(transcripts_clean))\n",
    "# make in chunks to avoid api errors\n",
    "for i in range(0, len(transcripts_clean), 500):\n",
    "    print(i)\n",
    "    embeddings = embeddings_client.embed_documents(transcripts_clean[i : i + 500])\n",
    "    embeddings_transcripts_clean.extend(embeddings)\n",
    "    # sleep for 1 minute to avoid api rate limits\n",
    "    time.sleep(65)"
   ]
  },
  {
   "cell_type": "code",
   "execution_count": 257,
   "metadata": {},
   "outputs": [
    {
     "data": {
      "text/plain": [
       "6373"
      ]
     },
     "execution_count": 257,
     "metadata": {},
     "output_type": "execute_result"
    }
   ],
   "source": [
    "len(embeddings_transcripts_clean)"
   ]
  },
  {
   "cell_type": "code",
   "execution_count": 258,
   "metadata": {},
   "outputs": [],
   "source": [
    "# Calculate cosine similarity between embeddings\n",
    "similarities = cosine_similarity(embeddings_transcripts_clean)\n",
    "\n",
    "# Keep track of videos to remove\n",
    "videos_to_remove = set()\n",
    "\n",
    "# Iterate through the upper triangular part of the similarity matrix\n",
    "all_similar=[]\n",
    "for i in range(len(similarities)):\n",
    "    similar_videos = np.where((similarities[i] > 0.95))[0]\n",
    "    if len(similar_videos) > 1:\n",
    "        all_similar.append(list(similar_videos))\n",
    "        # If there are similar videos, keep the one with the smallest index\n",
    "        keep_video = min(similar_videos)\n",
    "        videos_to_remove.update(set(similar_videos) - {keep_video})"
   ]
  },
  {
   "cell_type": "code",
   "execution_count": 260,
   "metadata": {},
   "outputs": [
    {
     "data": {
      "text/plain": [
       "488"
      ]
     },
     "execution_count": 260,
     "metadata": {},
     "output_type": "execute_result"
    }
   ],
   "source": [
    "len(videos_to_remove)"
   ]
  },
  {
   "cell_type": "code",
   "execution_count": 261,
   "metadata": {},
   "outputs": [],
   "source": [
    "# save all video ids which need to be extracted from the original rows_clean list which are similar videos to a .csv file\n",
    "video_ids_clean = [row[0] for row in rows_clean]\n",
    "video_ids_all_similiar = [video_ids_clean[i] for i in videos_to_remove]\n",
    "df = pd.DataFrame(video_ids_all_similiar, columns=[\"video_id\"])\n",
    "df.to_csv(\"../../data/clustering/similar_videos.csv\", index=False)"
   ]
  },
  {
   "cell_type": "markdown",
   "metadata": {},
   "source": [
    "Remove videos from rows_clean and embeddings_transcripts_clean"
   ]
  },
  {
   "cell_type": "code",
   "execution_count": 262,
   "metadata": {},
   "outputs": [],
   "source": [
    "# remove the similar videos from the rows_clean list\n",
    "rows_clean = [row for i, row in enumerate(rows_clean) if i not in videos_to_remove]\n",
    "\n",
    "# remove the similar video emebedding from embeddings_transcripts_clean\n",
    "embeddings_transcripts_clean = np.delete(embeddings_transcripts_clean, list(videos_to_remove), axis=0)"
   ]
  },
  {
   "cell_type": "markdown",
   "metadata": {},
   "source": [
    "Display three videos which are most popular"
   ]
  },
  {
   "cell_type": "code",
   "execution_count": 263,
   "metadata": {},
   "outputs": [
    {
     "data": {
      "text/plain": [
       "598112"
      ]
     },
     "execution_count": 263,
     "metadata": {},
     "output_type": "execute_result"
    }
   ],
   "source": [
    "rows[0][7]"
   ]
  },
  {
   "cell_type": "markdown",
   "metadata": {},
   "source": [
    "### Display"
   ]
  },
  {
   "cell_type": "code",
   "execution_count": 96,
   "metadata": {},
   "outputs": [
    {
     "ename": "IndexError",
     "evalue": "index 53 is out of bounds for axis 0 with size 20",
     "output_type": "error",
     "traceback": [
      "\u001b[0;31m---------------------------------------------------------------------------\u001b[0m",
      "\u001b[0;31mIndexError\u001b[0m                                Traceback (most recent call last)",
      "Cell \u001b[0;32mIn[96], line 18\u001b[0m\n\u001b[1;32m     15\u001b[0m all_similar_unique_entries \u001b[38;5;241m=\u001b[39m \u001b[38;5;28msorted\u001b[39m([\u001b[38;5;28mlist\u001b[39m(entry) \u001b[38;5;28;01mfor\u001b[39;00m entry \u001b[38;5;129;01min\u001b[39;00m all_similar])\n\u001b[1;32m     17\u001b[0m unique_entries_merged\u001b[38;5;241m=\u001b[39mmerge_lists(all_similar_unique_entries)\n\u001b[0;32m---> 18\u001b[0m transcript_list\u001b[38;5;241m=\u001b[39m[np\u001b[38;5;241m.\u001b[39marray(rows_clean[\u001b[38;5;241m14\u001b[39m])[li_sim[\u001b[38;5;241m0\u001b[39m]] \u001b[38;5;28;01mfor\u001b[39;00m li_sim \u001b[38;5;129;01min\u001b[39;00m unique_entries_merged]\n\u001b[1;32m     19\u001b[0m playcount_list\u001b[38;5;241m=\u001b[39m[ np\u001b[38;5;241m.\u001b[39marray(rows_clean[\u001b[38;5;241m7\u001b[39m])[li_sim] \u001b[38;5;28;01mfor\u001b[39;00m li_sim \u001b[38;5;129;01min\u001b[39;00m unique_entries_merged]\n\u001b[1;32m     20\u001b[0m playcount_list_sum\u001b[38;5;241m=\u001b[39m[ \u001b[38;5;28msum\u001b[39m(np\u001b[38;5;241m.\u001b[39marray(rows_clean[\u001b[38;5;241m7\u001b[39m])[li_sim]) \u001b[38;5;28;01mfor\u001b[39;00m li_sim \u001b[38;5;129;01min\u001b[39;00m unique_entries_merged]\n",
      "Cell \u001b[0;32mIn[96], line 18\u001b[0m, in \u001b[0;36m<listcomp>\u001b[0;34m(.0)\u001b[0m\n\u001b[1;32m     15\u001b[0m all_similar_unique_entries \u001b[38;5;241m=\u001b[39m \u001b[38;5;28msorted\u001b[39m([\u001b[38;5;28mlist\u001b[39m(entry) \u001b[38;5;28;01mfor\u001b[39;00m entry \u001b[38;5;129;01min\u001b[39;00m all_similar])\n\u001b[1;32m     17\u001b[0m unique_entries_merged\u001b[38;5;241m=\u001b[39mmerge_lists(all_similar_unique_entries)\n\u001b[0;32m---> 18\u001b[0m transcript_list\u001b[38;5;241m=\u001b[39m[\u001b[43mnp\u001b[49m\u001b[38;5;241;43m.\u001b[39;49m\u001b[43marray\u001b[49m\u001b[43m(\u001b[49m\u001b[43mrows_clean\u001b[49m\u001b[43m[\u001b[49m\u001b[38;5;241;43m14\u001b[39;49m\u001b[43m]\u001b[49m\u001b[43m)\u001b[49m\u001b[43m[\u001b[49m\u001b[43mli_sim\u001b[49m\u001b[43m[\u001b[49m\u001b[38;5;241;43m0\u001b[39;49m\u001b[43m]\u001b[49m\u001b[43m]\u001b[49m \u001b[38;5;28;01mfor\u001b[39;00m li_sim \u001b[38;5;129;01min\u001b[39;00m unique_entries_merged]\n\u001b[1;32m     19\u001b[0m playcount_list\u001b[38;5;241m=\u001b[39m[ np\u001b[38;5;241m.\u001b[39marray(rows_clean[\u001b[38;5;241m7\u001b[39m])[li_sim] \u001b[38;5;28;01mfor\u001b[39;00m li_sim \u001b[38;5;129;01min\u001b[39;00m unique_entries_merged]\n\u001b[1;32m     20\u001b[0m playcount_list_sum\u001b[38;5;241m=\u001b[39m[ \u001b[38;5;28msum\u001b[39m(np\u001b[38;5;241m.\u001b[39marray(rows_clean[\u001b[38;5;241m7\u001b[39m])[li_sim]) \u001b[38;5;28;01mfor\u001b[39;00m li_sim \u001b[38;5;129;01min\u001b[39;00m unique_entries_merged]\n",
      "\u001b[0;31mIndexError\u001b[0m: index 53 is out of bounds for axis 0 with size 20"
     ]
    }
   ],
   "source": [
    "def merge_lists(lists):\n",
    "    result = []\n",
    "    for l in lists:\n",
    "        new_set = set(l)\n",
    "        found = False\n",
    "        for i in range(len(result)):\n",
    "            if new_set & result[i]:\n",
    "                result[i] |= new_set\n",
    "                found = True\n",
    "                break\n",
    "        if not found:\n",
    "            result.append(new_set)\n",
    "    return [list(s) for s in result]\n",
    "\n",
    "all_similar_unique_entries = sorted([list(entry) for entry in all_similar])\n",
    "\n",
    "unique_entries_merged=merge_lists(all_similar_unique_entries)\n",
    "transcript_list=[np.array(rows_clean[14])[li_sim[0]] for li_sim in unique_entries_merged]\n",
    "playcount_list=[ np.array(rows_clean[7])[li_sim] for li_sim in unique_entries_merged]\n",
    "playcount_list_sum=[ sum(np.array(rows_clean[7])[li_sim]) for li_sim in unique_entries_merged]\n",
    "most_popular_vid=[np.array(rows_clean[0])[li_sim] for li_sim in unique_entries_merged]\n",
    "\n",
    "for ncount in range(1,4):\n",
    "    most_popular_narr=np.argsort(playcount_list_sum)[-ncount]\n",
    "    most_popular_video=np.argmax(playcount_list[most_popular_narr])\n",
    "    print(str(ncount) +\". popular viral audio\")\n",
    "    print(transcript_list[most_popular_narr])\n",
    "    print(str(playcount_list_sum[most_popular_narr]) +\" views\")\n",
    "    print(\"Example video \"+ str(most_popular_vid[most_popular_narr][most_popular_video]) + \" with a reach of \" + str(playcount_list[most_popular_narr][most_popular_video]))\n",
    "    print(\"\\n\")"
   ]
  },
  {
   "cell_type": "markdown",
   "metadata": {},
   "source": [
    "## Get core messages for classified Videos from db"
   ]
  },
  {
   "cell_type": "markdown",
   "metadata": {},
   "source": [
    "Create a new df with every line for unique core message"
   ]
  },
  {
   "cell_type": "code",
   "execution_count": 566,
   "metadata": {},
   "outputs": [],
   "source": [
    "# load rows into dataframe with columns video_id [0], core_message [-1]\n",
    "df_clean_double = pd.DataFrame(columns=[\"video_id\", \"core_message\"])"
   ]
  },
  {
   "cell_type": "code",
   "execution_count": 567,
   "metadata": {},
   "outputs": [
    {
     "data": {
      "text/html": [
       "<div>\n",
       "<style scoped>\n",
       "    .dataframe tbody tr th:only-of-type {\n",
       "        vertical-align: middle;\n",
       "    }\n",
       "\n",
       "    .dataframe tbody tr th {\n",
       "        vertical-align: top;\n",
       "    }\n",
       "\n",
       "    .dataframe thead th {\n",
       "        text-align: right;\n",
       "    }\n",
       "</style>\n",
       "<table border=\"1\" class=\"dataframe\">\n",
       "  <thead>\n",
       "    <tr style=\"text-align: right;\">\n",
       "      <th></th>\n",
       "      <th>video_id</th>\n",
       "      <th>core_message</th>\n",
       "    </tr>\n",
       "  </thead>\n",
       "  <tbody>\n",
       "    <tr>\n",
       "      <th>0</th>\n",
       "      <td>7004454022123932933</td>\n",
       "      <td>doch ich kann Ihnen sagen Burkas Kopftuchmädch...</td>\n",
       "    </tr>\n",
       "    <tr>\n",
       "      <th>1</th>\n",
       "      <td>7005858788343319813</td>\n",
       "      <td>Mach so bisschen Übergang deine Haare kürzer d...</td>\n",
       "    </tr>\n",
       "    <tr>\n",
       "      <th>2</th>\n",
       "      <td>7010413677136350469</td>\n",
       "      <td>Überbietungswettbewerb der Bundesländer bei C...</td>\n",
       "    </tr>\n",
       "    <tr>\n",
       "      <th>3</th>\n",
       "      <td>7013744740579511558</td>\n",
       "      <td>wir können gerne jetzt wieder den Ton anmachen...</td>\n",
       "    </tr>\n",
       "    <tr>\n",
       "      <th>4</th>\n",
       "      <td>7040421798785125638</td>\n",
       "      <td>Kritik an ungeimpftem Personal in der Pflege;...</td>\n",
       "    </tr>\n",
       "  </tbody>\n",
       "</table>\n",
       "</div>"
      ],
      "text/plain": [
       "              video_id                                       core_message\n",
       "0  7004454022123932933  doch ich kann Ihnen sagen Burkas Kopftuchmädch...\n",
       "1  7005858788343319813  Mach so bisschen Übergang deine Haare kürzer d...\n",
       "2  7010413677136350469   Überbietungswettbewerb der Bundesländer bei C...\n",
       "3  7013744740579511558  wir können gerne jetzt wieder den Ton anmachen...\n",
       "4  7040421798785125638   Kritik an ungeimpftem Personal in der Pflege;..."
      ]
     },
     "execution_count": 567,
     "metadata": {},
     "output_type": "execute_result"
    }
   ],
   "source": [
    "df_clean_double[\"video_id\"] = [row[0] for row in rows_clean]\n",
    "df_clean_double[\"core_message\"] = [row[-1] for row in rows_clean]\n",
    "df_clean_double.head()\n",
    "#len(df_clean_double)"
   ]
  },
  {
   "cell_type": "code",
   "execution_count": 568,
   "metadata": {},
   "outputs": [
    {
     "data": {
      "text/plain": [
       "0"
      ]
     },
     "execution_count": 568,
     "metadata": {},
     "output_type": "execute_result"
    }
   ],
   "source": [
    "# get empty core messages\n",
    "empty_core_messages = df_clean_double[df_clean_double[\"core_message\"] == \"\"]    \n",
    "len(empty_core_messages)"
   ]
  },
  {
   "cell_type": "code",
   "execution_count": null,
   "metadata": {},
   "outputs": [],
   "source": [
    "# filter for core messages which are longer than 800 characters\n",
    "df_clean_double_long = df_clean_double[df_clean_double[\"core_message\"].apply(len) > 800]\n",
    "print(len(df_clean_double_long))\n",
    "#print len of core messages\n",
    "for i in range(0, len(df_clean_double_long)):\n",
    "    print(len(df_clean_double_long[\"core_message\"].iloc[i]))\n",
    "    print(df_clean_double_long[\"core_message\"].iloc[i])"
   ]
  },
  {
   "cell_type": "code",
   "execution_count": 569,
   "metadata": {},
   "outputs": [],
   "source": [
    "\n",
    "# Remove unwanted values from core_message and split by ';'\n",
    "df_clean_double['core_message'] = df_clean_double['core_message'].str.split(';')\n",
    "\n",
    "# Explode the core_message column to create a new DataFrame df_cm\n",
    "df_cm= df_clean_double.explode('core_message')\n",
    "\n",
    "# remove empty core messages\n",
    "# Reset index to ensure consecutive integers are used\n",
    "df_cm.reset_index(drop=True, inplace=True)"
   ]
  },
  {
   "cell_type": "code",
   "execution_count": 570,
   "metadata": {},
   "outputs": [
    {
     "data": {
      "text/html": [
       "<div>\n",
       "<style scoped>\n",
       "    .dataframe tbody tr th:only-of-type {\n",
       "        vertical-align: middle;\n",
       "    }\n",
       "\n",
       "    .dataframe tbody tr th {\n",
       "        vertical-align: top;\n",
       "    }\n",
       "\n",
       "    .dataframe thead th {\n",
       "        text-align: right;\n",
       "    }\n",
       "</style>\n",
       "<table border=\"1\" class=\"dataframe\">\n",
       "  <thead>\n",
       "    <tr style=\"text-align: right;\">\n",
       "      <th></th>\n",
       "      <th>video_id</th>\n",
       "      <th>core_message</th>\n",
       "    </tr>\n",
       "  </thead>\n",
       "  <tbody>\n",
       "    <tr>\n",
       "      <th>0</th>\n",
       "      <td>7004454022123932933</td>\n",
       "      <td>doch ich kann Ihnen sagen Burkas Kopftuchmädch...</td>\n",
       "    </tr>\n",
       "    <tr>\n",
       "      <th>1</th>\n",
       "      <td>7005858788343319813</td>\n",
       "      <td>Mach so bisschen Übergang deine Haare kürzer d...</td>\n",
       "    </tr>\n",
       "    <tr>\n",
       "      <th>2</th>\n",
       "      <td>7010413677136350469</td>\n",
       "      <td>Überbietungswettbewerb der Bundesländer bei C...</td>\n",
       "    </tr>\n",
       "    <tr>\n",
       "      <th>3</th>\n",
       "      <td>7010413677136350469</td>\n",
       "      <td>Kritik an der 2G-Regelung in Baden-Württemberg</td>\n",
       "    </tr>\n",
       "    <tr>\n",
       "      <th>4</th>\n",
       "      <td>7010413677136350469</td>\n",
       "      <td>Staatliche Maßnahmen verstoßen gegen das Grun...</td>\n",
       "    </tr>\n",
       "  </tbody>\n",
       "</table>\n",
       "</div>"
      ],
      "text/plain": [
       "              video_id                                       core_message\n",
       "0  7004454022123932933  doch ich kann Ihnen sagen Burkas Kopftuchmädch...\n",
       "1  7005858788343319813  Mach so bisschen Übergang deine Haare kürzer d...\n",
       "2  7010413677136350469   Überbietungswettbewerb der Bundesländer bei C...\n",
       "3  7010413677136350469     Kritik an der 2G-Regelung in Baden-Württemberg\n",
       "4  7010413677136350469   Staatliche Maßnahmen verstoßen gegen das Grun..."
      ]
     },
     "execution_count": 570,
     "metadata": {},
     "output_type": "execute_result"
    }
   ],
   "source": [
    "df_cm.head()"
   ]
  },
  {
   "cell_type": "code",
   "execution_count": 573,
   "metadata": {},
   "outputs": [
    {
     "name": "stdout",
     "output_type": "stream",
     "text": [
      "1050\n"
     ]
    }
   ],
   "source": [
    "# get empty core messages\n",
    "empty_core_messages_i = df_cm[df_cm[\"core_message\"] == \"\"]\n",
    "empty_core_messages_ii = df_cm[df_cm[\"core_message\"] == \" \"]\n",
    "print(len(empty_core_messages_i) + len(empty_core_messages_ii))"
   ]
  },
  {
   "cell_type": "code",
   "execution_count": 574,
   "metadata": {},
   "outputs": [
    {
     "data": {
      "text/plain": [
       "14176"
      ]
     },
     "execution_count": 574,
     "metadata": {},
     "output_type": "execute_result"
    }
   ],
   "source": [
    "len(df_cm)"
   ]
  },
  {
   "cell_type": "code",
   "execution_count": 575,
   "metadata": {},
   "outputs": [
    {
     "data": {
      "text/html": [
       "<div>\n",
       "<style scoped>\n",
       "    .dataframe tbody tr th:only-of-type {\n",
       "        vertical-align: middle;\n",
       "    }\n",
       "\n",
       "    .dataframe tbody tr th {\n",
       "        vertical-align: top;\n",
       "    }\n",
       "\n",
       "    .dataframe thead th {\n",
       "        text-align: right;\n",
       "    }\n",
       "</style>\n",
       "<table border=\"1\" class=\"dataframe\">\n",
       "  <thead>\n",
       "    <tr style=\"text-align: right;\">\n",
       "      <th></th>\n",
       "      <th>video_id</th>\n",
       "      <th>core_message</th>\n",
       "    </tr>\n",
       "  </thead>\n",
       "  <tbody>\n",
       "    <tr>\n",
       "      <th>0</th>\n",
       "      <td>7004454022123932933</td>\n",
       "      <td>doch ich kann Ihnen sagen Burkas Kopftuchmädch...</td>\n",
       "    </tr>\n",
       "    <tr>\n",
       "      <th>1</th>\n",
       "      <td>7005858788343319813</td>\n",
       "      <td>Mach so bisschen Übergang deine Haare kürzer d...</td>\n",
       "    </tr>\n",
       "    <tr>\n",
       "      <th>2</th>\n",
       "      <td>7010413677136350469</td>\n",
       "      <td>Überbietungswettbewerb der Bundesländer bei C...</td>\n",
       "    </tr>\n",
       "    <tr>\n",
       "      <th>3</th>\n",
       "      <td>7010413677136350469</td>\n",
       "      <td>Kritik an der 2G-Regelung in Baden-Württemberg</td>\n",
       "    </tr>\n",
       "    <tr>\n",
       "      <th>4</th>\n",
       "      <td>7010413677136350469</td>\n",
       "      <td>Staatliche Maßnahmen verstoßen gegen das Grun...</td>\n",
       "    </tr>\n",
       "  </tbody>\n",
       "</table>\n",
       "</div>"
      ],
      "text/plain": [
       "              video_id                                       core_message\n",
       "0  7004454022123932933  doch ich kann Ihnen sagen Burkas Kopftuchmädch...\n",
       "1  7005858788343319813  Mach so bisschen Übergang deine Haare kürzer d...\n",
       "2  7010413677136350469   Überbietungswettbewerb der Bundesländer bei C...\n",
       "3  7010413677136350469     Kritik an der 2G-Regelung in Baden-Württemberg\n",
       "4  7010413677136350469   Staatliche Maßnahmen verstoßen gegen das Grun..."
      ]
     },
     "execution_count": 575,
     "metadata": {},
     "output_type": "execute_result"
    }
   ],
   "source": [
    "# remove empty core messages\n",
    "df_cm = df_cm[df_cm[\"core_message\"] != \"\"]\n",
    "df_cm = df_cm[df_cm[\"core_message\"] != \" \"]\n",
    "df_cm.reset_index(drop=True, inplace=True)\n",
    "df_cm.head()"
   ]
  },
  {
   "cell_type": "code",
   "execution_count": 576,
   "metadata": {},
   "outputs": [
    {
     "data": {
      "text/plain": [
       "13126"
      ]
     },
     "execution_count": 576,
     "metadata": {},
     "output_type": "execute_result"
    }
   ],
   "source": [
    "len(df_cm)"
   ]
  },
  {
   "cell_type": "markdown",
   "metadata": {},
   "source": [
    "Generate embeddings per core message"
   ]
  },
  {
   "cell_type": "code",
   "execution_count": 577,
   "metadata": {},
   "outputs": [],
   "source": [
    "# chunk the core messages to avoid api errors\n",
    "embeddings_cm = embeddings_client.embed_documents(df_cm[\"core_message\"])\n",
    "embeddings_cm=np.array(embeddings_cm)"
   ]
  },
  {
   "cell_type": "code",
   "execution_count": 578,
   "metadata": {},
   "outputs": [
    {
     "data": {
      "text/plain": [
       "(13126, 1536)"
      ]
     },
     "execution_count": 578,
     "metadata": {},
     "output_type": "execute_result"
    }
   ],
   "source": [
    "embeddings_cm.shape"
   ]
  },
  {
   "cell_type": "code",
   "execution_count": 579,
   "metadata": {},
   "outputs": [],
   "source": [
    "# add embeddings to the dataframe\n",
    "df_cm[\"embeddings\"]=list(embeddings_cm)\n",
    "\n",
    "# save the dataframe to a .csv file\n",
    "df_cm.to_csv(\"../../data/embeddings/core_message_embeddings.csv\", index=False)"
   ]
  },
  {
   "cell_type": "code",
   "execution_count": 580,
   "metadata": {},
   "outputs": [
    {
     "name": "stdout",
     "output_type": "stream",
     "text": [
      "18.637437147645894\n"
     ]
    }
   ],
   "source": [
    "#print averare number of words of core messages\n",
    "print(np.mean([len(text.split()) for text in df_cm[\"core_message\"]]))"
   ]
  },
  {
   "cell_type": "markdown",
   "metadata": {},
   "source": [
    "# Data clustering"
   ]
  },
  {
   "cell_type": "markdown",
   "metadata": {},
   "source": [
    "## Kmeans"
   ]
  },
  {
   "cell_type": "markdown",
   "metadata": {},
   "source": [
    "Calculate the optimal amount of cluster"
   ]
  },
  {
   "cell_type": "code",
   "execution_count": 305,
   "metadata": {},
   "outputs": [],
   "source": [
    "max_number_of_clusters = 300"
   ]
  },
  {
   "cell_type": "code",
   "execution_count": 300,
   "metadata": {},
   "outputs": [],
   "source": [
    "from sklearn.cluster import KMeans\n",
    "from matplotlib import pyplot as plt\n",
    "\n",
    "distorsions = []\n",
    "for k in range(2, max_number_of_clusters):\n",
    "    kmeans = KMeans(n_clusters=k, init=\"k-means++\")\n",
    "    kmeans.fit(embeddings_cm)\n",
    "    distorsions.append(kmeans.inertia_)"
   ]
  },
  {
   "cell_type": "code",
   "execution_count": 307,
   "metadata": {},
   "outputs": [
    {
     "data": {
      "text/plain": [
       "Text(0.5, 1.0, 'Elbow curve')"
      ]
     },
     "execution_count": 307,
     "metadata": {},
     "output_type": "execute_result"
    },
    {
     "data": {
      "image/png": "[encoded data removed]",
      "text/plain": [
       "<Figure size 1500x500 with 1 Axes>"
      ]
     },
     "metadata": {},
     "output_type": "display_data"
    }
   ],
   "source": [
    "fig = plt.figure(figsize=(15, 5))\n",
    "plt.plot(range(2, max_number_of_clusters), distorsions)\n",
    "plt.grid(True)\n",
    "# only plot each 10th tick on the x-axis\n",
    "plt.xticks(np.arange(2, max_number_of_clusters, 10)) \n",
    "plt.title('Elbow curve')\n",
    "#you should pick the elbow of the curve for the optimal number of clusters"
   ]
  },
  {
   "cell_type": "code",
   "execution_count": 644,
   "metadata": {},
   "outputs": [
    {
     "data": {
      "text/plain": [
       "(13126, 1536)"
      ]
     },
     "execution_count": 644,
     "metadata": {},
     "output_type": "execute_result"
    }
   ],
   "source": [
    "matrix = np.vstack(embeddings_cm)\n",
    "matrix.shape"
   ]
  },
  {
   "cell_type": "code",
   "execution_count": 637,
   "metadata": {},
   "outputs": [],
   "source": [
    "kmeans = KMeans(n_clusters=140, init=\"k-means++\", random_state=42)\n",
    "kmeans.fit(matrix)\n",
    "labels = kmeans.labels_"
   ]
  },
  {
   "cell_type": "code",
   "execution_count": null,
   "metadata": {},
   "outputs": [],
   "source": [
    "Counter(labels)"
   ]
  },
  {
   "cell_type": "markdown",
   "metadata": {},
   "source": [
    "Map to unexisting ids in db"
   ]
  },
  {
   "cell_type": "code",
   "execution_count": 641,
   "metadata": {},
   "outputs": [],
   "source": [
    "# drop cluster column\n",
    "#df_cm.drop(columns=[\"cluster\"], inplace=True, errors=\"ignore\")"
   ]
  },
  {
   "cell_type": "code",
   "execution_count": 642,
   "metadata": {},
   "outputs": [
    {
     "data": {
      "text/html": [
       "<div>\n",
       "<style scoped>\n",
       "    .dataframe tbody tr th:only-of-type {\n",
       "        vertical-align: middle;\n",
       "    }\n",
       "\n",
       "    .dataframe tbody tr th {\n",
       "        vertical-align: top;\n",
       "    }\n",
       "\n",
       "    .dataframe thead th {\n",
       "        text-align: right;\n",
       "    }\n",
       "</style>\n",
       "<table border=\"1\" class=\"dataframe\">\n",
       "  <thead>\n",
       "    <tr style=\"text-align: right;\">\n",
       "      <th></th>\n",
       "      <th>video_id</th>\n",
       "      <th>core_message</th>\n",
       "      <th>embeddings</th>\n",
       "      <th>topic_title</th>\n",
       "    </tr>\n",
       "  </thead>\n",
       "  <tbody>\n",
       "    <tr>\n",
       "      <th>0</th>\n",
       "      <td>7004454022123932933</td>\n",
       "      <td>doch ich kann Ihnen sagen Burkas Kopftuchmädch...</td>\n",
       "      <td>[-0.024773955938654356, 0.030911649386536056, ...</td>\n",
       "      <td>Fokussierung auf nationale Identität, Souverän...</td>\n",
       "    </tr>\n",
       "    <tr>\n",
       "      <th>1</th>\n",
       "      <td>7005858788343319813</td>\n",
       "      <td>Mach so bisschen Übergang deine Haare kürzer d...</td>\n",
       "      <td>[0.02599616419900313, -0.017954683998939024, 0...</td>\n",
       "      <td>Grüne Partei wird durchgehend als inkompetent,...</td>\n",
       "    </tr>\n",
       "    <tr>\n",
       "      <th>2</th>\n",
       "      <td>7010413677136350469</td>\n",
       "      <td>Überbietungswettbewerb der Bundesländer bei C...</td>\n",
       "      <td>[-0.028749052452035188, -0.03657082606005345, ...</td>\n",
       "      <td>Steuergeldverschwendung und finanzielle Fehlen...</td>\n",
       "    </tr>\n",
       "    <tr>\n",
       "      <th>3</th>\n",
       "      <td>7010413677136350469</td>\n",
       "      <td>Kritik an der 2G-Regelung in Baden-Württemberg</td>\n",
       "      <td>[-0.02502290165787953, 0.022745912952092634, -...</td>\n",
       "      <td>Kritik an der deutschen Regierungspolitik, mit...</td>\n",
       "    </tr>\n",
       "    <tr>\n",
       "      <th>4</th>\n",
       "      <td>7010413677136350469</td>\n",
       "      <td>Staatliche Maßnahmen verstoßen gegen das Grun...</td>\n",
       "      <td>[-0.03675452556435304, 0.03118101453676938, 0....</td>\n",
       "      <td>Staatliche Überwachung und Einschränkung der G...</td>\n",
       "    </tr>\n",
       "  </tbody>\n",
       "</table>\n",
       "</div>"
      ],
      "text/plain": [
       "              video_id                                       core_message  \\\n",
       "0  7004454022123932933  doch ich kann Ihnen sagen Burkas Kopftuchmädch...   \n",
       "1  7005858788343319813  Mach so bisschen Übergang deine Haare kürzer d...   \n",
       "2  7010413677136350469   Überbietungswettbewerb der Bundesländer bei C...   \n",
       "3  7010413677136350469     Kritik an der 2G-Regelung in Baden-Württemberg   \n",
       "4  7010413677136350469   Staatliche Maßnahmen verstoßen gegen das Grun...   \n",
       "\n",
       "                                          embeddings  \\\n",
       "0  [-0.024773955938654356, 0.030911649386536056, ...   \n",
       "1  [0.02599616419900313, -0.017954683998939024, 0...   \n",
       "2  [-0.028749052452035188, -0.03657082606005345, ...   \n",
       "3  [-0.02502290165787953, 0.022745912952092634, -...   \n",
       "4  [-0.03675452556435304, 0.03118101453676938, 0....   \n",
       "\n",
       "                                         topic_title  \n",
       "0  Fokussierung auf nationale Identität, Souverän...  \n",
       "1  Grüne Partei wird durchgehend als inkompetent,...  \n",
       "2  Steuergeldverschwendung und finanzielle Fehlen...  \n",
       "3  Kritik an der deutschen Regierungspolitik, mit...  \n",
       "4  Staatliche Überwachung und Einschränkung der G...  "
      ]
     },
     "execution_count": 642,
     "metadata": {},
     "output_type": "execute_result"
    }
   ],
   "source": [
    "df_cm.head()"
   ]
  },
  {
   "cell_type": "code",
   "execution_count": 639,
   "metadata": {},
   "outputs": [],
   "source": [
    "# we need to make sure the cluster_ids are unique and not existent in the db\n",
    "existing_cluster_ids = db_connector.get_existing_cluster_ids()\n",
    "# convert the list of pyodbcd.row to a set\n",
    "exisiting_cluster_ids = set([row[0] for row in existing_cluster_ids])\n",
    "\n",
    "# get unique number of labels\n",
    "unique_labels = np.unique(labels)\n",
    "\n",
    "# create a mapping from old cluster ids to new cluster ids\n",
    "cluster_id_mapping = {}\n",
    "for i, label in enumerate(unique_labels):\n",
    "    while label in exisiting_cluster_ids:\n",
    "        label += 1\n",
    "    cluster_id_mapping[i] = label\n",
    "    # add the new cluster id to the set\n",
    "    exisiting_cluster_ids.add(label)"
   ]
  },
  {
   "cell_type": "code",
   "execution_count": null,
   "metadata": {},
   "outputs": [],
   "source": [
    "# create a new column in the dataframe with the new cluster ids\n",
    "df_cm[\"cluster\"] = [cluster_id_mapping[label] for label in labels]\n",
    "df_cm.head()"
   ]
  },
  {
   "cell_type": "code",
   "execution_count": 586,
   "metadata": {},
   "outputs": [
    {
     "data": {
      "text/html": [
       "<div>\n",
       "<style scoped>\n",
       "    .dataframe tbody tr th:only-of-type {\n",
       "        vertical-align: middle;\n",
       "    }\n",
       "\n",
       "    .dataframe tbody tr th {\n",
       "        vertical-align: top;\n",
       "    }\n",
       "\n",
       "    .dataframe thead th {\n",
       "        text-align: right;\n",
       "    }\n",
       "</style>\n",
       "<table border=\"1\" class=\"dataframe\">\n",
       "  <thead>\n",
       "    <tr style=\"text-align: right;\">\n",
       "      <th></th>\n",
       "      <th>cluster</th>\n",
       "      <th>topic_title</th>\n",
       "    </tr>\n",
       "  </thead>\n",
       "  <tbody>\n",
       "    <tr>\n",
       "      <th>0</th>\n",
       "      <td>117</td>\n",
       "      <td></td>\n",
       "    </tr>\n",
       "    <tr>\n",
       "      <th>1</th>\n",
       "      <td>121</td>\n",
       "      <td></td>\n",
       "    </tr>\n",
       "    <tr>\n",
       "      <th>2</th>\n",
       "      <td>115</td>\n",
       "      <td></td>\n",
       "    </tr>\n",
       "    <tr>\n",
       "      <th>3</th>\n",
       "      <td>130</td>\n",
       "      <td></td>\n",
       "    </tr>\n",
       "    <tr>\n",
       "      <th>4</th>\n",
       "      <td>134</td>\n",
       "      <td></td>\n",
       "    </tr>\n",
       "  </tbody>\n",
       "</table>\n",
       "</div>"
      ],
      "text/plain": [
       "   cluster topic_title\n",
       "0      117            \n",
       "1      121            \n",
       "2      115            \n",
       "3      130            \n",
       "4      134            "
      ]
     },
     "execution_count": 586,
     "metadata": {},
     "output_type": "execute_result"
    }
   ],
   "source": [
    "# df with unique cluster ids\n",
    "df_unique_clusters = df_cm.drop_duplicates(subset=[\"cluster\"])\n",
    "len(df_unique_clusters)\n",
    "#drop the embeddings column, the core_message column and the video_id column\n",
    "df_unique_clusters.drop(columns=[\"embeddings\", \"core_message\", \"video_id\"], inplace=True)\n",
    "df_unique_clusters[\"topic_title\"] = \"\"\n",
    "df_unique_clusters.head()\n"
   ]
  },
  {
   "cell_type": "code",
   "execution_count": 587,
   "metadata": {},
   "outputs": [
    {
     "data": {
      "text/plain": [
       "13126"
      ]
     },
     "execution_count": 587,
     "metadata": {},
     "output_type": "execute_result"
    }
   ],
   "source": [
    "len(df_cm)"
   ]
  },
  {
   "cell_type": "code",
   "execution_count": 588,
   "metadata": {},
   "outputs": [
    {
     "data": {
      "text/plain": [
       "10901"
      ]
     },
     "execution_count": 588,
     "metadata": {},
     "output_type": "execute_result"
    }
   ],
   "source": [
    "# only keep one pair of video_id and cluster if duplicated\n",
    "df_cm= df_cm.drop_duplicates(subset=[\"video_id\", \"cluster\"])\n",
    "len(df_cm)"
   ]
  },
  {
   "cell_type": "code",
   "execution_count": 589,
   "metadata": {},
   "outputs": [],
   "source": [
    "# Group df_cm by \"video_id\" and aggregate the clusters with \";\"\n",
    "cluster_groups = df_cm.groupby('video_id')['cluster'].agg(lambda x: ';'.join(map(str, x))).reset_index()\n",
    "\n",
    "# Merge the aggregated clusters back into df_clean_double based on \"video_id\"\n",
    "df_clean_double = pd.merge(df_clean_double, cluster_groups, on='video_id', how='left')\n"
   ]
  },
  {
   "cell_type": "code",
   "execution_count": 590,
   "metadata": {},
   "outputs": [
    {
     "data": {
      "text/html": [
       "<div>\n",
       "<style scoped>\n",
       "    .dataframe tbody tr th:only-of-type {\n",
       "        vertical-align: middle;\n",
       "    }\n",
       "\n",
       "    .dataframe tbody tr th {\n",
       "        vertical-align: top;\n",
       "    }\n",
       "\n",
       "    .dataframe thead th {\n",
       "        text-align: right;\n",
       "    }\n",
       "</style>\n",
       "<table border=\"1\" class=\"dataframe\">\n",
       "  <thead>\n",
       "    <tr style=\"text-align: right;\">\n",
       "      <th></th>\n",
       "      <th>video_id</th>\n",
       "      <th>core_message</th>\n",
       "      <th>cluster</th>\n",
       "    </tr>\n",
       "  </thead>\n",
       "  <tbody>\n",
       "    <tr>\n",
       "      <th>0</th>\n",
       "      <td>7004454022123932933</td>\n",
       "      <td>[doch ich kann Ihnen sagen Burkas Kopftuchmädc...</td>\n",
       "      <td>117</td>\n",
       "    </tr>\n",
       "    <tr>\n",
       "      <th>1</th>\n",
       "      <td>7005858788343319813</td>\n",
       "      <td>[Mach so bisschen Übergang deine Haare kürzer ...</td>\n",
       "      <td>121</td>\n",
       "    </tr>\n",
       "    <tr>\n",
       "      <th>2</th>\n",
       "      <td>7010413677136350469</td>\n",
       "      <td>[ Überbietungswettbewerb der Bundesländer bei ...</td>\n",
       "      <td>115;130;134</td>\n",
       "    </tr>\n",
       "    <tr>\n",
       "      <th>3</th>\n",
       "      <td>7013744740579511558</td>\n",
       "      <td>[wir können gerne jetzt wieder den Ton anmache...</td>\n",
       "      <td>126</td>\n",
       "    </tr>\n",
       "    <tr>\n",
       "      <th>4</th>\n",
       "      <td>7040421798785125638</td>\n",
       "      <td>[ Kritik an ungeimpftem Personal in der Pflege...</td>\n",
       "      <td>113;143;123</td>\n",
       "    </tr>\n",
       "  </tbody>\n",
       "</table>\n",
       "</div>"
      ],
      "text/plain": [
       "              video_id                                       core_message  \\\n",
       "0  7004454022123932933  [doch ich kann Ihnen sagen Burkas Kopftuchmädc...   \n",
       "1  7005858788343319813  [Mach so bisschen Übergang deine Haare kürzer ...   \n",
       "2  7010413677136350469  [ Überbietungswettbewerb der Bundesländer bei ...   \n",
       "3  7013744740579511558  [wir können gerne jetzt wieder den Ton anmache...   \n",
       "4  7040421798785125638  [ Kritik an ungeimpftem Personal in der Pflege...   \n",
       "\n",
       "       cluster  \n",
       "0          117  \n",
       "1          121  \n",
       "2  115;130;134  \n",
       "3          126  \n",
       "4  113;143;123  "
      ]
     },
     "execution_count": 590,
     "metadata": {},
     "output_type": "execute_result"
    }
   ],
   "source": [
    "df_clean_double.head()"
   ]
  },
  {
   "cell_type": "code",
   "execution_count": 320,
   "metadata": {},
   "outputs": [],
   "source": [
    "import pyodbc"
   ]
  },
  {
   "cell_type": "code",
   "execution_count": 591,
   "metadata": {},
   "outputs": [],
   "source": [
    "\n",
    "driver = os.environ[\"DB_DRIVER\"]\n",
    "server = os.environ[\"DB_SERVER\"]\n",
    "database = os.environ[\"DB_DATABASE\"]\n",
    "username = os.environ[\"DB_USERNAME\"]\n",
    "password = os.environ[\"DB_PASSWORD\"]\n",
    "connection_str = f\"Driver={driver};Server={server},1433;Database={database};Uid={username};Pwd={password};Encrypt=yes;TrustServerCertificate=no;Connection Timeout=30;\"\n"
   ]
  },
  {
   "cell_type": "code",
   "execution_count": 592,
   "metadata": {},
   "outputs": [],
   "source": [
    "import datetime\n",
    "\n",
    "\n",
    "def add_clusters_to_db(clusters_with_title, connection_str):\n",
    "    \"\"\"\n",
    "    Add clusters to the SQL database.\n",
    "    Args:\n",
    "        clusters_with_title: DataFrame with cluster_number and topic_title.\n",
    "        connection_str: Connection string to the SQL database.\n",
    "    \"\"\"\n",
    "    \n",
    "    with pyodbc.connect(connection_str) as cnxn:\n",
    "        cursor = cnxn.cursor()\n",
    "        \n",
    "        # Get all unique cluster ids already in the SQL database\n",
    "        cursor.execute(\"SELECT id FROM dbo.Clusters\")\n",
    "        existing_cluster_ids = {row[0] for row in cursor.fetchall()}\n",
    "        \n",
    "        # Extract unique cluster ids and their descriptions from the DataFrame\n",
    "        clusters_to_add = clusters_with_title[['cluster', 'topic_title']].drop_duplicates()\n",
    "        \n",
    "        # Determine which cluster ids need to be added\n",
    "        clusters_to_add = clusters_to_add[~clusters_to_add['cluster'].isin(existing_cluster_ids)]\n",
    "        \n",
    "        print(f\"Adding {len(clusters_to_add)} new clusters to the database\")\n",
    "\n",
    "        # Add new cluster ids to the Clusters table\n",
    "        for _, row in clusters_to_add.iterrows():\n",
    "            cluster_id = int(row['cluster'])\n",
    "            description = str(row['topic_title'])\n",
    "            cursor.execute(\"INSERT INTO dbo.Clusters (id, description, timestamp) VALUES (?, ?, ?)\", cluster_id, description, datetime.datetime.now())\n",
    "        \n",
    "        # Commit the new clusters\n",
    "        cnxn.commit()\n",
    "        "
   ]
  },
  {
   "cell_type": "code",
   "execution_count": 593,
   "metadata": {},
   "outputs": [
    {
     "name": "stdout",
     "output_type": "stream",
     "text": [
      "Adding 32 new clusters to the database\n"
     ]
    }
   ],
   "source": [
    "add_clusters_to_db(df_unique_clusters, connection_str)"
   ]
  },
  {
   "cell_type": "code",
   "execution_count": 594,
   "metadata": {},
   "outputs": [],
   "source": [
    "\n",
    "def add_cluster_video_links_to_db(cluster_assignments, connection_str):\n",
    "    \"\"\"\n",
    "    Add cluster video links to the SQL database.\n",
    "    Args:\n",
    "        cluster_assignments: DataFrame with video_id and cluster data.\n",
    "        connection_str: Connection string to the SQL database.\n",
    "    \"\"\"\n",
    "    \n",
    "    with pyodbc.connect(connection_str) as cnxn:\n",
    "        cursor = cnxn.cursor()\n",
    "        \n",
    "        # Get all existing video_id and cluster_id pairs from the database\n",
    "        cursor.execute(\"SELECT video_id, cluster_id FROM dbo.VideoClusters\")\n",
    "        existing_pairs = set((row.video_id, row.cluster_id) for row in cursor.fetchall())\n",
    "        \n",
    "        # Collect all new rows to be inserted in a list\n",
    "        rows_to_insert = []\n",
    "        \n",
    "        for _, row in cluster_assignments.iterrows():\n",
    "            video_id = int(row['video_id'])\n",
    "            clusters = map(int, row['cluster'].split(';'))\n",
    "            \n",
    "            for cluster_id in clusters:\n",
    "                if (video_id, cluster_id) not in existing_pairs:\n",
    "                    rows_to_insert.append((cluster_id, video_id))\n",
    "        print(len(rows_to_insert))\n",
    "        # Insert all rows in one batch\n",
    "        if rows_to_insert:\n",
    "            cursor.executemany(\"INSERT INTO dbo.VideoClusters (cluster_id, video_id) VALUES (?, ?)\", rows_to_insert)\n",
    "        \n",
    "        # Commit the relationships\n",
    "        cnxn.commit()\n",
    "        print(\"Clusters and relationships added to database successfully\")\n",
    "\n",
    "# Example usage\n",
    "# Assuming `cluster_assignments` is a DataFrame with the required structure and `connection_str` is your database connection string\n",
    "# add_cluster_video_links_to_db(cluster_assignments, connection_str)\n"
   ]
  },
  {
   "cell_type": "code",
   "execution_count": 647,
   "metadata": {},
   "outputs": [
    {
     "name": "stdout",
     "output_type": "stream",
     "text": [
      "10901\n",
      "Clusters and relationships added to database successfully\n"
     ]
    }
   ],
   "source": [
    "add_cluster_video_links_to_db(df_clean_double[[\"video_id\", \"cluster\"]], connection_str)"
   ]
  },
  {
   "cell_type": "code",
   "execution_count": 646,
   "metadata": {},
   "outputs": [
    {
     "data": {
      "text/plain": [
       "5885"
      ]
     },
     "execution_count": 646,
     "metadata": {},
     "output_type": "execute_result"
    }
   ],
   "source": [
    "len(df_clean_double)"
   ]
  },
  {
   "cell_type": "code",
   "execution_count": 526,
   "metadata": {},
   "outputs": [],
   "source": [
    "# get duplicates VideoClusters if they have cluster id and video id in common\n",
    "with pyodbc.connect(connection_str) as cnxn:\n",
    "    cursor = cnxn.cursor()\n",
    "    cursor.execute(\"SELECT cluster_id, video_id, COUNT(*) FROM dbo.VideoClusters GROUP BY cluster_id, video_id HAVING COUNT(*) > 1\")\n",
    "    duplicates = cursor.fetchall()\n",
    "    #remove duplicates\n",
    "    # for cluster_id, video_id, count in duplicates:\n",
    "    #     cursor.execute(\"DELETE FROM dbo.VideoClusters WHERE cluster_id = ? AND video_id = ?\", cluster_id, video_id)"
   ]
  },
  {
   "cell_type": "code",
   "execution_count": 527,
   "metadata": {},
   "outputs": [
    {
     "data": {
      "text/plain": [
       "0"
      ]
     },
     "execution_count": 527,
     "metadata": {},
     "output_type": "execute_result"
    }
   ],
   "source": [
    "len(duplicates)"
   ]
  },
  {
   "cell_type": "markdown",
   "metadata": {},
   "source": [
    "## Switch to gpt-4"
   ]
  },
  {
   "cell_type": "markdown",
   "metadata": {},
   "source": [
    "### Need to change endpoint since deployed on different region"
   ]
  },
  {
   "cell_type": "code",
   "execution_count": 595,
   "metadata": {},
   "outputs": [
    {
     "data": {
      "text/plain": [
       "True"
      ]
     },
     "execution_count": 595,
     "metadata": {},
     "output_type": "execute_result"
    }
   ],
   "source": [
    "# change env variable \n",
    "load_dotenv(override=True)"
   ]
  },
  {
   "cell_type": "code",
   "execution_count": null,
   "metadata": {},
   "outputs": [],
   "source": []
  },
  {
   "cell_type": "code",
   "execution_count": 596,
   "metadata": {},
   "outputs": [],
   "source": [
    "# embeddings_client = AzureOpenAIEmbeddings(\n",
    "#     azure_deployment=\"text-embedding-3-small-eastus\",\n",
    "#     openai_api_version=\"2024-02-01\",\n",
    "# )\n",
    "\n",
    "# llm_client = AzureChatOpenAI(\n",
    "#     openai_api_version=\"2024-02-01\",\n",
    "#     azure_deployment=\"gpt-35-turbo-16k\",\n",
    "# )\n",
    "\n",
    "llm_client = AzureChatOpenAI(\n",
    "    openai_api_version=\"2024-02-15-preview\",\n",
    "    azure_deployment=\"gpt-4-turbo-128k\",\n",
    ")"
   ]
  },
  {
   "cell_type": "markdown",
   "metadata": {},
   "source": [
    "### Cluster naming with GPT"
   ]
  },
  {
   "cell_type": "code",
   "execution_count": 627,
   "metadata": {},
   "outputs": [],
   "source": [
    "#Der Titel sollte das gemeinsame Narrativ bestmöglichst beschreiben. Beispiele sind:  Positionierung gegen Einwanderung, Forderung die kulturelle Identität zu schützen oder aufzubauen, Hinterfragen des Vorgehens der EU, nationale Souveränität betonen, Forderung nach einer harten Hand gegen Kriminalität und Terrorismus, Hetzerischer Angriff und Kritik an Grünen ohne konstruktive Gegenvorschläge.\n",
    "chat_template = ChatPromptTemplate.from_messages(\n",
    "    [\n",
    "        SystemMessage(\n",
    "            content=(\n",
    "                \"Du bist ein Experte im Schreiben. Du hilfst mir, einen gemeinsames Narrativ für mehrere ähnliche TikTok-Beiträge zu schreiben. Die Videos stammen aus einem Datensatz mit rechten bis rechtsextremen Inhalten, diesen wollen wir analaysieren. Analysiere welche Themen besonders aufgegriffen werden und finde eine sehr kurze Beschreibung, die aber nicht zu generisch sondern konktret sein sollte.\"\n",
    "            )\n",
    "        ),\n",
    "        HumanMessagePromptTemplate.from_template(\"Schreibe anhand der folgenden deutschen Transkripte und Beschreibungen von Tiktok-Videos eine und nur eine möglichst genaue und treffende analytische Beschreibung des Narrativs der Videos. Die Beschreibung sollte auf deutsch um die 20 Wörter sein (maximal 30). Sollte keine Übertitel, keine Anführungsstriche und vermeide unkonkrete Floskeln wie 'Analyse der', 'Narrativ der' und 'Kritik an'. Nachfolgend: \\n\\nPOSTS:{posts}\\n\\n\\n\\n\\n\\n Erinnere dich nochmal an deine Aufgabenstellung. \\n\\n  Narrativ Beschreibung:\"),\n",
    "    ]\n",
    ")"
   ]
  },
  {
   "cell_type": "code",
   "execution_count": 628,
   "metadata": {},
   "outputs": [],
   "source": [
    "#try out with stopwords\n",
    "\n",
    "german_stop_words=open(\"../../data/clustering/german_stopwords_full.txt\").read().split()[53:]"
   ]
  },
  {
   "cell_type": "code",
   "execution_count": null,
   "metadata": {},
   "outputs": [],
   "source": [
    "for c in sorted(df_cm.cluster.unique()):\n",
    "    try:\n",
    "        print(c)\n",
    "        # Generate posts string\n",
    "        posts_str = \"\\n\".join(\n",
    "            f\"{post['core_message']}\\n\" #\\n{post['suggested_words']}{post['video_description']}\\n\n",
    "            for post in df_cm.query(f\"cluster == {c}\").to_dict(orient=\"records\")\n",
    "        )\n",
    "        # posts_str = ' '.join([word for word in posts_str.split() if word not in ([])])\n",
    "        \n",
    "        if len(posts_str) > 128000:\n",
    "            posts_str = ' '.join([word for word in posts_str.split() if word not in (german_stop_words)])\n",
    "            \n",
    "\n",
    "        # limit str to maximum token length of model 16384\n",
    "        print(len(posts_str))\n",
    "        posts_str = posts_str[:127000]\n",
    "        posts_str = posts_str.replace(\"Kanacke\", \"Ausländer\")\n",
    "        # Create prompt\n",
    "        #prompt = get_prompt(articles_str)\n",
    "        prompt = chat_template.format_messages(posts=posts_str)\n",
    "        # Invoke the model and pass the generated prompt\n",
    "        result = llm_client.invoke(prompt)\n",
    "        #print(result)\n",
    "\n",
    "        # Assuming result extraction based on your specific response structure\n",
    "        df_cm.loc[df_cm.cluster == c, \"topic_title\"] = result.content\n",
    "    except Exception as e:\n",
    "        print(\"content warning triggered for cluster \"+str(c))\n",
    "        print(e)\n",
    "\n",
    "        # chunk the posts_str to avoid api errors\n",
    "        for i in range(0, len(posts_str), int(len(posts_str)/5)):\n",
    "            try:\n",
    "                print(\"chunk:\", i)\n",
    "                prompt = chat_template.format_messages(posts=posts_str[i : i + int(len(posts_str)/5)])\n",
    "                # Invoke the model and pass the generated prompt\n",
    "                result = llm_client.invoke(prompt)\n",
    "                # Assuming result extraction based on your specific response structure\n",
    "                df_cm.loc[df_cm.cluster == c, \"topic_title\"] = result.content\n",
    "            except Exception as e:\n",
    "                print(\"content warning triggered for cluster \"+str(c))\n",
    "                print(prompt)\n",
    "                #remove problematic chuck from string\n",
    "                posts_str=posts_str[:i]+posts_str[i + int(len(posts_str)/5):]\n",
    "                print(\"chunk removed\")\n",
    "                print(\"length of the shorten posts_str\", len(posts_str))\n",
    "                break\n",
    "            \n",
    "        # try with the remaining string\n",
    "        try:\n",
    "            print(\"try with the remaining string\")\n",
    "            prompt = chat_template.format_messages(posts=posts_str)\n",
    "            # Invoke the model and pass the generated prompt\n",
    "            result = llm_client.invoke(prompt)\n",
    "            # Assuming result extraction based on your specific response structure\n",
    "            df_cm.loc[df_cm.cluster == c, \"topic_title\"] = result.content\n",
    "\n",
    "            print(\"finally successful for cluster \"+str(c))\n",
    "        except Exception as e:\n",
    "            print(\"content warning triggered again for chunked string\")\n",
    "            print(e)\n",
    "\n",
    "        # posts_str = \"\\n\".join(\n",
    "        #     f\"{post['core_message']}\\n\" #\\n{post['suggested_words']}{post['video_description']}\\n\n",
    "        #     for post in df_cm.query(f\"cluster == {c}\").to_dict(orient=\"records\")\n",
    "        # )\n",
    "        # #posts_str = ' '.join([word for word in posts_str.split() if word not in (german_stop_words)])\n",
    "\n",
    "        # # limit str to maximum token length of model 16384\n",
    "        # posts_str = posts_str[:16384]\n",
    "        # # Create prompt\n",
    "        # #prompt = get_prompt(articles_str)\n",
    "        # prompt = chat_template.format_messages(posts=posts_str)\n",
    "        # # Invoke the model and pass the generated prompt\n",
    "        # result = llm_client.invoke(prompt)\n",
    "        # # Assuming result extraction based on your specific response structure\n",
    "        # df_cm.loc[df_cm.cluster == c, \"topic_title\"] = result.content\n",
    "        continue"
   ]
  },
  {
   "cell_type": "code",
   "execution_count": 631,
   "metadata": {},
   "outputs": [
    {
     "name": "stdout",
     "output_type": "stream",
     "text": [
      "[17, 12, 10, 16, 16, 15, 14, 12, 15, 16, 17, 14, 16, 13, 15, 14, 26, 21, 12, 17, 14, 20, 15, 33, 21, 23, 14, 16, 16, 16, 18, 18]\n"
     ]
    }
   ],
   "source": [
    "#   get unique topic titles\n",
    "df_unique_clusters_test = df_cm.drop_duplicates(subset=[\"cluster\"])\n",
    "df_unique_clusters_test\n",
    "# get number of words of topic titles\n",
    "print([len(title.split()) for title in df_unique_clusters_test[\"topic_title\"]])\n",
    "#print([len(title) for title in df_unique_clusters_test[\"topic_title\"]])"
   ]
  },
  {
   "cell_type": "code",
   "execution_count": 636,
   "metadata": {},
   "outputs": [
    {
     "data": {
      "text/plain": [
       "32"
      ]
     },
     "execution_count": 636,
     "metadata": {},
     "output_type": "execute_result"
    }
   ],
   "source": [
    "len(df_unique_clusters_test)"
   ]
  },
  {
   "cell_type": "code",
   "execution_count": 633,
   "metadata": {},
   "outputs": [
    {
     "name": "stdout",
     "output_type": "stream",
     "text": [
      "117 Fokussierung auf nationale Identität, Souveränität und Kritik an Regierungspolitik, Migration sowie wirtschaftlicher und sozialer Verfall in Deutschland.\n",
      "121 Grüne Partei wird durchgehend als inkompetent, ideologisch verblendet und gesellschaftlich schädlich dargestellt.\n",
      "115 Steuergeldverschwendung und finanzielle Fehlentscheidungen der Regierung belasten deutsche Bürger zunehmend.\n",
      "130 Kritik an der deutschen Regierungspolitik, mit Schwerpunkt auf Corona-Maßnahmen, Umwelt-, Energie- und Migrationspolitik sowie der Ampelkoalition.\n",
      "134 Staatliche Überwachung und Einschränkung der Grundrechte im Namen des Verfassungsschutzes, Missbrauch von Behördenmacht gegen politische Opposition.\n",
      "126 Videos propagieren nationalistische und xenophobe Einstellungen, verherrlichen traditionelle Rollenbilder und lehnen moderne soziale Konzepte ab.\n",
      "113 Verbreitung von Misstrauen gegenüber Impfungen, Politik und Medien, verbunden mit Verschwörungstheorien und politischer Manipulation.\n",
      "143 Verstärkung des Fachkräftemangels durch Abwanderung qualifizierter Deutscher und Kritik an der Bildungspolitik.\n",
      "123 Rücktritts- und Reformforderungen an die Regierung mit Fokus auf direkter Demokratie, Grenzsicherung und nationaler Interessenvertretung.\n",
      "127 Regierung wird als inkompetent, korrupt und volksfern dargestellt; massive Unzufriedenheit und Forderung nach politischem Wandel dominieren.\n",
      "140 Verstärkung politischer Unsicherheit und Kritik an etablierten Parteien fördern Zustimmung zur AfD, die sich als Alternative positioniert.\n",
      "116 Bevorzugung von Flüchtlingen bei Sozialleistungen und negativer Einfluss auf die einheimische Bevölkerung und Staatsfinanzen.\n",
      "118 Verstärkung nationaler Identität und Souveränität, Ablehnung globalistischer Einflüsse und Forderung nach Eigenverantwortung und Schutz traditioneller Werte.\n",
      "124 Betonung traditioneller Familienstrukturen, Ablehnung von Gender-Themen und Kritik an politischer Korrektheit und Migration.\n",
      "112 Verbreitung von Angst und Misstrauen gegenüber Ausländern durch Betonung von importierter Kriminalität und politischem Versagen.\n",
      "136 Medien und Politik verbreiten gezielt Falschinformationen und manipulieren öffentliche Meinung, um eigene Interessen durchzusetzen.\n",
      "120 Darstellung der Ukraine als Opfer geopolitischer Interessen und Kritik an der Abhängigkeit von der USA und NATO bei gleichzeitigem Ruf nach Frieden und Ablehnung von Eskalation.\n",
      "135 AfD propagiert nationale Souveränität, kritisiert Migrationspolitik, EU und etablierte Parteien und fordert stärkere Betonung von Sicherheit, traditionellen Werten und direkter Demokratie.\n",
      "139 Verstärkung von Unzufriedenheit und Kritik gegenüber staatlichen Maßnahmen, Ineffizienz und fehlender Transparenz.\n",
      "132 Deindustrialisierung, hohe Energiepreise und Inflation bedrohen den Mittelstand und führen zu massiver Abwanderung von Unternehmen und Arbeitsplätzen.\n",
      "128 Narrativ fokussiert auf Kritik an unkontrollierter Masseneinwanderung, Belastung des Sozialsystems und Sicherheitsrisiken durch Migranten.\n",
      "138 Betonung der finanziellen Ungleichheit und Kritik an der Sozialpolitik, die Arbeitnehmer und Rentner benachteiligt, während Politiker und Migranten bevorzugt werden.\n",
      "125 Deutsche Energiepolitik verursacht finanzielle Belastung und Abhängigkeit, während alternative Energien und Atomkraft kontrovers diskutiert werden.\n",
      "141 Die Videos propagieren eine starke Ablehnung gegenüber etablierten Parteien und aktuellen Regierungspolitiken, fördern nationalistische und anti-immigrations Einstellungen und positionieren die AfD als einzige wahre Vertreterin des Volkes und Bewahrerin deutscher Interessen und Sicherheit.\n",
      "129 Verbreitung nationalistischer und anti-immigrationsbezogener Inhalte, Kritik an der aktuellen Regierung und EU, sowie das Schüren von Ängsten bezüglich Kulturverlust und Sicherheit.\n",
      "114 Narrativ fokussiert auf Kritik an etablierten Parteien, deren angebliche Doppelmoral, Inkompetenz und Abgehobenheit, sowie auf die Darstellung der AfD als einzige echte Alternative.\n",
      "137 Videos vermitteln Wahrnehmung einer durch politische Korrektheit und staatliche Übergriffe bedrohten Meinungsfreiheit und Demokratie.\n",
      "131 Widerstand gegen Regierungspolitik, Aufruf zu Solidarität und gemeinschaftlichen Protestaktionen mit Fokus auf Energiepreise, Inflation und Freiheitsrechte.\n",
      "119 Klimapolitik wird als ineffektiv, ideologisch und wirtschaftsschädigend kritisiert, während Klimaaktivisten als kriminell und staatsgefährdend dargestellt werden.\n",
      "133 Darstellung von Annalena Baerbock als inkompetente und gegen deutsche Interessen handelnde Politikerin, insbesondere in der Außenpolitik.\n",
      "122 Verbreitung von Skandalen und Korruptionsvorwürfen gegen Politiker und Institutionen zur Unterstützung rechtsextremer Agenden und Diskreditierung der aktuellen Regierung.\n",
      "142 Deutsche Landwirte protestieren gegen politische Entscheidungen, die ihre wirtschaftliche Existenz durch steigende Bürokratie, ungerechtfertigte Steuerlasten und Subventionskürzungen gefährden.\n"
     ]
    }
   ],
   "source": [
    "# print cluster_id and topic_title\n",
    "for i in range(0, len(df_unique_clusters_test)):\n",
    "    print(int(df_unique_clusters_test[\"cluster\"].iloc[i]), str(df_unique_clusters_test[\"topic_title\"].iloc[i]))\n"
   ]
  },
  {
   "cell_type": "markdown",
   "metadata": {},
   "source": [
    "### Add cluster descriptions to db"
   ]
  },
  {
   "cell_type": "code",
   "execution_count": 634,
   "metadata": {},
   "outputs": [
    {
     "name": "stdout",
     "output_type": "stream",
     "text": [
      "Updated cluster 117 with description Fokussierung auf nationale Identität, Souveränität und Kritik an Regierungspolitik, Migration sowie wirtschaftlicher und sozialer Verfall in Deutschland.\n",
      "Updated cluster 121 with description Grüne Partei wird durchgehend als inkompetent, ideologisch verblendet und gesellschaftlich schädlich dargestellt.\n"
     ]
    },
    {
     "name": "stdout",
     "output_type": "stream",
     "text": [
      "Updated cluster 115 with description Steuergeldverschwendung und finanzielle Fehlentscheidungen der Regierung belasten deutsche Bürger zunehmend.\n",
      "Updated cluster 130 with description Kritik an der deutschen Regierungspolitik, mit Schwerpunkt auf Corona-Maßnahmen, Umwelt-, Energie- und Migrationspolitik sowie der Ampelkoalition.\n",
      "Updated cluster 134 with description Staatliche Überwachung und Einschränkung der Grundrechte im Namen des Verfassungsschutzes, Missbrauch von Behördenmacht gegen politische Opposition.\n",
      "Updated cluster 126 with description Videos propagieren nationalistische und xenophobe Einstellungen, verherrlichen traditionelle Rollenbilder und lehnen moderne soziale Konzepte ab.\n",
      "Updated cluster 113 with description Verbreitung von Misstrauen gegenüber Impfungen, Politik und Medien, verbunden mit Verschwörungstheorien und politischer Manipulation.\n",
      "Updated cluster 143 with description Verstärkung des Fachkräftemangels durch Abwanderung qualifizierter Deutscher und Kritik an der Bildungspolitik.\n",
      "Updated cluster 123 with description Rücktritts- und Reformforderungen an die Regierung mit Fokus auf direkter Demokratie, Grenzsicherung und nationaler Interessenvertretung.\n",
      "Updated cluster 127 with description Regierung wird als inkompetent, korrupt und volksfern dargestellt; massive Unzufriedenheit und Forderung nach politischem Wandel dominieren.\n",
      "Updated cluster 140 with description Verstärkung politischer Unsicherheit und Kritik an etablierten Parteien fördern Zustimmung zur AfD, die sich als Alternative positioniert.\n",
      "Updated cluster 116 with description Bevorzugung von Flüchtlingen bei Sozialleistungen und negativer Einfluss auf die einheimische Bevölkerung und Staatsfinanzen.\n",
      "Updated cluster 118 with description Verstärkung nationaler Identität und Souveränität, Ablehnung globalistischer Einflüsse und Forderung nach Eigenverantwortung und Schutz traditioneller Werte.\n",
      "Updated cluster 124 with description Betonung traditioneller Familienstrukturen, Ablehnung von Gender-Themen und Kritik an politischer Korrektheit und Migration.\n",
      "Updated cluster 112 with description Verbreitung von Angst und Misstrauen gegenüber Ausländern durch Betonung von importierter Kriminalität und politischem Versagen.\n",
      "Updated cluster 136 with description Medien und Politik verbreiten gezielt Falschinformationen und manipulieren öffentliche Meinung, um eigene Interessen durchzusetzen.\n",
      "Updated cluster 120 with description Darstellung der Ukraine als Opfer geopolitischer Interessen und Kritik an der Abhängigkeit von der USA und NATO bei gleichzeitigem Ruf nach Frieden und Ablehnung von Eskalation.\n",
      "Updated cluster 135 with description AfD propagiert nationale Souveränität, kritisiert Migrationspolitik, EU und etablierte Parteien und fordert stärkere Betonung von Sicherheit, traditionellen Werten und direkter Demokratie.\n",
      "Updated cluster 139 with description Verstärkung von Unzufriedenheit und Kritik gegenüber staatlichen Maßnahmen, Ineffizienz und fehlender Transparenz.\n",
      "Updated cluster 132 with description Deindustrialisierung, hohe Energiepreise und Inflation bedrohen den Mittelstand und führen zu massiver Abwanderung von Unternehmen und Arbeitsplätzen.\n",
      "Updated cluster 128 with description Narrativ fokussiert auf Kritik an unkontrollierter Masseneinwanderung, Belastung des Sozialsystems und Sicherheitsrisiken durch Migranten.\n",
      "Updated cluster 138 with description Betonung der finanziellen Ungleichheit und Kritik an der Sozialpolitik, die Arbeitnehmer und Rentner benachteiligt, während Politiker und Migranten bevorzugt werden.\n",
      "Updated cluster 125 with description Deutsche Energiepolitik verursacht finanzielle Belastung und Abhängigkeit, während alternative Energien und Atomkraft kontrovers diskutiert werden.\n",
      "Updated cluster 141 with description Die Videos propagieren eine starke Ablehnung gegenüber etablierten Parteien und aktuellen Regierungspolitiken, fördern nationalistische und anti-immigrations Einstellungen und positionieren die AfD als einzige wahre Vertreterin des Volkes und Bewahrerin deutscher Interessen und Sicherheit.\n",
      "Updated cluster 129 with description Verbreitung nationalistischer und anti-immigrationsbezogener Inhalte, Kritik an der aktuellen Regierung und EU, sowie das Schüren von Ängsten bezüglich Kulturverlust und Sicherheit.\n",
      "Updated cluster 114 with description Narrativ fokussiert auf Kritik an etablierten Parteien, deren angebliche Doppelmoral, Inkompetenz und Abgehobenheit, sowie auf die Darstellung der AfD als einzige echte Alternative.\n",
      "Updated cluster 137 with description Videos vermitteln Wahrnehmung einer durch politische Korrektheit und staatliche Übergriffe bedrohten Meinungsfreiheit und Demokratie.\n",
      "Updated cluster 131 with description Widerstand gegen Regierungspolitik, Aufruf zu Solidarität und gemeinschaftlichen Protestaktionen mit Fokus auf Energiepreise, Inflation und Freiheitsrechte.\n",
      "Updated cluster 119 with description Klimapolitik wird als ineffektiv, ideologisch und wirtschaftsschädigend kritisiert, während Klimaaktivisten als kriminell und staatsgefährdend dargestellt werden.\n",
      "Updated cluster 133 with description Darstellung von Annalena Baerbock als inkompetente und gegen deutsche Interessen handelnde Politikerin, insbesondere in der Außenpolitik.\n",
      "Updated cluster 122 with description Verbreitung von Skandalen und Korruptionsvorwürfen gegen Politiker und Institutionen zur Unterstützung rechtsextremer Agenden und Diskreditierung der aktuellen Regierung.\n",
      "Updated cluster 142 with description Deutsche Landwirte protestieren gegen politische Entscheidungen, die ihre wirtschaftliche Existenz durch steigende Bürokratie, ungerechtfertigte Steuerlasten und Subventionskürzungen gefährden.\n"
     ]
    }
   ],
   "source": [
    "# print cluster_id and topic_title\n",
    "for i in range(0, len(df_unique_clusters_test)):\n",
    "    db_connector.update_cluster_description(int(df_unique_clusters_test[\"cluster\"].iloc[i]), str(df_unique_clusters_test[\"topic_title\"].iloc[i]))\n"
   ]
  },
  {
   "cell_type": "code",
   "execution_count": null,
   "metadata": {},
   "outputs": [],
   "source": [
    "new_df = df_cm.groupby('video_id').agg({\n",
    "    'cluster': lambda x: ';'.join(str(v) for v in x),\n",
    "    'core_message': lambda x: ';'.join(str(v) for v in x),\n",
    "    'video_playcount': 'first',     # Retain the first play count\n",
    "    'video_timestamp': 'first'      # Retain the first timestamp\n",
    "}).reset_index()\n",
    "\n",
    "\n",
    "# Display the new DataFrame\n",
    "new_df.head()"
   ]
  },
  {
   "cell_type": "code",
   "execution_count": null,
   "metadata": {},
   "outputs": [],
   "source": [
    "new_df=pd.read_csv(path_csv+\"1405_data_with_clusters.csv\")"
   ]
  },
  {
   "cell_type": "code",
   "execution_count": null,
   "metadata": {},
   "outputs": [],
   "source": [
    "merged_df = pd.merge(new_df, df_clean[['video_id', 'english_transcript']], on='video_id', how='left')\n",
    "merged_df = pd.merge(merged_df, df_clean[['video_id', 'german_transcript']], on='video_id', how='left')\n"
   ]
  },
  {
   "cell_type": "code",
   "execution_count": null,
   "metadata": {},
   "outputs": [
    {
     "data": {
      "text/html": [
       "<div>\n",
       "<style scoped>\n",
       "    .dataframe tbody tr th:only-of-type {\n",
       "        vertical-align: middle;\n",
       "    }\n",
       "\n",
       "    .dataframe tbody tr th {\n",
       "        vertical-align: top;\n",
       "    }\n",
       "\n",
       "    .dataframe thead th {\n",
       "        text-align: right;\n",
       "    }\n",
       "</style>\n",
       "<table border=\"1\" class=\"dataframe\">\n",
       "  <thead>\n",
       "    <tr style=\"text-align: right;\">\n",
       "      <th></th>\n",
       "      <th>Unnamed: 0</th>\n",
       "      <th>video_id</th>\n",
       "      <th>cluster</th>\n",
       "      <th>core_message</th>\n",
       "      <th>video_playcount</th>\n",
       "      <th>video_timestamp</th>\n",
       "      <th>english_transcript</th>\n",
       "      <th>german_transcript</th>\n",
       "    </tr>\n",
       "  </thead>\n",
       "  <tbody>\n",
       "    <tr>\n",
       "      <th>0</th>\n",
       "      <td>0</td>\n",
       "      <td>7005858788343319813</td>\n",
       "      <td>23</td>\n",
       "      <td>Mach so bisschen Übergang deine Haare kürzer d...</td>\n",
       "      <td>613338</td>\n",
       "      <td>1631178624</td>\n",
       "      <td>NaN</td>\n",
       "      <td>Mach so bisschen Übergang deine Haare kürzer d...</td>\n",
       "    </tr>\n",
       "    <tr>\n",
       "      <th>1</th>\n",
       "      <td>1</td>\n",
       "      <td>7040421798785125638</td>\n",
       "      <td>1;22;15</td>\n",
       "      <td>Kritik an ungeimpftem Personal in der Pflege;...</td>\n",
       "      <td>30603</td>\n",
       "      <td>1639225941</td>\n",
       "      <td>NaN</td>\n",
       "      <td>nötigerweise Menschen sterben weil Ungeimpfte ...</td>\n",
       "    </tr>\n",
       "    <tr>\n",
       "      <th>2</th>\n",
       "      <td>2</td>\n",
       "      <td>7052592640344329477</td>\n",
       "      <td>13</td>\n",
       "      <td>7 Millionen sozialgeldempfänger davon gut die ...</td>\n",
       "      <td>27175</td>\n",
       "      <td>1642059688</td>\n",
       "      <td>NaN</td>\n",
       "      <td>7 Millionen sozialgeldempfänger davon gut die ...</td>\n",
       "    </tr>\n",
       "    <tr>\n",
       "      <th>3</th>\n",
       "      <td>3</td>\n",
       "      <td>7069273153373097221</td>\n",
       "      <td>22;17;17</td>\n",
       "      <td>- Hohe Anzahl von Arztbesuchen aufgrund von Im...</td>\n",
       "      <td>235154</td>\n",
       "      <td>1645943422</td>\n",
       "      <td>NaN</td>\n",
       "      <td>und zu den Nebenwirkungen das äh Nebenwirkunge...</td>\n",
       "    </tr>\n",
       "    <tr>\n",
       "      <th>4</th>\n",
       "      <td>4</td>\n",
       "      <td>7080134745832557830</td>\n",
       "      <td>16;1;0</td>\n",
       "      <td>Unterschied zwischen Gesundheitspolitik und p...</td>\n",
       "      <td>7439</td>\n",
       "      <td>1648472331</td>\n",
       "      <td>NaN</td>\n",
       "      <td>sehr geehrte frau präsidentin kolleginnen und ...</td>\n",
       "    </tr>\n",
       "    <tr>\n",
       "      <th>...</th>\n",
       "      <td>...</td>\n",
       "      <td>...</td>\n",
       "      <td>...</td>\n",
       "      <td>...</td>\n",
       "      <td>...</td>\n",
       "      <td>...</td>\n",
       "      <td>...</td>\n",
       "      <td>...</td>\n",
       "    </tr>\n",
       "    <tr>\n",
       "      <th>2065</th>\n",
       "      <td>2065</td>\n",
       "      <td>7365836620957814049</td>\n",
       "      <td>16</td>\n",
       "      <td>Politiker werden angegriffen; Regierung ist bü...</td>\n",
       "      <td>20283</td>\n",
       "      <td>1714992492</td>\n",
       "      <td>recently are increasingly common Politician an...</td>\n",
       "      <td>in jüngster Zeit sind immer häufiger Politiker...</td>\n",
       "    </tr>\n",
       "    <tr>\n",
       "      <th>2066</th>\n",
       "      <td>2066</td>\n",
       "      <td>7365899292927741216</td>\n",
       "      <td>7</td>\n",
       "      <td>Deutschland ist unsere Heimat, unser Land, uns...</td>\n",
       "      <td>8263</td>\n",
       "      <td>1715007082</td>\n",
       "      <td>Germany is our home,  our country, our nation ...</td>\n",
       "      <td>Deutschland ist unsere Heimat, unser Land, uns...</td>\n",
       "    </tr>\n",
       "    <tr>\n",
       "      <th>2067</th>\n",
       "      <td>2067</td>\n",
       "      <td>7365925784864722209</td>\n",
       "      <td>3;3;3</td>\n",
       "      <td>- Definition des deutschen Staatsangehörigen i...</td>\n",
       "      <td>1323</td>\n",
       "      <td>1715013248</td>\n",
       "      <td>NaN</td>\n",
       "      <td>ne, es geht um Artikel 1 äh, Absatz 1. Deutsch...</td>\n",
       "    </tr>\n",
       "    <tr>\n",
       "      <th>2068</th>\n",
       "      <td>2068</td>\n",
       "      <td>7366492764877442336</td>\n",
       "      <td>23</td>\n",
       "      <td>sie wissen ja wofür Antifa steht oder nein dan...</td>\n",
       "      <td>38494</td>\n",
       "      <td>1715145281</td>\n",
       "      <td>you know what Antifa stands for or no then I'l...</td>\n",
       "      <td>sie wissen ja wofür Antifa steht oder nein dan...</td>\n",
       "    </tr>\n",
       "    <tr>\n",
       "      <th>2069</th>\n",
       "      <td>2069</td>\n",
       "      <td>7366589435703594273</td>\n",
       "      <td>2</td>\n",
       "      <td>weiß ich nicht, weiß ich nicht. ich weiß es ni...</td>\n",
       "      <td>1221</td>\n",
       "      <td>1715167767</td>\n",
       "      <td>I don't know, I don't know. i don't know.</td>\n",
       "      <td>weiß ich nicht, weiß ich nicht. ich weiß es ni...</td>\n",
       "    </tr>\n",
       "  </tbody>\n",
       "</table>\n",
       "<p>2070 rows × 8 columns</p>\n",
       "</div>"
      ],
      "text/plain": [
       "      Unnamed: 0             video_id   cluster  \\\n",
       "0              0  7005858788343319813        23   \n",
       "1              1  7040421798785125638   1;22;15   \n",
       "2              2  7052592640344329477        13   \n",
       "3              3  7069273153373097221  22;17;17   \n",
       "4              4  7080134745832557830    16;1;0   \n",
       "...          ...                  ...       ...   \n",
       "2065        2065  7365836620957814049        16   \n",
       "2066        2066  7365899292927741216         7   \n",
       "2067        2067  7365925784864722209     3;3;3   \n",
       "2068        2068  7366492764877442336        23   \n",
       "2069        2069  7366589435703594273         2   \n",
       "\n",
       "                                           core_message  video_playcount  \\\n",
       "0     Mach so bisschen Übergang deine Haare kürzer d...           613338   \n",
       "1      Kritik an ungeimpftem Personal in der Pflege;...            30603   \n",
       "2     7 Millionen sozialgeldempfänger davon gut die ...            27175   \n",
       "3     - Hohe Anzahl von Arztbesuchen aufgrund von Im...           235154   \n",
       "4      Unterschied zwischen Gesundheitspolitik und p...             7439   \n",
       "...                                                 ...              ...   \n",
       "2065  Politiker werden angegriffen; Regierung ist bü...            20283   \n",
       "2066  Deutschland ist unsere Heimat, unser Land, uns...             8263   \n",
       "2067  - Definition des deutschen Staatsangehörigen i...             1323   \n",
       "2068  sie wissen ja wofür Antifa steht oder nein dan...            38494   \n",
       "2069  weiß ich nicht, weiß ich nicht. ich weiß es ni...             1221   \n",
       "\n",
       "      video_timestamp                                 english_transcript  \\\n",
       "0          1631178624                                                NaN   \n",
       "1          1639225941                                                NaN   \n",
       "2          1642059688                                                NaN   \n",
       "3          1645943422                                                NaN   \n",
       "4          1648472331                                                NaN   \n",
       "...               ...                                                ...   \n",
       "2065       1714992492  recently are increasingly common Politician an...   \n",
       "2066       1715007082  Germany is our home,  our country, our nation ...   \n",
       "2067       1715013248                                                NaN   \n",
       "2068       1715145281  you know what Antifa stands for or no then I'l...   \n",
       "2069       1715167767         I don't know, I don't know. i don't know.    \n",
       "\n",
       "                                      german_transcript  \n",
       "0     Mach so bisschen Übergang deine Haare kürzer d...  \n",
       "1     nötigerweise Menschen sterben weil Ungeimpfte ...  \n",
       "2     7 Millionen sozialgeldempfänger davon gut die ...  \n",
       "3     und zu den Nebenwirkungen das äh Nebenwirkunge...  \n",
       "4     sehr geehrte frau präsidentin kolleginnen und ...  \n",
       "...                                                 ...  \n",
       "2065  in jüngster Zeit sind immer häufiger Politiker...  \n",
       "2066  Deutschland ist unsere Heimat, unser Land, uns...  \n",
       "2067  ne, es geht um Artikel 1 äh, Absatz 1. Deutsch...  \n",
       "2068  sie wissen ja wofür Antifa steht oder nein dan...  \n",
       "2069  weiß ich nicht, weiß ich nicht. ich weiß es ni...  \n",
       "\n",
       "[2070 rows x 8 columns]"
      ]
     },
     "metadata": {},
     "output_type": "display_data"
    }
   ],
   "source": [
    "merged_df"
   ]
  },
  {
   "cell_type": "code",
   "execution_count": null,
   "metadata": {},
   "outputs": [],
   "source": [
    "merged_df.to_csv(path_csv+\"1405_data_with_clusters.csv\")"
   ]
  },
  {
   "cell_type": "code",
   "execution_count": null,
   "metadata": {},
   "outputs": [],
   "source": [
    "new_df.to_csv(path_csv+\"1405_data_with_clusters.csv\")\n",
    "topic_title=[df_cm.query(f\"cluster == {c}\").topic_title.values[0] for c in sorted(df_cm.cluster.unique())]\n",
    "df_topic_title=pd.DataFrame(topic_title, columns=[\"topic_title\"])\n",
    "df_topic_title[\"cluster_number\"]=np.arange(24)\n",
    "df_topic_title.to_csv(path_csv+\"1405_data_topic_title.csv\")"
   ]
  },
  {
   "cell_type": "code",
   "execution_count": null,
   "metadata": {},
   "outputs": [],
   "source": [
    "df_cm.to_csv(path_csv+\"df_cm.csv\")\n",
    "#df_cm=pd.read_csv(path_csv+\"df_cm.csv\")"
   ]
  },
  {
   "cell_type": "code",
   "execution_count": null,
   "metadata": {},
   "outputs": [],
   "source": [
    "# find the most central datapoint # adjust this code for most cosine clim\n",
    "\n",
    "# Loop over all clusters and find index of closest point to the cluster center and append to closest_pt_idx list.\n",
    "closest_pt_idx = []\n",
    "for iclust in range(kmeans.n_clusters):\n",
    "    # get all points assigned to each cluster:\n",
    "    cluster_pts = embeddings_cm[kmeans.labels_ == iclust]\n",
    "    # get all indices of points assigned to this cluster:\n",
    "    cluster_pts_indices = np.where(kmeans.labels_ == iclust)[0]\n",
    "\n",
    "    cluster_cen = kmeans.cluster_centers_[iclust]\n",
    "    min_idx = np.argmax([cosine_similarity([embeddings_cm[idx]], [cluster_cen])[0] for idx in cluster_pts_indices])\n",
    "    \n",
    "    # Testing:    \n",
    "    #print('closest point to cluster center: ', cluster_pts[min_idx])\n",
    "    #print('closest index of point to cluster center: ', cluster_pts_indices[min_idx])\n",
    "    closest_pt_idx.append(cluster_pts_indices[min_idx])"
   ]
  },
  {
   "cell_type": "code",
   "execution_count": null,
   "metadata": {},
   "outputs": [],
   "source": [
    "counter=Counter(labels)\n",
    "count_arr = sorted([[key, value] for key, value in counter.items()])\n",
    "#summed_reach=[sum(df_cm.query(f\"cluster == {c}\").video_playcount.values) for c in sorted(df_cm.cluster.unique())]\n",
    "topic_title=[df_cm.query(f\"cluster == {c}\").topic_title.values[0] for c in sorted(df_cm.cluster.unique())]\n",
    "\n",
    "\n",
    "# print cluster number and topic title\n",
    "for i in range(0, len(count_arr)):\n",
    "    print(count_arr[i][0])\n",
    "    print(count_arr[i][1])\n",
    "    print(topic_title[i])\n",
    "    print(\"\\n\")"
   ]
  },
  {
   "cell_type": "code",
   "execution_count": null,
   "metadata": {},
   "outputs": [],
   "source": [
    "for c in sorted(df_cm.cluster.unique()):\n",
    "        \n",
    "    with pd.option_context(\"display.max_colwidth\", None):\n",
    "        #print cluster id\n",
    "        print(f\"Cluster {c} \"+ str(count_arr[c][1]))\n",
    "        print(df_cm.query(f\"cluster == {c}\").topic_title.values[0])\n",
    "        print(sum(df_cm.query(f\"cluster == {c}\").video_playcount.values))\n",
    "        print(np.array(df_cm[\"video_id\"])[closest_pt_idx[c]])\n",
    "       #display(df.query(f\"cluster == {c}\").drop(columns=[\"topic_title\"]).head())"
   ]
  },
  {
   "cell_type": "code",
   "execution_count": null,
   "metadata": {},
   "outputs": [
    {
     "data": {
      "image/png": "[encoded data removed]",
      "text/plain": [
       "<Figure size 600x1200 with 1 Axes>"
      ]
     },
     "metadata": {},
     "output_type": "display_data"
    }
   ],
   "source": [
    "plt.figure(figsize=(6, 12))  # Adjust figure size as needed\n",
    "wrapped_titles = [textwrap.fill(title, width=40) for title in topic_title]\n",
    "sorted_data = sorted(zip(wrapped_titles, summed_reach), key=lambda x: x[1], reverse=True)\n",
    "sorted_titles, sorted_reach = zip(*sorted_data)\n",
    "\n",
    "plt.barh(sorted_titles[:10],sorted_reach[:10])  # Use barh for horizontal bar chart\n",
    "\n",
    "# Adding labels and title\n",
    "plt.xlabel('Summed reach')\n",
    "plt.ylabel('Topics')\n",
    "#plt.title('Top 20 Hashtags')\n",
    "\n",
    "# Display the plot\n",
    "plt.gca().invert_yaxis()  # Invert y-axis to display the highest count at the top\n",
    "plt.show()"
   ]
  },
  {
   "cell_type": "code",
   "execution_count": null,
   "metadata": {},
   "outputs": [],
   "source": [
    "\n",
    "\n",
    "mean_reach=[]\n",
    "for c in range(24):\n",
    "    cluster_pts = embeddings_cm[kmeans.labels_ == c]\n",
    "    X=embeddings_cm[df_cm.query(f\"cluster == {c}\").index]\n",
    "    reach=df_cm.query(f\"cluster == {c}\").video_playcount\n",
    "    cluster_cen = kmeans.cluster_centers_[c]\n",
    "    cluster_pts_indices = df_cm.query(f\"cluster == {c}\").index\n",
    "    body = [1- cosine_similarity([embeddings_cm[idx]], [cluster_cen])[0,0] for idx in cluster_pts_indices]\n",
    "    \n",
    "    mean_reach.append(np.mean(reach[np.array(body)<0.6]))\n",
    "    #print(\"Average Reach for cluster \"+ str(c)+ \":\", mean_reach)"
   ]
  },
  {
   "cell_type": "code",
   "execution_count": null,
   "metadata": {},
   "outputs": [
    {
     "data": {
      "image/png": "[encoded data removed]",
      "text/plain": [
       "<Figure size 600x1200 with 1 Axes>"
      ]
     },
     "metadata": {},
     "output_type": "display_data"
    }
   ],
   "source": [
    "#display most viral topics \n",
    "\n",
    "plt.figure(figsize=(6, 12))  # Adjust figure size as needed\n",
    "wrapped_titles = [textwrap.fill(title, width=40) for title in topic_title]\n",
    "sorted_data = sorted(zip(wrapped_titles, mean_reach), key=lambda x: x[1], reverse=True)\n",
    "sorted_titles, sorted_reach = zip(*sorted_data)\n",
    "\n",
    "plt.barh(sorted_titles[:10],sorted_reach[:10])\n",
    "\n",
    "# Adding labels and title\n",
    "plt.xlabel('Mean reach per video that is close to the cluster center')\n",
    "plt.ylabel('Topics')\n",
    "#plt.title('Top 20 Hashtags')\n",
    "\n",
    "# Display the plot\n",
    "plt.gca().invert_yaxis()  # Invert y-axis to display the highest count at the top\n",
    "plt.show()"
   ]
  },
  {
   "cell_type": "code",
   "execution_count": null,
   "metadata": {},
   "outputs": [],
   "source": []
  }
 ],
 "metadata": {
  "kernelspec": {
   "display_name": "Python 3",
   "language": "python",
   "name": "python3"
  },
  "language_info": {
   "codemirror_mode": {
    "name": "ipython",
    "version": 3
   },
   "file_extension": ".py",
   "mimetype": "text/x-python",
   "name": "python",
   "nbconvert_exporter": "python",
   "pygments_lexer": "ipython3",
   "version": "3.10.14"
  }
 },
 "nbformat": 4,
 "nbformat_minor": 2
}
