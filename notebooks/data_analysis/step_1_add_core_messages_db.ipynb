{
 "cells": [
  {
   "cell_type": "code",
   "execution_count": 1,
   "metadata": {},
   "outputs": [],
   "source": [
    "import os\n",
    "\n",
    "import pandas as pd\n",
    "import numpy as np\n",
    "\n",
    "\n",
    "from langchain_core.messages import SystemMessage\n",
    "from langchain_core.prompts import (\n",
    "    HumanMessagePromptTemplate,\n",
    "    SystemMessagePromptTemplate,\n",
    "    ChatPromptTemplate\n",
    ")\n",
    "\n",
    "# Import Azure OpenAI\n",
    "from langchain_openai import AzureOpenAIEmbeddings\n",
    "from langchain_openai import AzureChatOpenAI\n",
    "\n",
    "from dotenv import load_dotenv\n",
    "\n",
    "from collections import Counter\n",
    "\n",
    "from reclaim_tiktok.transcriber.db_connector import DBConnector\n",
    "\n",
    "%load_ext autoreload\n",
    "%autoreload 2"
   ]
  },
  {
   "cell_type": "code",
   "execution_count": 4,
   "metadata": {},
   "outputs": [
    {
     "name": "stdout",
     "output_type": "stream",
     "text": [
      "False\n"
     ]
    }
   ],
   "source": [
    "# Construct an absolute path to where your .env file is located\n",
    "dotenv_path = os.path.join(os.getcwd(), '.env')\n",
    "result = load_dotenv(dotenv_path)\n",
    "print(result)  # This should print True if the file is loaded successfully"
   ]
  },
  {
   "cell_type": "code",
   "execution_count": 5,
   "metadata": {},
   "outputs": [],
   "source": [
    "embeddings_client = AzureOpenAIEmbeddings(\n",
    "    azure_deployment=\"text-embedding-3-small-eastus\",\n",
    "    openai_api_version=\"2024-02-01\",\n",
    ")\n",
    "\n",
    "llm_client = AzureChatOpenAI(\n",
    "    openai_api_version=\"2024-02-01\",\n",
    "    azure_deployment=\"gpt-35-turbo-16k\",\n",
    ")"
   ]
  },
  {
   "cell_type": "markdown",
   "metadata": {},
   "source": [
    "## Get data"
   ]
  },
  {
   "cell_type": "code",
   "execution_count": 7,
   "metadata": {},
   "outputs": [],
   "source": [
    "db_connector = DBConnector()"
   ]
  },
  {
   "cell_type": "code",
   "execution_count": 18,
   "metadata": {},
   "outputs": [],
   "source": [
    "rows = db_connector.get_videos_with_german_transcription_without_core_message()"
   ]
  },
  {
   "cell_type": "code",
   "execution_count": 19,
   "metadata": {},
   "outputs": [
    {
     "data": {
      "text/plain": [
       "23"
      ]
     },
     "execution_count": 19,
     "metadata": {},
     "output_type": "execute_result"
    }
   ],
   "source": [
    "len(rows)"
   ]
  },
  {
   "cell_type": "code",
   "execution_count": 10,
   "metadata": {},
   "outputs": [
    {
     "name": "stdout",
     "output_type": "stream",
     "text": [
      "(7240048311242067227, datetime.datetime(2023, 6, 2, 13, 25, 16), datetime.datetime(2024, 5, 16, 13, 48, 18, 577000), 62, 1057, 102, 73, 10700, 'Was ist los mit unseren Sozialkassen? ', False, 7003316956967666693, 'None', 'https://www.tiktok.com/@joana_cotar/video/7240048311242067227', None, 'Ich lese gerade das payonia hauptstadtbriefing. Das bekomme ich jeden Morgen und darin ist heute zu lesen, nächstes Jahr droht schon wieder 1 milliardendefizit in der gesetzlichen Krankenversicherung. Es fehlen 7 Milliarden Euro, die irgendwo herkommen müssen. Und im dazugehörigen Artikel schreibt der Pionier, teuer teurer am teuersten, was ist los mit unseren sozialkassen? Und ich kann Ihnen sagen, was los ist mit unseren sozialkassen. Wenn sie Millionen von Menschen direkt in unsere Sozialsysteme einwandern lassen und sie direkt davon profitieren, ohne auch jemals so einen Cent dafür eingezahlt zu haben, dann sind die Kassen eben irgendwann leer. Dann müssen die woanders aufgefüllt werden. Und dann dürfen diejenigen, die dieses Land eh schon am laufen halten, halt noch tiefer in die Tasche greifen, damit die Politiker in Berlin noch mehr Geld zum umverteilen haben. Man könnte allerdings auch beim bussprungsproblem ansetzen, aber daran hat die Ampel kein Interesse. ', 7240048325499161371, False, True, None, None)\n"
     ]
    }
   ],
   "source": [
    "print(rows[0])"
   ]
  },
  {
   "cell_type": "markdown",
   "metadata": {},
   "source": [
    "## Produce core messages for transcripts longer than 800"
   ]
  },
  {
   "cell_type": "code",
   "execution_count": 11,
   "metadata": {},
   "outputs": [],
   "source": [
    "chat_template = ChatPromptTemplate.from_messages(\n",
    "    [\n",
    "        SystemMessage(\n",
    "            content=(\n",
    "                \"Du bist ein Experte im Schreiben. Du hilfst mir, die Kernaussagen aus den Transcripts von TikTokVideos zu ziehen.\"\n",
    "            )\n",
    "        ),\n",
    "        HumanMessagePromptTemplate.from_template(\"Ziehe aus dem folgenden deutschen Transkript von einem Tiktok-Videos eine möglichst kurze Beschreibung bestehend aus maximal drei und nur maximal drei kurzen und prägnanten Kernaussagen, ohne Titel, starte direkt mit den Kernaussagen. Maximal 8 Wörter pro Kernaussage: \\n\\nPOSTS:{posts}\\n\\nTOPIC TITLE:\"),\n",
    "    ]\n",
    ")"
   ]
  },
  {
   "cell_type": "code",
   "execution_count": 12,
   "metadata": {},
   "outputs": [
    {
     "data": {
      "text/plain": [
       "'Ich lese gerade das payonia hauptstadtbriefing. Das bekomme ich jeden Morgen und darin ist heute zu lesen, nächstes Jahr droht schon wieder 1 milliardendefizit in der gesetzlichen Krankenversicherung. Es fehlen 7 Milliarden Euro, die irgendwo herkommen müssen. Und im dazugehörigen Artikel schreibt der Pionier, teuer teurer am teuersten, was ist los mit unseren sozialkassen? Und ich kann Ihnen sagen, was los ist mit unseren sozialkassen. Wenn sie Millionen von Menschen direkt in unsere Sozialsysteme einwandern lassen und sie direkt davon profitieren, ohne auch jemals so einen Cent dafür eingezahlt zu haben, dann sind die Kassen eben irgendwann leer. Dann müssen die woanders aufgefüllt werden. Und dann dürfen diejenigen, die dieses Land eh schon am laufen halten, halt noch tiefer in die Tasche greifen, damit die Politiker in Berlin noch mehr Geld zum umverteilen haben. Man könnte allerdings auch beim bussprungsproblem ansetzen, aber daran hat die Ampel kein Interesse. '"
      ]
     },
     "execution_count": 12,
     "metadata": {},
     "output_type": "execute_result"
    }
   ],
   "source": [
    "rows[0][14]"
   ]
  },
  {
   "cell_type": "code",
   "execution_count": 13,
   "metadata": {},
   "outputs": [],
   "source": [
    "import re"
   ]
  },
  {
   "cell_type": "code",
   "execution_count": null,
   "metadata": {},
   "outputs": [],
   "source": [
    "# produce core message\n",
    "i=0\n",
    "len_rows=len(rows)\n",
    "for row in rows:\n",
    "    try:\n",
    "        print(f\"{i}/{len_rows}\\r\", end=\"\", flush=True)\n",
    "        transcript=row[14]\n",
    "        if len(transcript)>800:\n",
    "            prompt = chat_template.format_messages(posts=transcript)\n",
    "            core_message=llm_client.invoke(prompt).content\n",
    "            # Remove specific substrings using regular expressions\n",
    "            core_message = re.sub(r'(Kernaussage|n:|1\\.|2\\.|3\\.)', '', core_message)\n",
    "            # Replace newline characters with semicolons\n",
    "            result = re.sub(r'\\n', ';', core_message)\n",
    "            # add results to core_messages_de column in db by video_id\n",
    "        else:\n",
    "            # add transcript_de row[14] directly as core_messages_de\n",
    "            result = transcript\n",
    "\n",
    "        db_connector.update_core_messages(video_id=row[0], core_messages_de=result)\n",
    "        i+=1\n",
    "    except Exception as e:\n",
    "        print(f\"Error processing index {row[0]}: {e}\")\n",
    "        continue"
   ]
  }
 ],
 "metadata": {
  "kernelspec": {
   "display_name": "Python 3",
   "language": "python",
   "name": "python3"
  },
  "language_info": {
   "codemirror_mode": {
    "name": "ipython",
    "version": 3
   },
   "file_extension": ".py",
   "mimetype": "text/x-python",
   "name": "python",
   "nbconvert_exporter": "python",
   "pygments_lexer": "ipython3",
   "version": "3.10.14"
  }
 },
 "nbformat": 4,
 "nbformat_minor": 2
}
